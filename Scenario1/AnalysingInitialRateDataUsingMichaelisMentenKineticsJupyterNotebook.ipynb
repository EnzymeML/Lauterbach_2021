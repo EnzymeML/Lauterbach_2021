{
 "cells": [
  {
   "cell_type": "markdown",
   "id": "c14b4b31",
   "metadata": {},
   "source": [
    "## Scenario 1: Analysing a series of initial rate data using Michaelis-Menten kinetics \n",
    "\n",
    "Dataset provided by Maria F. Pinto (Institute of Biomedical Sciences, University of Porto, 4050-313 Porto, Portugal).\n",
    "\n",
    "This Jupyter Notebook accompanies the first scenario of the paper: EnzymeML at work: seamless data flow and modelling of enzymatic data. \n",
    "In this scenario, the time-course data from the EnzymeML document is estimated with a Michaelis-Menten model and later compared to the results from the modelling by the webserver of interferENZY. "
   ]
  },
  {
   "cell_type": "markdown",
   "id": "44877443",
   "metadata": {},
   "source": [
    "## Imports\n",
    "\n",
    "Install and import all necessary Python packages.\n",
    "In order to run on google Colaboratory (Colab), PyEnzyme will be installed and the dataset is loaded from GitHub. This is done in the first Code Cell.\n",
    "To run the notebook on Colab click on the badge:\n",
    "[![Colab](https://colab.research.google.com/assets/colab-badge.svg)](https://colab.research.google.com/github/EnzymeML/Lauterbach_2022/blob/main/Scenario1/AnalysingInitialRateDataUsingMichaelisMentenKineticsJupyterNotebook.ipynb)  \n",
    "If you run this notebook local make sure you have all Packages installed and the dataset in the same directory as the notebook."
   ]
  },
  {
   "cell_type": "code",
   "execution_count": 1,
   "id": "4ba4129a",
   "metadata": {},
   "outputs": [
    {
     "name": "stdout",
     "output_type": "stream",
     "text": [
      "Not running on Colab.\n"
     ]
    }
   ],
   "source": [
    "if 'google.colab' in str(get_ipython()):\n",
    "    !pip install git+git://github.com/EnzymeML/PyEnzyme.git@Refactoring\n",
    "    !pip install lmfit\n",
    "    !wget https://github.com/EnzymeML/Lauterbach_2022/raw/main/Scenario1/Desulfuration_Cysteine_Pinto.omex\n",
    "else:\n",
    "    print('Not running on Colab.')"
   ]
  },
  {
   "cell_type": "code",
   "execution_count": 2,
   "id": "2c559124",
   "metadata": {},
   "outputs": [],
   "source": [
    "import os\n",
    "import matplotlib.pyplot as plt\n",
    "import numpy as np\n",
    "\n",
    "from scipy import stats\n",
    "from scipy.integrate import odeint\n",
    "from lmfit import minimize, Parameters, Parameter, report_fit\n",
    "\n",
    "from pyenzyme import EnzymeMLDocument\n",
    "from pyenzyme.enzymeml import DataTypes"
   ]
  },
  {
   "cell_type": "markdown",
   "id": "a4d3216a",
   "metadata": {},
   "source": [
    "## Read-in of the EnzymeML document\n",
    "\n",
    "The chosen EnzymeML document is integrated into the workflow and a short overview of the dataset is printed out. "
   ]
  },
  {
   "cell_type": "code",
   "execution_count": 3,
   "id": "d60823a0",
   "metadata": {},
   "outputs": [
    {
     "name": "stdout",
     "output_type": "stream",
     "text": [
      "Pinto_Measurements (modelled by interferENZY)\n",
      ">>> Reactants\n",
      "\tID: s0 \t Name: L-cysteine\n",
      "\tID: s1 \t Name: sulfide\n",
      "\tID: s2 \t Name: L-alanine\n",
      ">>> Proteins\n",
      "\tID: p0 \t Name: Cysteine Desulfurase\n",
      ">>> Complexes\n",
      ">>> Reactions\n",
      "\tID: r0 \t Name: Cysteine desulfuration\n",
      ">>> Measurements\n",
      "\n",
      "ID   Species   Conc     Unit   \n",
      "===============================\n",
      "m0   p0        1      umole / l\n",
      "m0   s0        500    umole / l\n",
      "m0   s1        0      umole / l\n",
      "m0   s2        0      umole / l\n",
      "m1   p0        1      umole / l\n",
      "m1   s0        100    umole / l\n",
      "m1   s1        0      umole / l\n",
      "m1   s2        0      umole / l\n",
      "m2   p0        1      umole / l\n",
      "m2   s0        50     umole / l\n",
      "m2   s1        0      umole / l\n",
      "m2   s2        0      umole / l\n",
      "m3   p0        1      umole / l\n",
      "m3   s0        25     umole / l\n",
      "m3   s1        0      umole / l\n",
      "m3   s2        0      umole / l\n",
      "m4   p0        1      umole / l\n",
      "m4   s0        10     umole / l\n",
      "m4   s1        0      umole / l\n",
      "m4   s2        0      umole / l\n",
      "m5   p0        1      umole / l\n",
      "m5   s0        5      umole / l\n",
      "m5   s1        0      umole / l\n",
      "m5   s2        0      umole / l\n",
      "                               \n",
      "\n"
     ]
    }
   ],
   "source": [
    "path = 'Desulfuration_Cysteine_Pinto.omex'\n",
    "# check for correct file path and file extension:\n",
    "if os.path.isfile(path) and os.path.basename(path).lower().endswith('.omex'):\n",
    "    enzmlDoc = EnzymeMLDocument.fromFile(path)\n",
    "else:\n",
    "    print('Incorrect file path.')\n",
    "\n",
    "enzmlDoc.printDocument(measurements=True)"
   ]
  },
  {
   "cell_type": "markdown",
   "id": "da896f29",
   "metadata": {},
   "source": [
    "## Preparation of the data\n",
    "\n",
    "In a first step, all important information, including the initital concentrations and the time-course data, is extracted. In addition, variables and colours are defined for the subsequent visualisation. Chosen for the visualisation is the increase in sulfide concentration over the time"
   ]
  },
  {
   "cell_type": "code",
   "execution_count": 4,
   "id": "33c168df",
   "metadata": {},
   "outputs": [],
   "source": [
    "# Educts:\n",
    "s0_init_conc = []\n",
    "# Product:\n",
    "s1_init_conc = []\n",
    "s2_init_conc = []\n",
    "measured_data = []\n",
    "# Protein:\n",
    "p0_init_conc = []\n",
    "\n",
    "# time and units\n",
    "measurement = enzmlDoc.getMeasurement(\"m0\")\n",
    "time = measurement.global_time\n",
    "time_unit = measurement.global_time_unit\n",
    "conc_unit = ''\n",
    "\n",
    "# go through all measurements:\n",
    "for measurement in enzmlDoc.measurement_dict.values():\n",
    "    \n",
    "    # get replicates with time course data:\n",
    "    reactant = measurement.getReactant('s1')\n",
    "    unitID = reactant._unit_id\n",
    "    conc_unit = reactant.unit\n",
    "    \n",
    "    for replicate in reactant.replicates:\n",
    "        if replicate.data_type == DataTypes.CONCENTRATION:\n",
    "            # Protein:\n",
    "            p0_init_conc.append(measurement.getProtein('p0').init_conc) \n",
    "            # Educt:\n",
    "            s0_init_conc.append(measurement.getReactant('s0').init_conc)\n",
    "            #Product\n",
    "            s2_init_conc.append(measurement.getReactant('s2').init_conc)\n",
    "            # Product:\n",
    "            s1_init_conc.append(replicate.data[0]) \n",
    "            \n",
    "            measured_data.append(replicate.data)\n",
    "            \n",
    "measured_data = np.array(measured_data)\n",
    "p0_init_conc = np.array(p0_init_conc)\n",
    "s0_init_conc = np.array(s0_init_conc)\n",
    "s1_init_conc = np.array(s1_init_conc)\n",
    "s2_init_conc = np.array(s2_init_conc)\n",
    "time = np.array(time)"
   ]
  },
  {
   "cell_type": "markdown",
   "id": "ce94ebae",
   "metadata": {},
   "source": [
    "## Visualisation of the time-course data \n",
    "\n",
    "All available time-course data is visualised with the Python library matplotlib. In addition, the figures can be exported as .svg files. "
   ]
  },
  {
   "cell_type": "code",
   "execution_count": 5,
   "id": "b772fc4f",
   "metadata": {},
   "outputs": [
    {
     "data": {
      "image/png": "[encoded data removed]",
      "text/plain": [
       "<Figure size 432x288 with 1 Axes>"
      ]
     },
     "metadata": {
      "needs_background": "light"
     },
     "output_type": "display_data"
    }
   ],
   "source": [
    "# plot time course data with matplotlib\n",
    "reaction_name = enzmlDoc.getReaction('r0').name\n",
    "plt.figure()\n",
    "ax = plt.subplot()\n",
    "for i in range(measured_data.shape[0]):\n",
    "    ax.plot(time, measured_data[i, :], '.', ms=3, label='repl '+str(i+1))\n",
    "plt.title('Measurement '+reaction_name)\n",
    "ax.set_xlabel('time')\n",
    "ax.set_ylabel('concentration')\n",
    "plt.savefig('time-course.svg', bbox_inches='tight')\n",
    "plt.show()"
   ]
  },
  {
   "cell_type": "markdown",
   "id": "8e1ed3c8",
   "metadata": {},
   "source": [
    "## Kinetic modelling and parameter estimation <a class=\"anchor\" name=\"KineticModelling\"></a>\n",
    "In order to model the data and perform parameter fitting, the kinetic equations for the models are defined as Python functions, along with a function to calculate the residual between the models and the measured data. Chosen for the parameter estimation is the irreversible Michaelis-Menten model. In addition, the residual is calculated."
   ]
  },
  {
   "cell_type": "code",
   "execution_count": 6,
   "id": "d67dcb85",
   "metadata": {},
   "outputs": [],
   "source": [
    "def irreversible_Michaelis_Menten(w, t, params):\n",
    "    '''\n",
    "    Differential equation\n",
    "    Arguments:\n",
    "        w: vector of state variables: w = [S,P,E]\n",
    "        t: time\n",
    "        params: parameters object from lmfit\n",
    "    '''\n",
    "    \n",
    "    S = w[0]\n",
    "    \n",
    "    vmax = params['v_max'].value\n",
    "    Km = params['K_M'].value\n",
    "    \n",
    "    # f(S', P', E'):\n",
    "    dS = -vmax*S/(Km+S)\n",
    "    dP = vmax*S/(Km+S)\n",
    "    \n",
    "    return (dS, dP)"
   ]
  },
  {
   "cell_type": "code",
   "execution_count": 7,
   "id": "847cebf9",
   "metadata": {},
   "outputs": [],
   "source": [
    "def residual(params, t, data, w, f):\n",
    "    '''\n",
    "    Calculates residual between measured data and modeled data\n",
    "\n",
    "    Args:\n",
    "        params: parameters object from lmfit\n",
    "        t: time\n",
    "        data: measured data\n",
    "        f: ODEs\n",
    "    '''\n",
    "    try:\n",
    "        bias = np.array([params['bias'].value,0,0])\n",
    "        w = np.add(w, bias)\n",
    "    except KeyError:\n",
    "        pass\n",
    "    ndata = data.shape[0]\n",
    "    residual = 0.0*data[:]\n",
    "    for i in range(ndata):\n",
    "        model = odeint(f, w[i], t, args=(params,))\n",
    "        p_model = model[:,1]\n",
    "        residual[i,:]=measured_data[i,:]-p_model\n",
    "    return residual.flatten()"
   ]
  },
  {
   "cell_type": "code",
   "execution_count": 8,
   "id": "a657b68b",
   "metadata": {},
   "outputs": [],
   "source": [
    "colors = ['#377eb8','#4daf4a','#984ea3','#ff7f00','#a65628','#f781bf']"
   ]
  },
  {
   "cell_type": "markdown",
   "id": "64957da4",
   "metadata": {},
   "source": [
    "### Initialising parameters \n",
    "The Python library lmfit provides a parameter object to initialise the parameters before the fit."
   ]
  },
  {
   "cell_type": "code",
   "execution_count": 9,
   "id": "7506e0dc",
   "metadata": {},
   "outputs": [],
   "source": [
    "slopes = []\n",
    "if (measured_data.shape[1]==2):\n",
    "    for i in range(measured_data.shape[0]):\n",
    "        slope = (measured_data[i][1]-measured_data[i][0])/(time[1]-time[0])\n",
    "        slopes.append(slope)\n",
    "else:\n",
    "    for i in range(measured_data.shape[0]):\n",
    "        slope, intercept, r, p, se = stats.linregress(time[1:], measured_data[i][1:]) # time[0:2], data[i][0:2]\n",
    "        slopes.append(slope)\n",
    "vmax = np.max(slopes)\n",
    "km = s0_init_conc[0]\n",
    "\n",
    "w = np.append(s0_init_conc, s1_init_conc).reshape((2, s0_init_conc.shape[0]))\n",
    "w = np.transpose(w)\n",
    "\n",
    "params = Parameters()\n",
    "params.add('v_max', value=vmax, min=0.0001, max=100000)\n",
    "params.add('K_M', value=km, min=0.0001, max=np.max(measured_data)*100)"
   ]
  },
  {
   "cell_type": "markdown",
   "id": "526ae708",
   "metadata": {},
   "source": [
    "### Parameter fitting and results \n",
    "In the next cell the parameters for rhe model are fitted against the measured data and the results are stored in a dictionary.\n",
    "The output of the cell after that shows the results from the residual minimisation done by lmfit. Followed by a plot containing the measured data and the curve with the estimated parameters."
   ]
  },
  {
   "cell_type": "code",
   "execution_count": 10,
   "id": "74a86318",
   "metadata": {},
   "outputs": [],
   "source": [
    "result = minimize(residual , params, args=(time, measured_data, w, irreversible_Michaelis_Menten), method='leastsq')"
   ]
  },
  {
   "cell_type": "code",
   "execution_count": 11,
   "id": "d3cadb84",
   "metadata": {},
   "outputs": [
    {
     "name": "stdout",
     "output_type": "stream",
     "text": [
      "[[Fit Statistics]]\n",
      "    # fitting method   = leastsq\n",
      "    # function evals   = 38\n",
      "    # data points      = 18\n",
      "    # variables        = 2\n",
      "    chi-square         = 0.93351125\n",
      "    reduced chi-square = 0.05834445\n",
      "    Akaike info crit   = -49.2651324\n",
      "    Bayesian info crit = -47.4843889\n",
      "[[Variables]]\n",
      "    v_max:  1.91183008 +/- 0.06720050 (3.51%) (init = 2.240552)\n",
      "    K_M:    7.86922481 +/- 1.33142427 (16.92%) (init = 500)\n",
      "[[Correlations]] (unreported correlations are < 0.100)\n",
      "    C(v_max, K_M) = 0.693\n"
     ]
    }
   ],
   "source": [
    "report_fit(result)"
   ]
  },
  {
   "cell_type": "code",
   "execution_count": 12,
   "id": "ad3e1e77",
   "metadata": {},
   "outputs": [
    {
     "data": {
      "image/png": "[encoded data removed]",
      "text/plain": [
       "<Figure size 432x288 with 1 Axes>"
      ]
     },
     "metadata": {
      "needs_background": "light"
     },
     "output_type": "display_data"
    }
   ],
   "source": [
    "plt.figure()\n",
    "ax = plt.subplot()\n",
    "ax.clear()\n",
    "for i in range(measured_data.shape[0]):\n",
    "    data_fitted1 = odeint(irreversible_Michaelis_Menten, w[i], time, args=(result.params,))\n",
    "    ax.plot(time, measured_data[i, :], 'o', ms=3, label='init. conc. '+str(w[i][0])+' ['+conc_unit+']', color=colors[i])\n",
    "    ax.plot(time, data_fitted1[:,1], '-', linewidth=1, color='#e31a1c')\n",
    "plt.title('irreversible Michaelis-Menten')\n",
    "xlabel = f\"{'time'} [{time_unit}]\"\n",
    "ylabel = f\"{enzmlDoc.reactant_dict['s1'].name} [{conc_unit}]\"\n",
    "ax.set_xlabel(xlabel)\n",
    "ax.set_ylabel(ylabel)\n",
    "plt.legend(bbox_to_anchor=(0, 0, 1, -0.15), mode=\"expand\", ncol=2)\n",
    "plt.savefig('model.svg', bbox_inches='tight')\n",
    "plt.show()"
   ]
  }
 ],
 "metadata": {
  "interpreter": {
   "hash": "116e38b612214de68d51549883400dbd583464126101d7dafed8ad23ce491f01"
  },
  "kernelspec": {
   "display_name": "enzymeml",
   "language": "python",
   "name": "python3"
  },
  "language_info": {
   "codemirror_mode": {
    "name": "ipython",
    "version": 3
   },
   "file_extension": ".py",
   "mimetype": "text/x-python",
   "name": "python",
   "nbconvert_exporter": "python",
   "pygments_lexer": "ipython3",
   "version": "3.9.2"
  }
 },
 "nbformat": 4,
 "nbformat_minor": 5
}
