{
 "cells": [
  {
   "cell_type": "markdown",
   "metadata": {},
   "source": [
    "## Scenario 1: Analysing a series of initial rate data using Michaelis-Menten kinetics \n",
    "\n",
    "Dataset provided by Maria F. Pinto (Institute of Biomedical Sciences, University of Porto, 4050-313 Porto, Portugal).\n",
    "\n",
    "This Jupyter Notebook accompanies the fourth scenario of the paper: EnzymeML at work: seamless data flow and modelling of enzymatic data.\n",
    "In this scenario, the time-course data from the EnzymeML document is formatted for the upload to the modelling webserver interferENZY. The webserver \n",
    "performs an estimation of the Michaelis-Menten kinetic parameters, which can be added to the existing EnzymeML document."
   ]
  },
  {
   "cell_type": "markdown",
   "metadata": {},
   "source": [
    "## Imports\n",
    "\n",
    "Install and import all necessary Python packages.\n",
    "In order to run on google Colaboratory (Colab), PyEnzyme will be installed and the dataset is loaded from GitHub. This is done in the first Code Cell.\n",
    "To run the notebook on Colab click on the badge:\n",
    "[![Colab](https://colab.research.google.com/assets/colab-badge.svg)](https://colab.research.google.com/github/EnzymeML/Lauterbach_2021/blob/main/Scenario1/AnalysingInitialRateDataUsingMichaelisMentenKineticsinterferENZY.ipynb)  \n",
    "If you run this notebook local make sure you have all Packages installed and the dataset in the same directory as the notebook."
   ]
  },
  {
   "cell_type": "code",
   "execution_count": 1,
   "metadata": {},
   "outputs": [
    {
     "name": "stdout",
     "output_type": "stream",
     "text": [
      "Not running on Colab.\n"
     ]
    }
   ],
   "source": [
    "if 'google.colab' in str(get_ipython()):\n",
    "    !pip install git+git://github.com/EnzymeML/PyEnzyme.git@Refactoring\n",
    "    !pip install lmfit\n",
    "    !pip install regex\n",
    "    !wget https://github.com/EnzymeML/Lauterbach_2021/raw/main/Scenario1/Desulfuration_Cysteine_Pinto.omex\n",
    "    !wget https://github.com/EnzymeML/Lauterbach_2021/raw/main/Scenario1/Pinto_output_interferENZY.txt\n",
    "else:\n",
    "    print('Not running on Colab.')"
   ]
  },
  {
   "cell_type": "code",
   "execution_count": 2,
   "metadata": {},
   "outputs": [],
   "source": [
    "from pyenzyme import EnzymeMLDocument\n",
    "from pyenzyme.enzymeml.models import MichaelisMentenVMax\n",
    "from pyenzyme.enzymeml.core.ontology import DataTypes, SBOTerm\n",
    "\n",
    "import numpy as np\n",
    "\n",
    "import re\n",
    "import matplotlib.pyplot as plt"
   ]
  },
  {
   "cell_type": "markdown",
   "metadata": {},
   "source": [
    "## Function to visualise the time-course data of the dataset\n",
    "\n",
    "The function is called later in the workflow, to include visualizations of the modelled data."
   ]
  },
  {
   "cell_type": "code",
   "execution_count": 3,
   "metadata": {},
   "outputs": [],
   "source": [
    "def vis_time_course(filename, reactant_ID):\n",
    "    \n",
    "    enzmldoc = EnzymeMLDocument.fromFile(filename)\n",
    "    \n",
    "    time_course_data = []\n",
    "\n",
    "    # Get the concentration and time_units\n",
    "    measurement = enzmldoc.getMeasurement('m0')\n",
    "    time = measurement.global_time\n",
    "    time_unit = measurement.global_time_unit\n",
    "    conc_unit = ''\n",
    "\n",
    "    # Get the replicates and the time_course data:\n",
    "    for measurement in enzmldoc.measurement_dict.values():\n",
    "\n",
    "        # get replicates with time course data:\n",
    "        reactant = measurement.getReactant(reactant_ID)\n",
    "        unitID = reactant._unit_id\n",
    "        unitString = reactant.unit\n",
    "        conc_unit = re.sub('mole / l', 'M', unitString)\n",
    "\n",
    "        for replicate in reactant.replicates:\n",
    "            # Include only concentration values\n",
    "            if replicate.data_type == DataTypes.CONCENTRATION:\n",
    "                time_course_data.append(replicate.data)\n",
    "\n",
    "    time_course_data = np.array(time_course_data)\n",
    "    time = np.array(time)\n",
    "\n",
    "    # Plot the data using matplotlib\n",
    "    reaction_name = enzmldoc.getReaction('r0').name\n",
    "    plt.figure()\n",
    "    ax = plt.subplot()\n",
    "    for i in range(time_course_data.shape[0]):\n",
    "        ax.plot(time, time_course_data[i, :], label='repl '+str(i+1))\n",
    "    plt.title('interferENZY: '+reaction_name)\n",
    "    ax.set_xlabel(f'time [{time_unit}]')\n",
    "    ax.set_ylabel(f'concentration [{conc_unit}]')\n",
    "    # Save the figure as a .svg file\n",
    "    plt.savefig('time-course.svg', bbox_inches='tight')\n",
    "    plt.show()"
   ]
  },
  {
   "cell_type": "markdown",
   "metadata": {},
   "source": [
    "## Function to generate an input file for interferENZY\n",
    "\n",
    "All necessary information, including the time-course data, initial substrate concentrations and enzyme concentration, are extracted from the dataset. The data is formatted according to the requirements set by interferENZY and exported as a .txt file. The file can then be uploaded to the webserver (https://interferenzy.i3s.up.pt) for the kinetic modelling."
   ]
  },
  {
   "cell_type": "code",
   "execution_count": 4,
   "metadata": {},
   "outputs": [],
   "source": [
    "# Write the input for the upload to interferENZY\n",
    "def write_interferENZY(filename, reactant_id):\n",
    "    path = filename\n",
    "    enzmldoc = EnzymeMLDocument.fromFile(path)\n",
    "\n",
    "    # Name of the dataset\n",
    "    dataset_name = enzmldoc.name\n",
    "\n",
    "    # Get the protein concentration\n",
    "    for protein in enzmldoc.protein_dict.values():\n",
    "\n",
    "        protein_conc = protein.init_conc\n",
    "        protein_unit = protein.unit\n",
    "\n",
    "    # Definitions of the reactants\n",
    "    for reaction in enzmldoc.reaction_dict.values():\n",
    "\n",
    "        # extract the educt to later define the initial concentrations\n",
    "        educt_ID = reaction.educts[0].species_id\n",
    "        reaction_products = reaction.products\n",
    "\n",
    "    # Definte the variables    \n",
    "    conc = ''\n",
    "    time_course = ''\n",
    "    data_s = []\n",
    "\n",
    "    for measurement in enzmldoc.measurement_dict.values():\n",
    "\n",
    "        reactants = measurement.getReactants()\n",
    "        \n",
    "        for reactantID, data in reactants.items():\n",
    "\n",
    "            speciesID = data.reactant_id\n",
    "\n",
    "            # Get the initial concentrations and write them into column form\n",
    "            initConc = data.init_conc\n",
    "            # include only the initial concentrations of the substrate\n",
    "            if speciesID == educt_ID:\n",
    "                conc += str(initConc) + '\\t'\n",
    "\n",
    "            # Export the replicates\n",
    "            for replicate in data.replicates:\n",
    "\n",
    "                if reactant_id == reactantID:\n",
    "                    \n",
    "                    # Inlcude only time-course data with concentration values\n",
    "                    if replicate.data_type == DataTypes.CONCENTRATION:\n",
    "\n",
    "                        # Get the concentration and time units\n",
    "                        unit = replicate.data_unit\n",
    "                        time_unit = replicate.time_unit\n",
    "\n",
    "                        # Export time and concentration values\n",
    "                        data_s.append(replicate.data)\n",
    "                        data_time = replicate.time\n",
    "\n",
    "    length = len(data_time)\n",
    "\n",
    "    # Write the time-course data into column form\n",
    "    # Include the time and concentration values alternately\n",
    "    for i in range(length):\n",
    "        for val in data_s:\n",
    "            time_course += str(data_time[i]) + '\\t' + str(val[i]) + '\\t'\n",
    "        time_course = time_course[:-2]\n",
    "        time_course += '\\n'\n",
    "\n",
    "    # Formatting of the unit\n",
    "    unit = re.sub('mole / l', 'M', unit)\n",
    "\n",
    "    # Write the input data together and into a .txt file\n",
    "    Input = f'{conc}\\n{protein_conc}\\n{time_unit}\\n{unit}\\n{dataset_name}\\n{time_course}'\n",
    "\n",
    "    # Write the input data together and into a .txt file\n",
    "    new_file = re.sub('.omex', '_input_interferENZY.txt', filename)\n",
    "    with open(new_file, 'w') as file:\n",
    "        file.write(Input)\n",
    "\n",
    "    print(Input)"
   ]
  },
  {
   "cell_type": "markdown",
   "metadata": {},
   "source": [
    "## Example for the input generation\n",
    "\n",
    "The function is called on the dataset of Maria Pinto ('Pinto.omex). In addition, it is specified that the concentration of the substrate L-cysteine ('s0') should be modelled. The formatted data is saved as an additional file for the upload ('Pinto_input_interferENZY.txt')."
   ]
  },
  {
   "cell_type": "code",
   "execution_count": 5,
   "metadata": {},
   "outputs": [
    {
     "name": "stdout",
     "output_type": "stream",
     "text": [
      "500.0\t100.0\t50.0\t25.0\t10.0\t5.0\t\n",
      "1.0\n",
      "min\n",
      "uM\n",
      "Pinto_Measurements (modelled by interferENZY)\n",
      "0.0\t0.661580302\t0.0\t0.436642999\t0.0\t0.704583021\t0.0\t0.24147681\t0.0\t0.231553106\t0.0\t0.1984740\n",
      "1.0\t2.404844396\t1.0\t2.378381184\t1.0\t2.103825359\t1.0\t1.538174201\t1.0\t1.157765528\t1.0\t0.87328599\n",
      "2.5\t5.765672328\t2.5\t4.647601619\t2.5\t4.763378172\t2.5\t3.44352547\t2.5\t3.383983243\t2.5\t1.6671823\n",
      "\n"
     ]
    }
   ],
   "source": [
    "write_interferENZY('Desulfuration_Cysteine_Pinto.omex', 's1')"
   ]
  },
  {
   "cell_type": "markdown",
   "metadata": {},
   "source": [
    "## Function to include the modelled parameters in the document\n",
    "\n",
    "The results file generated by interferENZY is read in and the values for Km and vmax are extracted. After reformating, the parameters and the equation for the Michaelis-Menten model are added to the existing EnzymeML document."
   ]
  },
  {
   "cell_type": "code",
   "execution_count": 6,
   "metadata": {},
   "outputs": [],
   "source": [
    "# Read the output file from interferENZY and visualize the time-course data\n",
    "def add_kinetic_model(filename, output, reactant_id):\n",
    "\n",
    "    enzmldoc = EnzymeMLDocument.fromFile(filename)\n",
    "    \n",
    "    reaction_id = 'r0'\n",
    "\n",
    "    # Fetch the measurement\n",
    "    measurement0 = enzmldoc.getMeasurement('m0')\n",
    "    reactants = measurement0.getReactants()\n",
    "\n",
    "    for reactantID, data in reactants.items():\n",
    "        \n",
    "        # get only the chosen reactant\n",
    "        if reactantID == reactant_id:\n",
    "\n",
    "            for replicate in data.replicates:\n",
    "\n",
    "                # Get the units of the time-course data\n",
    "                time_unit = replicate.time_unit\n",
    "                rct_unit = replicate.data_unit\n",
    "                break\n",
    "                \n",
    "    # Load the output file generated by interferENZY\n",
    "    with open(output, 'r') as file:\n",
    "        filetext = file.read()\n",
    "\n",
    "    # Find the calculated parameters and extract Km and vmax\n",
    "    parameter = re.findall(\"Best guess for apparent kinetic parameters from final score analysis:.\\nInstant \t Km \t SE \t V \t SE \\n1\t\\d+.\\d+\t\\d+.\\d+\t\\d+.\\d+\t\\d+.\\d+?\", filetext)\n",
    "    parameter = re.sub(\"Best guess for apparent kinetic parameters from final score analysis:.\\nInstant \t Km \t SE \t V \t SE \\n1\t\", \"\", parameter[0])\n",
    "    parameter = re.split('\\t', parameter)\n",
    "    \n",
    "    Km_val = parameter[0]\n",
    "    vmax_val = parameter[2]\n",
    "    \n",
    "    # Truncate the parameter at 3 decimal points\n",
    "    Km_val = re.sub(r'^(\\d+\\.\\d{,3})\\d*$',r'\\1',Km_val)\n",
    "    vmax_val = re.sub(r'^(\\d+\\.\\d{,3})\\d*$',r'\\1',vmax_val)\n",
    "    \n",
    "    # Change unit\n",
    "    rct_unit = re.sub('mole / l', 'M', rct_unit)\n",
    "    \n",
    "    # Generate the model using the parameters given\n",
    "    model = MichaelisMentenVMax(\n",
    "        substrate=reactant_id,\n",
    "        vmax={\"value\": vmax_val, \"unit\": f\"{rct_unit}/{time_unit}\"},\n",
    "        k_m={\"value\": Km_val, \"unit\": rct_unit},\n",
    "        enzmldoc=enzmldoc\n",
    "    )\n",
    "    \n",
    "    print('Modelled were the following time-courses:')\n",
    "    vis_time_course(filename, reactant_id)\n",
    "    \n",
    "    text_kinetic_model = f'Michaelis-Menten model: {model.equation}\\nKm = {Km_val} {rct_unit}\\nvmax = {vmax_val} {rct_unit}/{time_unit}'\n",
    "    print(text_kinetic_model)\n",
    "    \n",
    "    enzmldoc.getReaction(reaction_id).setModel(model, enzmldoc)\n",
    "    \n",
    "    out_dir = \"Modelled\"\n",
    "    enzmldoc.toFile(out_dir, name=enzmldoc.name + \"_Modelled\")\n",
    "    \n",
    "    return enzmldoc\n"
   ]
  },
  {
   "cell_type": "markdown",
   "metadata": {},
   "source": [
    "## Example for the parameter read-in\n",
    "\n",
    "The parameters generated by interferENZY ('Pinto_output_interferENZY.txt') are included and the result is printed out. In addition, the time-course of the modelled reactant is visualised."
   ]
  },
  {
   "cell_type": "code",
   "execution_count": 7,
   "metadata": {},
   "outputs": [
    {
     "name": "stdout",
     "output_type": "stream",
     "text": [
      "Modelled were the following time-courses:\n"
     ]
    },
    {
     "data": {
      "image/png": "[encoded data removed]",
      "text/plain": [
       "<Figure size 432x288 with 1 Axes>"
      ]
     },
     "metadata": {
      "needs_background": "light"
     },
     "output_type": "display_data"
    },
    {
     "name": "stdout",
     "output_type": "stream",
     "text": [
      "Michaelis-Menten model: vmax * 's1' / (k_m + 's1')\n",
      "Km = 6.900 uM\n",
      "vmax = 1.814 uM/min\n",
      "\n",
      "Archive was written to Modelled/Pinto_Measurements_(modelled_by_interferENZY)_Modelled.omex\n",
      "\n"
     ]
    }
   ],
   "source": [
    "enzmldoc = add_kinetic_model('Desulfuration_Cysteine_Pinto.omex', 'Pinto_output_interferENZY.txt', 's1')"
   ]
  },
  {
   "cell_type": "markdown",
   "metadata": {},
   "source": [
    "## Upload to DaRUS <a class=\"anchor\" name=\"Upload\"></a>\n",
    "Finally, the EnzymeML document is published on DaRUS.   \n",
    "In order to publish a dataset to DaRUS you need an API Token.  \n",
    "If you want to publish set the `publish` variable to `True`. Then you will be asked for your API Token."
   ]
  },
  {
   "cell_type": "code",
   "execution_count": 8,
   "metadata": {},
   "outputs": [
    {
     "name": "stdout",
     "output_type": "stream",
     "text": [
      "\n",
      "Archive was written to ./Pinto_Measurements_(modelled_by_interferENZY)_dv_upload.omex\n",
      "\n",
      "Dataset with pid 'doi:10.18419/darus-2487' created.\n"
     ]
    }
   ],
   "source": [
    "publish = True\n",
    "\n",
    "if publish:\n",
    "    enzmldoc.uploadToDataverse(\"playground\")"
   ]
  }
 ],
 "metadata": {
  "kernelspec": {
   "display_name": "enzymeml",
   "language": "python",
   "name": "enzymeml"
  },
  "language_info": {
   "codemirror_mode": {
    "name": "ipython",
    "version": 3
   },
   "file_extension": ".py",
   "mimetype": "text/x-python",
   "name": "python",
   "nbconvert_exporter": "python",
   "pygments_lexer": "ipython3",
   "version": "3.9.10"
  }
 },
 "nbformat": 4,
 "nbformat_minor": 4
}
