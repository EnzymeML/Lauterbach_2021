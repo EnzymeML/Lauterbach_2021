{
 "cells": [
  {
   "cell_type": "code",
   "execution_count": 1,
   "id": "f7a74131",
   "metadata": {},
   "outputs": [],
   "source": [
    "import os\n",
    "import matplotlib.pyplot as plt\n",
    "import matplotlib as mpl\n",
    "import numpy as np\n",
    "from scipy import stats\n",
    "from scipy.integrate import odeint\n",
    "from lmfit import minimize, Parameters, Parameter, report_fit\n",
    "from pyenzyme import EnzymeMLDocument\n",
    "import json\n",
    "\n",
    "debug = False\n",
    "addZero = False"
   ]
  },
  {
   "cell_type": "code",
   "execution_count": 2,
   "id": "08f59e2a",
   "metadata": {},
   "outputs": [
    {
     "name": "stdout",
     "output_type": "stream",
     "text": [
      "Pinto_Measurements\n",
      ">>> Reactants\n",
      "\tID: s0 \t Name: L-cysteine\n",
      "\tID: s1 \t Name: sulfide\n",
      "\tID: s2 \t Name: L-alanine\n",
      ">>> Proteins\n",
      "\tID: p0 \t Name: Cysteine Desulfurase\n",
      ">>> Complexes\n",
      ">>> Reactions\n",
      "\tID: r0 \t Name: Cysteine desulfuration\n"
     ]
    }
   ],
   "source": [
    "path = 'Document_Measurements.omex'\n",
    "# check for correct file path and file extension:\n",
    "if os.path.isfile(path) and os.path.basename(path).lower().endswith('.omex'):\n",
    "    enzmlDoc = EnzymeMLDocument.fromFile(path)\n",
    "else:\n",
    "    print('Incorrect file path.')\n",
    "\n",
    "enzmlDoc.printDocument()"
   ]
  },
  {
   "cell_type": "code",
   "execution_count": 3,
   "id": "0487e616",
   "metadata": {},
   "outputs": [],
   "source": [
    "# Educts:\n",
    "s0_init_conc = []\n",
    "#Products\n",
    "s1_init_conc = []\n",
    "s2_init_conc = []\n",
    "measured_data = []\n",
    "# Protein:\n",
    "p0_init_conc = []\n",
    "\n",
    "# time and units\n",
    "measurement = enzmlDoc.getMeasurement(\"m0\")\n",
    "time = measurement.global_time\n",
    "time_unit = measurement.global_time_unit\n",
    "conc_unit = ''\n",
    "\n",
    "# go through all measurements:\n",
    "for measurement in enzmlDoc.measurement_dict.values():\n",
    "    \n",
    "    # get replicates with time course data:\n",
    "    reactant = measurement.getReactant('s1')\n",
    "    unitID = reactant._unit_id\n",
    "    conc_unit = reactant.unit\n",
    "    \n",
    "    for replicate in reactant.replicates:\n",
    "        \n",
    "        # Protein:\n",
    "        p0_init_conc.append(measurement.getProtein('p0').init_conc)\n",
    "        \n",
    "        # Educts:\n",
    "        s0_init_conc.append(measurement.getReactant('s0').init_conc)\n",
    "        \n",
    "        # Product:\n",
    "        s1_init_conc.append(measurement.getReactant('s1').init_conc)\n",
    "        s2_init_conc.append(reactant.init_conc)\n",
    "        measured_data.append(replicate.data)\n",
    "        \n",
    "\n",
    "measured_data = np.array(measured_data)\n",
    "p0_init_conc = np.array(p0_init_conc)\n",
    "s0_init_conc = np.array(s0_init_conc)\n",
    "s1_init_conc = np.array(s1_init_conc)\n",
    "s2_init_conc = np.array(s2_init_conc)\n",
    "time = np.array(time)"
   ]
  },
  {
   "cell_type": "code",
   "execution_count": 4,
   "id": "43d41290",
   "metadata": {},
   "outputs": [],
   "source": [
    "if addZero:\n",
    "    time = np.append([0.0],time)\n",
    "    measured_data2 = []\n",
    "    for i in range(s1_init_conc.shape[0]):\n",
    "        tmp = np.append(s1_init_conc[i],measured_data[i])\n",
    "        measured_data2.append(tmp)\n",
    "    measured_data2 = np.array(measured_data2)\n",
    "    if debug:\n",
    "        print(measured_data2)\n",
    "    measured_data = measured_data2"
   ]
  },
  {
   "cell_type": "code",
   "execution_count": 5,
   "id": "85d48a1f",
   "metadata": {},
   "outputs": [
    {
     "name": "stderr",
     "output_type": "stream",
     "text": [
      "/var/folders/0f/gvqwxk9d46z_cz6w3zg6yn1m0000gn/T/ipykernel_20000/3419418876.py:2: DeprecatedWarning: getName is deprecated. Use the attribute `name instead` instead.\n",
      "  reaction_name = enzmlDoc.getReaction('r0').getName()\n"
     ]
    },
    {
     "data": {
      "image/png": "[encoded data removed]",
      "text/plain": [
       "<Figure size 432x288 with 1 Axes>"
      ]
     },
     "metadata": {
      "needs_background": "light"
     },
     "output_type": "display_data"
    }
   ],
   "source": [
    "# plot time course data with matplotlib\n",
    "reaction_name = enzmlDoc.getReaction('r0').getName()\n",
    "plt.figure()\n",
    "ax = plt.subplot()\n",
    "for i in range(measured_data.shape[0]):\n",
    "    ax.plot(time, measured_data[i, :], label='repl '+str(i+1))\n",
    "plt.title('Measurement '+reaction_name)\n",
    "ax.set_xlabel('time')\n",
    "ax.set_ylabel('concentration')\n",
    "plt.show()"
   ]
  },
  {
   "cell_type": "code",
   "execution_count": 6,
   "id": "7221348b",
   "metadata": {},
   "outputs": [],
   "source": [
    "def irreversible_Michaelis_Menten(w, t, params):\n",
    "    '''\n",
    "    Differential equation\n",
    "    Arguments:\n",
    "        w: vector of state variables: w = [S,E]\n",
    "        t: time\n",
    "        params: parameters object from lmfit\n",
    "    '''\n",
    "    \n",
    "    S = w[0]\n",
    "    E = w[1]\n",
    "    \n",
    "    kcat = params['k_cat'].value\n",
    "    Km = params['K_M'].value\n",
    "    bias = params['bias'].value\n",
    "    \n",
    "    # f(S', P', E'):\n",
    "    dS = -kcat*E*(S-bias)/(Km+S-bias)\n",
    "    dE = 0\n",
    "    \n",
    "    return (dS, dE)\n",
    "\n",
    "def meten_with_substrat_dependent_enzymeinaktivation(w, t, params):\n",
    "    '''\n",
    "    Coupled differential equations\n",
    "    Arguments:\n",
    "        w: vector of state variables: w = [S,E]\n",
    "        t: time\n",
    "        params: parameters object from lmfit\n",
    "    '''\n",
    "    S = w[0]\n",
    "    E = w[1]\n",
    "    \n",
    "    kcat = params['k_cat'].value\n",
    "    Km = params['K_M'].value\n",
    "    k_i = params['k_i'].value\n",
    "    bias = params['bias'].value\n",
    "    \n",
    "    # f(S', E'):\n",
    "    dS = -kcat*E*(S-bias)/(Km+S-bias)\n",
    "    dE = -k_i*E*S\n",
    "    \n",
    "    return (dS, dE)\n",
    "\n",
    "def meten_with_enzymeinaktivation(w, t, params):\n",
    "    '''\n",
    "    Coupled differential equations\n",
    "    Arguments:\n",
    "        w: vector of state variables: w = [S, E]\n",
    "        t: time\n",
    "        params: parameters object from lmfit\n",
    "    '''\n",
    "    S = w[0]\n",
    "    E = w[1]\n",
    "    \n",
    "    kcat = params['k_cat'].value\n",
    "    Km = params['K_M'].value\n",
    "    k_i = params['k_i'].value\n",
    "    bias = params['bias'].value\n",
    "    \n",
    "    # f(S', E'):\n",
    "    dS = -kcat*E*(S-bias)/(Km+S-bias)\n",
    "    dE = -k_i*E\n",
    "    \n",
    "    return (dS, dE)\n",
    "\n"
   ]
  },
  {
   "cell_type": "code",
   "execution_count": 7,
   "id": "8971639a",
   "metadata": {},
   "outputs": [],
   "source": [
    "def residual(params, t, data, w, f):\n",
    "    '''\n",
    "    Calculates residual between measured data and modeled data\n",
    "\n",
    "    Args:\n",
    "        params: parameters object from lmfit\n",
    "        t: time\n",
    "        data: measured data\n",
    "        f: ODEs\n",
    "    '''\n",
    "    try:\n",
    "        bias = np.array([params['bias'].value,0])\n",
    "        w = np.add(w, bias)\n",
    "    except KeyError:\n",
    "        pass\n",
    "    ndata = data.shape[0]\n",
    "    residual = 0.0*data[:]\n",
    "    for i in range(ndata):\n",
    "        model = odeint(f, w[i], t, args=(params,))\n",
    "        s_model = model[:,0]\n",
    "        s0 = np.full(s_model.shape,w[i][0])\n",
    "        residual[i,:]=s0 - measured_data[i,:]-s_model\n",
    "    return residual.flatten()"
   ]
  },
  {
   "cell_type": "code",
   "execution_count": 8,
   "id": "780b3a56",
   "metadata": {},
   "outputs": [],
   "source": [
    "colors = ['#f781bf','#984ea3','#ff7f00','#ffff33','#a65628','#4daf4a']"
   ]
  },
  {
   "cell_type": "markdown",
   "id": "d71fb1f3",
   "metadata": {},
   "source": [
    "# Model 1a: irreversible Michaelis Menten"
   ]
  },
  {
   "cell_type": "code",
   "execution_count": 9,
   "id": "e3125063",
   "metadata": {},
   "outputs": [
    {
     "name": "stdout",
     "output_type": "stream",
     "text": [
      "2.0573406375789474\n"
     ]
    }
   ],
   "source": [
    "slopes = []\n",
    "for i in range(measured_data.shape[0]):\n",
    "    slope, intercept, r, p, se = stats.linregress(time, measured_data[i]) # time[0:2], data[i][0:2]\n",
    "    slopes.append(slope)\n",
    "vmax = np.max(slopes)\n",
    "print(vmax)\n",
    "E = p0_init_conc[0]\n",
    "kcat = vmax/E\n",
    "km = s0_init_conc[0]\n",
    "\n",
    "w = np.append(s0_init_conc, p0_init_conc).reshape((2, s0_init_conc.shape[0]))\n",
    "w = np.transpose(w)\n",
    "if debug:\n",
    "    print(w)\n",
    "\n",
    "params = Parameters()\n",
    "params.add('k_cat', value=kcat, min=0.0001, max=1000)\n",
    "params.add('K_M', value=km, min=0.0001, max=np.max(measured_data)*100)\n",
    "params.add('bias', value=0, vary=False)"
   ]
  },
  {
   "cell_type": "code",
   "execution_count": 10,
   "id": "c24ad54d",
   "metadata": {},
   "outputs": [],
   "source": [
    "result_menten = minimize(residual , params, args=(time, measured_data, w, irreversible_Michaelis_Menten), method='leastsq')"
   ]
  },
  {
   "cell_type": "code",
   "execution_count": 11,
   "id": "c014ef18",
   "metadata": {},
   "outputs": [
    {
     "name": "stdout",
     "output_type": "stream",
     "text": [
      "[[Fit Statistics]]\n",
      "    # fitting method   = leastsq\n",
      "    # function evals   = 30\n",
      "    # data points      = 18\n",
      "    # variables        = 2\n",
      "    chi-square         = 2.55326015\n",
      "    reduced chi-square = 0.15957876\n",
      "    Akaike info crit   = -31.1540131\n",
      "    Bayesian info crit = -29.3732696\n",
      "[[Variables]]\n",
      "    k_cat:  2.22211219 +/- 0.11355104 (5.11%) (init = 2.057341)\n",
      "    K_M:    8.53892410 +/- 2.06391179 (24.17%) (init = 500)\n",
      "    bias:   0 (fixed)\n",
      "[[Correlations]] (unreported correlations are < 0.100)\n",
      "    C(k_cat, K_M) = 0.697\n"
     ]
    }
   ],
   "source": [
    "report_fit(result_menten)"
   ]
  },
  {
   "cell_type": "code",
   "execution_count": 12,
   "id": "d3c84896",
   "metadata": {},
   "outputs": [
    {
     "data": {
      "image/png": "[encoded data removed]",
      "text/plain": [
       "<Figure size 432x288 with 1 Axes>"
      ]
     },
     "metadata": {
      "needs_background": "light"
     },
     "output_type": "display_data"
    }
   ],
   "source": [
    "plt.figure()\n",
    "ax = plt.subplot()\n",
    "ax.clear()\n",
    "for i in range(measured_data.shape[0]):\n",
    "    s0 = np.full(measured_data[i].shape,w[i][0])\n",
    "    data_fitted1a = odeint(irreversible_Michaelis_Menten, w[i], time, args=(result_menten.params,))\n",
    "    ax.plot(time, measured_data[i, :], 'o', ms=3, label='repl '+str(i+1), color=colors[i])\n",
    "    ax.plot(time, (s0-data_fitted1a[:,0]), '-', linewidth=1, color='#e31a1c', label='fitted data')\n",
    "plt.title('irreversible Michaelis Menten')\n",
    "xlabel = f\"{'time'} [{time_unit}]\"\n",
    "ylabel = f\"{'concentration'} [{conc_unit}]\"\n",
    "ax.set_xlabel(xlabel)\n",
    "ax.set_ylabel(ylabel)\n",
    "plt.show()\n",
    "if debug:\n",
    "    print(w)"
   ]
  },
  {
   "cell_type": "code",
   "execution_count": null,
   "id": "ef9e6ef0",
   "metadata": {},
   "outputs": [],
   "source": []
  }
 ],
 "metadata": {
  "interpreter": {
   "hash": "7c2992e9c105260cd776f00ce82eab482c82c43a5dc8a92fbccdfab19b1b40a5"
  },
  "kernelspec": {
   "display_name": "enzymeml",
   "language": "python",
   "name": "enzymeml"
  },
  "language_info": {
   "codemirror_mode": {
    "name": "ipython",
    "version": 3
   },
   "file_extension": ".py",
   "mimetype": "text/x-python",
   "name": "python",
   "nbconvert_exporter": "python",
   "pygments_lexer": "ipython3",
   "version": "3.9.10"
  }
 },
 "nbformat": 4,
 "nbformat_minor": 5
}
