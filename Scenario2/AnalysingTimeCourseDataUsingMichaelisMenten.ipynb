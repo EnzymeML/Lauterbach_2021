{
 "cells": [
  {
   "cell_type": "markdown",
   "id": "a0798160",
   "metadata": {},
   "source": [
    "# Scenario 2: Analysing time-course data using Michaelis-Menten\n",
    "Dataset provided by Stephan Malzacher (Institute of Bio- and Geosciences 1, Forschungszentrum Jülich, 52428 Jülich, Germany)  \n",
    "  \n",
    "This Jupyter Notebook accompanies the second scenario of the paper: EnzymeML at work: seamless data flow and modelling of enzymatic data.  \n",
    "In this scenario the time-course data from an EnzymeML document is analysed visually and with kinetic modelling."
   ]
  },
  {
   "cell_type": "markdown",
   "id": "dbef8bc1",
   "metadata": {},
   "source": [
    "## Imports\n",
    "All necessary Python packages are installed and imported.  \n",
    "If you run this notebook with Binder you don't have to install anything, Binder takes care of this.  \n",
    "In order to run on google Colaboratory (Colab), PyEnzyme will be installed and the dataset is loaded from GitHub. This is done in the first Code Cell.  \n",
    "To run the notebook on Colab click on the badge:  \n",
    "[![Colab](https://colab.research.google.com/assets/colab-badge.svg)](https://colab.research.google.com/github/EnzymeML/Lauterbach_2022/blob/main/Scenario2/AnalysingTimeCourseDataUsingMichaelisMenten.ipynb)  \n",
    "If you run this notebook local make sure you have all Packages installed and the dataset in the same directory as the notebook."
   ]
  },
  {
   "cell_type": "code",
   "execution_count": 1,
   "id": "fb0ba5ae",
   "metadata": {},
   "outputs": [
    {
     "name": "stdout",
     "output_type": "stream",
     "text": [
      "Not running on Colab.\n"
     ]
    }
   ],
   "source": [
    "if 'google.colab' in str(get_ipython()):\n",
    "    !pip install git+https://github.com/EnzymeML/PyEnzyme.git@85a709ce0f84604631b2bbfa0fce879b011ee169\n",
    "    !pip install lmfit\n",
    "    !wget https://github.com/EnzymeML/Lauterbach_2022/raw/main/Scenario2/CarboligationOfPyruvateCatalysedByHcAHAS_C_unit_Malzacher.omex\n",
    "else:\n",
    "    print('Not running on Colab.')"
   ]
  },
  {
   "cell_type": "code",
   "execution_count": 2,
   "id": "earned-stylus",
   "metadata": {},
   "outputs": [],
   "source": [
    "import os\n",
    "import requests\n",
    "import json\n",
    "import matplotlib.pyplot as plt\n",
    "import pandas as pd\n",
    "import numpy as np\n",
    "\n",
    "from scipy import stats\n",
    "from scipy.integrate import odeint\n",
    "from lmfit import minimize, Parameters, report_fit"
   ]
  },
  {
   "cell_type": "markdown",
   "id": "486028f9",
   "metadata": {},
   "source": [
    "## Reading EnzymeML via API read-request <a class=\"anchor\" name=\"ReadingEnzymeML\"></a>\n",
    "After the file path is defined, a read request is sent to the EnzymeML REST-API. The API responses with a JSON formatted string containing the data.\n",
    "When running the next code cell the data from the EnzymeML document is saved in the `enzmlJSON` variable."
   ]
  },
  {
   "cell_type": "code",
   "execution_count": 3,
   "id": "db2b4a5e",
   "metadata": {},
   "outputs": [],
   "source": [
    "path = 'CarboligationOfPyruvateCatalysedByHcAHAS_C_unit_Malzacher.omex'\n",
    "apiURL = 'https://enzymeml.sloppy.zone'"
   ]
  },
  {
   "cell_type": "code",
   "execution_count": 4,
   "id": "eb9d1b35",
   "metadata": {},
   "outputs": [],
   "source": [
    "omexName = os.path.basename(path)\n",
    "endpoint_read = f\"{apiURL}/read\"\n",
    "payload={}\n",
    "files=[('omex_archive',(omexName,open(path,'rb'),'application/octet-stream'))]\n",
    "headers={}\n",
    "response = requests.request(\"POST\", endpoint_read, headers=headers, data=payload, files=files)\n",
    "if response.status_code==200:\n",
    "    enzmlJSON = json.loads(response.content)\n",
    "    enzmlJSON['name']"
   ]
  },
  {
   "cell_type": "markdown",
   "id": "89aa5364",
   "metadata": {},
   "source": [
    "In this case the data contains only one measurement with 3 replicates of the substrate pyruvate, consisting of absorption values."
   ]
  },
  {
   "cell_type": "markdown",
   "id": "592a3b3b",
   "metadata": {},
   "source": [
    "## Data preparation\n",
    "In order to visualise and model the data, it first has to be extracted and prepared.  \n",
    "All relevant data such as the time-course data is extracted."
   ]
  },
  {
   "cell_type": "code",
   "execution_count": 5,
   "id": "968703f9",
   "metadata": {},
   "outputs": [],
   "source": [
    "protein_name = enzmlJSON['proteins']['p0']['name']\n",
    "\n",
    "# extract time-course data and measurement time\n",
    "measurements = enzmlJSON['measurements']\n",
    "reactants = measurements['m0']['species_dict']['reactants']\n",
    "replicates = reactants['s0']['replicates']\n",
    "time = replicates[0]['time']\n",
    "time_unit = replicates[0]['time_unit']\n",
    "time_course_data = []\n",
    "for replicate in replicates:\n",
    "    time_course_data.append(replicate['data'])\n",
    "time_course_data = np.array(time_course_data)"
   ]
  },
  {
   "cell_type": "markdown",
   "id": "1af92087",
   "metadata": {},
   "source": [
    "## Visualisation of time-course data \n",
    "All time-course data is visualised with the Python library matplotlib.  \n",
    "In order to save the figures as svg uncomment the `plt.savefig(...)` code lines."
   ]
  },
  {
   "cell_type": "code",
   "execution_count": 6,
   "id": "9d6b290d",
   "metadata": {},
   "outputs": [
    {
     "data": {
      "image/png": "[encoded data removed]",
      "text/plain": [
       "<Figure size 432x288 with 1 Axes>"
      ]
     },
     "metadata": {
      "needs_background": "light"
     },
     "output_type": "display_data"
    }
   ],
   "source": [
    "plt.figure()\n",
    "ax = plt.subplot()\n",
    "for time_course in time_course_data:\n",
    "    ax.plot(time, time_course, 'o', ms=3, color='#377eb8')\n",
    "plt.title('Carboligation of pyruvate catalysed by '+protein_name)\n",
    "ax.set_xlabel('time ['+time_unit+']')\n",
    "ax.set_ylabel('absorbance')\n",
    "# save as svg\n",
    "#plt.savefig('time-course.svg', bbox_inches='tight')\n",
    "plt.show()"
   ]
  },
  {
   "cell_type": "markdown",
   "id": "b331f1d8",
   "metadata": {},
   "source": [
    "## Kinetic modelling and parameter estimation <a class=\"anchor\" name=\"KineticModelling\"></a>\n",
    "In order to model the data and perform parameter fitting, the kinetic equations for the models are defined as Python functions, along with a function to calculate the residual between the models and the measured data.  \n",
    "In the following cell 3 different models are defined.  \n",
    "First the irreversible Michaelis-Menten kinetic for one substrate. Then, an extension of Michaelis-Menten introducing a lag phase in the beginning. An last a Michaelis-Menten kinetic for 2 identical substrates.  \n",
    "The residual function introduces an additional bias parameter."
   ]
  },
  {
   "cell_type": "code",
   "execution_count": 7,
   "id": "549fbbb9",
   "metadata": {},
   "outputs": [],
   "source": [
    "def irreversible_Michaelis_Menten(w, t, params):\n",
    "    '''\n",
    "    Kinetic equation according to Michaelis-Menten, \n",
    "    with the Michaelis-Menten constant K_M and v_max as as parameters.\n",
    "    Arguments:\n",
    "        w: vector with initial value = [s0]\n",
    "        t: vector with time-steps\n",
    "        parameters: parameters object from lmfit\n",
    "    '''\n",
    "    S = w[0]\n",
    "\n",
    "    v_max = params['v_max'].value\n",
    "    K_M = params['K_M'].value\n",
    "\n",
    "    dS = -v_max * S/(K_M + S)\n",
    "    return dS\n",
    "\n",
    "def irreversible_Michaelis_Menten_with_lag(w, t, params):\n",
    "    '''\n",
    "    Kinetic equation according to Michaelis-Menten,\n",
    "    extended by a term for a lag phase in the beginning,\n",
    "    with the Michaelis-Menten constant K_M and v_max and a as as parameters.\n",
    "    Arguments:\n",
    "        w: vector with initial values = [s0, v0]\n",
    "        t: vector with time-steps\n",
    "        parameters: parameters object from lmfit\n",
    "    '''\n",
    "    S = w[0]\n",
    "    v = w[1]\n",
    "\n",
    "    K_M = params['K_M'].value\n",
    "    v_max = params['v_max'].value\n",
    "    a = params['a'].value\n",
    "\n",
    "    dS = -v*S/(K_M + S)\n",
    "    dv = a*(v_max-v)\n",
    "\n",
    "    return (dS, dv)\n",
    "\n",
    "def irreversible_Michaelis_Menten_with_2substrates_with_lag(w, t, params):\n",
    "    '''\n",
    "    Kinetic equation according to Michaelis-Menten \n",
    "    for 2 identical substrates,\n",
    "    with k_i, k_s, v_max and a as as parameters.\n",
    "    Arguments:\n",
    "        w: vector with initial values = [s0, v0]\n",
    "        t: vector with time-steps\n",
    "        parameters: parameters object from lmfit\n",
    "    '''\n",
    "    S = w[0]\n",
    "    v = w[1]\n",
    "\n",
    "    k_i = params['K_i'].value\n",
    "    k_s = params['K_s'].value\n",
    "    v_max = params['v_max'].value\n",
    "    a = params['a'].value\n",
    "\n",
    "    dS = -v*S**2/(k_i*k_s + 2*k_s*S + S**2)\n",
    "    dv = a*(v_max-v)\n",
    "\n",
    "    return (dS, dv)"
   ]
  },
  {
   "cell_type": "code",
   "execution_count": 8,
   "id": "7678ec61",
   "metadata": {},
   "outputs": [],
   "source": [
    "def residual(params, t, data, f):\n",
    "    '''\n",
    "    Calculates residual between measured data and modelled data.\n",
    "    Arguments:\n",
    "        params: parameters object from lmfit\n",
    "        t: time\n",
    "        data: measured data\n",
    "        f: ODEs\n",
    "    '''\n",
    "    try:\n",
    "        w = params['S_0'].value, params['v_0'].value\n",
    "    except KeyError:\n",
    "        w = params['S_0'].value\n",
    "    bias = params['bias'].value\n",
    "    ndata = data.shape[0]\n",
    "    residual = 0.0*data[:]\n",
    "    for i in range(ndata):\n",
    "        s_modelled = odeint(f, w, t, args=(params,))\n",
    "        s_modelled = s_modelled[:,0]\n",
    "        residual[i,:]= data[i,:] - (s_modelled + bias)\n",
    "    return residual.flatten()"
   ]
  },
  {
   "cell_type": "markdown",
   "id": "26e3e589",
   "metadata": {},
   "source": [
    "### Initialising parameters <a class=\"anchor\" name=\"ParameterInit\"></a>\n",
    "The Python library lmfit provides a parameter object to initialise the parameters before the fit."
   ]
  },
  {
   "cell_type": "code",
   "execution_count": 9,
   "id": "5e82e7f9",
   "metadata": {},
   "outputs": [],
   "source": [
    "s_0 = round(np.mean(time_course_data, axis=0)[0],4)\n",
    "slope, intercept, r, p, se = stats.linregress(time, time_course_data[0])\n",
    "v_max = round(abs(slope), 4)\n",
    "bias = round(np.mean(time_course_data, axis=0)[-1],4)"
   ]
  },
  {
   "cell_type": "code",
   "execution_count": 10,
   "id": "fdebbc9c",
   "metadata": {},
   "outputs": [],
   "source": [
    "# Parameters for irreversible Michaelis-Menten without lag or bias\n",
    "params_MM = Parameters()\n",
    "params_MM.add('S_0', value=s_0, min=0.1, max=s_0+0.2*s_0)\n",
    "params_MM.add('v_max', value=v_max, min=0.00001, max=10.)\n",
    "params_MM.add('K_M', value=s_0, min=0.00001, max=s_0*10)\n",
    "params_MM.add('bias', value=0, vary=False)\n",
    "\n",
    "# Parameters for Michaelis-Menten with bias\n",
    "params_with_bias = Parameters()\n",
    "params_with_bias.add('S_0', value=s_0-bias, min=0.1, max=s_0+0.2*s_0)\n",
    "params_with_bias.add('bias', value=bias, min=0.0001, max=s_0*0.5)\n",
    "params_with_bias.add('v_max', value=v_max, min=0.00001, max=10.)\n",
    "params_with_bias.add('K_M', value=s_0, min=0.00001, max=s_0*10)"
   ]
  },
  {
   "cell_type": "code",
   "execution_count": 11,
   "id": "4b2f174b",
   "metadata": {},
   "outputs": [],
   "source": [
    "\n",
    "# Parameters for Michaelis-Menten with lag\n",
    "params_with_lag = Parameters()\n",
    "params_with_lag.add('v_0', value=0, vary=False)\n",
    "params_with_lag.add('S_0', value=s_0, min=0.1, max=s_0+0.2*s_0)\n",
    "params_with_lag.add('a', value=1., min=0.0001, max=10.)\n",
    "params_with_lag.add('v_max', value=v_max, min=0.0001, max=10.)\n",
    "params_with_lag.add('K_M', value=s_0, min=0.0001, max=s_0*10)\n",
    "params_with_lag.add('bias', value=0, vary=False)\n",
    "\n",
    "# Parameters for Michaelis-Menten with lag and bias\n",
    "params_with_lag_bias = Parameters()\n",
    "params_with_lag_bias.add('v_0', value=0, vary=False)\n",
    "params_with_lag_bias.add('S_0', value=s_0-bias, min=0.1, max=s_0)\n",
    "params_with_lag_bias.add('bias', value=bias, min=0.001, max=s_0*0.5)\n",
    "params_with_lag_bias.add('a', value=1., min=0.0001, max=10.)\n",
    "params_with_lag_bias.add('v_max', value=v_max, min=0.0001, max=10.)\n",
    "params_with_lag_bias.add('K_M', value=s_0, min=0.0001, max=s_0*10)"
   ]
  },
  {
   "cell_type": "code",
   "execution_count": 12,
   "id": "1d386336",
   "metadata": {},
   "outputs": [],
   "source": [
    "# Parameters for Michaelis-Menten with 2 substrates and lag and bias\n",
    "params_MM_2S_lag_b = Parameters()\n",
    "params_MM_2S_lag_b.add('S_0', value=s_0, min=0.1, max=s_0+0.2*s_0)\n",
    "params_MM_2S_lag_b.add('v_max', value=v_max, min=0.0001, max=10.)\n",
    "params_MM_2S_lag_b.add('v_0', value=0, vary=False)\n",
    "params_MM_2S_lag_b.add('a', value=1., min=0.0001, max=10.)\n",
    "params_MM_2S_lag_b.add('K_s', value=s_0, min=0.0001, max=s_0*10)\n",
    "params_MM_2S_lag_b.add('K_i', value=s_0, min=0.0001, max=s_0*10)\n",
    "params_MM_2S_lag_b.add('bias', value=bias, min=0.001, max=s_0*0.5)"
   ]
  },
  {
   "cell_type": "markdown",
   "id": "8af60020",
   "metadata": {},
   "source": [
    "### Parameter fitting <a class=\"anchor\" name=\"ParameterFitting\"></a>\n",
    "In the next cell the parameters for all models are fitted against the measured data and the results are stored in a dictionary."
   ]
  },
  {
   "cell_type": "code",
   "execution_count": 13,
   "id": "b8d81836",
   "metadata": {},
   "outputs": [],
   "source": [
    "results_dict = {}\n",
    "# model 1: irreversible Michaelis-Menten\n",
    "result_MM = minimize(residual, params_MM, args=(time, time_course_data, irreversible_Michaelis_Menten), method='leastsq')\n",
    "results_dict['irreversible Michaelis-Menten'] = result_MM\n",
    "\n",
    "# model 2: Michaelis-Menten with bias\n",
    "result_MM_with_bias = minimize(residual, params_with_bias, args=(time, time_course_data, irreversible_Michaelis_Menten), method='leastsq')\n",
    "results_dict['irrev. Michaelis-Menten with bias'] = result_MM_with_bias\n",
    "\n",
    "# model 3: Michaelis-Menten with lag\n",
    "result_MM_with_lag = minimize(residual, params_with_lag, args=(time, time_course_data, irreversible_Michaelis_Menten_with_lag), method='leastsq')\n",
    "results_dict['irrev. Michaelis-Menten with lag'] = result_MM_with_lag\n",
    "\n",
    "# model 4: Michaelis-Menten with lag and bias\n",
    "result_with_lag_bias = minimize(residual, params_with_lag_bias, args=(time, time_course_data, irreversible_Michaelis_Menten_with_lag), method='leastsq')\n",
    "results_dict['irrev. Michaelis-Menten with lag and bias'] = result_with_lag_bias\n",
    "\n",
    "# model 5: Michaelis-Menten with 2 substrates and lag and bias\n",
    "result_2substrates_with_lag_bias = minimize(residual, params_MM_2S_lag_b, args=(time, time_course_data, irreversible_Michaelis_Menten_with_2substrates_with_lag), method='leastsq')\n",
    "results_dict['irrev. Michaelis-Menten with 2 substrates'] = result_2substrates_with_lag_bias"
   ]
  },
  {
   "cell_type": "markdown",
   "id": "ab496efe",
   "metadata": {},
   "source": [
    "### Results Model 1\n",
    "The output of the next cell shows the results from the residual minimisation done by lmfit. Followed by a plot containing the measured data and the curve with the estimated parameters for model 1."
   ]
  },
  {
   "cell_type": "code",
   "execution_count": 14,
   "id": "10484352",
   "metadata": {},
   "outputs": [
    {
     "name": "stdout",
     "output_type": "stream",
     "text": [
      "[[Fit Statistics]]\n",
      "    # fitting method   = leastsq\n",
      "    # function evals   = 33\n",
      "    # data points      = 180\n",
      "    # variables        = 3\n",
      "    chi-square         = 0.13461327\n",
      "    reduced chi-square = 7.6053e-04\n",
      "    Akaike info crit   = -1289.69510\n",
      "    Bayesian info crit = -1280.11623\n",
      "[[Variables]]\n",
      "    S_0:    1.03341003 +/- 0.00545086 (0.53%) (init = 0.9781)\n",
      "    v_max:  0.26205563 +/- 0.00754586 (2.88%) (init = 0.2034)\n",
      "    K_M:    0.09593698 +/- 0.01488937 (15.52%) (init = 0.9781)\n",
      "    bias:   0 (fixed)\n",
      "[[Correlations]] (unreported correlations are < 0.100)\n",
      "    C(v_max, K_M) = 0.962\n",
      "    C(S_0, v_max) = 0.745\n",
      "    C(S_0, K_M)   = 0.581\n"
     ]
    },
    {
     "data": {
      "image/png": "[encoded data removed]",
      "text/plain": [
       "<Figure size 432x288 with 1 Axes>"
      ]
     },
     "metadata": {
      "needs_background": "light"
     },
     "output_type": "display_data"
    }
   ],
   "source": [
    "result = results_dict['irreversible Michaelis-Menten']\n",
    "report_fit(result)\n",
    "w0 = result.params['S_0'].value\n",
    "data_fitted = odeint(irreversible_Michaelis_Menten, w0, time, args=(result.params,))\n",
    "plt.figure()\n",
    "ax = plt.subplot()\n",
    "for i in range(time_course_data.shape[0]):\n",
    "    ax.plot(time, time_course_data[i, :], 'o', ms=3, color='#377eb8')\n",
    "ax.plot(time, data_fitted[:], '-', linewidth=2, color='#e31a1c')\n",
    "ax.set_xlabel('time ['+time_unit+']')\n",
    "ax.set_ylabel('absorbance')\n",
    "plt.title('irreversible Michaelis-Menten')\n",
    "# save as svg\n",
    "# plt.savefig('model1.svg', bbox_inches='tight')\n",
    "plt.show()"
   ]
  },
  {
   "cell_type": "markdown",
   "id": "7b2cfdf3",
   "metadata": {},
   "source": [
    "### Results Model 2\n",
    "The output of the next cell shows the results from the residual minimisation done by lmfit. Followed by a plot containing the measured data and the curve with the estimated parameters for model 2."
   ]
  },
  {
   "cell_type": "code",
   "execution_count": 15,
   "id": "aae86980",
   "metadata": {},
   "outputs": [
    {
     "name": "stdout",
     "output_type": "stream",
     "text": [
      "[[Fit Statistics]]\n",
      "    # fitting method   = leastsq\n",
      "    # function evals   = 73\n",
      "    # data points      = 180\n",
      "    # variables        = 4\n",
      "    chi-square         = 0.08045348\n",
      "    reduced chi-square = 4.5712e-04\n",
      "    Akaike info crit   = -1380.34594\n",
      "    Bayesian info crit = -1367.57412\n",
      "[[Variables]]\n",
      "    S_0:    0.91874284 +/- 0.00556581 (0.61%) (init = 0.8834)\n",
      "    bias:   0.10519345 +/- 0.00390479 (3.71%) (init = 0.0947)\n",
      "    v_max:  0.22528088 +/- 0.00322444 (1.43%) (init = 0.2034)\n",
      "    K_M:    0.00173502 +/- 0.00408554 (235.47%) (init = 0.9781)\n",
      "[[Correlations]] (unreported correlations are < 0.100)\n",
      "    C(v_max, K_M) = 0.888\n",
      "    C(S_0, bias)  = -0.711\n",
      "    C(S_0, v_max) = 0.563\n",
      "    C(S_0, K_M)   = 0.367\n"
     ]
    },
    {
     "data": {
      "image/png": "[encoded data removed]",
      "text/plain": [
       "<Figure size 432x288 with 1 Axes>"
      ]
     },
     "metadata": {
      "needs_background": "light"
     },
     "output_type": "display_data"
    }
   ],
   "source": [
    "result = results_dict['irrev. Michaelis-Menten with bias']\n",
    "report_fit(result)\n",
    "w0 = result.params['S_0'].value\n",
    "data_fitted = odeint(irreversible_Michaelis_Menten, w0, time, args=(result.params,))\n",
    "plt.figure()\n",
    "ax = plt.subplot()\n",
    "for i in range(time_course_data.shape[0]):\n",
    "    ax.plot(time, time_course_data[i, :], 'o', ms=3, color='#377eb8')\n",
    "ax.plot(time, data_fitted[:]+result.params['bias'].value, '-', linewidth=2, color='#e31a1c')\n",
    "ax.set_xlabel('time ['+time_unit+']')\n",
    "ax.set_ylabel('absorbance')\n",
    "plt.title('irreversible Michaelis-Menten with bias')\n",
    "# save as svg\n",
    "# plt.savefig('model2.svg', bbox_inches='tight')\n",
    "plt.show()"
   ]
  },
  {
   "cell_type": "markdown",
   "id": "af1349ee",
   "metadata": {},
   "source": [
    "### Results Model 3\n",
    "The output of the next cell shows the results from the residual minimisation done by lmfit. Followed by a plot containing the measured data and the curve with the estimated parameters for model 3."
   ]
  },
  {
   "cell_type": "code",
   "execution_count": 16,
   "id": "fb6ba0a3",
   "metadata": {},
   "outputs": [
    {
     "name": "stdout",
     "output_type": "stream",
     "text": [
      "[[Fit Statistics]]\n",
      "    # fitting method   = leastsq\n",
      "    # function evals   = 225\n",
      "    # data points      = 180\n",
      "    # variables        = 4\n",
      "    chi-square         = 0.05793438\n",
      "    reduced chi-square = 3.2917e-04\n",
      "    Akaike info crit   = -1439.45220\n",
      "    Bayesian info crit = -1426.68037\n",
      "[[Variables]]\n",
      "    v_0:    0 (fixed)\n",
      "    S_0:    0.95065739 +/- 0.00409306 (0.43%) (init = 0.9781)\n",
      "    a:      0.85684186 +/- 0.16152584 (18.85%) (init = 1)\n",
      "    v_max:  0.59389938 +/- 0.12514426 (21.07%) (init = 0.2034)\n",
      "    K_M:    0.50294840 +/- 0.14107083 (28.05%) (init = 0.9781)\n",
      "    bias:   0 (fixed)\n",
      "[[Correlations]] (unreported correlations are < 0.100)\n",
      "    C(v_max, K_M) = 0.995\n",
      "    C(a, v_max)   = -0.979\n",
      "    C(a, K_M)     = -0.956\n",
      "    C(S_0, a)     = 0.642\n",
      "    C(S_0, v_max) = -0.534\n",
      "    C(S_0, K_M)   = -0.492\n"
     ]
    },
    {
     "data": {
      "image/png": "[encoded data removed]",
      "text/plain": [
       "<Figure size 432x288 with 1 Axes>"
      ]
     },
     "metadata": {
      "needs_background": "light"
     },
     "output_type": "display_data"
    }
   ],
   "source": [
    "result = results_dict['irrev. Michaelis-Menten with lag']\n",
    "report_fit(result)\n",
    "w0 = result.params['S_0'].value, result.params['v_0'].value\n",
    "data_fitted = odeint(irreversible_Michaelis_Menten_with_lag, w0, time, args=(result.params,))\n",
    "plt.figure()\n",
    "ax = plt.subplot()\n",
    "for i in range(time_course_data.shape[0]):\n",
    "    ax.plot(time, time_course_data[i, :], 'o', ms=3, color='#377eb8')\n",
    "ax.plot(time, data_fitted[:,0]+result.params['bias'].value, '-', linewidth=2, color='#e31a1c')\n",
    "ax.set_xlabel('time ['+time_unit+']')\n",
    "ax.set_ylabel('absorbance')\n",
    "plt.title('irreversible Michaelis-Menten with lag')\n",
    "# save as svg\n",
    "# plt.savefig('model3.svg', bbox_inches='tight')\n",
    "plt.show()"
   ]
  },
  {
   "cell_type": "markdown",
   "id": "a33a7e80",
   "metadata": {},
   "source": [
    "### Results Model 4\n",
    "The output of the next cell shows the results from the residual minimisation done by lmfit. Followed by a plot containing the measured data and the curve with the estimated parameters for model 4."
   ]
  },
  {
   "cell_type": "code",
   "execution_count": 17,
   "id": "1067ce76",
   "metadata": {},
   "outputs": [
    {
     "name": "stdout",
     "output_type": "stream",
     "text": [
      "[[Fit Statistics]]\n",
      "    # fitting method   = leastsq\n",
      "    # function evals   = 539\n",
      "    # data points      = 180\n",
      "    # variables        = 5\n",
      "    chi-square         = 0.04123927\n",
      "    reduced chi-square = 2.3565e-04\n",
      "    Akaike info crit   = -1498.63781\n",
      "    Bayesian info crit = -1482.67303\n",
      "[[Variables]]\n",
      "    v_0:    0 (fixed)\n",
      "    S_0:    0.86085333 +/- 0.00534265 (0.62%) (init = 0.8834)\n",
      "    bias:   0.09725108 +/- 0.00436825 (4.49%) (init = 0.0947)\n",
      "    a:      1.69789368 +/- 0.15517429 (9.14%) (init = 1)\n",
      "    v_max:  0.28159322 +/- 0.01082312 (3.84%) (init = 0.2034)\n",
      "    K_M:    0.04761820 +/- 0.01094634 (22.99%) (init = 0.9781)\n",
      "[[Correlations]] (unreported correlations are < 0.100)\n",
      "    C(v_max, K_M)  = 0.947\n",
      "    C(a, v_max)    = -0.895\n",
      "    C(a, K_M)      = -0.743\n",
      "    C(S_0, bias)   = -0.736\n",
      "    C(bias, K_M)   = -0.638\n",
      "    C(bias, v_max) = -0.504\n",
      "    C(bias, a)     = 0.333\n",
      "    C(S_0, K_M)    = 0.312\n",
      "    C(S_0, a)      = 0.211\n",
      "    C(S_0, v_max)  = 0.122\n"
     ]
    },
    {
     "data": {
      "image/png": "[encoded data removed]",
      "text/plain": [
       "<Figure size 432x288 with 1 Axes>"
      ]
     },
     "metadata": {
      "needs_background": "light"
     },
     "output_type": "display_data"
    }
   ],
   "source": [
    "result = results_dict['irrev. Michaelis-Menten with lag and bias']\n",
    "report_fit(result)\n",
    "w0 = result.params['S_0'].value, result.params['v_0'].value\n",
    "data_fitted = odeint(irreversible_Michaelis_Menten_with_lag, w0, time, args=(result.params,))\n",
    "plt.figure()\n",
    "ax = plt.subplot()\n",
    "for i in range(time_course_data.shape[0]):\n",
    "    ax.plot(time, time_course_data[i, :], 'o', ms=3, color='#377eb8')\n",
    "ax.plot(time, data_fitted[:,0]+result.params['bias'].value, '-', linewidth=2, color='#e31a1c')\n",
    "ax.set_xlabel('time ['+time_unit+']')\n",
    "ax.set_ylabel('absorbance')\n",
    "plt.title('irreversible Michaelis-Menten with lag and bias')\n",
    "# save as svg\n",
    "# plt.savefig('model4.svg', bbox_inches='tight')\n",
    "plt.show()"
   ]
  },
  {
   "cell_type": "markdown",
   "id": "a61c5ebc",
   "metadata": {},
   "source": [
    "### Results Model 5\n",
    "The output of the next cell shows the results from the residual minimisation done by lmfit. Followed by a plot containing the measured data and the curve with the estimated parameters for model 5."
   ]
  },
  {
   "cell_type": "code",
   "execution_count": 18,
   "id": "7e3f0b6e",
   "metadata": {},
   "outputs": [
    {
     "name": "stdout",
     "output_type": "stream",
     "text": [
      "[[Fit Statistics]]\n",
      "    # fitting method   = leastsq\n",
      "    # function evals   = 918\n",
      "    # data points      = 180\n",
      "    # variables        = 6\n",
      "    chi-square         = 0.04049604\n",
      "    reduced chi-square = 2.3274e-04\n",
      "    Akaike info crit   = -1499.91142\n",
      "    Bayesian info crit = -1480.75368\n",
      "[[Variables]]\n",
      "    S_0:    0.88452547 +/- 0.02033842 (2.30%) (init = 0.9781)\n",
      "    v_max:  0.25598242 +/- 0.02517639 (9.84%) (init = 0.2034)\n",
      "    v_0:    0 (fixed)\n",
      "    a:      1.91323177 +/- 0.26811579 (14.01%) (init = 1)\n",
      "    K_s:    4.9120e-04 +/- 0.02545288 (5181.73%) (init = 0.9781)\n",
      "    K_i:    9.78048744 +/- 242.058435 (2474.91%) (init = 0.9781)\n",
      "    bias:   0.07520575 +/- 0.01915186 (25.47%) (init = 0.0947)\n",
      "[[Correlations]] (unreported correlations are < 0.100)\n",
      "    C(K_s, K_i)    = -1.000\n",
      "    C(S_0, bias)   = -0.982\n",
      "    C(v_max, K_s)  = 0.976\n",
      "    C(v_max, K_i)  = -0.975\n",
      "    C(S_0, K_i)    = 0.895\n",
      "    C(v_max, a)    = -0.895\n",
      "    C(S_0, K_s)    = -0.893\n",
      "    C(K_i, bias)   = -0.883\n",
      "    C(K_s, bias)   = 0.880\n",
      "    C(S_0, v_max)  = -0.822\n",
      "    C(a, K_s)      = -0.795\n",
      "    C(a, K_i)      = 0.792\n",
      "    C(v_max, bias) = 0.789\n",
      "    C(S_0, a)      = 0.663\n",
      "    C(a, bias)     = -0.564\n"
     ]
    },
    {
     "data": {
      "image/png": "[encoded data removed]",
      "text/plain": [
       "<Figure size 432x288 with 1 Axes>"
      ]
     },
     "metadata": {
      "needs_background": "light"
     },
     "output_type": "display_data"
    }
   ],
   "source": [
    "result = results_dict['irrev. Michaelis-Menten with 2 substrates']\n",
    "report_fit(result)\n",
    "w0 = result.params['S_0'].value, result.params['v_0'].value\n",
    "data_fitted = odeint(irreversible_Michaelis_Menten_with_2substrates_with_lag, w0, time, args=(result.params,))\n",
    "plt.figure()\n",
    "ax = plt.subplot()\n",
    "for i in range(time_course_data.shape[0]):\n",
    "    ax.plot(time, time_course_data[i, :], 'o', ms=3, color='#377eb8')\n",
    "ax.plot(time, data_fitted[:,0]+result.params['bias'].value, '-', linewidth=2, color='#e31a1c')\n",
    "ax.set_xlabel('time ['+time_unit+']')\n",
    "ax.set_ylabel('absorbance')\n",
    "plt.title('irreversible Michaelis-Menten with 2 substrates and lag and bias')\n",
    "# save as svg\n",
    "# plt.savefig('model5.svg', bbox_inches='tight')\n",
    "plt.show()"
   ]
  },
  {
   "cell_type": "markdown",
   "id": "12787019",
   "metadata": {},
   "source": [
    "### Table with estimated parameters for all models <a class=\"anchor\" name=\"ResultsOverview\"></a>"
   ]
  },
  {
   "cell_type": "code",
   "execution_count": 19,
   "id": "995755c1",
   "metadata": {},
   "outputs": [
    {
     "data": {
      "text/html": [
       "<div>\n",
       "<style scoped>\n",
       "    .dataframe tbody tr th:only-of-type {\n",
       "        vertical-align: middle;\n",
       "    }\n",
       "\n",
       "    .dataframe tbody tr th {\n",
       "        vertical-align: top;\n",
       "    }\n",
       "\n",
       "    .dataframe thead th {\n",
       "        text-align: right;\n",
       "    }\n",
       "</style>\n",
       "<table border=\"1\" class=\"dataframe\">\n",
       "  <thead>\n",
       "    <tr style=\"text-align: right;\">\n",
       "      <th></th>\n",
       "      <th>irreversible Michaelis-Menten</th>\n",
       "      <th>irrev. Michaelis-Menten with bias</th>\n",
       "      <th>irrev. Michaelis-Menten with lag</th>\n",
       "      <th>irrev. Michaelis-Menten with lag and bias</th>\n",
       "      <th>irrev. Michaelis-Menten with 2 substrates</th>\n",
       "    </tr>\n",
       "  </thead>\n",
       "  <tbody>\n",
       "    <tr>\n",
       "      <th>S_0</th>\n",
       "      <td>1.033</td>\n",
       "      <td>0.919</td>\n",
       "      <td>0.951</td>\n",
       "      <td>0.861</td>\n",
       "      <td>0.885</td>\n",
       "    </tr>\n",
       "    <tr>\n",
       "      <th>v_max</th>\n",
       "      <td>0.262</td>\n",
       "      <td>0.225</td>\n",
       "      <td>0.594</td>\n",
       "      <td>0.282</td>\n",
       "      <td>0.256</td>\n",
       "    </tr>\n",
       "    <tr>\n",
       "      <th>K_M</th>\n",
       "      <td>0.096</td>\n",
       "      <td>0.002</td>\n",
       "      <td>0.503</td>\n",
       "      <td>0.048</td>\n",
       "      <td>NaN</td>\n",
       "    </tr>\n",
       "    <tr>\n",
       "      <th>bias</th>\n",
       "      <td>0.000</td>\n",
       "      <td>0.105</td>\n",
       "      <td>0.000</td>\n",
       "      <td>0.097</td>\n",
       "      <td>0.075</td>\n",
       "    </tr>\n",
       "    <tr>\n",
       "      <th>v_0</th>\n",
       "      <td>NaN</td>\n",
       "      <td>NaN</td>\n",
       "      <td>0.000</td>\n",
       "      <td>0.000</td>\n",
       "      <td>0.000</td>\n",
       "    </tr>\n",
       "    <tr>\n",
       "      <th>a</th>\n",
       "      <td>NaN</td>\n",
       "      <td>NaN</td>\n",
       "      <td>0.857</td>\n",
       "      <td>1.698</td>\n",
       "      <td>1.913</td>\n",
       "    </tr>\n",
       "    <tr>\n",
       "      <th>K_s</th>\n",
       "      <td>NaN</td>\n",
       "      <td>NaN</td>\n",
       "      <td>NaN</td>\n",
       "      <td>NaN</td>\n",
       "      <td>0.000</td>\n",
       "    </tr>\n",
       "    <tr>\n",
       "      <th>K_i</th>\n",
       "      <td>NaN</td>\n",
       "      <td>NaN</td>\n",
       "      <td>NaN</td>\n",
       "      <td>NaN</td>\n",
       "      <td>9.780</td>\n",
       "    </tr>\n",
       "  </tbody>\n",
       "</table>\n",
       "</div>"
      ],
      "text/plain": [
       "       irreversible Michaelis-Menten  irrev. Michaelis-Menten with bias  \\\n",
       "S_0                            1.033                              0.919   \n",
       "v_max                          0.262                              0.225   \n",
       "K_M                            0.096                              0.002   \n",
       "bias                           0.000                              0.105   \n",
       "v_0                              NaN                                NaN   \n",
       "a                                NaN                                NaN   \n",
       "K_s                              NaN                                NaN   \n",
       "K_i                              NaN                                NaN   \n",
       "\n",
       "       irrev. Michaelis-Menten with lag  \\\n",
       "S_0                               0.951   \n",
       "v_max                             0.594   \n",
       "K_M                               0.503   \n",
       "bias                              0.000   \n",
       "v_0                               0.000   \n",
       "a                                 0.857   \n",
       "K_s                                 NaN   \n",
       "K_i                                 NaN   \n",
       "\n",
       "       irrev. Michaelis-Menten with lag and bias  \\\n",
       "S_0                                        0.861   \n",
       "v_max                                      0.282   \n",
       "K_M                                        0.048   \n",
       "bias                                       0.097   \n",
       "v_0                                        0.000   \n",
       "a                                          1.698   \n",
       "K_s                                          NaN   \n",
       "K_i                                          NaN   \n",
       "\n",
       "       irrev. Michaelis-Menten with 2 substrates  \n",
       "S_0                                        0.885  \n",
       "v_max                                      0.256  \n",
       "K_M                                          NaN  \n",
       "bias                                       0.075  \n",
       "v_0                                        0.000  \n",
       "a                                          1.913  \n",
       "K_s                                        0.000  \n",
       "K_i                                        9.780  "
      ]
     },
     "execution_count": 19,
     "metadata": {},
     "output_type": "execute_result"
    }
   ],
   "source": [
    "models_dataframe = pd.DataFrame()\n",
    "for model_name, model_result in results_dict.items():\n",
    "    for parameter_name, parameter_value in model_result.params.valuesdict().items():\n",
    "        models_dataframe.loc[parameter_name,model_name] = round(parameter_value,3)\n",
    "models_dataframe"
   ]
  },
  {
   "cell_type": "markdown",
   "id": "d84ae5c3",
   "metadata": {},
   "source": [
    "## Conversion from absorbance to concentration <a class=\"anchor\" name=\"Conversion\"></a>\n",
    "All estimated parameters are still derived from light absorption. To be comparable, S<sub>0</sub>, bias and K<sub>M</sub> are converted to concentration in mmol/L by getting divided by the molar extinction coefficient of pyruvate of 24.8 L*cm/mol and multiplied by the factor 1000 and afterwards mapped in a table."
   ]
  },
  {
   "cell_type": "code",
   "execution_count": 20,
   "id": "e494426d",
   "metadata": {},
   "outputs": [
    {
     "data": {
      "text/html": [
       "<div>\n",
       "<style scoped>\n",
       "    .dataframe tbody tr th:only-of-type {\n",
       "        vertical-align: middle;\n",
       "    }\n",
       "\n",
       "    .dataframe tbody tr th {\n",
       "        vertical-align: top;\n",
       "    }\n",
       "\n",
       "    .dataframe thead th {\n",
       "        text-align: right;\n",
       "    }\n",
       "</style>\n",
       "<table border=\"1\" class=\"dataframe\">\n",
       "  <thead>\n",
       "    <tr style=\"text-align: right;\">\n",
       "      <th></th>\n",
       "      <th>irreversible Michaelis-Menten</th>\n",
       "      <th>irrev. Michaelis-Menten with bias</th>\n",
       "      <th>irrev. Michaelis-Menten with lag</th>\n",
       "      <th>irrev. Michaelis-Menten with lag and bias</th>\n",
       "      <th>irrev. Michaelis-Menten with 2 substrates</th>\n",
       "    </tr>\n",
       "  </thead>\n",
       "  <tbody>\n",
       "    <tr>\n",
       "      <th>S_0</th>\n",
       "      <td>41.65</td>\n",
       "      <td>37.06</td>\n",
       "      <td>38.35</td>\n",
       "      <td>34.72</td>\n",
       "      <td>35.69</td>\n",
       "    </tr>\n",
       "    <tr>\n",
       "      <th>v_max</th>\n",
       "      <td>10.56</td>\n",
       "      <td>9.07</td>\n",
       "      <td>23.95</td>\n",
       "      <td>11.37</td>\n",
       "      <td>10.32</td>\n",
       "    </tr>\n",
       "    <tr>\n",
       "      <th>K_M</th>\n",
       "      <td>3.87</td>\n",
       "      <td>0.08</td>\n",
       "      <td>20.28</td>\n",
       "      <td>1.94</td>\n",
       "      <td>NaN</td>\n",
       "    </tr>\n",
       "    <tr>\n",
       "      <th>bias</th>\n",
       "      <td>0.00</td>\n",
       "      <td>4.23</td>\n",
       "      <td>0.00</td>\n",
       "      <td>3.91</td>\n",
       "      <td>3.02</td>\n",
       "    </tr>\n",
       "    <tr>\n",
       "      <th>v_0</th>\n",
       "      <td>NaN</td>\n",
       "      <td>NaN</td>\n",
       "      <td>0.00</td>\n",
       "      <td>0.00</td>\n",
       "      <td>0.00</td>\n",
       "    </tr>\n",
       "    <tr>\n",
       "      <th>a</th>\n",
       "      <td>NaN</td>\n",
       "      <td>NaN</td>\n",
       "      <td>34.56</td>\n",
       "      <td>68.47</td>\n",
       "      <td>77.14</td>\n",
       "    </tr>\n",
       "    <tr>\n",
       "      <th>K_s</th>\n",
       "      <td>NaN</td>\n",
       "      <td>NaN</td>\n",
       "      <td>NaN</td>\n",
       "      <td>NaN</td>\n",
       "      <td>0.00</td>\n",
       "    </tr>\n",
       "    <tr>\n",
       "      <th>K_i</th>\n",
       "      <td>NaN</td>\n",
       "      <td>NaN</td>\n",
       "      <td>NaN</td>\n",
       "      <td>NaN</td>\n",
       "      <td>394.35</td>\n",
       "    </tr>\n",
       "  </tbody>\n",
       "</table>\n",
       "</div>"
      ],
      "text/plain": [
       "       irreversible Michaelis-Menten  irrev. Michaelis-Menten with bias  \\\n",
       "S_0                            41.65                              37.06   \n",
       "v_max                          10.56                               9.07   \n",
       "K_M                             3.87                               0.08   \n",
       "bias                            0.00                               4.23   \n",
       "v_0                              NaN                                NaN   \n",
       "a                                NaN                                NaN   \n",
       "K_s                              NaN                                NaN   \n",
       "K_i                              NaN                                NaN   \n",
       "\n",
       "       irrev. Michaelis-Menten with lag  \\\n",
       "S_0                               38.35   \n",
       "v_max                             23.95   \n",
       "K_M                               20.28   \n",
       "bias                               0.00   \n",
       "v_0                                0.00   \n",
       "a                                 34.56   \n",
       "K_s                                 NaN   \n",
       "K_i                                 NaN   \n",
       "\n",
       "       irrev. Michaelis-Menten with lag and bias  \\\n",
       "S_0                                        34.72   \n",
       "v_max                                      11.37   \n",
       "K_M                                         1.94   \n",
       "bias                                        3.91   \n",
       "v_0                                         0.00   \n",
       "a                                          68.47   \n",
       "K_s                                          NaN   \n",
       "K_i                                          NaN   \n",
       "\n",
       "       irrev. Michaelis-Menten with 2 substrates  \n",
       "S_0                                        35.69  \n",
       "v_max                                      10.32  \n",
       "K_M                                          NaN  \n",
       "bias                                        3.02  \n",
       "v_0                                         0.00  \n",
       "a                                          77.14  \n",
       "K_s                                         0.00  \n",
       "K_i                                       394.35  "
      ]
     },
     "execution_count": 20,
     "metadata": {},
     "output_type": "execute_result"
    }
   ],
   "source": [
    "models_dataframe_concentration1 = round(models_dataframe/24.8*1000,2)\n",
    "models_dataframe_concentration1"
   ]
  },
  {
   "cell_type": "markdown",
   "id": "98221327",
   "metadata": {},
   "source": [
    "#### Calculation of extinction coefficient <a class=\"anchor\" name=\"ExtinctionCoefficient\"></a>\n",
    "An alternative extinction coefficient is computed from the given initial concentration of the substrate and the estimated parameter for S<sub>0</sub> from model 4 with the formula: $\\epsilon = \\frac{A}{c \\cdot d}$ with $A = S_0 + bias$."
   ]
  },
  {
   "cell_type": "code",
   "execution_count": 21,
   "id": "ed22f415",
   "metadata": {},
   "outputs": [
    {
     "name": "stdout",
     "output_type": "stream",
     "text": [
      "New extinction coefficient: 19.2 (cm L/mol)\n"
     ]
    }
   ],
   "source": [
    "epsilon = round((result_with_lag_bias.params['S_0'].value+result_with_lag_bias.params['bias'].value)/(50)*1000,1)\n",
    "print('New extinction coefficient: '+str(epsilon)+' (cm L/mol)')"
   ]
  },
  {
   "cell_type": "code",
   "execution_count": 22,
   "id": "856f9a76",
   "metadata": {},
   "outputs": [
    {
     "data": {
      "text/html": [
       "<div>\n",
       "<style scoped>\n",
       "    .dataframe tbody tr th:only-of-type {\n",
       "        vertical-align: middle;\n",
       "    }\n",
       "\n",
       "    .dataframe tbody tr th {\n",
       "        vertical-align: top;\n",
       "    }\n",
       "\n",
       "    .dataframe thead th {\n",
       "        text-align: right;\n",
       "    }\n",
       "</style>\n",
       "<table border=\"1\" class=\"dataframe\">\n",
       "  <thead>\n",
       "    <tr style=\"text-align: right;\">\n",
       "      <th></th>\n",
       "      <th>irreversible Michaelis-Menten</th>\n",
       "      <th>irrev. Michaelis-Menten with bias</th>\n",
       "      <th>irrev. Michaelis-Menten with lag</th>\n",
       "      <th>irrev. Michaelis-Menten with lag and bias</th>\n",
       "      <th>irrev. Michaelis-Menten with 2 substrates</th>\n",
       "    </tr>\n",
       "  </thead>\n",
       "  <tbody>\n",
       "    <tr>\n",
       "      <th>S_0</th>\n",
       "      <td>53.80</td>\n",
       "      <td>47.86</td>\n",
       "      <td>49.53</td>\n",
       "      <td>44.84</td>\n",
       "      <td>46.09</td>\n",
       "    </tr>\n",
       "    <tr>\n",
       "      <th>v_max</th>\n",
       "      <td>13.65</td>\n",
       "      <td>11.72</td>\n",
       "      <td>30.94</td>\n",
       "      <td>14.69</td>\n",
       "      <td>13.33</td>\n",
       "    </tr>\n",
       "    <tr>\n",
       "      <th>K_M</th>\n",
       "      <td>5.00</td>\n",
       "      <td>0.10</td>\n",
       "      <td>26.20</td>\n",
       "      <td>2.50</td>\n",
       "      <td>NaN</td>\n",
       "    </tr>\n",
       "    <tr>\n",
       "      <th>bias</th>\n",
       "      <td>0.00</td>\n",
       "      <td>5.47</td>\n",
       "      <td>0.00</td>\n",
       "      <td>5.05</td>\n",
       "      <td>3.91</td>\n",
       "    </tr>\n",
       "    <tr>\n",
       "      <th>v_0</th>\n",
       "      <td>NaN</td>\n",
       "      <td>NaN</td>\n",
       "      <td>0.00</td>\n",
       "      <td>0.00</td>\n",
       "      <td>0.00</td>\n",
       "    </tr>\n",
       "    <tr>\n",
       "      <th>a</th>\n",
       "      <td>NaN</td>\n",
       "      <td>NaN</td>\n",
       "      <td>44.64</td>\n",
       "      <td>88.44</td>\n",
       "      <td>99.64</td>\n",
       "    </tr>\n",
       "    <tr>\n",
       "      <th>K_s</th>\n",
       "      <td>NaN</td>\n",
       "      <td>NaN</td>\n",
       "      <td>NaN</td>\n",
       "      <td>NaN</td>\n",
       "      <td>0.00</td>\n",
       "    </tr>\n",
       "    <tr>\n",
       "      <th>K_i</th>\n",
       "      <td>NaN</td>\n",
       "      <td>NaN</td>\n",
       "      <td>NaN</td>\n",
       "      <td>NaN</td>\n",
       "      <td>509.38</td>\n",
       "    </tr>\n",
       "  </tbody>\n",
       "</table>\n",
       "</div>"
      ],
      "text/plain": [
       "       irreversible Michaelis-Menten  irrev. Michaelis-Menten with bias  \\\n",
       "S_0                            53.80                              47.86   \n",
       "v_max                          13.65                              11.72   \n",
       "K_M                             5.00                               0.10   \n",
       "bias                            0.00                               5.47   \n",
       "v_0                              NaN                                NaN   \n",
       "a                                NaN                                NaN   \n",
       "K_s                              NaN                                NaN   \n",
       "K_i                              NaN                                NaN   \n",
       "\n",
       "       irrev. Michaelis-Menten with lag  \\\n",
       "S_0                               49.53   \n",
       "v_max                             30.94   \n",
       "K_M                               26.20   \n",
       "bias                               0.00   \n",
       "v_0                                0.00   \n",
       "a                                 44.64   \n",
       "K_s                                 NaN   \n",
       "K_i                                 NaN   \n",
       "\n",
       "       irrev. Michaelis-Menten with lag and bias  \\\n",
       "S_0                                        44.84   \n",
       "v_max                                      14.69   \n",
       "K_M                                         2.50   \n",
       "bias                                        5.05   \n",
       "v_0                                         0.00   \n",
       "a                                          88.44   \n",
       "K_s                                          NaN   \n",
       "K_i                                          NaN   \n",
       "\n",
       "       irrev. Michaelis-Menten with 2 substrates  \n",
       "S_0                                        46.09  \n",
       "v_max                                      13.33  \n",
       "K_M                                          NaN  \n",
       "bias                                        3.91  \n",
       "v_0                                         0.00  \n",
       "a                                          99.64  \n",
       "K_s                                         0.00  \n",
       "K_i                                       509.38  "
      ]
     },
     "execution_count": 22,
     "metadata": {},
     "output_type": "execute_result"
    }
   ],
   "source": [
    "models_dataframe_concentration2 = round(models_dataframe/epsilon*1000,2)\n",
    "models_dataframe_concentration2"
   ]
  },
  {
   "cell_type": "markdown",
   "id": "bc2ce88e",
   "metadata": {},
   "source": [
    "## Upload to DaRUS <a class=\"anchor\" name=\"Upload\"></a>\n",
    "Finally, the EnzymeML document is published on DaRUS.   \n",
    "In order to publish a dataset to DaRUS you need an API Token.  \n",
    "If you want to publish set the `publish` variable to `True`. Then you will be asked for your API Token."
   ]
  },
  {
   "cell_type": "code",
   "execution_count": 23,
   "id": "7ee14ff8",
   "metadata": {},
   "outputs": [],
   "source": [
    "publish = True"
   ]
  },
  {
   "cell_type": "code",
   "execution_count": 24,
   "id": "b69327de",
   "metadata": {},
   "outputs": [
    {
     "name": "stdin",
     "output_type": "stream",
     "text": [
      "Please enter the API Token:  a5470760-b16e-4b30-b67b-95c3de27cefc\n"
     ]
    },
    {
     "name": "stdout",
     "output_type": "stream",
     "text": [
      "dataset uploaded to dataverse\n"
     ]
    }
   ],
   "source": [
    "if publish:\n",
    "    API_Token = input(\"Please enter the API Token: \")\n",
    "    dataverse_name = 'enzymeml_at_work'\n",
    "    base_url = 'https://darus.uni-stuttgart.de'\n",
    "    endpoint_upload = f\"{apiURL}/upload/dataverse?dataverse_name={dataverse_name}&api_token={API_Token}&base_url={base_url}\"\n",
    "    payload={}\n",
    "    files=[('omex_archive',(omexName,open(path,'rb'),'application/octet-stream'))]\n",
    "    headers={}\n",
    "    response = requests.request(\"POST\", endpoint_upload, headers=headers, data=payload, files=files)\n",
    "    if response.status_code==200:\n",
    "        print('dataset uploaded to dataverse')"
   ]
  },
  {
   "cell_type": "code",
   "execution_count": null,
   "id": "ba5e44a6-3948-445e-b898-8e0516edf7b5",
   "metadata": {},
   "outputs": [],
   "source": []
  }
 ],
 "metadata": {
  "interpreter": {
   "hash": "7c2992e9c105260cd776f00ce82eab482c82c43a5dc8a92fbccdfab19b1b40a5"
  },
  "kernelspec": {
   "display_name": "enzymeml",
   "language": "python",
   "name": "enzymeml"
  },
  "language_info": {
   "codemirror_mode": {
    "name": "ipython",
    "version": 3
   },
   "file_extension": ".py",
   "mimetype": "text/x-python",
   "name": "python",
   "nbconvert_exporter": "python",
   "pygments_lexer": "ipython3",
   "version": "3.9.10"
  }
 },
 "nbformat": 4,
 "nbformat_minor": 5
}
