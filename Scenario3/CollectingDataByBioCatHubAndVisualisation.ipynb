{
 "cells": [
  {
   "cell_type": "markdown",
   "metadata": {},
   "source": [
    "# Scenario 3: Collecting data by BioCatHub and visualisation\n",
    "Dataset provided by Jan Spöring (Institute of Bio- and Geosciences 1, Forschungszentrum Jülich, 52428 Jülich, Germany)  \n",
    "  \n",
    "This Jupyter Notebook accompanies the third scenario of the paper: EnzymeML at work: seamless data flow and modelling of enzymatic data.  \n",
    "In this scenario the dataset was created with [BioCatHub](https://biocathub.net), now the time-course data is visualised in this Jupyter Notebook."
   ]
  },
  {
   "cell_type": "markdown",
   "metadata": {},
   "source": [
    "## Imports <a class=\"anchor\" name=\"Imports\"></a>\n",
    "All necessary Python packages are installed and imported.  \n",
    "If you run this notebook with Binder you don't have to install anything, Binder takes care of this.  \n",
    "In order to run on google Colaboratory (Colab), PyEnzyme will be installed and the dataset is loaded from GitHub. This is done in the first Code Cell.  \n",
    "To run the notebook on Colab click on the badge:  \n",
    "[![Colab](https://colab.research.google.com/assets/colab-badge.svg)](https://colab.research.google.com/github/EnzymeML/Lauterbach_2021/blob/main/Scenario3/CollectingDataByBioCatHubAndVisualisation.ipynb)  \n",
    "If you run this notebook local make sure you have all Packages installed and the dataset in the same directory as the notebook."
   ]
  },
  {
   "cell_type": "code",
   "execution_count": 1,
   "metadata": {},
   "outputs": [
    {
     "name": "stdout",
     "output_type": "stream",
     "text": [
      "Not running on Colab.\n"
     ]
    }
   ],
   "source": [
    "if 'google.colab' in str(get_ipython()):\n",
    "    !pip install git+git://github.com/EnzymeML/PyEnzyme.git@feature/experiment-class\n",
    "    !wget https://github.com/EnzymeML/Lauterbach_2021/raw/main/Scenario3/PropioinSynthesis_Spoering.omex\n",
    "else:\n",
    "    print('Not running on Colab.')"
   ]
  },
  {
   "cell_type": "code",
   "execution_count": 2,
   "metadata": {},
   "outputs": [],
   "source": [
    "import os\n",
    "import matplotlib.pyplot as plt\n",
    "\n",
    "from pyenzyme import EnzymeMLDocument"
   ]
  },
  {
   "cell_type": "markdown",
   "metadata": {},
   "source": [
    "## Reading EnzymeML with PyEnzyme software <a class=\"anchor\" name=\"ReadingEnzymeML\"></a>\n",
    "In order to read the EnzymeML document and access its content with the PyEnzyme software the file path is defined.  \n",
    "When running the next code cell the EnzymeML document is saved in the `enzmlDoc` variable and an overview is printed below."
   ]
  },
  {
   "cell_type": "code",
   "execution_count": 3,
   "metadata": {},
   "outputs": [
    {
     "data": {
      "text/plain": [
       "PropioinSynthesis_Spoering\n",
       ">>> Reactants\n",
       "\tID: s0 \t Name: Propanal\n",
       "\tID: s1 \t Name: Propioin\n",
       ">>> Proteins\n",
       "\tID: p0 \t Name: Benzoin Aldolase\n",
       ">>> Complexes\n",
       ">>> Reactions\n",
       "\tID: r0 \t Name: Propioin synthesis"
      ]
     },
     "execution_count": 3,
     "metadata": {},
     "output_type": "execute_result"
    }
   ],
   "source": [
    "path = 'PropioinSynthesis_Spoering.omex'\n",
    "\n",
    "# check for correct file path and file extension:\n",
    "if os.path.isfile(path) and os.path.basename(path).lower().endswith('.omex'):\n",
    "    enzmlDoc = EnzymeMLDocument.fromFile(path)\n",
    "else:\n",
    "    raise FileNotFoundError(\n",
    "        f'Couldnt find file at {path}.'\n",
    "    )\n",
    "\n",
    "enzmlDoc"
   ]
  },
  {
   "cell_type": "markdown",
   "metadata": {},
   "source": [
    "The overview shows which reactant corresponds to which id.  \n",
    "Each measurement consists of 2 reactants and one protein (p0).\n",
    "In this case only 1 measurement was conducted and is examined in the next output."
   ]
  },
  {
   "cell_type": "code",
   "execution_count": 4,
   "metadata": {},
   "outputs": [
    {
     "name": "stdout",
     "output_type": "stream",
     "text": [
      ">>> Measurement m0: Propioin synthesis 1\n",
      "    s0 | initial conc: 200.0 mmole / l \t| #replicates: 0\n",
      "    s1 | initial conc: 0.0 mmole / l \t| #replicates: 3\n",
      "    p0 | initial conc: 30.0 mg / ml \t| #replicates: 0\n"
     ]
    }
   ],
   "source": [
    "# Fetch the measurement ans inspect the scheme\n",
    "measurement = enzmlDoc.getMeasurement('m0')\n",
    "measurement.printMeasurementScheme()"
   ]
  },
  {
   "cell_type": "markdown",
   "metadata": {},
   "source": [
    "The overview of the measurement shows that the product propioin has 3 replicates."
   ]
  },
  {
   "cell_type": "markdown",
   "metadata": {},
   "source": [
    "## Data preparation <a class=\"anchor\" name=\"DataPreparation\"></a>\n",
    "In this scenario we are only interested in the visualisation of the time-course data for propioin. To extract the relevant data the inbuilt function `exportData` for the measurement is used. It returns a dictionary with initial concentrations and the time-course data stored in a pandas dataframe, which can be use for a simple visualisation."
   ]
  },
  {
   "cell_type": "code",
   "execution_count": 5,
   "metadata": {},
   "outputs": [
    {
     "data": {
      "text/html": [
       "<div>\n",
       "<style scoped>\n",
       "    .dataframe tbody tr th:only-of-type {\n",
       "        vertical-align: middle;\n",
       "    }\n",
       "\n",
       "    .dataframe tbody tr th {\n",
       "        vertical-align: top;\n",
       "    }\n",
       "\n",
       "    .dataframe thead th {\n",
       "        text-align: right;\n",
       "    }\n",
       "</style>\n",
       "<table border=\"1\" class=\"dataframe\">\n",
       "  <thead>\n",
       "    <tr style=\"text-align: right;\">\n",
       "      <th></th>\n",
       "      <th>prod1_repl1/s1/mmole / l</th>\n",
       "      <th>prod1_repl2/s1/mmole / l</th>\n",
       "      <th>prod1_repl3/s1/mmole / l</th>\n",
       "    </tr>\n",
       "    <tr>\n",
       "      <th>time/s</th>\n",
       "      <th></th>\n",
       "      <th></th>\n",
       "      <th></th>\n",
       "    </tr>\n",
       "  </thead>\n",
       "  <tbody>\n",
       "    <tr>\n",
       "      <th>15.0</th>\n",
       "      <td>63.784611</td>\n",
       "      <td>66.106679</td>\n",
       "      <td>67.447746</td>\n",
       "    </tr>\n",
       "    <tr>\n",
       "      <th>30.0</th>\n",
       "      <td>77.957073</td>\n",
       "      <td>80.538850</td>\n",
       "      <td>81.174757</td>\n",
       "    </tr>\n",
       "    <tr>\n",
       "      <th>60.0</th>\n",
       "      <td>80.241658</td>\n",
       "      <td>85.079882</td>\n",
       "      <td>88.266513</td>\n",
       "    </tr>\n",
       "    <tr>\n",
       "      <th>120.0</th>\n",
       "      <td>81.314628</td>\n",
       "      <td>90.150488</td>\n",
       "      <td>85.021530</td>\n",
       "    </tr>\n",
       "  </tbody>\n",
       "</table>\n",
       "</div>"
      ],
      "text/plain": [
       "        prod1_repl1/s1/mmole / l  prod1_repl2/s1/mmole / l  \\\n",
       "time/s                                                       \n",
       "15.0                   63.784611                 66.106679   \n",
       "30.0                   77.957073                 80.538850   \n",
       "60.0                   80.241658                 85.079882   \n",
       "120.0                  81.314628                 90.150488   \n",
       "\n",
       "        prod1_repl3/s1/mmole / l  \n",
       "time/s                            \n",
       "15.0                   67.447746  \n",
       "30.0                   81.174757  \n",
       "60.0                   88.266513  \n",
       "120.0                  85.021530  "
      ]
     },
     "execution_count": 5,
     "metadata": {},
     "output_type": "execute_result"
    }
   ],
   "source": [
    "# get reaction name for the title of the visualisation\n",
    "reaction_name = enzmlDoc.getReaction('r0').name\n",
    "\n",
    "# get time-course data and prepare it for visualisation\n",
    "measurementDict = measurement.exportData()\n",
    "time_course_data = measurementDict['reactants']['data']\n",
    "time_course_data = time_course_data.set_index(time_course_data.columns[0])\n",
    "time_course_data"
   ]
  },
  {
   "cell_type": "markdown",
   "metadata": {},
   "source": [
    "## Visualisation of time-course data <a class=\"anchor\" name=\"Visualisation\"></a>\n",
    "The plot shows the synthesis of propioin from propanal. The initial concentration of propanal was 200 mM and two propanal form one propioin. Not all propanal was converted.  \n",
    "In order to save the figure as svg uncomment the `plt.savefig(...)` code line."
   ]
  },
  {
   "cell_type": "code",
   "execution_count": 6,
   "metadata": {},
   "outputs": [
    {
     "data": {
      "image/png": "[encoded data removed]",
      "text/plain": [
       "<Figure size 432x288 with 1 Axes>"
      ]
     },
     "metadata": {
      "needs_background": "light"
     },
     "output_type": "display_data"
    }
   ],
   "source": [
    "plt.figure()\n",
    "ax = plt.subplot()\n",
    "ax.plot(time_course_data, 'o', ms=3, color='#377eb8')\n",
    "plt.title(reaction_name)\n",
    "ax.set_xlabel('time [min]')\n",
    "ax.set_ylabel('concentration [mM]')\n",
    "ax.set_ylim(ymax = 100)\n",
    "# save as svg\n",
    "#plt.savefig('time-course.svg', bbox_inches='tight')\n",
    "plt.show()"
   ]
  },
  {
   "cell_type": "markdown",
   "metadata": {},
   "source": [
    "## Upload to DaRUS <a class=\"anchor\" name=\"Upload\"></a>\n",
    "Finally, the EnzymeML document is published on DaRUS and written to your current directory.     \n",
    "In order to publish a dataset to DaRUS you need an API Token.  \n",
    "If you want to publish set the `publish` variable to `True`. Then you will be asked for your API Token."
   ]
  },
  {
   "cell_type": "code",
   "execution_count": 7,
   "metadata": {},
   "outputs": [],
   "source": [
    "publish = False"
   ]
  },
  {
   "cell_type": "code",
   "execution_count": 8,
   "metadata": {},
   "outputs": [],
   "source": [
    "if publish:\n",
    "    os.environ[\"DATAVERSE_URL\"] = \"https://darus.uni-stuttgart.de\"\n",
    "    os.environ[\"DATAVERSE_API_TOKEN\"] = input('Enter API Token')\n",
    "    enzmlDoc.uploadToDataverse(dataverseName=\"enzymeml_at_work\")"
   ]
  }
 ],
 "metadata": {
  "interpreter": {
   "hash": "7c2992e9c105260cd776f00ce82eab482c82c43a5dc8a92fbccdfab19b1b40a5"
  },
  "kernelspec": {
   "display_name": "enzymeml",
   "language": "python",
   "name": "enzymeml"
  },
  "language_info": {
   "codemirror_mode": {
    "name": "ipython",
    "version": 3
   },
   "file_extension": ".py",
   "mimetype": "text/x-python",
   "name": "python",
   "nbconvert_exporter": "python",
   "pygments_lexer": "ipython3",
   "version": "3.9.7"
  }
 },
 "nbformat": 4,
 "nbformat_minor": 4
}
