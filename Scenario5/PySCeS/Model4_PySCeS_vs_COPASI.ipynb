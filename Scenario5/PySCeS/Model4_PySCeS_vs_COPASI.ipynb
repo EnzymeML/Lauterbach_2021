{
 "cells": [
  {
   "cell_type": "markdown",
   "id": "67d1ee98-ca30-46d8-88ed-5d316b59d3f2",
   "metadata": {},
   "source": [
    "# Modeling a reaction by mass action cascades\n",
    "\n",
    "This notebook is part of the publication \"EnzymeML at Work\" from Lauterbach et al. 2022 and compares the fitting of a micro-kinetic model (specified in an EnzymeML document) to experimental data (specified in the same EnzymeML document). \n",
    "\n",
    "Generation of the EnzymeML document and individual fitting of the data with either PySCeS or COPASI have been dealt with in separate notebooks."
   ]
  },
  {
   "cell_type": "markdown",
   "id": "f45601f8-ff59-4715-b6dd-c2642715fb09",
   "metadata": {},
   "source": [
    "-----\n",
    "## Comparison of modelling with PySCeS and COPASI\n",
    "\n",
    "Now that the EnzymeMLDocument has been adapted to the micro-kinetic model, it can be modeled and optimized using PySCeS and COPASI. Since both modeling package interfaces are an integral part of PyEnzyme, called Thin Layer, a simple call to the corresponding Thin Layer object is necessary.\n",
    "\n",
    "But before optimization, it might be necessary to define initial values. Since manipulating the KineticParameter initial_values attributes inside the script that generates the EnzymeMLDocument can get quite tedious, PyEnzyme offers an external data structure from within initial values can be applied. This way, the EnzymeML document is only modifed at optimization and remains untouched until then.\n",
    "\n",
    "The initialization file is in the YAML format and contains all reactions and their parameters. "
   ]
  },
  {
   "cell_type": "code",
   "execution_count": 1,
   "id": "f82829a1-6c2c-4f33-b094-810e7a27ffe0",
   "metadata": {},
   "outputs": [],
   "source": [
    "# Load the EnzymeML Document from file\n",
    "from pyenzyme import EnzymeMLDocument\n",
    "\n",
    "enzmldoc = EnzymeMLDocument.fromFile(\"Model_4.omex\")"
   ]
  },
  {
   "cell_type": "markdown",
   "id": "3cae4360",
   "metadata": {},
   "source": [
    "### Modelling with the PySCeS thin layer"
   ]
  },
  {
   "cell_type": "markdown",
   "id": "f625b947",
   "metadata": {},
   "source": [
    "Thin Layers require to follow a given metaclass and thus the syntax of every modeling layer follows the Initialization > ```optimize```-method > ```write```-method procedure. "
   ]
  },
  {
   "cell_type": "code",
   "execution_count": 2,
   "id": "e2b93f38-9472-44fd-8878-39366ef559cc",
   "metadata": {},
   "outputs": [],
   "source": [
    "from pyenzyme.thinlayers import ThinLayerPysces"
   ]
  },
  {
   "cell_type": "code",
   "execution_count": 3,
   "id": "54d98d8d",
   "metadata": {},
   "outputs": [
    {
     "name": "stdout",
     "output_type": "stream",
     "text": [
      "Check SBML support is at action level 2\n",
      "SBML file is L3V2\n",
      "\n",
      "\n",
      "\n",
      "*********ERRORS***********\n",
      "\n",
      "WARNING: Model is encoded as SBML Level 3, PySCeS only officially supports L2V5.\n",
      "\n",
      "*********ERRORS***********\n",
      "\n",
      "\n",
      "Possible errors detected in SBML conversion, Model may be incomplete. Please check the error log file \"EnzymeML_Lagerman.xml-sbml_conversion_errors.txt\" for details.\n",
      "\n",
      "\n",
      "*******************************************************************\n",
      "Issues encountered in SBML translation (model processed anyway)\n",
      "SBML source: pySCeS/EnzymeML_Lagerman.xml\n",
      "*******************************************************************\n",
      "\n",
      "Parameter units ignored for parameters:\n",
      "['v_r', 'K_si', 'K_n'] \n",
      "\n",
      "Parameter units ignored for (local) parameters:\n",
      "['K_s', 'k_2', 'k_6', 'k_3', 'K_pg', 'k_5', 'k_4', 'k_4b', 'K_p', 'k_d'] \n",
      "\n",
      "*******************************************************************\n",
      "\n",
      "Info: single compartment model: locating \"r0\" in default compartment\n",
      "Info: single compartment model: locating \"r1\" in default compartment\n",
      "Info: single compartment model: locating \"r2\" in default compartment\n",
      "Info: single compartment model: locating \"r3\" in default compartment\n",
      "Info: single compartment model: locating \"r4\" in default compartment\n",
      "Info: single compartment model: locating \"r5\" in default compartment\n",
      "Info: single compartment model: locating \"r6\" in default compartment\n",
      "Info: single compartment model: locating \"r7\" in default compartment\n",
      "Info: single compartment model: locating \"r8\" in default compartment\n",
      "Info: single compartment model: locating \"r9\" in default compartment\n",
      "Info: single compartment model: locating \"r10\" in default compartment\n",
      "Info: single compartment model: locating \"r11\" in default compartment\n",
      "Info: single compartment model: locating \"r12\" in default compartment\n",
      "Writing file: pySCeS/EnzymeML_Lagerman.xml.psc\n",
      "\n",
      "SBML2PSC\n",
      "in : pySCeS/EnzymeML_Lagerman.xml\n",
      "out: pySCeS/EnzymeML_Lagerman.xml.psc\n",
      "Assuming extension is .psc\n",
      "Using model directory: pySCeS\n",
      "pySCeS/EnzymeML_Lagerman.xml.psc loading ..... \n",
      "Parsing file: pySCeS/EnzymeML_Lagerman.xml.psc\n",
      "Info: No reagents have been fixed\n",
      " \n",
      "Calculating L matrix . . . . . . .  done.\n",
      "Calculating K matrix . . . . . . . . .  done.\n",
      " \n"
     ]
    }
   ],
   "source": [
    "# Initialize the layer\n",
    "tl_pysces = ThinLayerPysces(\n",
    "    \"Model_4.omex\", \n",
    "    init_file=\"EnzymeML_Lagerman_init_values_.yaml\",\n",
    "    model_dir=\"pySCeS\"\n",
    ")"
   ]
  },
  {
   "cell_type": "code",
   "execution_count": 4,
   "id": "613fb297-7699-4771-9681-2274391e6acd",
   "metadata": {},
   "outputs": [
    {
     "name": "stdout",
     "output_type": "stream",
     "text": [
      "\n",
      "Archive was written to ./EnzymeML_Lagerman_M4_PySCeS_Modeled.omex\n",
      "\n"
     ]
    }
   ],
   "source": [
    "# Run optimization\n",
    "tl_pysces.model.mode_integrator='CVODE'\n",
    "tl_opt = tl_pysces.optimize(method=\"least_squares\")\n",
    "\n",
    "# Write to new EnzymeMLDocument and save\n",
    "pysces_doc = tl_pysces.write()\n",
    "pysces_doc.toFile(\".\", name=\"EnzymeML_Lagerman_M4_PySCeS_Modeled\")"
   ]
  },
  {
   "cell_type": "markdown",
   "id": "b9ebcbfe-49ac-4a08-a25f-43b224d415d1",
   "metadata": {},
   "source": [
    "### Modelling with the COPASI thin layer\n",
    "\n",
    "In the same manner the COPASI Thin Layer can be used to model the given data. \n",
    "\n",
    "The COPASI optimization is set up to use the same initial values and the same fitting algorithm that was used with PySCeS, to allow an easy comparison."
   ]
  },
  {
   "cell_type": "code",
   "execution_count": 5,
   "id": "c7af9494",
   "metadata": {},
   "outputs": [],
   "source": [
    "from basico import set_current_model, set_task_settings, T, PE\n",
    "from pyenzyme.thinlayers import ThinLayerCopasi"
   ]
  },
  {
   "cell_type": "code",
   "execution_count": 6,
   "id": "55947a44",
   "metadata": {},
   "outputs": [],
   "source": [
    "# Initialize COPASI Thin Layer\n",
    "tl_copasi = ThinLayerCopasi(\n",
    "    \"Model_4.omex\", \"COPASI\",\n",
    "    init_file=\"EnzymeML_Lagerman_init_values_.yaml\"\n",
    ")\n",
    "\n",
    "set_current_model(tl_copasi.dm)\n",
    "set_task_settings(T.PARAMETER_ESTIMATION, \n",
    "                  {\n",
    "                      'scheduled': True,\n",
    "                      'problem': {'Randomize Start Values': False},\n",
    "                      'method': {'name': PE.LEVENBERG_MARQUARDT}\n",
    "                  })\n",
    "\n",
    "tl_copasi.optimize()"
   ]
  },
  {
   "cell_type": "code",
   "execution_count": 7,
   "id": "8b7912ba-d8c8-4dc8-98da-9f04fd654c51",
   "metadata": {},
   "outputs": [
    {
     "name": "stderr",
     "output_type": "stream",
     "text": [
      "DEBUG:pyenzyme.thinlayers.TL_Copasi:OBJ: 504.10317547262457\n",
      "DEBUG:pyenzyme.thinlayers.TL_Copasi:RMS: 1.2551184897657877\n",
      "DEBUG:pyenzyme:KineticParameter 'K_si' - value was set from '6.346729249' to '6.3097521949280955'\n",
      "DEBUG:pyenzyme:KineticParameter 'K_n' - value was set from '11.00542741' to '10.993443343422388'\n",
      "DEBUG:pyenzyme:KineticParameter 'K_s' - value was set from '5.676255758' to '5.66994298385956'\n",
      "DEBUG:pyenzyme:KineticParameter 'k_2' - value was set from '652085.5139' to '651689.4527365268'\n",
      "DEBUG:pyenzyme:KineticParameter 'k_6' - value was set from '393169.3931' to '392326.3186840926'\n",
      "DEBUG:pyenzyme:KineticParameter 'k_3' - value was set from '8.93817854' to '8.745658858174288'\n",
      "DEBUG:pyenzyme:KineticParameter 'K_pg' - value was set from '47.34446037' to '48.70176101767321'\n",
      "DEBUG:pyenzyme:KineticParameter 'k_5' - value was set from '672295.823' to '669178.187376541'\n",
      "DEBUG:pyenzyme:KineticParameter 'k_4' - value was set from '1870570.524' to '1866816.714995926'\n",
      "DEBUG:pyenzyme:KineticParameter 'k_4b' - value was set from '42451.1374' to '42535.299888778245'\n",
      "DEBUG:pyenzyme:KineticParameter 'K_p' - value was set from '0.9433184993' to '0.9339814111652149'\n",
      "DEBUG:pyenzyme:KineticParameter 'k_d' - value was set from '0.5149464784' to '0.5084181315133235'\n"
     ]
    },
    {
     "name": "stdout",
     "output_type": "stream",
     "text": [
      "\n",
      "Archive was written to ./EnzymeML_Lagerman_M4_COPASI_Modeled.omex\n",
      "\n"
     ]
    }
   ],
   "source": [
    "copasi_doc = tl_copasi.write()\n",
    "copasi_doc.toFile(\".\", name=\"EnzymeML_Lagerman_M4_COPASI_Modeled\")"
   ]
  },
  {
   "cell_type": "markdown",
   "id": "7e30aaf0",
   "metadata": {},
   "source": [
    "### Comparison of results"
   ]
  },
  {
   "cell_type": "markdown",
   "id": "4044daf5-9943-44c8-9b4f-6ae2cac6b095",
   "metadata": {},
   "source": [
    "Both results can now be compared by individually exporting the estimated parameters using the ```exportKineticParameters```-method found in the ```EnzymeMLDocument``` instance that returns a Pandas ```DataFrame``` object. Finally, for the sake of comparison, both result are merged into a single ```DataFrame```."
   ]
  },
  {
   "cell_type": "code",
   "execution_count": 8,
   "id": "0b2f1508-7625-4642-a3b0-c48a4c412cc3",
   "metadata": {},
   "outputs": [
    {
     "data": {
      "text/html": [
       "<div>\n",
       "<style scoped>\n",
       "    .dataframe tbody tr th:only-of-type {\n",
       "        vertical-align: middle;\n",
       "    }\n",
       "\n",
       "    .dataframe tbody tr th {\n",
       "        vertical-align: top;\n",
       "    }\n",
       "\n",
       "    .dataframe thead th {\n",
       "        text-align: right;\n",
       "    }\n",
       "</style>\n",
       "<table border=\"1\" class=\"dataframe\">\n",
       "  <thead>\n",
       "    <tr style=\"text-align: right;\">\n",
       "      <th></th>\n",
       "      <th>name</th>\n",
       "      <th>PySCeS</th>\n",
       "      <th>COPASI</th>\n",
       "      <th>unit</th>\n",
       "    </tr>\n",
       "    <tr>\n",
       "      <th>reaction</th>\n",
       "      <th></th>\n",
       "      <th></th>\n",
       "      <th></th>\n",
       "      <th></th>\n",
       "    </tr>\n",
       "  </thead>\n",
       "  <tbody>\n",
       "    <tr>\n",
       "      <th>r1</th>\n",
       "      <td>K_s</td>\n",
       "      <td>5.129503e+00</td>\n",
       "      <td>5.669943e+00</td>\n",
       "      <td>mmole / l</td>\n",
       "    </tr>\n",
       "    <tr>\n",
       "      <th>r2</th>\n",
       "      <td>k_2</td>\n",
       "      <td>5.694527e+05</td>\n",
       "      <td>6.516895e+05</td>\n",
       "      <td>1 / min</td>\n",
       "    </tr>\n",
       "    <tr>\n",
       "      <th>r5</th>\n",
       "      <td>k_6</td>\n",
       "      <td>2.495553e+05</td>\n",
       "      <td>3.923263e+05</td>\n",
       "      <td>1 / min</td>\n",
       "    </tr>\n",
       "    <tr>\n",
       "      <th>r6</th>\n",
       "      <td>k_3</td>\n",
       "      <td>1.589958e+01</td>\n",
       "      <td>8.745659e+00</td>\n",
       "      <td>1 / min</td>\n",
       "    </tr>\n",
       "    <tr>\n",
       "      <th>r7</th>\n",
       "      <td>K_pg</td>\n",
       "      <td>1.299523e+02</td>\n",
       "      <td>4.870176e+01</td>\n",
       "      <td>mmole / l</td>\n",
       "    </tr>\n",
       "    <tr>\n",
       "      <th>r9</th>\n",
       "      <td>k_5</td>\n",
       "      <td>8.846055e+05</td>\n",
       "      <td>6.691782e+05</td>\n",
       "      <td>1 / min</td>\n",
       "    </tr>\n",
       "    <tr>\n",
       "      <th>r10</th>\n",
       "      <td>k_4</td>\n",
       "      <td>1.577461e+06</td>\n",
       "      <td>1.866817e+06</td>\n",
       "      <td>1 / min</td>\n",
       "    </tr>\n",
       "    <tr>\n",
       "      <th>r10</th>\n",
       "      <td>k_4b</td>\n",
       "      <td>3.680255e+04</td>\n",
       "      <td>4.253530e+04</td>\n",
       "      <td>1 / min</td>\n",
       "    </tr>\n",
       "    <tr>\n",
       "      <th>r11</th>\n",
       "      <td>K_p</td>\n",
       "      <td>1.295747e+00</td>\n",
       "      <td>9.339814e-01</td>\n",
       "      <td>mmole / l</td>\n",
       "    </tr>\n",
       "    <tr>\n",
       "      <th>r12</th>\n",
       "      <td>k_d</td>\n",
       "      <td>3.292063e-01</td>\n",
       "      <td>5.084181e-01</td>\n",
       "      <td>1 / min</td>\n",
       "    </tr>\n",
       "    <tr>\n",
       "      <th>global</th>\n",
       "      <td>K_si</td>\n",
       "      <td>5.393373e+00</td>\n",
       "      <td>6.309752e+00</td>\n",
       "      <td>mmole / l</td>\n",
       "    </tr>\n",
       "    <tr>\n",
       "      <th>global</th>\n",
       "      <td>K_n</td>\n",
       "      <td>6.500495e+00</td>\n",
       "      <td>1.099344e+01</td>\n",
       "      <td>mmole / l</td>\n",
       "    </tr>\n",
       "  </tbody>\n",
       "</table>\n",
       "</div>"
      ],
      "text/plain": [
       "          name        PySCeS        COPASI       unit\n",
       "reaction                                             \n",
       "r1         K_s  5.129503e+00  5.669943e+00  mmole / l\n",
       "r2         k_2  5.694527e+05  6.516895e+05    1 / min\n",
       "r5         k_6  2.495553e+05  3.923263e+05    1 / min\n",
       "r6         k_3  1.589958e+01  8.745659e+00    1 / min\n",
       "r7        K_pg  1.299523e+02  4.870176e+01  mmole / l\n",
       "r9         k_5  8.846055e+05  6.691782e+05    1 / min\n",
       "r10        k_4  1.577461e+06  1.866817e+06    1 / min\n",
       "r10       k_4b  3.680255e+04  4.253530e+04    1 / min\n",
       "r11        K_p  1.295747e+00  9.339814e-01  mmole / l\n",
       "r12        k_d  3.292063e-01  5.084181e-01    1 / min\n",
       "global    K_si  5.393373e+00  6.309752e+00  mmole / l\n",
       "global     K_n  6.500495e+00  1.099344e+01  mmole / l"
      ]
     },
     "execution_count": 8,
     "metadata": {},
     "output_type": "execute_result"
    }
   ],
   "source": [
    "params = pysces_doc.exportKineticParameters(exclude_constant=True)\n",
    "params.rename({\"value\": \"PySCeS\"}, axis=\"columns\", inplace=True)\n",
    "params[\"COPASI\"] = copasi_doc.exportKineticParameters(exclude_constant=True).value\n",
    "\n",
    "params[[\"name\", \"PySCeS\", \"COPASI\", \"unit\"]]"
   ]
  },
  {
   "cell_type": "markdown",
   "id": "c57a2ba0-bf88-4ee8-91e5-92af06a6b703",
   "metadata": {},
   "source": [
    "-------"
   ]
  }
 ],
 "metadata": {
  "kernelspec": {
   "display_name": "Python 3 (ipykernel)",
   "language": "python",
   "name": "python3"
  },
  "language_info": {
   "codemirror_mode": {
    "name": "ipython",
    "version": 3
   },
   "file_extension": ".py",
   "mimetype": "text/x-python",
   "name": "python",
   "nbconvert_exporter": "python",
   "pygments_lexer": "ipython3",
   "version": "3.10.2"
  },
  "toc": {
   "base_numbering": 1,
   "nav_menu": {},
   "number_sections": true,
   "sideBar": true,
   "skip_h1_title": false,
   "title_cell": "Table of Contents",
   "title_sidebar": "Contents",
   "toc_cell": false,
   "toc_position": {},
   "toc_section_display": true,
   "toc_window_display": true
  }
 },
 "nbformat": 4,
 "nbformat_minor": 5
}
