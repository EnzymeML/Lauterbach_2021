{
 "cells": [
  {
   "cell_type": "markdown",
   "id": "67d1ee98-ca30-46d8-88ed-5d316b59d3f2",
   "metadata": {},
   "source": [
    "# Scenario 5: Comparison of modelling tools\n",
    "\n",
    "This notebook is part of the publication \"EnzymeML at Work\" from Lauterbach et al. 2022 and compares the fitting of a micro-kinetic model (specified in an EnzymeML document) to experimental data (specified in the same EnzymeML document). \n",
    "\n",
    "Generation of the EnzymeML document and individual fitting of the data with either PySCeS or COPASI have been dealt with in separate notebooks."
   ]
  },
  {
   "cell_type": "markdown",
   "id": "04ed1dc4",
   "metadata": {},
   "source": [
    "## Prerequisites\n",
    "\n",
    "For the kinetic modelling to work, you need to have `PyEnzyme`, `Basico` and `PySCeS` installed. This can be achieved with:\n",
    "\n",
    "```\n",
    "    !pip install copasi-basico\n",
    "    !pip install pysces\n",
    "    !pip install git+git://github.com/EnzymeML/PyEnzyme.git\n",
    "```\n",
    "\n",
    "This is **not needed** when running this notebook via **Binder**, as the environment is already set up.\n",
    "\n",
    "This notebook can be run in Google Colaboratory (Colab), in order to do this, click on the badge: \n",
    "[![Colab](https://colab.research.google.com/assets/colab-badge.svg)](https://colab.research.google.com/github/EnzymeML/Lauterbach_2022/blob/main/Scenario5/PySCeS/Model4_PySCeS_vs_COPASI.ipynb)  \n",
    "\n",
    "Once in Colab, execute the cell below. This will set up the computational environment, install\n",
    "PyEnzyme and load the dataset from GitHub."
   ]
  },
  {
   "cell_type": "code",
   "execution_count": null,
   "id": "44b91937",
   "metadata": {},
   "outputs": [],
   "source": [
    "conda_install_commands = \"\"\"\n",
    "pip uninstall -y click\n",
    "\n",
    "MINICONDA_INSTALLER_SCRIPT=Miniconda3-py37_4.11.0-Linux-x86_64.sh\n",
    "MINICONDA_PREFIX=/usr/local\n",
    "wget https://repo.anaconda.com/miniconda/$MINICONDA_INSTALLER_SCRIPT\n",
    "chmod +x $MINICONDA_INSTALLER_SCRIPT\n",
    "./$MINICONDA_INSTALLER_SCRIPT -b -f -p $MINICONDA_PREFIX\n",
    "conda install -c conda-forge conda python=3.7 -y\n",
    "conda update -y -n base -c conda-forge conda\n",
    "conda update -y -c conda-forge -n base --all\n",
    "conda install -y -c conda-forge -n base assimulo\n",
    "pip install pysces\n",
    "pip install lmfit\n",
    "pip install python-libsbml\n",
    "pip install python-libcombine\n",
    "pip install copasi-basico\n",
    "pip install git+https://github.com/EnzymeML/PyEnzyme.git\n",
    "\"\"\"\n",
    "\n",
    "def install_conda():\n",
    "    import subprocess\n",
    "    import sys, os\n",
    "    with open('install_conda.sh', 'w') as f:\n",
    "        f.write(conda_install_commands)\n",
    "    subprocess.run(['/bin/bash', './install_conda.sh'])\n",
    "    sys.path.append('/usr/local/lib/python3.7/site-packages')\n",
    "    os.environ['PYTHONPATH'] = ''\n",
    "\n",
    "if 'google.colab' in str(get_ipython()):\n",
    "    install_conda()\n",
    "    !wget https://github.com/EnzymeML/Lauterbach_2022/raw/main/Scenario5/PySCeS/EnzymeML_Lagerman.omex\n",
    "    !wget https://github.com/EnzymeML/Lauterbach_2022/raw/main/Scenario5/PySCeS/EnzymeML_Lagerman_init_values_.yaml\n",
    "else:\n",
    "    print('Not running on Colab.')"
   ]
  },
  {
   "cell_type": "markdown",
   "id": "965ef427",
   "metadata": {},
   "source": [
    "For the parameter estimation with PySCeS, the CVODE algorithm is needed; this is provided by **Assimulo**. If you are using the **Anaconda** Python Distribution (and when running this notebook via **Binder**), this can easily be achieved by uncommenting and running the following line of code. Alternatively, refer to the Assimulo documentation: https://jmodelica.org/assimulo/\n",
    "\n",
    "This is **not needed** for Google Colab, as the install script above already sets up the environment."
   ]
  },
  {
   "cell_type": "code",
   "execution_count": null,
   "id": "ef96c096",
   "metadata": {},
   "outputs": [],
   "source": [
    "# !conda install -y -c conda-forge assimulo"
   ]
  },
  {
   "cell_type": "markdown",
   "id": "f45601f8-ff59-4715-b6dd-c2642715fb09",
   "metadata": {},
   "source": [
    "-----\n",
    "## Comparison of modelling with PySCeS and COPASI\n",
    "\n",
    "In separate notebooks, the EnzymeMLDocument that had been adapted to the micro-kinetic model was previously modeled and optimized using PySCeS and COPASI. Since both modeling package interfaces are an integral part of PyEnzyme (linked via an interface called Thin Layer), a simple call to the corresponding Thin Layer object is necessary."
   ]
  },
  {
   "cell_type": "code",
   "execution_count": null,
   "id": "f82829a1-6c2c-4f33-b094-810e7a27ffe0",
   "metadata": {},
   "outputs": [],
   "source": [
    "# Load the EnzymeML Document from file\n",
    "from pyenzyme import EnzymeMLDocument\n",
    "\n",
    "enzmldoc = EnzymeMLDocument.fromFile(\"Model_4.omex\")"
   ]
  },
  {
   "cell_type": "markdown",
   "id": "3cae4360",
   "metadata": {},
   "source": [
    "### Modelling with the PySCeS thin layer"
   ]
  },
  {
   "cell_type": "markdown",
   "id": "f625b947",
   "metadata": {},
   "source": [
    "Thin Layers require to follow a given metaclass and thus the syntax of every modeling layer follows the Initialization > ```optimize```-method > ```write```-method procedure. "
   ]
  },
  {
   "cell_type": "code",
   "execution_count": null,
   "id": "e2b93f38-9472-44fd-8878-39366ef559cc",
   "metadata": {},
   "outputs": [],
   "source": [
    "from pyenzyme.thinlayers import ThinLayerPysces"
   ]
  },
  {
   "cell_type": "markdown",
   "id": "89c86d22",
   "metadata": {},
   "source": [
    "Before optimization, it might be necessary to define initial values. Since manipulating the KineticParameter initial_values attributes inside the script that generates the EnzymeMLDocument can get quite tedious, PyEnzyme offers an external data structure from within initial values can be applied. This way, the EnzymeML document is only modifed at optimization and remains untouched until then.\n",
    "\n",
    "The initialization file is in the YAML format and contains all reactions and their parameters together with the initial estimates for the parameter valuess. "
   ]
  },
  {
   "cell_type": "code",
   "execution_count": null,
   "id": "54d98d8d",
   "metadata": {},
   "outputs": [],
   "source": [
    "# Initialize the layer\n",
    "tl_pysces = ThinLayerPysces(\n",
    "    \"Model_4.omex\", \n",
    "    init_file=\"EnzymeML_Lagerman_init_values_.yaml\",\n",
    "    model_dir=\"pySCeS\"\n",
    ")"
   ]
  },
  {
   "cell_type": "code",
   "execution_count": null,
   "id": "613fb297-7699-4771-9681-2274391e6acd",
   "metadata": {},
   "outputs": [],
   "source": [
    "# Run optimization\n",
    "tl_pysces.model.mode_integrator='CVODE'\n",
    "tl_opt = tl_pysces.optimize(method=\"least_squares\")\n",
    "\n",
    "# Write to new EnzymeMLDocument and save\n",
    "pysces_doc = tl_pysces.write()\n",
    "pysces_doc.toFile(\".\", name=\"EnzymeML_Lagerman_M4_PySCeS_Modeled\")"
   ]
  },
  {
   "cell_type": "markdown",
   "id": "b9ebcbfe-49ac-4a08-a25f-43b224d415d1",
   "metadata": {},
   "source": [
    "### Modelling with the COPASI thin layer\n",
    "\n",
    "In the same manner the COPASI Thin Layer can be used to model the given data. \n",
    "\n",
    "The COPASI optimization is set up to use the same initial values and the same fitting algorithm that was used with PySCeS, to allow an easy comparison."
   ]
  },
  {
   "cell_type": "code",
   "execution_count": null,
   "id": "c7af9494",
   "metadata": {},
   "outputs": [],
   "source": [
    "from pyenzyme.thinlayers import ThinLayerCopasi"
   ]
  },
  {
   "cell_type": "code",
   "execution_count": null,
   "id": "55947a44",
   "metadata": {},
   "outputs": [],
   "source": [
    "# Initialize COPASI Thin Layer\n",
    "tl_copasi = ThinLayerCopasi(\n",
    "    \"Model_4.omex\", \"COPASI\",\n",
    "    init_file=\"EnzymeML_Lagerman_init_values_.yaml\"\n",
    ")\n",
    "\n",
    "tl_copasi.optimize()"
   ]
  },
  {
   "cell_type": "code",
   "execution_count": null,
   "id": "8b7912ba-d8c8-4dc8-98da-9f04fd654c51",
   "metadata": {},
   "outputs": [],
   "source": [
    "copasi_doc = tl_copasi.write()\n",
    "copasi_doc.toFile(\".\", name=\"EnzymeML_Lagerman_M4_COPASI_Modeled\")"
   ]
  },
  {
   "cell_type": "markdown",
   "id": "7e30aaf0",
   "metadata": {},
   "source": [
    "### Comparison of results"
   ]
  },
  {
   "cell_type": "markdown",
   "id": "4044daf5-9943-44c8-9b4f-6ae2cac6b095",
   "metadata": {},
   "source": [
    "Both results can now be compared by individually exporting the estimated parameters using the ```exportKineticParameters```-method found in the ```EnzymeMLDocument``` instance that returns a Pandas ```DataFrame``` object. Finally, for the sake of comparison, both result are merged into a single ```DataFrame```."
   ]
  },
  {
   "cell_type": "code",
   "execution_count": null,
   "id": "0b2f1508-7625-4642-a3b0-c48a4c412cc3",
   "metadata": {},
   "outputs": [],
   "source": [
    "params = pysces_doc.exportKineticParameters(exclude_constant=True)\n",
    "params.rename({\"value\": \"PySCeS\"}, axis=\"columns\", inplace=True)\n",
    "params[\"COPASI\"] = copasi_doc.exportKineticParameters(exclude_constant=True).value\n",
    "\n",
    "params[[\"name\", \"PySCeS\", \"COPASI\", \"unit\"]]"
   ]
  },
  {
   "cell_type": "markdown",
   "id": "c57a2ba0-bf88-4ee8-91e5-92af06a6b703",
   "metadata": {},
   "source": [
    "-------"
   ]
  }
 ],
 "metadata": {
  "kernelspec": {
   "display_name": "Python 3 (ipykernel)",
   "language": "python",
   "name": "python3"
  },
  "language_info": {
   "codemirror_mode": {
    "name": "ipython",
    "version": 3
   },
   "file_extension": ".py",
   "mimetype": "text/x-python",
   "name": "python",
   "nbconvert_exporter": "python",
   "pygments_lexer": "ipython3",
   "version": "3.10.2"
  },
  "toc": {
   "base_numbering": 1,
   "nav_menu": {},
   "number_sections": true,
   "sideBar": true,
   "skip_h1_title": false,
   "title_cell": "Table of Contents",
   "title_sidebar": "Contents",
   "toc_cell": false,
   "toc_position": {},
   "toc_section_display": true,
   "toc_window_display": true
  }
 },
 "nbformat": 4,
 "nbformat_minor": 5
}
