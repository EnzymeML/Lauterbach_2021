{
 "cells": [
  {
   "cell_type": "code",
   "execution_count": 1,
   "id": "9ebb6a0a-f0ea-49e5-ac7f-f3570b624bf8",
   "metadata": {
    "tags": []
   },
   "outputs": [],
   "source": [
    "import sys\n",
    "# !{sys.executable} -m pip install git+git://github.com/EnzymeML/PyEnzyme.git@Refactoring"
   ]
  },
  {
   "cell_type": "markdown",
   "id": "67d1ee98-ca30-46d8-88ed-5d316b59d3f2",
   "metadata": {},
   "source": [
    "# Modeling a reaction by mass action cascades\n",
    "\n",
    "This notebook is part of the publication \"EnzymeML at Work\" from Lauterbach et al. 2022 and compares the fitting of a micro-kinetic model (specified in an EnzymeML document) to experimental data (specified in the same EnzymeML document). \n",
    "\n",
    "Generation of the EnzymeML document and individual fitting of the data with either PySCeS or COPASI have been dealt with in separate notebooks."
   ]
  },
  {
   "cell_type": "markdown",
   "id": "f45601f8-ff59-4715-b6dd-c2642715fb09",
   "metadata": {},
   "source": [
    "-----\n",
    "## Kinetic Modeling\n",
    "\n",
    "Now that the EnzymeMLDocument has been adapted to the micro-kinetic model, it can be modeled and optimized using PySCeS and COPASI. Since both modeling package interfaces are an integral part of PyEnzyme, called Thin Layer, a simple call to the corresponding Thin Layer object is necessary.\n",
    "\n",
    "But before optimization, it might be necessary to define initial values. Since manipulating the KineticParameter initial_values attributes inside the script that generates the EnzymeMLDocument can get quite tedious, PyEnzyme offers an external data structure from within initial values can be applied. This way, the EnzymeML document is only modifed at optimization and remains untouched until then.\n",
    "\n",
    "The initialization file is in the YAML format and contains all reactions and their parameters. In addtion, PyEnzyme offers a method to generate such a YAML file, which can be edited manually."
   ]
  },
  {
   "cell_type": "code",
   "execution_count": 2,
   "id": "f82829a1-6c2c-4f33-b094-810e7a27ffe0",
   "metadata": {},
   "outputs": [],
   "source": [
    "# Generate a blank YAML file to manually enter initial values for modeling\n",
    "from pyenzyme import EnzymeMLDocument\n",
    "\n",
    "enzmldoc = EnzymeMLDocument.fromFile(\"Model_4.omex\")\n",
    "enzmldoc.generateInitialValueTemplate()"
   ]
  },
  {
   "cell_type": "code",
   "execution_count": 3,
   "id": "e2b93f38-9472-44fd-8878-39366ef559cc",
   "metadata": {},
   "outputs": [
    {
     "name": "stdout",
     "output_type": "stream",
     "text": [
      "Matplotlib backend set to: \"nbAgg\"\n",
      "Matplotlib interface loaded (pysces.plt.m)\n",
      "Pitcon routines available\n",
      "NLEQ2 routines available\n",
      "SBML support available\n",
      "You are using NumPy (1.21.2) with SciPy (1.7.0)\n",
      "RateChar is available\n",
      "\n",
      "No module named 'ipyparallel'\n",
      "INFO: Parallel scanner not available\n",
      "\n",
      "PySCeS environment\n",
      "******************\n",
      "pysces.model_dir = /Users/janrange/Pysces/psc\n",
      "pysces.output_dir = /Users/janrange/Pysces\n",
      "\n",
      "\n",
      "***********************************************************************\n",
      "* Welcome to PySCeS (1.0.1) - Python Simulator for Cellular Systems   *\n",
      "*                http://pysces.sourceforge.net                        *\n",
      "* Copyright(C) B.G. Olivier, J.M. Rohwer, J.-H.S. Hofmeyr, 2004-2022  *\n",
      "* Triple-J Group for Molecular Cell Physiology                        *\n",
      "* Stellenbosch University, ZA and VU University Amsterdam, NL         *\n",
      "* PySCeS is distributed under the PySCeS (BSD style) licence, see     *\n",
      "* LICENCE.txt (supplied with this release) for details                *\n",
      "* Please cite PySCeS with: doi:10.1093/bioinformatics/bti046          *\n",
      "***********************************************************************\n"
     ]
    }
   ],
   "source": [
    "from pyenzyme.thinlayers import ThinLayerPysces"
   ]
  },
  {
   "cell_type": "code",
   "execution_count": 4,
   "id": "54d98d8d",
   "metadata": {},
   "outputs": [
    {
     "name": "stdout",
     "output_type": "stream",
     "text": [
      "Check SBML support is at action level 2\n",
      "SBML file is L3V2\n",
      "\n",
      "\n",
      "\n",
      "*********ERRORS***********\n",
      "\n",
      "WARNING: Model is encoded as SBML Level 3, PySCeS only officially supports L2V5.\n",
      "\n",
      "*********ERRORS***********\n",
      "\n",
      "\n",
      "Possible errors detected in SBML conversion, Model may be incomplete. Please check the error log file \"EnzymeML_Lagerman.xml-sbml_conversion_errors.txt\" for details.\n",
      "\n",
      "\n",
      "*******************************************************************\n",
      "Issues encountered in SBML translation (model processed anyway)\n",
      "SBML source: pySCeS/EnzymeML_Lagerman.xml\n",
      "*******************************************************************\n",
      "\n",
      "Parameter units ignored for parameters:\n",
      "['K_si', 'K_n'] \n",
      "\n",
      "Parameter units ignored for (local) parameters:\n",
      "['v_r', 'K_s', 'k_2', 'k_6', 'k_3', 'K_pg', 'k_5', 'k_4', 'k_4b', 'K_p', 'k_d'] \n",
      "\n",
      "*******************************************************************\n",
      "\n",
      "Info: single compartment model: locating \"r0\" in default compartment\n",
      "Info: single compartment model: locating \"r1\" in default compartment\n",
      "Info: single compartment model: locating \"r2\" in default compartment\n",
      "Info: single compartment model: locating \"r3\" in default compartment\n",
      "Info: single compartment model: locating \"r4\" in default compartment\n",
      "Info: single compartment model: locating \"r5\" in default compartment\n",
      "Info: single compartment model: locating \"r6\" in default compartment\n",
      "Info: single compartment model: locating \"r7\" in default compartment\n",
      "Info: single compartment model: locating \"r8\" in default compartment\n",
      "Info: single compartment model: locating \"r9\" in default compartment\n",
      "Info: single compartment model: locating \"r10\" in default compartment\n",
      "Info: single compartment model: locating \"r11\" in default compartment\n",
      "Info: single compartment model: locating \"r12\" in default compartment\n",
      "Writing file: pySCeS/EnzymeML_Lagerman.xml.psc\n",
      "\n",
      "SBML2PSC\n",
      "in : pySCeS/EnzymeML_Lagerman.xml\n",
      "out: pySCeS/EnzymeML_Lagerman.xml.psc\n",
      "Assuming extension is .psc\n",
      "Using model directory: pySCeS\n",
      "pySCeS/EnzymeML_Lagerman.xml.psc loading ..... \n",
      "Parsing file: pySCeS/EnzymeML_Lagerman.xml.psc\n",
      "Info: No reagents have been fixed\n",
      " \n",
      "Calculating L matrix . . . . . . .  done.\n",
      "Calculating K matrix . . . . . . . . .  done.\n",
      " \n"
     ]
    }
   ],
   "source": [
    "# Initialize the layer\n",
    "tl_pysces = ThinLayerPysces(\n",
    "    \"Model_4.omex\", \n",
    "    init_file=\"EnzymeML_Lagerman_init_copasi.yaml\",\n",
    "    model_dir=\"pySCeS\"\n",
    ")"
   ]
  },
  {
   "cell_type": "code",
   "execution_count": 5,
   "id": "613fb297-7699-4771-9681-2274391e6acd",
   "metadata": {},
   "outputs": [
    {
     "name": "stdout",
     "output_type": "stream",
     "text": [
      "\n",
      "Archive was written to ./EnzymeML_Lagerman_M4_PySCeS_Modeled.omex\n",
      "\n"
     ]
    }
   ],
   "source": [
    "# Run optimization\n",
    "tl_pysces.model.__settings__[\"lsoda_mxstep\"] = 3000\n",
    "tl_pysces.optimize(method='least_squares')\n",
    "\n",
    "# Write to new EnzymeMLDocument and save\n",
    "pysces_doc = tl_pysces.write()\n",
    "pysces_doc.toFile(\".\", name=\"EnzymeML_Lagerman_M4_PySCeS_Modeled\")"
   ]
  },
  {
   "cell_type": "markdown",
   "id": "b9ebcbfe-49ac-4a08-a25f-43b224d415d1",
   "metadata": {},
   "source": [
    "## Using the COPASI thin layer\n",
    "\n",
    "In the same manner the COPASI Thin Layer can be used to model the given data. Thin Layers require to follow a given metaclass and thus the syntax of every modeling layer follows the Initialization > ```optimize```-method > ```write```-method procedure. \n",
    "\n",
    "The COPASI optimization is set up to use the same initial values and the same fitting algorithm that was used with PySCeS, to allow an easy comparison."
   ]
  },
  {
   "cell_type": "code",
   "execution_count": 6,
   "id": "c7af9494",
   "metadata": {},
   "outputs": [],
   "source": [
    "from basico import set_current_model, set_task_settings, T, PE\n",
    "from pyenzyme.thinlayers import ThinLayerCopasi"
   ]
  },
  {
   "cell_type": "code",
   "execution_count": 7,
   "id": "55947a44",
   "metadata": {},
   "outputs": [],
   "source": [
    "# Initialize COPASI Thin Layer\n",
    "tl_copasi = ThinLayerCopasi(\n",
    "    \"Model_4.omex\", \"COPASI\",\n",
    "    init_file=\"EnzymeML_Lagerman_init_copasi.yaml\"\n",
    ")\n",
    "\n",
    "set_current_model(tl_copasi.dm)\n",
    "set_task_settings(T.PARAMETER_ESTIMATION, \n",
    "                  {\n",
    "                      'scheduled': True,\n",
    "                      'problem': {'Randomize Start Values': False},\n",
    "                      'method': {'name': PE.LEVENBERG_MARQUARDT}\n",
    "                  })\n",
    "\n",
    "tl_copasi.optimize()"
   ]
  },
  {
   "cell_type": "code",
   "execution_count": 8,
   "id": "8b7912ba-d8c8-4dc8-98da-9f04fd654c51",
   "metadata": {},
   "outputs": [
    {
     "name": "stderr",
     "output_type": "stream",
     "text": [
      "DEBUG:pyenzyme:KineticParameter 'K_si' - value was set from '16.12556695' to '16.114987233151997'\n",
      "DEBUG:pyenzyme:KineticParameter 'K_n' - value was set from '14.16013538' to '14.168483907055077'\n",
      "DEBUG:pyenzyme:KineticParameter 'K_s' - value was set from '0.9517666749' to '0.9507535476900487'\n",
      "DEBUG:pyenzyme:KineticParameter 'k_2' - value was set from '32894.518' to '32862.95620531188'\n",
      "DEBUG:pyenzyme:KineticParameter 'k_6' - value was set from '1364.827977' to '1364.4033354617336'\n",
      "DEBUG:pyenzyme:KineticParameter 'k_3' - value was set from '999911.3271' to '999219.6373831154'\n",
      "DEBUG:pyenzyme:KineticParameter 'K_pg' - value was set from '163.4985656' to '163.46716926999855'\n",
      "DEBUG:pyenzyme:KineticParameter 'k_5' - value was set from '438.2508805' to '438.2888429562448'\n",
      "DEBUG:pyenzyme:KineticParameter 'k_4' - value was set from '13120.92495' to '13114.702442929261'\n",
      "DEBUG:pyenzyme:KineticParameter 'k_4b' - value was set from '572987.5006' to '572414.2215109317'\n",
      "DEBUG:pyenzyme:KineticParameter 'v_r' - value was set from '10000.0' to '9970.771396002263'\n",
      "DEBUG:pyenzyme:KineticParameter 'K_p' - value was set from '102.3138715' to '102.18118247102849'\n",
      "DEBUG:pyenzyme:KineticParameter 'k_d' - value was set from '0.3011902176' to '0.3009933934631488'\n"
     ]
    },
    {
     "name": "stdout",
     "output_type": "stream",
     "text": [
      "\n",
      "Archive was written to ./EnzymeML_Lagerman_M4_COPASI_Modeled.omex\n",
      "\n"
     ]
    }
   ],
   "source": [
    "copasi_doc = tl_copasi.write()\n",
    "copasi_doc.toFile(\".\", name=\"EnzymeML_Lagerman_M4_COPASI_Modeled\")"
   ]
  },
  {
   "cell_type": "markdown",
   "id": "4044daf5-9943-44c8-9b4f-6ae2cac6b095",
   "metadata": {},
   "source": [
    "Both results can now be compared by individually exporting the estimated parameters using the ```exportKineticParameters```-method found in the ```EnzymeMLDocument``` instance that returns a Pandas ```DataFrame``` object. Finally, for the sake of comparison, both result are merged in a single ```DataFrame```."
   ]
  },
  {
   "cell_type": "code",
   "execution_count": 9,
   "id": "0b2f1508-7625-4642-a3b0-c48a4c412cc3",
   "metadata": {},
   "outputs": [
    {
     "data": {
      "text/html": [
       "<div>\n",
       "<style scoped>\n",
       "    .dataframe tbody tr th:only-of-type {\n",
       "        vertical-align: middle;\n",
       "    }\n",
       "\n",
       "    .dataframe tbody tr th {\n",
       "        vertical-align: top;\n",
       "    }\n",
       "\n",
       "    .dataframe thead th {\n",
       "        text-align: right;\n",
       "    }\n",
       "</style>\n",
       "<table border=\"1\" class=\"dataframe\">\n",
       "  <thead>\n",
       "    <tr style=\"text-align: right;\">\n",
       "      <th></th>\n",
       "      <th>name</th>\n",
       "      <th>PySCeS</th>\n",
       "      <th>COPASI</th>\n",
       "      <th>unit</th>\n",
       "    </tr>\n",
       "    <tr>\n",
       "      <th>reaction</th>\n",
       "      <th></th>\n",
       "      <th></th>\n",
       "      <th></th>\n",
       "      <th></th>\n",
       "    </tr>\n",
       "  </thead>\n",
       "  <tbody>\n",
       "    <tr>\n",
       "      <th>r1</th>\n",
       "      <td>K_s</td>\n",
       "      <td>0.948655</td>\n",
       "      <td>0.950754</td>\n",
       "      <td>l / mmole</td>\n",
       "    </tr>\n",
       "    <tr>\n",
       "      <th>r2</th>\n",
       "      <td>k_2</td>\n",
       "      <td>30182.540153</td>\n",
       "      <td>32862.956205</td>\n",
       "      <td>1 / s</td>\n",
       "    </tr>\n",
       "    <tr>\n",
       "      <th>r5</th>\n",
       "      <td>k_6</td>\n",
       "      <td>1414.817976</td>\n",
       "      <td>1364.403335</td>\n",
       "      <td>1 / s</td>\n",
       "    </tr>\n",
       "    <tr>\n",
       "      <th>r6</th>\n",
       "      <td>k_3</td>\n",
       "      <td>999840.708222</td>\n",
       "      <td>999219.637383</td>\n",
       "      <td>1 / s</td>\n",
       "    </tr>\n",
       "    <tr>\n",
       "      <th>r7</th>\n",
       "      <td>K_pg</td>\n",
       "      <td>160.618723</td>\n",
       "      <td>163.467169</td>\n",
       "      <td>l / mmole</td>\n",
       "    </tr>\n",
       "    <tr>\n",
       "      <th>r9</th>\n",
       "      <td>k_5</td>\n",
       "      <td>439.674702</td>\n",
       "      <td>438.288843</td>\n",
       "      <td>1 / s</td>\n",
       "    </tr>\n",
       "    <tr>\n",
       "      <th>r10</th>\n",
       "      <td>k_4</td>\n",
       "      <td>13588.682715</td>\n",
       "      <td>13114.702443</td>\n",
       "      <td>1 / s</td>\n",
       "    </tr>\n",
       "    <tr>\n",
       "      <th>r10</th>\n",
       "      <td>k_4b</td>\n",
       "      <td>557559.494809</td>\n",
       "      <td>572414.221511</td>\n",
       "      <td>1 / s</td>\n",
       "    </tr>\n",
       "    <tr>\n",
       "      <th>r11</th>\n",
       "      <td>K_p</td>\n",
       "      <td>99.963582</td>\n",
       "      <td>102.181182</td>\n",
       "      <td>mmole / l</td>\n",
       "    </tr>\n",
       "    <tr>\n",
       "      <th>r12</th>\n",
       "      <td>k_d</td>\n",
       "      <td>0.323386</td>\n",
       "      <td>0.300993</td>\n",
       "      <td>1 / s</td>\n",
       "    </tr>\n",
       "    <tr>\n",
       "      <th>global</th>\n",
       "      <td>K_si</td>\n",
       "      <td>16.381809</td>\n",
       "      <td>16.114987</td>\n",
       "      <td>l / mmole</td>\n",
       "    </tr>\n",
       "    <tr>\n",
       "      <th>global</th>\n",
       "      <td>K_n</td>\n",
       "      <td>15.588006</td>\n",
       "      <td>14.168484</td>\n",
       "      <td>l / mmole</td>\n",
       "    </tr>\n",
       "  </tbody>\n",
       "</table>\n",
       "</div>"
      ],
      "text/plain": [
       "          name         PySCeS         COPASI       unit\n",
       "reaction                                               \n",
       "r1         K_s       0.948655       0.950754  l / mmole\n",
       "r2         k_2   30182.540153   32862.956205      1 / s\n",
       "r5         k_6    1414.817976    1364.403335      1 / s\n",
       "r6         k_3  999840.708222  999219.637383      1 / s\n",
       "r7        K_pg     160.618723     163.467169  l / mmole\n",
       "r9         k_5     439.674702     438.288843      1 / s\n",
       "r10        k_4   13588.682715   13114.702443      1 / s\n",
       "r10       k_4b  557559.494809  572414.221511      1 / s\n",
       "r11        K_p      99.963582     102.181182  mmole / l\n",
       "r12        k_d       0.323386       0.300993      1 / s\n",
       "global    K_si      16.381809      16.114987  l / mmole\n",
       "global     K_n      15.588006      14.168484  l / mmole"
      ]
     },
     "execution_count": 9,
     "metadata": {},
     "output_type": "execute_result"
    }
   ],
   "source": [
    "params = pysces_doc.exportKineticParameters(exclude_constant=True)\n",
    "params.rename({\"value\": \"PySCeS\"}, axis=\"columns\", inplace=True)\n",
    "params[\"COPASI\"] = copasi_doc.exportKineticParameters(exclude_constant=True).value\n",
    "\n",
    "params[[\"name\", \"PySCeS\", \"COPASI\", \"unit\"]]"
   ]
  },
  {
   "cell_type": "markdown",
   "id": "c57a2ba0-bf88-4ee8-91e5-92af06a6b703",
   "metadata": {},
   "source": [
    "-------"
   ]
  }
 ],
 "metadata": {
  "kernelspec": {
   "display_name": "enzymeml",
   "language": "python",
   "name": "enzymeml"
  },
  "language_info": {
   "codemirror_mode": {
    "name": "ipython",
    "version": 3
   },
   "file_extension": ".py",
   "mimetype": "text/x-python",
   "name": "python",
   "nbconvert_exporter": "python",
   "pygments_lexer": "ipython3",
   "version": "3.9.10"
  },
  "toc": {
   "base_numbering": 1,
   "nav_menu": {},
   "number_sections": true,
   "sideBar": true,
   "skip_h1_title": false,
   "title_cell": "Table of Contents",
   "title_sidebar": "Contents",
   "toc_cell": false,
   "toc_position": {},
   "toc_section_display": true,
   "toc_window_display": true
  }
 },
 "nbformat": 4,
 "nbformat_minor": 5
}
