{
 "cells": [
  {
   "cell_type": "code",
   "execution_count": 1,
   "id": "9ebb6a0a-f0ea-49e5-ac7f-f3570b624bf8",
   "metadata": {
    "tags": []
   },
   "outputs": [],
   "source": [
    "import sys\n",
    "# !{sys.executable} -m pip install git+git://github.com/EnzymeML/PyEnzyme.git@Refactoring"
   ]
  },
  {
   "cell_type": "code",
   "execution_count": 2,
   "id": "fd0d9166-60c8-42e1-8a33-6f8310bdb8d3",
   "metadata": {},
   "outputs": [],
   "source": [
    "from pyenzyme import EnzymeMLDocument, EnzymeReaction, Complex, Reactant, Protein, Creator\n",
    "from pyenzyme.enzymeml.models import KineticModel, KineticParameter"
   ]
  },
  {
   "cell_type": "markdown",
   "id": "67d1ee98-ca30-46d8-88ed-5d316b59d3f2",
   "metadata": {},
   "source": [
    "# Modeling a reaction by mass action cascades\n",
    "\n",
    "This notebook is part of the publication \"EnzymeML at Work\" from Lauterbach et al. 2022 and adds a given micro-kinetic model to an EnzymeML document. Prior to this, experimental data was collected using the EnzymeML spreadsheet and converted to EnzymeML. The following notebook adresses the following key procedures using PyEnzyme:\n",
    "\n",
    "- Editing existing species\n",
    "- Adding new species from scratch or by DB-fetch\n",
    "- Adding reactions via an equation\n",
    "- Setting up a model generator\n"
   ]
  },
  {
   "cell_type": "markdown",
   "id": "8636f0cb-de71-4022-81dc-80045886c532",
   "metadata": {},
   "source": [
    "### Editing an EnzymeML document\n",
    "\n",
    "Since the previously created EnzymeML document only includes the macro-kinetic reaction, the micro-kinetic model found in Lagerman et al. will be introduced to the EnzymeML document.\n",
    "\n",
    "For this, intermediate species have to be added to the document, which, aside from small-molecules also include protein-substrate complexes. Macromolecular structures can be described in EnzymeML by using the ```Complex``` class, which basically acts as a reference container to participating species that is compatible to SBML. \n",
    "\n",
    "In addition, the following cell also demonstrates how an exitsing EnzymeML document can be edited, where we are simplifying names for model creation. Furthermore, the methanol species will be added using the ```fromChebiID```-Initializer that fetches and fills in data from the CHEBI-Database. Ultimately, using the initializer allows for data consistency and should always be chosen over manual initialization. The same is available for the ```Protein``` class, namely ```fromUniProtID```."
   ]
  },
  {
   "cell_type": "code",
   "execution_count": 3,
   "id": "388bfc60-46d7-4555-88e8-0249fee6bc90",
   "metadata": {},
   "outputs": [],
   "source": [
    "# Load the dataset that was generated using the EnzymeML spreadsheet\n",
    "enzmldoc = EnzymeMLDocument.fromFile(\"EnzymeML_Lagerman.omex\")\n",
    "\n",
    "# Rename entities for simplicity\n",
    "enzmldoc.getReactant(\"s0\").name = \"PGME\"\n",
    "enzmldoc.getReactant(\"s1\").name = \"7-ADCA\"\n",
    "enzmldoc.getReactant(\"s2\").name = \"CEX\"\n",
    "enzmldoc.getReactant(\"s3\").name = \"PG\"\n",
    "enzmldoc.getProtein(\"p0\").name = \"E\"\n",
    "\n",
    "# Set missing initial concentration\n",
    "enzmldoc.getReactant(\"CEX\").init_conc = 0.0\n",
    "enzmldoc.getReactant(\"CEX\").unit = \"mmole / l\"\n",
    "\n",
    "enzmldoc.getReactant(\"PG\").init_conc = 0.0\n",
    "enzmldoc.getReactant(\"PG\").unit = \"mmole / l\"\n",
    "\n",
    "# Add EA enzyme instance\n",
    "ea = enzmldoc.getProtein(\"E\").copy()\n",
    "ea.name = \"EA\"\n",
    "enzmldoc.addProtein(ea)\n",
    "\n",
    "# Add deactivated enzyme instance\n",
    "ed = enzmldoc.getProtein(\"E\").copy()\n",
    "ed.name = \"ED\"\n",
    "enzmldoc.addProtein(ed)\n",
    "\n",
    "# Set proteins to not constant for machnistic modeling\n",
    "enzmldoc.getProtein(\"E\").constant = False\n",
    "enzmldoc.getProtein(\"EA\").constant = False\n",
    "enzmldoc.getProtein(\"ED\").constant = False\n",
    "\n",
    "# Add model intermediates\n",
    "enzmldoc.addComplex(\"E·PGME\", [\"E\", \"PGME\"], \"v0\", 0.0, \"mmole/l\")\n",
    "enzmldoc.addComplex(\"E·7-ADCA\", [\"E\", \"7-ADCA\"], \"v0\", 0.0, \"mmole/l\")\n",
    "enzmldoc.addComplex(\"E·PG\", [\"E\", \"PG\"], \"v0\", 0.0, \"mmole/l\")\n",
    "enzmldoc.addComplex(\"E·PGME·PGME\", [\"E\", \"PGME\", \"PGME\"], \"v0\", 0.0, \"mmole/l\")\n",
    "enzmldoc.addComplex(\"EA·7-ADCA\", [\"EA\", \"7-ADCA\"], \"v0\", 0.0, \"mmole/l\")\n",
    "enzmldoc.addComplex(\"EA·PGME\", [\"EA\", \"PGME\"], \"v0\", 0.0, \"mmole/l\")\n",
    "enzmldoc.addComplex(\"E·CEX\", [\"E\", \"CEX\"], \"v0\", 0.0, \"mmole/l\")\n",
    "\n",
    "# Remove the old reaction since we are going to expand it\n",
    "# to a micro-kinetic model for modeling\n",
    "del enzmldoc.reaction_dict[\"r0\"]"
   ]
  },
  {
   "cell_type": "markdown",
   "id": "50bfa05f-876c-4985-8d77-19dd903b132c",
   "metadata": {},
   "source": [
    "<br>"
   ]
  },
  {
   "cell_type": "markdown",
   "id": "bc211e68-84cd-460d-b14c-9cc4c2d3ec36",
   "metadata": {},
   "source": [
    "### Adding the micro-kinetic model\n",
    "\n",
    "Now that alls necessary species are defined, these will be set in relation by adding the reaction network defined in Lagerman et al. For this, the ```EnzymeReaction``` class can either be constructed using deignated ```addEduct``` methods (see examples on PyEnzyme Git) or the ```fromEquation``` initializer inspired by ```BasiCo```. The latter will infer the corresponding ID as well as ```reversibility``` attribute from the equation string and parses educts and products to the object. Furthermore, both kinds of cunstructors require the ```EnzymeMLDocument``` for consistency checks.\n",
    "\n",
    "In this case, we prefer the ```fromEquation```-method since there are a lot of reactions which essentially are only made up of educts and products but no modifiers. At this point, please note the downside of ```fromEquation``` not being able to include modifiers, but since the enzymes/complexes are either consumed or produced, this justifies our usage."
   ]
  },
  {
   "cell_type": "code",
   "execution_count": 4,
   "id": "1ebd9592-faa1-4709-b9db-5562aa4d3fae",
   "metadata": {},
   "outputs": [],
   "source": [
    "# Now define the micro-kinetic model by adding each sub-reaction to the document\n",
    "r1 = EnzymeReaction.fromEquation(\"E + 7-ADCA = E·7-ADCA\", \"reaction-1\", enzmldoc)\n",
    "r2 = EnzymeReaction.fromEquation(\"E + PGME = E·PGME\", \"reaction-2\", enzmldoc)\n",
    "r3 = EnzymeReaction.fromEquation(\"E·PGME -> EA\", \"reaction-3\", enzmldoc)\n",
    "r4 = EnzymeReaction.fromEquation(\"E·PGME + PGME = E·PGME·PGME\", \"reaction-4\", enzmldoc)\n",
    "r5 = EnzymeReaction.fromEquation(\"EA + PGME = EA·PGME\", \"reaction-5\", enzmldoc)\n",
    "r6 = EnzymeReaction.fromEquation(\"EA·PGME -> E + PG\", \"reaction-6\", enzmldoc)\n",
    "r7 = EnzymeReaction.fromEquation(\"EA -> E + PG\", \"reaction-7\", enzmldoc)\n",
    "r8 = EnzymeReaction.fromEquation(\"E + PG = E·PG\", \"reaction-8\", enzmldoc)\n",
    "r9 = EnzymeReaction.fromEquation(\"EA + 7-ADCA = EA·7-ADCA\", \"reaction-9\", enzmldoc)\n",
    "r10 = EnzymeReaction.fromEquation(\"EA·7-ADCA -> E + PG + 7-ADCA\", \"reaction-10\", enzmldoc)\n",
    "r11 = EnzymeReaction.fromEquation(\"EA·7-ADCA = E·CEX\", \"reaction-11\", enzmldoc)\n",
    "r12 = EnzymeReaction.fromEquation(\"E·CEX = E + CEX\", \"reaction-12\", enzmldoc)\n",
    "r13 = EnzymeReaction.fromEquation(\"E -> ED\", \"Enzyme deactivation\", enzmldoc)"
   ]
  },
  {
   "cell_type": "markdown",
   "id": "0b86cde0-4a00-4980-892c-0c9930a02216",
   "metadata": {},
   "source": [
    "<br>"
   ]
  },
  {
   "cell_type": "markdown",
   "id": "50d3467a-edb7-4b0d-83b1-29416c77c955",
   "metadata": {},
   "source": [
    "### Setting up rate laws\n",
    "\n",
    "Given the now added reaction network, it is necessary to add appropriate rate laws to each reaction to facilitate parameter estimation using SBML-based modeling platforms. Since most of the reactions follow normal Mass Action laws, we can set up so called ```ModelFactories``` that represent an abstract model.\n",
    "\n",
    "Previous PyEnzyme versions would require to implement an explicit model for each reaction in the form of \n",
    "\n",
    "```s0 * vmax / (Km + s0)```\n",
    "\n",
    "which requires an equation string for each model. This can become quite tedious and for models, where most reactions share the same rate law quite error prone if done manually. Hence, the ```createGenerator```-initializer of the ```KineticModel``` offers a convinient way to generalize models and ensure consistency as well as re-usability.\n",
    "\n",
    "<br>"
   ]
  },
  {
   "cell_type": "markdown",
   "id": "b3f56862-af50-4931-84c2-c549b161a37b",
   "metadata": {},
   "source": [
    "#### Excursion: Setting up a model generator\n",
    "\n",
    "In order to set up a model generator it requires a ```name```, an ```equation``` and an explicit description of the used parameters occuring in the equation. For instance, lets set up an ```Example-Model``` with equation ```param * substrate``` and parameter ```param``` for simplicity.\n",
    "\n",
    "The algorithm will detect parameters based on the keyword arguments passed to the generator. In addtion, these keyword arguments should include a dicitonary that can optionally be equipped with all prossible attributes the ```KineticParameter``` class can hold."
   ]
  },
  {
   "cell_type": "code",
   "execution_count": 5,
   "id": "f910cab6-66ce-412a-a4d0-e24afa607432",
   "metadata": {},
   "outputs": [],
   "source": [
    "# Setting up the generator\n",
    "example_gen = KineticModel.createGenerator(name=\"Example-Model\", equation=\"param * substrate\", param={\"unit\": \"1 / s\"})"
   ]
  },
  {
   "cell_type": "markdown",
   "id": "20a6fd24-60a4-4538-8332-9ed3b624116e",
   "metadata": {},
   "source": [
    "The generator can now be applied to any type of reaction by calling the object using the variables as keyword arguments and the corresponding actual species as values. For instance, in our example, ```substrate``` is the variable and thus has to be provided as a keyword argument. If for instance the reaction we want the model has a substrate called ```Pyruvate``` we can explicitly include this in our call."
   ]
  },
  {
   "cell_type": "code",
   "execution_count": 6,
   "id": "d6a05c55-1751-467b-8451-bce9d8417c9b",
   "metadata": {},
   "outputs": [
    {
     "name": "stdout",
     "output_type": "stream",
     "text": [
      "One substrate -- name='Example-Model' equation=\"param * 'Pyruvate'\" parameters=[KineticParameter(name='param', value=None, unit='1 / s', initial_value=None, upper=None, lower=None, is_global=False, stdev=None, constant=False, ontology=None)] ontology=None\n",
      "\n",
      "Multiple substrate -- name='Example-Model' equation=\"param * ('Pyruvate' * 'H2O')\" parameters=[KineticParameter(name='param', value=None, unit='1 / s', initial_value=None, upper=None, lower=None, is_global=False, stdev=None, constant=False, ontology=None)] ontology=None\n",
      "\n"
     ]
    }
   ],
   "source": [
    "# Using the generator with a single species\n",
    "single_example = example_gen(substrate=\"Pyruvate\")\n",
    "print(\"One substrate --\", single_example, end=\"\\n\\n\")\n",
    "\n",
    "# Generators can also take lists and convert them to the model\n",
    "multi_example = example_gen(substrate=[\"Pyruvate\", \"H2O\"])\n",
    "print(\"Multiple substrate --\", multi_example, end=\"\\n\\n\")"
   ]
  },
  {
   "cell_type": "markdown",
   "id": "6d1dd8fd-f75c-4ef1-a49c-9bd94f28f95f",
   "metadata": {},
   "source": [
    "Such a generated model can now be added to a reaction by assigning it to the ```model``` attribute.\n",
    "\n",
    "<br>"
   ]
  },
  {
   "cell_type": "markdown",
   "id": "9febe9cf-59d1-4d82-a547-39976240b4ef",
   "metadata": {},
   "source": [
    "### Adding rate laws\n",
    "\n",
    "As previously discussed, all rate laws will be set up as generator objects that are assigned to each reaction using the corrsponding educts/products. In addition, ....\n",
    "\n",
    "Finally, after that has been done, all reactions will be added to the ```EnzymeMLDocument``` object and an overview generated to control the assignment using the ```printReactionSchemes``` method of the EnzymeML document."
   ]
  },
  {
   "cell_type": "code",
   "execution_count": 7,
   "id": "63eccdf2-061a-4a16-a52e-1774e8042f6b",
   "metadata": {},
   "outputs": [],
   "source": [
    "# Set up generators for kinetic models\n",
    "eq_rev = KineticModel.createGenerator(\n",
    "    name=\"MassAction Reversible\", equation=\"K_1 * substrate - K_2 * product\",\n",
    "    K_1={\"unit\": \"1 / s\"}, K_2={\"unit\": \"1 / s\"}\n",
    ")\n",
    "\n",
    "eq_irrev = KineticModel.createGenerator(\n",
    "    name=\"MassAction Irreversible\", equation=\"K_1 * substrate\",\n",
    "    K_1={\"unit\": \"1 / s\"}\n",
    ")\n",
    "\n",
    "mass_eq = KineticModel.createGenerator(\n",
    "    name=\"MassAction Keq\", equation=f\"v_r*(K_eq * substrate - product)\",\n",
    "    K_eq={\"unit\": \"dimensionless\"}, v_r={\"unit\": \"1 / s\", \"constant\": True}\n",
    ")\n",
    "\n",
    "mass_eq_1_2 = KineticModel.createGenerator(\n",
    "    name=\"MassAction Keq\", equation=f\"v_r*(K_eq * substrate - product)\",\n",
    "    K_eq={\"unit\": \"mmole / l\"}, v_r={\"unit\": \"l / mmole s\", \"constant\": True}\n",
    ")\n",
    "\n",
    "mass_eq_2_1 = KineticModel.createGenerator(\n",
    "    name=\"MassAction Keq\", equation=f\"v_r*(K_eq * substrate - product)\",\n",
    "    K_eq={\"unit\": \"l / mmole\"}, v_r={\"unit\": \"1 / s\", \"constant\": True}\n",
    ")"
   ]
  },
  {
   "cell_type": "code",
   "execution_count": 8,
   "id": "9085baeb-0069-4f0d-ba12-188f48da5c1c",
   "metadata": {},
   "outputs": [],
   "source": [
    "# Set up global parameters\n",
    "K_si = enzmldoc.addGlobalParameter(\"K_si\", unit=\"l / mmole\")\n",
    "K_n = enzmldoc.addGlobalParameter(\"K_n\", unit=\"l / mmole\")"
   ]
  },
  {
   "cell_type": "code",
   "execution_count": 9,
   "id": "71a2215f-12cb-4278-9b5b-63a165688250",
   "metadata": {},
   "outputs": [],
   "source": [
    "r1.model = mass_eq_2_1(substrate=[\"E\", \"7-ADCA\"], product=\"E·7-ADCA\", mapping={\"K_eq\": \"K_n\"})\n",
    "r2.model = mass_eq_2_1(substrate=[\"E\", \"PGME\"], product=\"E·PGME\", mapping={\"K_eq\": \"K_s\"})\n",
    "r3.model = eq_irrev(substrate=\"E·PGME\", mapping={\"K_1\": \"k_2\"})\n",
    "r4.model = mass_eq_2_1(substrate=[\"E·PGME\", \"PGME\"], product=\"E·PGME·PGME\", mapping={\"K_eq\": \"K_si\"})\n",
    "r5.model = mass_eq_2_1(substrate=[\"EA\", \"PGME\"], product=\"EA·PGME\", mapping={\"K_eq\": \"K_si\"})\n",
    "r6.model = eq_irrev(substrate=\"EA·PGME\", mapping={\"K_1\": \"k_6\"})\n",
    "r7.model = eq_irrev(substrate=\"EA\", mapping={\"K_1\": \"k_3\"})\n",
    "r8.model = mass_eq_2_1(substrate=[\"E\", \"PG\"], product=\"E·PG\", mapping={\"K_eq\": \"K_pg\"})\n",
    "r9.model = mass_eq_2_1(substrate=[\"EA\", \"7-ADCA\"], product=\"EA·7-ADCA\", mapping={\"K_eq\": \"K_n\"})\n",
    "r10.model = eq_irrev(substrate=\"EA·7-ADCA\", mapping={\"K_1\": \"k_5\"})\n",
    "r11.model = eq_rev(substrate=\"EA·7-ADCA\", product=\"E·CEX\", mapping={\"K_1\": \"k_4\", \"K_2\": \"k_4b\"})\n",
    "r12.model = mass_eq_1_2(substrate=\"E·CEX\", product=[\"E\", \"CEX\"], mapping={\"K_eq\": \"K_p\"})\n",
    "r13.model = eq_irrev(substrate=\"E\", mapping={\"K_1\": \"k_d\"} )"
   ]
  },
  {
   "cell_type": "code",
   "execution_count": 10,
   "id": "c8c154e2-9195-4bbe-bf03-c8bc0df948c9",
   "metadata": {},
   "outputs": [],
   "source": [
    "# Finally, add all reactions to the EnzymeML document\n",
    "reaction_ids = enzmldoc.addReactions(\n",
    "    [r1, r2, r3, r4, r5, r6, r7, r8, r9, r10, r11, r12, r13]\n",
    ")"
   ]
  },
  {
   "cell_type": "code",
   "execution_count": 11,
   "id": "263be1b8-bd10-4549-98f8-8689aade6d57",
   "metadata": {},
   "outputs": [
    {
     "data": {
      "text/html": [
       "<div>\n",
       "<style scoped>\n",
       "    .dataframe tbody tr th:only-of-type {\n",
       "        vertical-align: middle;\n",
       "    }\n",
       "\n",
       "    .dataframe tbody tr th {\n",
       "        vertical-align: top;\n",
       "    }\n",
       "\n",
       "    .dataframe thead th {\n",
       "        text-align: right;\n",
       "    }\n",
       "</style>\n",
       "<table border=\"1\" class=\"dataframe\">\n",
       "  <thead>\n",
       "    <tr style=\"text-align: right;\">\n",
       "      <th></th>\n",
       "      <th>Name</th>\n",
       "      <th>equation</th>\n",
       "      <th>kinetic law</th>\n",
       "    </tr>\n",
       "    <tr>\n",
       "      <th>ID</th>\n",
       "      <th></th>\n",
       "      <th></th>\n",
       "      <th></th>\n",
       "    </tr>\n",
       "  </thead>\n",
       "  <tbody>\n",
       "    <tr>\n",
       "      <th>r0</th>\n",
       "      <td>reaction-1</td>\n",
       "      <td>1.0 E + 1.0 7-ADCA &lt;=&gt; 1.0 E·7-ADCA</td>\n",
       "      <td>v_r*(K_n * (E * 7-ADCA) - E·7-ADCA)</td>\n",
       "    </tr>\n",
       "    <tr>\n",
       "      <th>r1</th>\n",
       "      <td>reaction-2</td>\n",
       "      <td>1.0 E + 1.0 PGME &lt;=&gt; 1.0 E·PGME</td>\n",
       "      <td>v_r*(K_s * (E * PGME) - E·PGME)</td>\n",
       "    </tr>\n",
       "    <tr>\n",
       "      <th>r2</th>\n",
       "      <td>reaction-3</td>\n",
       "      <td>1.0 E·PGME -&gt; 1.0 EA</td>\n",
       "      <td>k_2 * E·PGME</td>\n",
       "    </tr>\n",
       "    <tr>\n",
       "      <th>r3</th>\n",
       "      <td>reaction-4</td>\n",
       "      <td>1.0 E·PGME + 1.0 PGME &lt;=&gt; 1.0 E·PGME·PGME</td>\n",
       "      <td>v_r*(K_si * (E·PGME * PGME) - E·PGME·PGME)</td>\n",
       "    </tr>\n",
       "    <tr>\n",
       "      <th>r4</th>\n",
       "      <td>reaction-5</td>\n",
       "      <td>1.0 EA + 1.0 PGME &lt;=&gt; 1.0 EA·PGME</td>\n",
       "      <td>v_r*(K_si * (EA * PGME) - EA·PGME)</td>\n",
       "    </tr>\n",
       "    <tr>\n",
       "      <th>r5</th>\n",
       "      <td>reaction-6</td>\n",
       "      <td>1.0 EA·PGME -&gt; 1.0 E + 1.0 PG</td>\n",
       "      <td>k_6 * EA·PGME</td>\n",
       "    </tr>\n",
       "    <tr>\n",
       "      <th>r6</th>\n",
       "      <td>reaction-7</td>\n",
       "      <td>1.0 EA -&gt; 1.0 E + 1.0 PG</td>\n",
       "      <td>k_3 * EA</td>\n",
       "    </tr>\n",
       "    <tr>\n",
       "      <th>r7</th>\n",
       "      <td>reaction-8</td>\n",
       "      <td>1.0 E + 1.0 PG &lt;=&gt; 1.0 E·PG</td>\n",
       "      <td>v_r*(K_pg * (E * PG) - E·PG)</td>\n",
       "    </tr>\n",
       "    <tr>\n",
       "      <th>r8</th>\n",
       "      <td>reaction-9</td>\n",
       "      <td>1.0 EA + 1.0 7-ADCA &lt;=&gt; 1.0 EA·7-ADCA</td>\n",
       "      <td>v_r*(K_n * (EA * 7-ADCA) - EA·7-ADCA)</td>\n",
       "    </tr>\n",
       "    <tr>\n",
       "      <th>r9</th>\n",
       "      <td>reaction-10</td>\n",
       "      <td>1.0 EA·7-ADCA -&gt; 1.0 E + 1.0 PG + 1.0 7-ADCA</td>\n",
       "      <td>k_5 * EA·7-ADCA</td>\n",
       "    </tr>\n",
       "    <tr>\n",
       "      <th>r10</th>\n",
       "      <td>reaction-11</td>\n",
       "      <td>1.0 EA·7-ADCA &lt;=&gt; 1.0 E·CEX</td>\n",
       "      <td>k_4 * EA·7-ADCA - k_4b * E·CEX</td>\n",
       "    </tr>\n",
       "    <tr>\n",
       "      <th>r11</th>\n",
       "      <td>reaction-12</td>\n",
       "      <td>1.0 E·CEX &lt;=&gt; 1.0 E + 1.0 CEX</td>\n",
       "      <td>v_r*(K_p * E·CEX - (E * CEX))</td>\n",
       "    </tr>\n",
       "    <tr>\n",
       "      <th>r12</th>\n",
       "      <td>Enzyme deactivation</td>\n",
       "      <td>1.0 E -&gt; 1.0 ED</td>\n",
       "      <td>k_d * E</td>\n",
       "    </tr>\n",
       "  </tbody>\n",
       "</table>\n",
       "</div>"
      ],
      "text/plain": [
       "                    Name                                      equation  \\\n",
       "ID                                                                       \n",
       "r0            reaction-1           1.0 E + 1.0 7-ADCA <=> 1.0 E·7-ADCA   \n",
       "r1            reaction-2               1.0 E + 1.0 PGME <=> 1.0 E·PGME   \n",
       "r2            reaction-3                          1.0 E·PGME -> 1.0 EA   \n",
       "r3            reaction-4     1.0 E·PGME + 1.0 PGME <=> 1.0 E·PGME·PGME   \n",
       "r4            reaction-5             1.0 EA + 1.0 PGME <=> 1.0 EA·PGME   \n",
       "r5            reaction-6                 1.0 EA·PGME -> 1.0 E + 1.0 PG   \n",
       "r6            reaction-7                      1.0 EA -> 1.0 E + 1.0 PG   \n",
       "r7            reaction-8                   1.0 E + 1.0 PG <=> 1.0 E·PG   \n",
       "r8            reaction-9         1.0 EA + 1.0 7-ADCA <=> 1.0 EA·7-ADCA   \n",
       "r9           reaction-10  1.0 EA·7-ADCA -> 1.0 E + 1.0 PG + 1.0 7-ADCA   \n",
       "r10          reaction-11                   1.0 EA·7-ADCA <=> 1.0 E·CEX   \n",
       "r11          reaction-12                 1.0 E·CEX <=> 1.0 E + 1.0 CEX   \n",
       "r12  Enzyme deactivation                               1.0 E -> 1.0 ED   \n",
       "\n",
       "                                    kinetic law  \n",
       "ID                                               \n",
       "r0          v_r*(K_n * (E * 7-ADCA) - E·7-ADCA)  \n",
       "r1              v_r*(K_s * (E * PGME) - E·PGME)  \n",
       "r2                                 k_2 * E·PGME  \n",
       "r3   v_r*(K_si * (E·PGME * PGME) - E·PGME·PGME)  \n",
       "r4           v_r*(K_si * (EA * PGME) - EA·PGME)  \n",
       "r5                                k_6 * EA·PGME  \n",
       "r6                                     k_3 * EA  \n",
       "r7                 v_r*(K_pg * (E * PG) - E·PG)  \n",
       "r8        v_r*(K_n * (EA * 7-ADCA) - EA·7-ADCA)  \n",
       "r9                              k_5 * EA·7-ADCA  \n",
       "r10              k_4 * EA·7-ADCA - k_4b * E·CEX  \n",
       "r11               v_r*(K_p * E·CEX - (E * CEX))  \n",
       "r12                                     k_d * E  "
      ]
     },
     "execution_count": 11,
     "metadata": {},
     "output_type": "execute_result"
    }
   ],
   "source": [
    "enzmldoc.printReactionSchemes(by_name=True)"
   ]
  },
  {
   "cell_type": "code",
   "execution_count": 12,
   "id": "ae47fd38-92b3-4be9-be1b-2fc1bf34337f",
   "metadata": {},
   "outputs": [
    {
     "name": "stdout",
     "output_type": "stream",
     "text": [
      "\n",
      "Archive was written to ./Model_4.omex\n",
      "\n"
     ]
    }
   ],
   "source": [
    "# Finally, write the document to an OMEX archive\n",
    "enzmldoc.toFile(\".\", name=\"Model_4\")"
   ]
  }
 ],
 "metadata": {
  "kernelspec": {
   "display_name": "enzymeml",
   "language": "python",
   "name": "enzymeml"
  },
  "language_info": {
   "codemirror_mode": {
    "name": "ipython",
    "version": 3
   },
   "file_extension": ".py",
   "mimetype": "text/x-python",
   "name": "python",
   "nbconvert_exporter": "python",
   "pygments_lexer": "ipython3",
   "version": "3.9.10"
  },
  "toc": {
   "base_numbering": 1,
   "nav_menu": {},
   "number_sections": true,
   "sideBar": true,
   "skip_h1_title": false,
   "title_cell": "Table of Contents",
   "title_sidebar": "Contents",
   "toc_cell": false,
   "toc_position": {},
   "toc_section_display": true,
   "toc_window_display": true
  }
 },
 "nbformat": 4,
 "nbformat_minor": 5
}
