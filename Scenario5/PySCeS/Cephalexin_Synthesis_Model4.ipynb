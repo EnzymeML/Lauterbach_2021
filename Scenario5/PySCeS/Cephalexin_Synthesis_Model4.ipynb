{
 "cells": [
  {
   "cell_type": "code",
   "execution_count": 1,
   "id": "9ebb6a0a-f0ea-49e5-ac7f-f3570b624bf8",
   "metadata": {
    "tags": []
   },
   "outputs": [],
   "source": [
    "import sys\n",
    "# !{sys.executable} -m pip install git+git://github.com/EnzymeML/PyEnzyme.git@Refactoring"
   ]
  },
  {
   "cell_type": "code",
   "execution_count": 2,
   "id": "fd0d9166-60c8-42e1-8a33-6f8310bdb8d3",
   "metadata": {},
   "outputs": [],
   "source": [
    "from pyenzyme import EnzymeMLDocument, EnzymeReaction, Complex, Reactant, Protein, Creator\n",
    "from pyenzyme.enzymeml.models import KineticModel, KineticParameter"
   ]
  },
  {
   "cell_type": "markdown",
   "id": "67d1ee98-ca30-46d8-88ed-5d316b59d3f2",
   "metadata": {},
   "source": [
    "# Modeling a reaction by mass action cascades\n",
    "\n",
    "This notebook is part of the publication \"EnzymeML at Work\" from Lauterbach et al. 2022 and adds a given micro-kinetic model to an EnzymeML document. Prior to this, experimental data was collected using the EnzymeML spreadsheet and converted to EnzymeML. The following notebook adresses the following key procedures using PyEnzyme:\n",
    "\n",
    "- Editing existing species\n",
    "- Adding new species from scratch or by DB-fetch\n",
    "- Adding reactions via an equation\n",
    "- Setting up a model generator\n"
   ]
  },
  {
   "cell_type": "markdown",
   "id": "8636f0cb-de71-4022-81dc-80045886c532",
   "metadata": {},
   "source": [
    "### Editing an EnzymeML document\n",
    "\n",
    "Since the previously created EnzymeML document only includes the macro-kinetic reaction, the micro-kinetic model found in Lagerman et al. will be introduced to the EnzymeML document.\n",
    "\n",
    "For this, intermediate species have to be added to the document, which, aside from small-molecules also include protein-substrate complexes. Macromolecular structures can be described in EnzymeML by using the ```Complex``` class, which basically acts as a reference container to participating species that is compatible to SBML. \n",
    "\n",
    "In addition, the following cell also demonstrates how an exitsing EnzymeML document can be edited, where we are simplifying names for model creation. Furthermore, the methanol species will be added using the ```fromChebiID```-Initializer that fetches and fills in data from the CHEBI-Database. Ultimately, using the initializer allows for data consistency and should always be chosen over manual initialization. The same is available for the ```Protein``` class, namely ```fromUniProtID```."
   ]
  },
  {
   "cell_type": "code",
   "execution_count": 3,
   "id": "388bfc60-46d7-4555-88e8-0249fee6bc90",
   "metadata": {},
   "outputs": [],
   "source": [
    "# Load the dataset that was generated using the EnzymeML spreadsheet\n",
    "enzmldoc = EnzymeMLDocument.fromFile(\"EnzymeML_Lagerman.omex\")\n",
    "\n",
    "# Rename entities for simplicity\n",
    "enzmldoc.getReactant(\"s0\").name = \"PGME\"\n",
    "enzmldoc.getReactant(\"s1\").name = \"7-ADCA\"\n",
    "enzmldoc.getReactant(\"s2\").name = \"CEX\"\n",
    "enzmldoc.getReactant(\"s3\").name = \"PG\"\n",
    "enzmldoc.getProtein(\"p0\").name = \"E\"\n",
    "\n",
    "# Set missing initial concentration\n",
    "enzmldoc.getReactant(\"CEX\").init_conc = 0.0\n",
    "enzmldoc.getReactant(\"CEX\").unit = \"mmole / l\"\n",
    "\n",
    "enzmldoc.getReactant(\"PG\").init_conc = 0.0\n",
    "enzmldoc.getReactant(\"PG\").unit = \"mmole / l\"\n",
    "\n",
    "# Add EA enzyme instance\n",
    "ea = enzmldoc.getProtein(\"E\").copy()\n",
    "ea.name = \"EA\"\n",
    "enzmldoc.addProtein(ea)\n",
    "\n",
    "# Add deactivated enzyme instance\n",
    "ed = enzmldoc.getProtein(\"E\").copy()\n",
    "ed.name = \"ED\"\n",
    "enzmldoc.addProtein(ed)\n",
    "\n",
    "# Set proteins to not constant for machnistic modeling\n",
    "enzmldoc.getProtein(\"E\").constant = False\n",
    "enzmldoc.getProtein(\"EA\").constant = False\n",
    "enzmldoc.getProtein(\"ED\").constant = False\n",
    "\n",
    "# Add model intermediates\n",
    "enzmldoc.addComplex(\"E·PGME\", [\"E\", \"PGME\"], \"v0\", 0.0, \"mmole/l\")\n",
    "enzmldoc.addComplex(\"E·7-ADCA\", [\"E\", \"7-ADCA\"], \"v0\", 0.0, \"mmole/l\")\n",
    "enzmldoc.addComplex(\"E·PG\", [\"E\", \"PG\"], \"v0\", 0.0, \"mmole/l\")\n",
    "enzmldoc.addComplex(\"E·PGME·PGME\", [\"E\", \"PGME\", \"PGME\"], \"v0\", 0.0, \"mmole/l\")\n",
    "enzmldoc.addComplex(\"EA·7-ADCA\", [\"EA\", \"7-ADCA\"], \"v0\", 0.0, \"mmole/l\")\n",
    "enzmldoc.addComplex(\"EA·PGME\", [\"EA\", \"PGME\"], \"v0\", 0.0, \"mmole/l\")\n",
    "enzmldoc.addComplex(\"E·CEX\", [\"E\", \"CEX\"], \"v0\", 0.0, \"mmole/l\")\n",
    "\n",
    "# Remove the old reaction since we are going to expand it\n",
    "# to a micro-kinetic model for modeling\n",
    "del enzmldoc.reaction_dict[\"r0\"]"
   ]
  },
  {
   "cell_type": "markdown",
   "id": "50bfa05f-876c-4985-8d77-19dd903b132c",
   "metadata": {},
   "source": [
    "<br>"
   ]
  },
  {
   "cell_type": "markdown",
   "id": "bc211e68-84cd-460d-b14c-9cc4c2d3ec36",
   "metadata": {},
   "source": [
    "### Adding the micro-kinetic model\n",
    "\n",
    "Now that alls necessary species are defined, these will be set in relation by adding the reaction network defined in Lagerman et al. For this, the ```EnzymeReaction``` class can either be constructed using deignated ```addEduct``` methods (see examples on PyEnzyme Git) or the ```fromEquation``` initializer inspired by ```BasiCo```. The latter will infer the corresponding ID as well as ```reversibility``` attribute from the equation string and parses educts and products to the object. Furthermore, both kinds of cunstructors require the ```EnzymeMLDocument``` for consistency checks.\n",
    "\n",
    "In this case, we prefer the ```fromEquation```-method since there are a lot of reactions which essentially are only made up of educts and products but no modifiers. At this point, please note the downside of ```fromEquation``` not being able to include modifiers, but since the enzymes/complexes are either consumed or produced, this justifies our usage."
   ]
  },
  {
   "cell_type": "code",
   "execution_count": 4,
   "id": "1ebd9592-faa1-4709-b9db-5562aa4d3fae",
   "metadata": {},
   "outputs": [],
   "source": [
    "# Now define the micro-kinetic model by adding each sub-reaction to the document\n",
    "r1 = EnzymeReaction.fromEquation(\"E + 7-ADCA = E·7-ADCA\", \"reaction-1\", enzmldoc)\n",
    "r2 = EnzymeReaction.fromEquation(\"E + PGME = E·PGME\", \"reaction-2\", enzmldoc)\n",
    "r3 = EnzymeReaction.fromEquation(\"E·PGME -> EA\", \"reaction-3\", enzmldoc)\n",
    "r4 = EnzymeReaction.fromEquation(\"E·PGME + PGME = E·PGME·PGME\", \"reaction-4\", enzmldoc)\n",
    "r5 = EnzymeReaction.fromEquation(\"EA + PGME = EA·PGME\", \"reaction-5\", enzmldoc)\n",
    "r6 = EnzymeReaction.fromEquation(\"EA·PGME -> E + PG\", \"reaction-6\", enzmldoc)\n",
    "r7 = EnzymeReaction.fromEquation(\"EA -> E + PG\", \"reaction-7\", enzmldoc)\n",
    "r8 = EnzymeReaction.fromEquation(\"E + PG = E·PG\", \"reaction-8\", enzmldoc)\n",
    "r9 = EnzymeReaction.fromEquation(\"EA + 7-ADCA = EA·7-ADCA\", \"reaction-9\", enzmldoc)\n",
    "r10 = EnzymeReaction.fromEquation(\"EA·7-ADCA -> E + PG + 7-ADCA\", \"reaction-10\", enzmldoc)\n",
    "r11 = EnzymeReaction.fromEquation(\"EA·7-ADCA = E·CEX\", \"reaction-11\", enzmldoc)\n",
    "r12 = EnzymeReaction.fromEquation(\"E·CEX = E + CEX\", \"reaction-12\", enzmldoc)\n",
    "r13 = EnzymeReaction.fromEquation(\"E -> ED\", \"Enzyme deactivation\", enzmldoc)"
   ]
  },
  {
   "cell_type": "markdown",
   "id": "0b86cde0-4a00-4980-892c-0c9930a02216",
   "metadata": {},
   "source": [
    "<br>"
   ]
  },
  {
   "cell_type": "markdown",
   "id": "50d3467a-edb7-4b0d-83b1-29416c77c955",
   "metadata": {},
   "source": [
    "### Setting up rate laws\n",
    "\n",
    "Given the now added reaction network, it is necessary to add appropriate rate laws to each reaction to facilitate parameter estimation using SBML-based modeling platforms. Since most of the reactions follow normal Mass Action laws, we can set up so called ```ModelFactories``` that represent an abstract model.\n",
    "\n",
    "Previous PyEnzyme versions would require to implement an explicit model for each reaction in the form of \n",
    "\n",
    "```s0 * vmax / (Km + s0)```\n",
    "\n",
    "which requires an equation string for each model. This can become quite tedious and for models, where most reactions share the same rate law quite error prone if done manually. Hence, the ```createGenerator```-initializer of the ```KineticModel``` offers a convinient way to generalize models and ensure consistency as well as re-usability.\n",
    "\n",
    "<br>"
   ]
  },
  {
   "cell_type": "markdown",
   "id": "b3f56862-af50-4931-84c2-c549b161a37b",
   "metadata": {},
   "source": [
    "#### Excursion: Setting up a model generator\n",
    "\n",
    "In order to set up a model generator it requires a ```name```, an ```equation``` and an explicit description of the used parameters occuring in the equation. For instance, lets set up an ```Example-Model``` with equation ```param * substrate``` and parameter ```param``` for simplicity.\n",
    "\n",
    "The algorithm will detect parameters based on the keyword arguments passed to the generator. In addtion, these keyword arguments should include a dicitonary that can optionally be equipped with all prossible attributes the ```KineticParameter``` class can hold."
   ]
  },
  {
   "cell_type": "code",
   "execution_count": 5,
   "id": "f910cab6-66ce-412a-a4d0-e24afa607432",
   "metadata": {},
   "outputs": [],
   "source": [
    "# Setting up the generator\n",
    "example_gen = KineticModel.createGenerator(name=\"Example-Model\", equation=\"param * substrate\", param={\"unit\": \"1 / s\"})"
   ]
  },
  {
   "cell_type": "markdown",
   "id": "20a6fd24-60a4-4538-8332-9ed3b624116e",
   "metadata": {},
   "source": [
    "The generator can now be applied to any type of reaction by calling the object using the variables as keyword arguments and the corresponding actual species as values. For instance, in our example, ```substrate``` is the variable and thus has to be provided as a keyword argument. If for instance the reaction we want the model has a substrate called ```Pyruvate``` we can explicitly include this in our call."
   ]
  },
  {
   "cell_type": "code",
   "execution_count": 6,
   "id": "d6a05c55-1751-467b-8451-bce9d8417c9b",
   "metadata": {},
   "outputs": [
    {
     "name": "stdout",
     "output_type": "stream",
     "text": [
      "One substrate -- name='Example-Model' equation=\"param * 'Pyruvate'\" parameters=[KineticParameter(name='param', value=None, unit='1 / s', initial_value=None, upper=None, lower=None, is_global=False, stdev=None, constant=False, ontology=None)] ontology=None\n",
      "\n",
      "Multiple substrate -- name='Example-Model' equation=\"param * ('Pyruvate' * 'H2O')\" parameters=[KineticParameter(name='param', value=None, unit='1 / s', initial_value=None, upper=None, lower=None, is_global=False, stdev=None, constant=False, ontology=None)] ontology=None\n",
      "\n"
     ]
    }
   ],
   "source": [
    "# Using the generator with a single species\n",
    "single_example = example_gen(substrate=\"Pyruvate\")\n",
    "print(\"One substrate --\", single_example, end=\"\\n\\n\")\n",
    "\n",
    "# Generators can also take lists and convert them to the model\n",
    "multi_example = example_gen(substrate=[\"Pyruvate\", \"H2O\"])\n",
    "print(\"Multiple substrate --\", multi_example, end=\"\\n\\n\")"
   ]
  },
  {
   "cell_type": "markdown",
   "id": "6d1dd8fd-f75c-4ef1-a49c-9bd94f28f95f",
   "metadata": {},
   "source": [
    "Such a generated model can now be added to a reaction by assigning it to the ```model``` attribute.\n",
    "\n",
    "<br>"
   ]
  },
  {
   "cell_type": "markdown",
   "id": "9febe9cf-59d1-4d82-a547-39976240b4ef",
   "metadata": {},
   "source": [
    "### Adding rate laws\n",
    "\n",
    "As previously discussed, all rate laws will be set up as generator objects that are assigned to each reaction using the corrsponding educts/products. In addition, ....\n",
    "\n",
    "Finally, after that has been done, all reactions will be added to the ```EnzymeMLDocument``` object and an overview generated to control the assignment using the ```printReactionSchemes``` method of the EnzymeML document."
   ]
  },
  {
   "cell_type": "code",
   "execution_count": 7,
   "id": "63eccdf2-061a-4a16-a52e-1774e8042f6b",
   "metadata": {},
   "outputs": [],
   "source": [
    "# Set up generators for kinetic models\n",
    "eq_rev = KineticModel.createGenerator(\n",
    "    name=\"MassAction Reversible\", equation=\"K_1 * substrate - K_2 * product\",\n",
    "    K_1={\"unit\": \"1 / s\"}, K_2={\"unit\": \"1 / s\"}\n",
    ")\n",
    "\n",
    "eq_irrev = KineticModel.createGenerator(\n",
    "    name=\"MassAction Irreversible\", equation=\"K_1 * substrate\",\n",
    "    K_1={\"unit\": \"1 / s\"}\n",
    ")\n",
    "\n",
    "mass_eq = KineticModel.createGenerator(\n",
    "    name=\"MassAction Keq\", equation=f\"v_r*(K_eq * substrate - product)\",\n",
    "    K_eq={\"unit\": \"dimensionless\"}, v_r={\"unit\": \"1 / s\"}\n",
    ")\n",
    "\n",
    "mass_eq_1_2 = KineticModel.createGenerator(\n",
    "    name=\"MassAction Keq\", equation=f\"v_r*(K_eq * substrate - product)\",\n",
    "    K_eq={\"unit\": \"mmole / l\"}, v_r={\"unit\": \"l / mmole / s\"}\n",
    ")\n",
    "\n",
    "mass_eq_2_1 = KineticModel.createGenerator(\n",
    "    name=\"MassAction Keq\", equation=f\"v_r*(K_eq * substrate - product)\",\n",
    "    K_eq={\"unit\": \"l / mmole\"}, v_r={\"unit\": \"1 / s\"}\n",
    ")"
   ]
  },
  {
   "cell_type": "code",
   "execution_count": 8,
   "id": "9085baeb-0069-4f0d-ba12-188f48da5c1c",
   "metadata": {},
   "outputs": [],
   "source": [
    "# Set up global parameters\n",
    "K_si = enzmldoc.addGlobalParameter(\"K_si\", unit=\"l / mmole\")\n",
    "K_n = enzmldoc.addGlobalParameter(\"K_n\", unit=\"l / mmole\")"
   ]
  },
  {
   "cell_type": "code",
   "execution_count": 9,
   "id": "71a2215f-12cb-4278-9b5b-63a165688250",
   "metadata": {},
   "outputs": [],
   "source": [
    "r1.model = mass_eq_2_1(substrate=[\"E\", \"7-ADCA\"], product=\"E·7-ADCA\", mapping={\"K_eq\": \"K_n\"})\n",
    "r2.model = mass_eq_2_1(substrate=[\"E\", \"PGME\"], product=\"E·PGME\", mapping={\"K_eq\": \"K_s\"})\n",
    "r3.model = eq_irrev(substrate=\"E·PGME\", mapping={\"K_1\": \"k_2\"})\n",
    "r4.model = mass_eq_2_1(substrate=[\"E·PGME\", \"PGME\"], product=\"E·PGME·PGME\", mapping={\"K_eq\": \"K_si\"})\n",
    "r5.model = mass_eq_2_1(substrate=[\"EA\", \"PGME\"], product=\"EA·PGME\", mapping={\"K_eq\": \"K_si\"})\n",
    "r6.model = eq_irrev(substrate=\"EA·PGME\", mapping={\"K_1\": \"k_6\"})\n",
    "r7.model = eq_irrev(substrate=\"EA\", mapping={\"K_1\": \"k_3\"})\n",
    "r8.model = mass_eq_2_1(substrate=[\"E\", \"PG\"], product=\"E·PG\", mapping={\"K_eq\": \"K_pg\"})\n",
    "r9.model = mass_eq_2_1(substrate=[\"EA\", \"7-ADCA\"], product=\"EA·7-ADCA\", mapping={\"K_eq\": \"K_n\"})\n",
    "r10.model = eq_irrev(substrate=\"EA·7-ADCA\", mapping={\"K_1\": \"k_5\"})\n",
    "r11.model = eq_rev(substrate=\"EA·7-ADCA\", product=\"E·CEX\", mapping={\"K_1\": \"k_4\", \"K_2\": \"k_4b\"})\n",
    "r12.model = mass_eq_1_2(substrate=\"E·CEX\", product=[\"E\", \"CEX\"], mapping={\"K_eq\": \"K_p\"})\n",
    "r13.model = eq_irrev(substrate=\"E\", mapping={\"K_1\": \"k_d\"} )"
   ]
  },
  {
   "cell_type": "code",
   "execution_count": 10,
   "id": "c8c154e2-9195-4bbe-bf03-c8bc0df948c9",
   "metadata": {},
   "outputs": [
    {
     "ename": "UnboundLocalError",
     "evalue": "local variable 'nom' referenced before assignment",
     "output_type": "error",
     "traceback": [
      "\u001b[0;31m---------------------------------------------------------------------------\u001b[0m",
      "\u001b[0;31mUnboundLocalError\u001b[0m                         Traceback (most recent call last)",
      "Input \u001b[0;32mIn [10]\u001b[0m, in \u001b[0;36m<cell line: 2>\u001b[0;34m()\u001b[0m\n\u001b[1;32m      1\u001b[0m \u001b[38;5;66;03m# Finally, add all reactions to the EnzymeML document\u001b[39;00m\n\u001b[0;32m----> 2\u001b[0m reaction_ids \u001b[38;5;241m=\u001b[39m enzmldoc\u001b[38;5;241m.\u001b[39maddReactions(\n\u001b[1;32m      3\u001b[0m     [r1, r2, r3, r4, r5, r6, r7, r8, r9, r10, r11, r12, r13]\n\u001b[1;32m      4\u001b[0m )\n",
      "File \u001b[0;32m~/src/git/EnzymeML/PyEnzyme/pyenzyme/enzymeml/core/enzymemldocument.py:1220\u001b[0m, in \u001b[0;36mEnzymeMLDocument.addReactions\u001b[0;34m(self, reactions)\u001b[0m\n\u001b[1;32m   1213\u001b[0m \u001b[38;5;28;01mdef\u001b[39;00m \u001b[38;5;21maddReactions\u001b[39m(\u001b[38;5;28mself\u001b[39m, reactions: List[EnzymeReaction]):\n\u001b[1;32m   1214\u001b[0m     \u001b[38;5;124;03m\"\"\"Adds multiple reactions to an EnzymeML document.\u001b[39;00m\n\u001b[1;32m   1215\u001b[0m \n\u001b[1;32m   1216\u001b[0m \u001b[38;5;124;03m    Args:\u001b[39;00m\n\u001b[1;32m   1217\u001b[0m \u001b[38;5;124;03m        reactions (List[EnzymeReaction]): List of EnzymeReaction objects\u001b[39;00m\n\u001b[1;32m   1218\u001b[0m \u001b[38;5;124;03m    \"\"\"\u001b[39;00m\n\u001b[0;32m-> 1220\u001b[0m     \u001b[38;5;28;01mreturn\u001b[39;00m {\n\u001b[1;32m   1221\u001b[0m         reaction\u001b[38;5;241m.\u001b[39mname: \u001b[38;5;28mself\u001b[39m\u001b[38;5;241m.\u001b[39maddReaction(reaction)\n\u001b[1;32m   1222\u001b[0m         \u001b[38;5;28;01mfor\u001b[39;00m reaction \u001b[38;5;129;01min\u001b[39;00m reactions\n\u001b[1;32m   1223\u001b[0m     }\n",
      "File \u001b[0;32m~/src/git/EnzymeML/PyEnzyme/pyenzyme/enzymeml/core/enzymemldocument.py:1221\u001b[0m, in \u001b[0;36m<dictcomp>\u001b[0;34m(.0)\u001b[0m\n\u001b[1;32m   1213\u001b[0m \u001b[38;5;28;01mdef\u001b[39;00m \u001b[38;5;21maddReactions\u001b[39m(\u001b[38;5;28mself\u001b[39m, reactions: List[EnzymeReaction]):\n\u001b[1;32m   1214\u001b[0m     \u001b[38;5;124;03m\"\"\"Adds multiple reactions to an EnzymeML document.\u001b[39;00m\n\u001b[1;32m   1215\u001b[0m \n\u001b[1;32m   1216\u001b[0m \u001b[38;5;124;03m    Args:\u001b[39;00m\n\u001b[1;32m   1217\u001b[0m \u001b[38;5;124;03m        reactions (List[EnzymeReaction]): List of EnzymeReaction objects\u001b[39;00m\n\u001b[1;32m   1218\u001b[0m \u001b[38;5;124;03m    \"\"\"\u001b[39;00m\n\u001b[1;32m   1220\u001b[0m     \u001b[38;5;28;01mreturn\u001b[39;00m {\n\u001b[0;32m-> 1221\u001b[0m         reaction\u001b[38;5;241m.\u001b[39mname: \u001b[38;5;28;43mself\u001b[39;49m\u001b[38;5;241;43m.\u001b[39;49m\u001b[43maddReaction\u001b[49m\u001b[43m(\u001b[49m\u001b[43mreaction\u001b[49m\u001b[43m)\u001b[49m\n\u001b[1;32m   1222\u001b[0m         \u001b[38;5;28;01mfor\u001b[39;00m reaction \u001b[38;5;129;01min\u001b[39;00m reactions\n\u001b[1;32m   1223\u001b[0m     }\n",
      "File \u001b[0;32m~/src/git/EnzymeML/PyEnzyme/pyenzyme/enzymeml/core/enzymemldocument.py:1122\u001b[0m, in \u001b[0;36mEnzymeMLDocument.addReaction\u001b[0;34m(self, reaction, use_parser)\u001b[0m\n\u001b[1;32m   1117\u001b[0m     \u001b[38;5;28mself\u001b[39m\u001b[38;5;241m.\u001b[39m_reference_global_parameters(\n\u001b[1;32m   1118\u001b[0m         model\u001b[38;5;241m=\u001b[39mreaction\u001b[38;5;241m.\u001b[39mmodel\n\u001b[1;32m   1119\u001b[0m     )\n\u001b[1;32m   1121\u001b[0m     \u001b[38;5;66;03m# Unit conversion\u001b[39;00m\n\u001b[0;32m-> 1122\u001b[0m     \u001b[38;5;28;43mself\u001b[39;49m\u001b[38;5;241;43m.\u001b[39;49m\u001b[43m_convert_kinetic_model_units\u001b[49m\u001b[43m(\u001b[49m\n\u001b[1;32m   1123\u001b[0m \u001b[43m        \u001b[49m\u001b[43mreaction\u001b[49m\u001b[38;5;241;43m.\u001b[39;49m\u001b[43mmodel\u001b[49m\u001b[38;5;241;43m.\u001b[39;49m\u001b[43mparameters\u001b[49m\u001b[43m,\u001b[49m\n\u001b[1;32m   1124\u001b[0m \u001b[43m        \u001b[49m\u001b[43menzmldoc\u001b[49m\u001b[38;5;241;43m=\u001b[39;49m\u001b[38;5;28;43mself\u001b[39;49m\n\u001b[1;32m   1125\u001b[0m \u001b[43m    \u001b[49m\u001b[43m)\u001b[49m\n\u001b[1;32m   1127\u001b[0m \u001b[38;5;66;03m# Finally add the reaction to the document\u001b[39;00m\n\u001b[1;32m   1128\u001b[0m \u001b[38;5;28mself\u001b[39m\u001b[38;5;241m.\u001b[39mreaction_dict[reaction\u001b[38;5;241m.\u001b[39mid] \u001b[38;5;241m=\u001b[39m reaction\n",
      "File \u001b[0;32m~/src/git/EnzymeML/PyEnzyme/pyenzyme/enzymeml/core/enzymemldocument.py:1211\u001b[0m, in \u001b[0;36mEnzymeMLDocument._convert_kinetic_model_units\u001b[0;34m(parameters, enzmldoc)\u001b[0m\n\u001b[1;32m   1209\u001b[0m \u001b[38;5;28;01mfor\u001b[39;00m parameter \u001b[38;5;129;01min\u001b[39;00m parameters:\n\u001b[1;32m   1210\u001b[0m     \u001b[38;5;28;01mif\u001b[39;00m parameter\u001b[38;5;241m.\u001b[39munit:\n\u001b[0;32m-> 1211\u001b[0m         parameter\u001b[38;5;241m.\u001b[39m_unit_id \u001b[38;5;241m=\u001b[39m \u001b[43menzmldoc\u001b[49m\u001b[38;5;241;43m.\u001b[39;49m\u001b[43m_convertToUnitDef\u001b[49m\u001b[43m(\u001b[49m\u001b[43mparameter\u001b[49m\u001b[38;5;241;43m.\u001b[39;49m\u001b[43munit\u001b[49m\u001b[43m)\u001b[49m\n",
      "File \u001b[0;32m~/src/git/EnzymeML/PyEnzyme/pyenzyme/enzymeml/core/enzymemldocument.py:1429\u001b[0m, in \u001b[0;36mEnzymeMLDocument._convertToUnitDef\u001b[0;34m(self, unit)\u001b[0m\n\u001b[1;32m   1426\u001b[0m \u001b[38;5;28;01melif\u001b[39;00m unit \u001b[38;5;129;01min\u001b[39;00m \u001b[38;5;28mself\u001b[39m\u001b[38;5;241m.\u001b[39munit_dict\u001b[38;5;241m.\u001b[39mkeys():\n\u001b[1;32m   1427\u001b[0m     \u001b[38;5;28;01mreturn\u001b[39;00m unit\n\u001b[0;32m-> 1429\u001b[0m \u001b[38;5;28;01mreturn\u001b[39;00m \u001b[43mUnitCreator\u001b[49m\u001b[43m(\u001b[49m\u001b[43m)\u001b[49m\u001b[38;5;241;43m.\u001b[39;49m\u001b[43mgetUnit\u001b[49m\u001b[43m(\u001b[49m\u001b[43munit\u001b[49m\u001b[43m,\u001b[49m\u001b[43m \u001b[49m\u001b[38;5;28;43mself\u001b[39;49m\u001b[43m)\u001b[49m\n",
      "File \u001b[0;32m~/src/git/EnzymeML/PyEnzyme/pyenzyme/enzymeml/tools/unitcreator.py:67\u001b[0m, in \u001b[0;36mUnitCreator.getUnit\u001b[0;34m(self, unit_string, enzmldoc)\u001b[0m\n\u001b[1;32m     65\u001b[0m \u001b[38;5;66;03m# Call unit parser to identify units\u001b[39;00m\n\u001b[1;32m     66\u001b[0m parser \u001b[38;5;241m=\u001b[39m UnitParser()\n\u001b[0;32m---> 67\u001b[0m units \u001b[38;5;241m=\u001b[39m \u001b[38;5;28msorted\u001b[39m(\u001b[43mparser\u001b[49m\u001b[38;5;241;43m.\u001b[39;49m\u001b[43mparse\u001b[49m\u001b[43m(\u001b[49m\u001b[43munit_string\u001b[49m\u001b[43m)\u001b[49m)\n\u001b[1;32m     69\u001b[0m \u001b[38;5;66;03m# Initialize UnitDef\u001b[39;00m\n\u001b[1;32m     70\u001b[0m nominator, denominator \u001b[38;5;241m=\u001b[39m [], []\n",
      "File \u001b[0;32m~/src/git/EnzymeML/PyEnzyme/pyenzyme/enzymeml/tools/unitparser.py:37\u001b[0m, in \u001b[0;36mUnitParser.parse\u001b[0;34m(self, exp_string)\u001b[0m\n\u001b[1;32m     34\u001b[0m \u001b[38;5;28;01mdef\u001b[39;00m \u001b[38;5;21mparse\u001b[39m(\u001b[38;5;28mself\u001b[39m, exp_string):\n\u001b[1;32m     35\u001b[0m \n\u001b[1;32m     36\u001b[0m     \u001b[38;5;66;03m# reformat string\u001b[39;00m\n\u001b[0;32m---> 37\u001b[0m     exp_string \u001b[38;5;241m=\u001b[39m \u001b[38;5;28;43mself\u001b[39;49m\u001b[38;5;241;43m.\u001b[39;49m\u001b[43m__exponentString\u001b[49m\u001b[43m(\u001b[49m\u001b[43mexp_string\u001b[49m\u001b[43m)\u001b[49m\n\u001b[1;32m     39\u001b[0m     \u001b[38;5;66;03m# split by exponents\u001b[39;00m\n\u001b[1;32m     40\u001b[0m     regex \u001b[38;5;241m=\u001b[39m \u001b[38;5;124mr\u001b[39m\u001b[38;5;124m\"\u001b[39m\u001b[38;5;124m([a-zA-Z]*)([-+][\u001b[39m\u001b[38;5;124m\\\u001b[39m\u001b[38;5;124md]*)\u001b[39m\u001b[38;5;124m\"\u001b[39m\n",
      "File \u001b[0;32m~/src/git/EnzymeML/PyEnzyme/pyenzyme/enzymeml/tools/unitparser.py:103\u001b[0m, in \u001b[0;36mUnitParser.__exponentString\u001b[0;34m(self, string)\u001b[0m\n\u001b[1;32m     99\u001b[0m     nom \u001b[38;5;241m=\u001b[39m string\n\u001b[1;32m    100\u001b[0m     den \u001b[38;5;241m=\u001b[39m []\n\u001b[1;32m    102\u001b[0m \u001b[38;5;28;01mreturn\u001b[39;00m \u001b[38;5;124m\"\u001b[39m\u001b[38;5;124m\"\u001b[39m\u001b[38;5;241m.\u001b[39mjoin(\n\u001b[0;32m--> 103\u001b[0m     [\u001b[38;5;28mself\u001b[39m\u001b[38;5;241m.\u001b[39m__reformatString(unit, \u001b[38;5;124m\"\u001b[39m\u001b[38;5;124m+\u001b[39m\u001b[38;5;124m\"\u001b[39m) \u001b[38;5;28;01mfor\u001b[39;00m unit \u001b[38;5;129;01min\u001b[39;00m \u001b[43mnom\u001b[49m] \u001b[38;5;241m+\u001b[39m\n\u001b[1;32m    104\u001b[0m     [\u001b[38;5;28mself\u001b[39m\u001b[38;5;241m.\u001b[39m__reformatString(unit, \u001b[38;5;124m\"\u001b[39m\u001b[38;5;124m-\u001b[39m\u001b[38;5;124m\"\u001b[39m) \u001b[38;5;28;01mfor\u001b[39;00m unit \u001b[38;5;129;01min\u001b[39;00m den]\n\u001b[1;32m    105\u001b[0m )\n",
      "\u001b[0;31mUnboundLocalError\u001b[0m: local variable 'nom' referenced before assignment"
     ]
    }
   ],
   "source": [
    "# Finally, add all reactions to the EnzymeML document\n",
    "reaction_ids = enzmldoc.addReactions(\n",
    "    [r1, r2, r3, r4, r5, r6, r7, r8, r9, r10, r11, r12, r13]\n",
    ")"
   ]
  },
  {
   "cell_type": "code",
   "execution_count": 11,
   "id": "263be1b8-bd10-4549-98f8-8689aade6d57",
   "metadata": {},
   "outputs": [
    {
     "data": {
      "text/html": [
       "<div>\n",
       "<style scoped>\n",
       "    .dataframe tbody tr th:only-of-type {\n",
       "        vertical-align: middle;\n",
       "    }\n",
       "\n",
       "    .dataframe tbody tr th {\n",
       "        vertical-align: top;\n",
       "    }\n",
       "\n",
       "    .dataframe thead th {\n",
       "        text-align: right;\n",
       "    }\n",
       "</style>\n",
       "<table border=\"1\" class=\"dataframe\">\n",
       "  <thead>\n",
       "    <tr style=\"text-align: right;\">\n",
       "      <th></th>\n",
       "      <th>Name</th>\n",
       "      <th>equation</th>\n",
       "      <th>kinetic law</th>\n",
       "    </tr>\n",
       "    <tr>\n",
       "      <th>ID</th>\n",
       "      <th></th>\n",
       "      <th></th>\n",
       "      <th></th>\n",
       "    </tr>\n",
       "  </thead>\n",
       "  <tbody>\n",
       "    <tr>\n",
       "      <th>r0</th>\n",
       "      <td>reaction-1</td>\n",
       "      <td>1.0 E + 1.0 7-ADCA &lt;=&gt; 1.0 E·7-ADCA</td>\n",
       "      <td>v_r*(K_n * (E * 7-ADCA) - E·7-ADCA)</td>\n",
       "    </tr>\n",
       "    <tr>\n",
       "      <th>r1</th>\n",
       "      <td>reaction-2</td>\n",
       "      <td>1.0 E + 1.0 PGME &lt;=&gt; 1.0 E·PGME</td>\n",
       "      <td>v_r*(K_s * (E * PGME) - E·PGME)</td>\n",
       "    </tr>\n",
       "    <tr>\n",
       "      <th>r2</th>\n",
       "      <td>reaction-3</td>\n",
       "      <td>1.0 E·PGME -&gt; 1.0 EA</td>\n",
       "      <td>k_2 * E·PGME</td>\n",
       "    </tr>\n",
       "    <tr>\n",
       "      <th>r3</th>\n",
       "      <td>reaction-4</td>\n",
       "      <td>1.0 E·PGME + 1.0 PGME &lt;=&gt; 1.0 E·PGME·PGME</td>\n",
       "      <td>v_r*(K_si * (E·PGME * PGME) - E·PGME·PGME)</td>\n",
       "    </tr>\n",
       "    <tr>\n",
       "      <th>r4</th>\n",
       "      <td>reaction-5</td>\n",
       "      <td>1.0 EA + 1.0 PGME &lt;=&gt; 1.0 EA·PGME</td>\n",
       "      <td>v_r*(K_si * (EA * PGME) - EA·PGME)</td>\n",
       "    </tr>\n",
       "    <tr>\n",
       "      <th>r5</th>\n",
       "      <td>reaction-6</td>\n",
       "      <td>1.0 EA·PGME -&gt; 1.0 E + 1.0 PG</td>\n",
       "      <td>k_6 * EA·PGME</td>\n",
       "    </tr>\n",
       "    <tr>\n",
       "      <th>r6</th>\n",
       "      <td>reaction-7</td>\n",
       "      <td>1.0 EA -&gt; 1.0 E + 1.0 PG</td>\n",
       "      <td>k_3 * EA</td>\n",
       "    </tr>\n",
       "    <tr>\n",
       "      <th>r7</th>\n",
       "      <td>reaction-8</td>\n",
       "      <td>1.0 E + 1.0 PG &lt;=&gt; 1.0 E·PG</td>\n",
       "      <td>v_r*(K_pg * (E * PG) - E·PG)</td>\n",
       "    </tr>\n",
       "    <tr>\n",
       "      <th>r8</th>\n",
       "      <td>reaction-9</td>\n",
       "      <td>1.0 EA + 1.0 7-ADCA &lt;=&gt; 1.0 EA·7-ADCA</td>\n",
       "      <td>v_r*(K_n * (EA * 7-ADCA) - EA·7-ADCA)</td>\n",
       "    </tr>\n",
       "    <tr>\n",
       "      <th>r9</th>\n",
       "      <td>reaction-10</td>\n",
       "      <td>1.0 EA·7-ADCA -&gt; 1.0 E + 1.0 PG + 1.0 7-ADCA</td>\n",
       "      <td>k_5 * EA·7-ADCA</td>\n",
       "    </tr>\n",
       "    <tr>\n",
       "      <th>r10</th>\n",
       "      <td>reaction-11</td>\n",
       "      <td>1.0 EA·7-ADCA &lt;=&gt; 1.0 E·CEX</td>\n",
       "      <td>k_4 * EA·7-ADCA - k_4b * E·CEX</td>\n",
       "    </tr>\n",
       "  </tbody>\n",
       "</table>\n",
       "</div>"
      ],
      "text/plain": [
       "            Name                                      equation  \\\n",
       "ID                                                               \n",
       "r0    reaction-1           1.0 E + 1.0 7-ADCA <=> 1.0 E·7-ADCA   \n",
       "r1    reaction-2               1.0 E + 1.0 PGME <=> 1.0 E·PGME   \n",
       "r2    reaction-3                          1.0 E·PGME -> 1.0 EA   \n",
       "r3    reaction-4     1.0 E·PGME + 1.0 PGME <=> 1.0 E·PGME·PGME   \n",
       "r4    reaction-5             1.0 EA + 1.0 PGME <=> 1.0 EA·PGME   \n",
       "r5    reaction-6                 1.0 EA·PGME -> 1.0 E + 1.0 PG   \n",
       "r6    reaction-7                      1.0 EA -> 1.0 E + 1.0 PG   \n",
       "r7    reaction-8                   1.0 E + 1.0 PG <=> 1.0 E·PG   \n",
       "r8    reaction-9         1.0 EA + 1.0 7-ADCA <=> 1.0 EA·7-ADCA   \n",
       "r9   reaction-10  1.0 EA·7-ADCA -> 1.0 E + 1.0 PG + 1.0 7-ADCA   \n",
       "r10  reaction-11                   1.0 EA·7-ADCA <=> 1.0 E·CEX   \n",
       "\n",
       "                                    kinetic law  \n",
       "ID                                               \n",
       "r0          v_r*(K_n * (E * 7-ADCA) - E·7-ADCA)  \n",
       "r1              v_r*(K_s * (E * PGME) - E·PGME)  \n",
       "r2                                 k_2 * E·PGME  \n",
       "r3   v_r*(K_si * (E·PGME * PGME) - E·PGME·PGME)  \n",
       "r4           v_r*(K_si * (EA * PGME) - EA·PGME)  \n",
       "r5                                k_6 * EA·PGME  \n",
       "r6                                     k_3 * EA  \n",
       "r7                 v_r*(K_pg * (E * PG) - E·PG)  \n",
       "r8        v_r*(K_n * (EA * 7-ADCA) - EA·7-ADCA)  \n",
       "r9                              k_5 * EA·7-ADCA  \n",
       "r10              k_4 * EA·7-ADCA - k_4b * E·CEX  "
      ]
     },
     "execution_count": 11,
     "metadata": {},
     "output_type": "execute_result"
    }
   ],
   "source": [
    "enzmldoc.printReactionSchemes(by_name=True)"
   ]
  },
  {
   "cell_type": "code",
   "execution_count": 11,
   "id": "ae47fd38-92b3-4be9-be1b-2fc1bf34337f",
   "metadata": {},
   "outputs": [
    {
     "name": "stdout",
     "output_type": "stream",
     "text": [
      "\n",
      "Archive was written to ./Model_4b.omex\n",
      "\n"
     ]
    }
   ],
   "source": [
    "# Finally, write the document to an OMEX archive\n",
    "enzmldoc.toFile(\".\", name=\"Model_4\")"
   ]
  },
  {
   "cell_type": "markdown",
   "id": "f45601f8-ff59-4715-b6dd-c2642715fb09",
   "metadata": {},
   "source": [
    "-----\n",
    "## Kinetic Modeling\n",
    "\n",
    "Now that the EnzymeMLDocument has been adapted to the micro-kinetic model, it can be modeled and optimized using PySCeS and COPASI. Since both modeling package interfaces are an integral part of PyEnzyme, called Thin Layer, a simple call to the corresponding Thin Layer object is necessary.\n",
    "\n",
    "But before optimization, it might be necessary to define initial values. Since manipulating the KineticParameter initial_values attributes inside the script that generates the EnzymeMLDocument can get quite tedious, PyEnzyme offers an external data structure from within initial values can be applied. This way, the EnzymeML document is only modifed at optimization and remains untouched until then.\n",
    "\n",
    "The initialization file is in the YAML format and contains all reactions and their parameters. In addtion, PyEnzyme offers a method to generate such a YAML file, which can be edited manually."
   ]
  },
  {
   "cell_type": "code",
   "execution_count": 13,
   "id": "a68e892c-122f-495f-bd4e-499881423649",
   "metadata": {},
   "outputs": [],
   "source": [
    "# In addition, generate a blank YAML file to manually enter initial values for modeling\n",
    "enzmldoc.generateInitialValueTemplate()"
   ]
  },
  {
   "cell_type": "markdown",
   "id": "9fa3c4ba-dc6b-4484-8f73-03d05de10ba3",
   "metadata": {},
   "source": [
    "## Using the PySCeS thin layer\n",
    "\n",
    "The PySCeS thin layer can be used in conjunction with the initialization YAML file. The thin layer will extract all necessary data, feed it into the simulation framework and iteratively optimizes the given parameters until convergence. At the end, the estimated parameters will be written to the EnzymeMLDocument and saved."
   ]
  },
  {
   "cell_type": "code",
   "execution_count": 11,
   "id": "dcccfcf5-faf4-4121-8854-5c2a8fbd970d",
   "metadata": {},
   "outputs": [],
   "source": [
    "from pyenzyme.thinlayers import ThinLayerPysces"
   ]
  },
  {
   "cell_type": "code",
   "execution_count": 12,
   "id": "54d98d8d",
   "metadata": {},
   "outputs": [
    {
     "name": "stdout",
     "output_type": "stream",
     "text": [
      "Check SBML support is at action level 2\n",
      "SBML file is L3V2\n",
      "\n",
      "\n",
      "\n",
      "*********ERRORS***********\n",
      "\n",
      "WARNING: Model is encoded as SBML Level 3, PySCeS only officially supports L2V5.\n",
      "\n",
      "*********ERRORS***********\n",
      "\n",
      "\n",
      "Possible errors detected in SBML conversion, Model may be incomplete. Please check the error log file \"EnzymeML_Lagerman.xml-sbml_conversion_errors.txt\" for details.\n",
      "\n",
      "\n",
      "*******************************************************************\n",
      "Issues encountered in SBML translation (model processed anyway)\n",
      "SBML source: pySCeS/EnzymeML_Lagerman.xml\n",
      "*******************************************************************\n",
      "\n",
      "Parameter units ignored for parameters:\n",
      "['K_si', 'K_n', 'v_r'] \n",
      "\n",
      "Parameter units ignored for (local) parameters:\n",
      "['K_s', 'k_2', 'k_6', 'k_3', 'K_pg', 'k_5', 'k_4', 'k_4b', 'K_p', 'k_d'] \n",
      "\n",
      "*******************************************************************\n",
      "\n",
      "Info: single compartment model: locating \"r0\" in default compartment\n",
      "Info: single compartment model: locating \"r1\" in default compartment\n",
      "Info: single compartment model: locating \"r2\" in default compartment\n",
      "Info: single compartment model: locating \"r3\" in default compartment\n",
      "Info: single compartment model: locating \"r4\" in default compartment\n",
      "Info: single compartment model: locating \"r5\" in default compartment\n",
      "Info: single compartment model: locating \"r6\" in default compartment\n",
      "Info: single compartment model: locating \"r7\" in default compartment\n",
      "Info: single compartment model: locating \"r8\" in default compartment\n",
      "Info: single compartment model: locating \"r9\" in default compartment\n",
      "Info: single compartment model: locating \"r10\" in default compartment\n",
      "Info: single compartment model: locating \"r11\" in default compartment\n",
      "Info: single compartment model: locating \"r12\" in default compartment\n",
      "Writing file: pySCeS/EnzymeML_Lagerman.xml.psc\n",
      "\n",
      "SBML2PSC\n",
      "in : pySCeS/EnzymeML_Lagerman.xml\n",
      "out: pySCeS/EnzymeML_Lagerman.xml.psc\n",
      "Assuming extension is .psc\n",
      "Using model directory: pySCeS\n",
      "pySCeS/EnzymeML_Lagerman.xml.psc loading ..... \n",
      "Parsing file: pySCeS/EnzymeML_Lagerman.xml.psc\n",
      "Info: No reagents have been fixed\n",
      " \n",
      "Calculating L matrix . . . . . . .  done.\n",
      "Calculating K matrix . . . . . . . . .  done.\n",
      " \n"
     ]
    }
   ],
   "source": [
    "# Initialize the layer\n",
    "tl_pysces = ThinLayerPysces(\n",
    "    \"Model_4.omex\", init_file=\"EnzymeML_Lagerman_init_values_.yaml\",\n",
    "    model_dir=\"pySCeS\"\n",
    ")"
   ]
  },
  {
   "cell_type": "code",
   "execution_count": 13,
   "id": "613fb297-7699-4771-9681-2274391e6acd",
   "metadata": {},
   "outputs": [],
   "source": [
    "# Run optimization\n",
    "tl_pysces.model.__settings__[\"lsoda_mxstep\"] = 3000\n",
    "tl_opt = tl_pysces.optimize()"
   ]
  },
  {
   "cell_type": "code",
   "execution_count": 14,
   "id": "7b6212d0",
   "metadata": {
    "scrolled": true
   },
   "outputs": [
    {
     "data": {
      "text/html": [
       "<h2>Fit Statistics</h2><table><tr><td>fitting method</td><td>leastsq</td><td></td></tr><tr><td># function evals</td><td>191</td><td></td></tr><tr><td># data points</td><td>320</td><td></td></tr><tr><td># variables</td><td>12</td><td></td></tr><tr><td>chi-square</td><td> 3208.14705</td><td></td></tr><tr><td>reduced chi-square</td><td> 10.4160618</td><td></td></tr><tr><td>Akaike info crit.</td><td> 761.640899</td><td></td></tr><tr><td>Bayesian info crit.</td><td> 806.860751</td><td></td></tr></table><h2>Variables</h2><table><tr><th> name </th><th> value </th><th> standard error </th><th> relative error </th><th> initial value </th><th> min </th><th> max </th><th> vary </th></tr><tr><td> K_si </td><td>  16.8941418 </td><td>  0.13349001 </td><td> (0.79%) </td><td> 16.12556695 </td><td>  0.01000000 </td><td>  50.0000000 </td><td> True </td></tr><tr><td> K_n </td><td>  8.41359997 </td><td>  1.54966869 </td><td> (18.42%) </td><td> 14.16013538 </td><td>  0.01000000 </td><td>  1000.00000 </td><td> True </td></tr><tr><td> v_r </td><td>  10000.0000 </td><td>  0.00000000 </td><td> (0.00%) </td><td> 10000.0 </td><td>        -inf </td><td>         inf </td><td> False </td></tr><tr><td> r1_K_s </td><td>  1.15552290 </td><td>  0.18054513 </td><td> (15.62%) </td><td> 0.9517666749 </td><td>  0.01000000 </td><td>  1000.00000 </td><td> True </td></tr><tr><td> r2_k_2 </td><td>  28576.7756 </td><td>  1328.72562 </td><td> (4.65%) </td><td> 32894.518 </td><td>  0.01000000 </td><td>  1000000.00 </td><td> True </td></tr><tr><td> r5_k_6 </td><td>  28.8946795 </td><td>  52.1947614 </td><td> (180.64%) </td><td> 1364.827977 </td><td>  0.01000000 </td><td>  1000000.00 </td><td> True </td></tr><tr><td> r6_k_3 </td><td>  993322.948 </td><td>  1640.66553 </td><td> (0.17%) </td><td> 999911.3271 </td><td>  0.01000000 </td><td>  1000000.00 </td><td> True </td></tr><tr><td> r7_K_pg </td><td>  184.144859 </td><td>  6.58572484 </td><td> (3.58%) </td><td> 163.4985656 </td><td>  0.01000000 </td><td>  1000.00000 </td><td> True </td></tr><tr><td> r9_k_5 </td><td>  1767.33872 </td><td>  577.531715 </td><td> (32.68%) </td><td> 438.2508805 </td><td>  0.01000000 </td><td>  1000000.00 </td><td> True </td></tr><tr><td> r10_k_4 </td><td>  20572.0849 </td><td>  3475.02710 </td><td> (16.89%) </td><td> 13120.92495 </td><td>  0.01000000 </td><td>  1000000.00 </td><td> True </td></tr><tr><td> r10_k_4b </td><td>  575681.462 </td><td>  1269.64982 </td><td> (0.22%) </td><td> 572987.5006 </td><td>  0.01000000 </td><td>  1000000.00 </td><td> True </td></tr><tr><td> r11_K_p </td><td>  118.909276 </td><td>  18.7896102 </td><td> (15.80%) </td><td> 102.3138715 </td><td>  0.01000000 </td><td>  10000.0000 </td><td> True </td></tr><tr><td> r12_k_d </td><td>  0.30162994 </td><td>  6.2915e-04 </td><td> (0.21%) </td><td> 0.3011902176 </td><td>  0.30000000 </td><td>  0.50000000 </td><td> True </td></tr></table><h2>Correlations (unreported correlations are < 0.100)</h2><table><tr><td>K_si</td><td>r12_k_d</td><td>0.7282</td></tr><tr><td>K_n</td><td>r12_k_d</td><td>0.6603</td></tr><tr><td>K_n</td><td>r10_k_4</td><td>-0.6452</td></tr><tr><td>r10_k_4</td><td>r12_k_d</td><td>-0.5824</td></tr><tr><td>r6_k_3</td><td>r10_k_4b</td><td>-0.5690</td></tr><tr><td>r1_K_s</td><td>r6_k_3</td><td>-0.5639</td></tr><tr><td>r7_K_pg</td><td>r10_k_4</td><td>-0.5552</td></tr><tr><td>K_si</td><td>r10_k_4</td><td>-0.5351</td></tr><tr><td>r7_K_pg</td><td>r12_k_d</td><td>0.5126</td></tr><tr><td>r6_k_3</td><td>r7_K_pg</td><td>-0.5116</td></tr><tr><td>r2_k_2</td><td>r5_k_6</td><td>-0.4731</td></tr><tr><td>r1_K_s</td><td>r7_K_pg</td><td>0.4699</td></tr><tr><td>r1_K_s</td><td>r10_k_4</td><td>-0.4585</td></tr><tr><td>r1_K_s</td><td>r12_k_d</td><td>0.4365</td></tr><tr><td>K_si</td><td>r1_K_s</td><td>0.4323</td></tr><tr><td>K_n</td><td>r7_K_pg</td><td>0.4294</td></tr><tr><td>K_n</td><td>r11_K_p</td><td>-0.4129</td></tr><tr><td>r10_k_4</td><td>r10_k_4b</td><td>-0.4126</td></tr><tr><td>r7_K_pg</td><td>r11_K_p</td><td>-0.3878</td></tr><tr><td>r2_k_2</td><td>r9_k_5</td><td>-0.3841</td></tr><tr><td>r6_k_3</td><td>r10_k_4</td><td>0.3804</td></tr><tr><td>K_n</td><td>r9_k_5</td><td>0.3598</td></tr><tr><td>K_si</td><td>K_n</td><td>0.3232</td></tr><tr><td>K_n</td><td>r2_k_2</td><td>-0.2889</td></tr><tr><td>r10_k_4b</td><td>r11_K_p</td><td>0.2817</td></tr><tr><td>r5_k_6</td><td>r6_k_3</td><td>-0.2739</td></tr><tr><td>r9_k_5</td><td>r12_k_d</td><td>0.2632</td></tr><tr><td>K_si</td><td>r10_k_4b</td><td>0.2529</td></tr><tr><td>K_si</td><td>r7_K_pg</td><td>0.2513</td></tr><tr><td>r6_k_3</td><td>r9_k_5</td><td>0.2499</td></tr><tr><td>r2_k_2</td><td>r6_k_3</td><td>0.2461</td></tr><tr><td>r11_K_p</td><td>r12_k_d</td><td>-0.2383</td></tr><tr><td>r6_k_3</td><td>r12_k_d</td><td>-0.2273</td></tr><tr><td>r7_K_pg</td><td>r9_k_5</td><td>-0.2048</td></tr><tr><td>K_si</td><td>r6_k_3</td><td>-0.1994</td></tr><tr><td>r10_k_4b</td><td>r12_k_d</td><td>0.1946</td></tr><tr><td>r1_K_s</td><td>r9_k_5</td><td>-0.1883</td></tr><tr><td>r5_k_6</td><td>r9_k_5</td><td>-0.1803</td></tr><tr><td>r2_k_2</td><td>r7_K_pg</td><td>0.1757</td></tr><tr><td>r1_K_s</td><td>r10_k_4b</td><td>0.1670</td></tr><tr><td>K_n</td><td>r1_K_s</td><td>0.1595</td></tr><tr><td>K_si</td><td>r11_K_p</td><td>-0.1470</td></tr><tr><td>r9_k_5</td><td>r11_K_p</td><td>0.1391</td></tr><tr><td>K_si</td><td>r2_k_2</td><td>0.1293</td></tr><tr><td>r1_K_s</td><td>r2_k_2</td><td>-0.1188</td></tr><tr><td>r2_k_2</td><td>r12_k_d</td><td>0.1124</td></tr><tr><td>r1_K_s</td><td>r5_k_6</td><td>0.1112</td></tr><tr><td>r5_k_6</td><td>r7_K_pg</td><td>-0.1053</td></tr><tr><td>r9_k_5</td><td>r10_k_4</td><td>0.1024</td></tr></table>"
      ],
      "text/plain": [
       "<lmfit.minimizer.MinimizerResult at 0x7fc314fa7610>"
      ]
     },
     "execution_count": 14,
     "metadata": {},
     "output_type": "execute_result"
    }
   ],
   "source": [
    "tl_opt"
   ]
  },
  {
   "cell_type": "code",
   "execution_count": 15,
   "id": "0b2f681f-e3ca-4f14-b7ae-89068ea1bfa2",
   "metadata": {},
   "outputs": [
    {
     "name": "stderr",
     "output_type": "stream",
     "text": [
      "DEBUG:pyenzyme:KineticParameter 'K_si' - value was set from '16.12556695' to '16.894141777937122'\n",
      "DEBUG:pyenzyme:KineticParameter 'K_n' - value was set from '14.16013538' to '8.413599971214888'\n",
      "DEBUG:pyenzyme:KineticParameter 'v_r' - value was set from '10000.0' to '10000.0'\n",
      "DEBUG:pyenzyme:KineticParameter 'K_s' - value was set from '0.9517666749' to '1.1555228955425927'\n",
      "DEBUG:pyenzyme:KineticParameter 'k_2' - value was set from '32894.518' to '28576.775629991866'\n",
      "DEBUG:pyenzyme:KineticParameter 'k_6' - value was set from '1364.827977' to '28.894679537022267'\n",
      "DEBUG:pyenzyme:KineticParameter 'k_3' - value was set from '999911.3271' to '993322.9484773898'\n",
      "DEBUG:pyenzyme:KineticParameter 'K_pg' - value was set from '163.4985656' to '184.14485861671594'\n",
      "DEBUG:pyenzyme:KineticParameter 'k_5' - value was set from '438.2508805' to '1767.3387199452468'\n",
      "DEBUG:pyenzyme:KineticParameter 'k_4' - value was set from '13120.92495' to '20572.084853315104'\n",
      "DEBUG:pyenzyme:KineticParameter 'k_4b' - value was set from '572987.5006' to '575681.4621999995'\n",
      "DEBUG:pyenzyme:KineticParameter 'K_p' - value was set from '102.3138715' to '118.90927615463508'\n",
      "DEBUG:pyenzyme:KineticParameter 'k_d' - value was set from '0.3011902176' to '0.30162993785560616'\n"
     ]
    },
    {
     "name": "stdout",
     "output_type": "stream",
     "text": [
      "\n",
      "Archive was written to ./EnzymeML_Lagerman_M4_PySCeS_Modeled.omex\n",
      "\n"
     ]
    }
   ],
   "source": [
    "# Write to new EnzymeMLDocument and save\n",
    "pysces_doc = tl_pysces.write()\n",
    "pysces_doc.toFile(\".\", name=\"EnzymeML_Lagerman_M4_PySCeS_Modeled\")"
   ]
  }
 ],
 "metadata": {
  "kernelspec": {
   "display_name": "Python 3 (ipykernel)",
   "language": "python",
   "name": "python3"
  },
  "language_info": {
   "codemirror_mode": {
    "name": "ipython",
    "version": 3
   },
   "file_extension": ".py",
   "mimetype": "text/x-python",
   "name": "python",
   "nbconvert_exporter": "python",
   "pygments_lexer": "ipython3",
   "version": "3.10.2"
  },
  "toc": {
   "base_numbering": 1,
   "nav_menu": {},
   "number_sections": true,
   "sideBar": true,
   "skip_h1_title": false,
   "title_cell": "Table of Contents",
   "title_sidebar": "Contents",
   "toc_cell": false,
   "toc_position": {},
   "toc_section_display": true,
   "toc_window_display": true
  }
 },
 "nbformat": 4,
 "nbformat_minor": 5
}
