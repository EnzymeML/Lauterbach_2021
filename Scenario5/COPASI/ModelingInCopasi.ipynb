{
 "cells": [
  {
   "cell_type": "markdown",
   "id": "5d2408f8",
   "metadata": {},
   "source": [
    "# Scenario 5: Modelling in COPASI\n",
    "In this notebook we demonstrate how to open an EnzymeML document, and use [basico](https://basico.readthedocs.io), a high level interface to [COPASI](http://copasi.org) to assign a kinetic function to the model, and estimate it's parameters based on the measurement data included in the EnzymeML document. From there we start two modeling project, one based on ODE's and one based on mass action kinetics to demonstrate how that could be done. \n",
    "\n",
    "For this to work, you will have to have basico installed, as well as PyEnzymeML, which you can do by running: \n",
    "\n",
    "```\n",
    "    !pip install copasi-basico    \n",
    "```\n",
    "\n",
    "We also need a newer version of PyEnzymeML that has not yet been released, so will have to be installed directly from git, using: \n",
    "\n",
    "```\n",
    "    !pip install git+git://github.com/EnzymeML/PyEnzyme.git@feature/experiment-class\n",
    "```\n",
    "\n",
    "\n",
    "After that we start with our imports:"
   ]
  },
  {
   "cell_type": "code",
   "execution_count": 1,
   "id": "3abc14ec",
   "metadata": {},
   "outputs": [],
   "source": [
    "import os\n",
    "from basico import *\n",
    "from pyenzyme.enzymeml.core import *\n",
    "from pyenzyme.enzymeml.models import KineticModel"
   ]
  },
  {
   "cell_type": "code",
   "execution_count": 2,
   "id": "bf79bd16",
   "metadata": {},
   "outputs": [],
   "source": [
    "%matplotlib inline"
   ]
  },
  {
   "cell_type": "markdown",
   "id": "834add0b",
   "metadata": {},
   "source": [
    "## Modeling the reaction encoded in the EnzymeML document\n",
    "Here we use the EnzymeML document prepared for the Lagerman 2021 paper: “Kinetic model development for α-amino ester hydrolase (AEH)-catalyzed synthesis of β-lactam antibiotics”  https://doi.org/10.1016/j.cej.2021.131816 \n",
    "\n",
    "We do this in several ways, \n",
    "* first we demonstrate how to just fit a simple trajectory using COPASI. This can be readily compared to the cases where ODE modeling was being used, as for example in the use case described by Hannah Dienhart.  \n",
    "* second we show how to enter the same ODE's from the Lagerman publication and look at fitting those to the experimental data\n",
    "* third we show how to create a full model from scratch as Mass action kinetics and use those to fir the data. "
   ]
  },
  {
   "cell_type": "code",
   "execution_count": 3,
   "id": "b832cbe3",
   "metadata": {},
   "outputs": [
    {
     "data": {
      "text/plain": [
       "EnzymeML_Lagerman\n",
       ">>> Reactants\n",
       "\tID: s0 \t Name: (R)-(-)-2-Phenylglycine methyl ester\n",
       "\tID: s1 \t Name: 7-Aminodesacetoxycephalosporanic acid\n",
       "\tID: s2 \t Name: Cephalexin\n",
       "\tID: s3 \t Name: Phenylglycine\n",
       ">>> Proteins\n",
       "\tID: p0 \t Name: Amino Ester Hydrolase\n",
       ">>> Complexes\n",
       ">>> Reactions\n",
       "\tID: r0 \t Name: Cephalexin synthesis"
      ]
     },
     "execution_count": 3,
     "metadata": {},
     "output_type": "execute_result"
    }
   ],
   "source": [
    "# First read the EnzymeML document that has been created\n",
    "enzmldoc = EnzymeMLDocument.fromFile('./data/EnzymeML_Lagerman.omex')\n",
    "enzmldoc"
   ]
  },
  {
   "cell_type": "markdown",
   "id": "96809e66",
   "metadata": {},
   "source": [
    "we begin by extracting the measurement data for a given time course to fit: "
   ]
  },
  {
   "cell_type": "code",
   "execution_count": 4,
   "id": "999d62e8",
   "metadata": {},
   "outputs": [],
   "source": [
    "reaction_id = 'r0'\n",
    "reaction = enzmldoc.getReaction(reaction_id)\n",
    "reactant_id = 's0'\n",
    "measurement_id = 'm0'\n",
    "\n",
    "m = enzmldoc.getMeasurement(measurement_id)\n",
    "data = m.getReactant(reactant_id).replicates[0].data"
   ]
  },
  {
   "cell_type": "markdown",
   "id": "b86b5daa",
   "metadata": {},
   "source": [
    "to use this data for COPASI, we will form it into a data frame, using the names for `Time` to denote that the index is time, and `[PGME]` to denote the transient concentrations of PGME. That way the data is automatically mapped later on:"
   ]
  },
  {
   "cell_type": "code",
   "execution_count": 5,
   "id": "61d79530",
   "metadata": {},
   "outputs": [
    {
     "data": {
      "image/png": "[encoded data removed]",
      "text/plain": [
       "<Figure size 432x288 with 1 Axes>"
      ]
     },
     "metadata": {
      "needs_background": "light"
     },
     "output_type": "display_data"
    }
   ],
   "source": [
    "exp_1 = pd.DataFrame(data=data, columns=['[PGME]'])\n",
    "exp_1.index.name='Time'\n",
    "exp_1 = exp_1.reset_index()\n",
    "exp_1.plot.scatter(x='Time', y='[PGME]');"
   ]
  },
  {
   "cell_type": "markdown",
   "id": "18c81ea5",
   "metadata": {},
   "source": [
    "now we load the model into COPASI: "
   ]
  },
  {
   "cell_type": "code",
   "execution_count": 6,
   "id": "189e6677",
   "metadata": {},
   "outputs": [],
   "source": [
    "load_model_from_string(enzmldoc.toXMLString());"
   ]
  },
  {
   "cell_type": "code",
   "execution_count": 7,
   "id": "d1ea3374",
   "metadata": {
    "scrolled": true
   },
   "outputs": [
    {
     "data": {
      "text/html": [
       "<div>\n",
       "<style scoped>\n",
       "    .dataframe tbody tr th:only-of-type {\n",
       "        vertical-align: middle;\n",
       "    }\n",
       "\n",
       "    .dataframe tbody tr th {\n",
       "        vertical-align: top;\n",
       "    }\n",
       "\n",
       "    .dataframe thead th {\n",
       "        text-align: right;\n",
       "    }\n",
       "</style>\n",
       "<table border=\"1\" class=\"dataframe\">\n",
       "  <thead>\n",
       "    <tr style=\"text-align: right;\">\n",
       "      <th></th>\n",
       "      <th>initial_concentration</th>\n",
       "    </tr>\n",
       "    <tr>\n",
       "      <th>name</th>\n",
       "      <th></th>\n",
       "    </tr>\n",
       "  </thead>\n",
       "  <tbody>\n",
       "    <tr>\n",
       "      <th>(R)-(-)-2-Phenylglycine methyl ester</th>\n",
       "      <td>20.0</td>\n",
       "    </tr>\n",
       "    <tr>\n",
       "      <th>7-Aminodesacetoxycephalosporanic acid</th>\n",
       "      <td>42.0</td>\n",
       "    </tr>\n",
       "    <tr>\n",
       "      <th>Cephalexin</th>\n",
       "      <td>1.0</td>\n",
       "    </tr>\n",
       "    <tr>\n",
       "      <th>Phenylglycine</th>\n",
       "      <td>1.0</td>\n",
       "    </tr>\n",
       "    <tr>\n",
       "      <th>Amino Ester Hydrolase</th>\n",
       "      <td>0.2</td>\n",
       "    </tr>\n",
       "  </tbody>\n",
       "</table>\n",
       "</div>"
      ],
      "text/plain": [
       "                                       initial_concentration\n",
       "name                                                        \n",
       "(R)-(-)-2-Phenylglycine methyl ester                    20.0\n",
       "7-Aminodesacetoxycephalosporanic acid                   42.0\n",
       "Cephalexin                                               1.0\n",
       "Phenylglycine                                            1.0\n",
       "Amino Ester Hydrolase                                    0.2"
      ]
     },
     "execution_count": 7,
     "metadata": {},
     "output_type": "execute_result"
    }
   ],
   "source": [
    "get_species()[['initial_concentration']]"
   ]
  },
  {
   "cell_type": "markdown",
   "id": "a8f4fa24",
   "metadata": {},
   "source": [
    "for simplicities sake, i will rename the elements to something shorter, and set some initial concetration for the two species that had none: "
   ]
  },
  {
   "cell_type": "code",
   "execution_count": 8,
   "id": "82b2f25b",
   "metadata": {},
   "outputs": [],
   "source": [
    "set_species('(R)-(-)-2-Phenylglycine methyl ester', new_name='PGME')\n",
    "set_species('7-Aminodesacetoxycephalosporanic acid', new_name='7ADAC')\n",
    "set_species('Cephalexin', new_name='CEX', initial_concentration=0)\n",
    "set_species('Phenylglycine', new_name='PG', initial_concentration=0)\n",
    "set_species('Amino Ester Hydrolase', new_name='AEH')"
   ]
  },
  {
   "cell_type": "code",
   "execution_count": 9,
   "id": "fb22067a",
   "metadata": {},
   "outputs": [
    {
     "data": {
      "text/html": [
       "<div>\n",
       "<style scoped>\n",
       "    .dataframe tbody tr th:only-of-type {\n",
       "        vertical-align: middle;\n",
       "    }\n",
       "\n",
       "    .dataframe tbody tr th {\n",
       "        vertical-align: top;\n",
       "    }\n",
       "\n",
       "    .dataframe thead th {\n",
       "        text-align: right;\n",
       "    }\n",
       "</style>\n",
       "<table border=\"1\" class=\"dataframe\">\n",
       "  <thead>\n",
       "    <tr style=\"text-align: right;\">\n",
       "      <th></th>\n",
       "      <th>initial_concentration</th>\n",
       "    </tr>\n",
       "    <tr>\n",
       "      <th>name</th>\n",
       "      <th></th>\n",
       "    </tr>\n",
       "  </thead>\n",
       "  <tbody>\n",
       "    <tr>\n",
       "      <th>PGME</th>\n",
       "      <td>20.0</td>\n",
       "    </tr>\n",
       "    <tr>\n",
       "      <th>7ADAC</th>\n",
       "      <td>42.0</td>\n",
       "    </tr>\n",
       "    <tr>\n",
       "      <th>CEX</th>\n",
       "      <td>0.0</td>\n",
       "    </tr>\n",
       "    <tr>\n",
       "      <th>PG</th>\n",
       "      <td>0.0</td>\n",
       "    </tr>\n",
       "    <tr>\n",
       "      <th>AEH</th>\n",
       "      <td>0.2</td>\n",
       "    </tr>\n",
       "  </tbody>\n",
       "</table>\n",
       "</div>"
      ],
      "text/plain": [
       "       initial_concentration\n",
       "name                        \n",
       "PGME                    20.0\n",
       "7ADAC                   42.0\n",
       "CEX                      0.0\n",
       "PG                       0.0\n",
       "AEH                      0.2"
      ]
     },
     "execution_count": 9,
     "metadata": {},
     "output_type": "execute_result"
    }
   ],
   "source": [
    "get_species()[['initial_concentration']]"
   ]
  },
  {
   "cell_type": "markdown",
   "id": "1e9febfa",
   "metadata": {},
   "source": [
    "now lets have a look at the reaction, where we will see that there is no kinetic function mapped to the element yet. "
   ]
  },
  {
   "cell_type": "code",
   "execution_count": 10,
   "id": "58d14149",
   "metadata": {},
   "outputs": [
    {
     "data": {
      "text/html": [
       "<div>\n",
       "<style scoped>\n",
       "    .dataframe tbody tr th:only-of-type {\n",
       "        vertical-align: middle;\n",
       "    }\n",
       "\n",
       "    .dataframe tbody tr th {\n",
       "        vertical-align: top;\n",
       "    }\n",
       "\n",
       "    .dataframe thead th {\n",
       "        text-align: right;\n",
       "    }\n",
       "</style>\n",
       "<table border=\"1\" class=\"dataframe\">\n",
       "  <thead>\n",
       "    <tr style=\"text-align: right;\">\n",
       "      <th></th>\n",
       "      <th>scheme</th>\n",
       "      <th>function</th>\n",
       "    </tr>\n",
       "    <tr>\n",
       "      <th>name</th>\n",
       "      <th></th>\n",
       "      <th></th>\n",
       "    </tr>\n",
       "  </thead>\n",
       "  <tbody>\n",
       "    <tr>\n",
       "      <th>Cephalexin synthesis</th>\n",
       "      <td>PGME + 7ADAC = CEX + PG;  AEH</td>\n",
       "      <td>undefined</td>\n",
       "    </tr>\n",
       "  </tbody>\n",
       "</table>\n",
       "</div>"
      ],
      "text/plain": [
       "                                             scheme   function\n",
       "name                                                          \n",
       "Cephalexin synthesis  PGME + 7ADAC = CEX + PG;  AEH  undefined"
      ]
     },
     "execution_count": 10,
     "metadata": {},
     "output_type": "execute_result"
    }
   ],
   "source": [
    "get_reactions()[['scheme', 'function']]"
   ]
  },
  {
   "cell_type": "markdown",
   "id": "e9c26437",
   "metadata": {},
   "source": [
    "at this point we could use one of the inbuilt functions from the COPASI Function Database, the only applicable ones right now would be: \n",
    "\n",
    "* Mass action (reversible)\n",
    "* Ordered Bi Bi\n",
    "* Ping Pong Bi Bi"
   ]
  },
  {
   "cell_type": "code",
   "execution_count": 11,
   "id": "0cfea8d3",
   "metadata": {},
   "outputs": [],
   "source": [
    "set_reaction('Cephalexin synthesis', function='Mass action (reversible)')"
   ]
  },
  {
   "cell_type": "markdown",
   "id": "c564209d",
   "metadata": {},
   "source": [
    "And at this point we are ready to simulate the model: "
   ]
  },
  {
   "cell_type": "code",
   "execution_count": 12,
   "id": "b5078876",
   "metadata": {},
   "outputs": [
    {
     "data": {
      "image/png": "[encoded data removed]",
      "text/plain": [
       "<Figure size 432x288 with 1 Axes>"
      ]
     },
     "metadata": {
      "needs_background": "light"
     },
     "output_type": "display_data"
    }
   ],
   "source": [
    "run_time_course(duration=30)[['PGME']].plot();"
   ]
  },
  {
   "cell_type": "markdown",
   "id": "4e21c554",
   "metadata": {},
   "source": [
    "COPASI, normally would not allow to use Michaelis Menten kinetics for this reaction, as there are 2 substrates and 2 products defined, and the normal scheme of $$ \\frac{V_{max} \\cdot S}{k_m + S} $$ deals only with one substrate. So i define a general function here, that by passes this check, so that the result is comparable with the one from the python implementation by Hannah Dienhart.\n",
    "\n",
    "Note: in general though, this should not be used, as neither the other substrate, nor the two products appear in the equation, and thus negative concentrations can occur. "
   ]
  },
  {
   "cell_type": "code",
   "execution_count": 13,
   "id": "bd2144e8",
   "metadata": {},
   "outputs": [],
   "source": [
    "add_function('General Michaelis', infix = 'V * S / (K + S)', mapping = {'S': 'substrate'}, type='general');"
   ]
  },
  {
   "cell_type": "code",
   "execution_count": 14,
   "id": "93a9132a",
   "metadata": {},
   "outputs": [],
   "source": [
    "# lets use this function mapping 'S' to PGME\n",
    "set_reaction('Cephalexin synthesis', function='General Michaelis', mapping={'S': 'PGME'})"
   ]
  },
  {
   "cell_type": "code",
   "execution_count": 15,
   "id": "98e0df93",
   "metadata": {},
   "outputs": [
    {
     "data": {
      "text/html": [
       "<div>\n",
       "<style scoped>\n",
       "    .dataframe tbody tr th:only-of-type {\n",
       "        vertical-align: middle;\n",
       "    }\n",
       "\n",
       "    .dataframe tbody tr th {\n",
       "        vertical-align: top;\n",
       "    }\n",
       "\n",
       "    .dataframe thead th {\n",
       "        text-align: right;\n",
       "    }\n",
       "</style>\n",
       "<table border=\"1\" class=\"dataframe\">\n",
       "  <thead>\n",
       "    <tr style=\"text-align: right;\">\n",
       "      <th></th>\n",
       "      <th>scheme</th>\n",
       "      <th>function</th>\n",
       "    </tr>\n",
       "    <tr>\n",
       "      <th>name</th>\n",
       "      <th></th>\n",
       "      <th></th>\n",
       "    </tr>\n",
       "  </thead>\n",
       "  <tbody>\n",
       "    <tr>\n",
       "      <th>Cephalexin synthesis</th>\n",
       "      <td>PGME + 7ADAC = CEX + PG;  AEH</td>\n",
       "      <td>General Michaelis</td>\n",
       "    </tr>\n",
       "  </tbody>\n",
       "</table>\n",
       "</div>"
      ],
      "text/plain": [
       "                                             scheme           function\n",
       "name                                                                  \n",
       "Cephalexin synthesis  PGME + 7ADAC = CEX + PG;  AEH  General Michaelis"
      ]
     },
     "execution_count": 15,
     "metadata": {},
     "output_type": "execute_result"
    }
   ],
   "source": [
    "get_reactions()[['scheme', 'function']]"
   ]
  },
  {
   "cell_type": "markdown",
   "id": "ccc95772",
   "metadata": {},
   "source": [
    "at this point we change to a working folder, in which files will be saved (the experimental data needs to be saved to file, so it can be used by COPASI: "
   ]
  },
  {
   "cell_type": "code",
   "execution_count": 16,
   "id": "1822322f",
   "metadata": {},
   "outputs": [
    {
     "ename": "FileNotFoundError",
     "evalue": "[Errno 2] No such file or directory: './working_dir/'",
     "output_type": "error",
     "traceback": [
      "\u001b[0;31m---------------------------------------------------------------------------\u001b[0m",
      "\u001b[0;31mFileNotFoundError\u001b[0m                         Traceback (most recent call last)",
      "\u001b[0;32m/var/folders/0f/gvqwxk9d46z_cz6w3zg6yn1m0000gn/T/ipykernel_7408/4017726969.py\u001b[0m in \u001b[0;36m<module>\u001b[0;34m\u001b[0m\n\u001b[0;32m----> 1\u001b[0;31m \u001b[0mos\u001b[0m\u001b[0;34m.\u001b[0m\u001b[0mchdir\u001b[0m\u001b[0;34m(\u001b[0m\u001b[0;34m'./working_dir/'\u001b[0m\u001b[0;34m)\u001b[0m\u001b[0;34m\u001b[0m\u001b[0;34m\u001b[0m\u001b[0m\n\u001b[0m",
      "\u001b[0;31mFileNotFoundError\u001b[0m: [Errno 2] No such file or directory: './working_dir/'"
     ]
    }
   ],
   "source": [
    "os.chdir('./working_dir/')"
   ]
  },
  {
   "cell_type": "markdown",
   "id": "2b9dbe9b",
   "metadata": {},
   "source": [
    "### Parameter Estimation Setup\n",
    "Now lets define the parameter estimation setup. We want: \n",
    "\n",
    "* both the $ V_{max} $ as well as $ k_m $ fitted here use the `get_fit_item_template` function to just add all local parameters to be estimated. \n",
    "* and the experimental data from above to be used, since above we named the columns of the table already with the names required by basico, the mapping of data columns to model elements happens automatically. In general if on 'Time' column is present, the data is assumed to be steady state data, otherwise it will be used as time course data. "
   ]
  },
  {
   "cell_type": "code",
   "execution_count": 17,
   "id": "38ee8d30",
   "metadata": {},
   "outputs": [],
   "source": [
    "set_fit_parameters(get_fit_item_template(include_local=True))"
   ]
  },
  {
   "cell_type": "code",
   "execution_count": 18,
   "id": "f1bdab02",
   "metadata": {},
   "outputs": [],
   "source": [
    "add_experiment('Experiment 1', exp_1);"
   ]
  },
  {
   "cell_type": "markdown",
   "id": "1dca20d3",
   "metadata": {},
   "source": [
    "Now we are ready to run the parameter estimation using all of the methods implemented in COPASI, we also tell COPASI to write the results back into the model:"
   ]
  },
  {
   "cell_type": "code",
   "execution_count": 19,
   "id": "29f7d302",
   "metadata": {},
   "outputs": [
    {
     "data": {
      "text/html": [
       "<div>\n",
       "<style scoped>\n",
       "    .dataframe tbody tr th:only-of-type {\n",
       "        vertical-align: middle;\n",
       "    }\n",
       "\n",
       "    .dataframe tbody tr th {\n",
       "        vertical-align: top;\n",
       "    }\n",
       "\n",
       "    .dataframe thead th {\n",
       "        text-align: right;\n",
       "    }\n",
       "</style>\n",
       "<table border=\"1\" class=\"dataframe\">\n",
       "  <thead>\n",
       "    <tr style=\"text-align: right;\">\n",
       "      <th></th>\n",
       "      <th>lower</th>\n",
       "      <th>upper</th>\n",
       "      <th>sol</th>\n",
       "      <th>affected</th>\n",
       "    </tr>\n",
       "    <tr>\n",
       "      <th>name</th>\n",
       "      <th></th>\n",
       "      <th></th>\n",
       "      <th></th>\n",
       "      <th></th>\n",
       "    </tr>\n",
       "  </thead>\n",
       "  <tbody>\n",
       "    <tr>\n",
       "      <th>(Cephalexin synthesis).V</th>\n",
       "      <td>0.001</td>\n",
       "      <td>1000</td>\n",
       "      <td>3.766118</td>\n",
       "      <td>[]</td>\n",
       "    </tr>\n",
       "    <tr>\n",
       "      <th>(Cephalexin synthesis).K</th>\n",
       "      <td>0.001</td>\n",
       "      <td>1000</td>\n",
       "      <td>0.001000</td>\n",
       "      <td>[]</td>\n",
       "    </tr>\n",
       "  </tbody>\n",
       "</table>\n",
       "</div>"
      ],
      "text/plain": [
       "                          lower upper       sol affected\n",
       "name                                                    \n",
       "(Cephalexin synthesis).V  0.001  1000  3.766118       []\n",
       "(Cephalexin synthesis).K  0.001  1000  0.001000       []"
      ]
     },
     "execution_count": 19,
     "metadata": {},
     "output_type": "execute_result"
    }
   ],
   "source": [
    "run_parameter_estimation(method=PE.LEVENBERG_MARQUARDT, update_model=True)"
   ]
  },
  {
   "cell_type": "markdown",
   "id": "956ae535",
   "metadata": {},
   "source": [
    "Finally we plot the result of the fit: "
   ]
  },
  {
   "cell_type": "code",
   "execution_count": 20,
   "id": "9f6dd784",
   "metadata": {},
   "outputs": [
    {
     "data": {
      "image/png": "[encoded data removed]",
      "text/plain": [
       "<Figure size 432x288 with 1 Axes>"
      ]
     },
     "metadata": {
      "needs_background": "light"
     },
     "output_type": "display_data"
    }
   ],
   "source": [
    "plt = plot_per_experiment();"
   ]
  },
  {
   "cell_type": "code",
   "execution_count": 21,
   "id": "e1d31783",
   "metadata": {},
   "outputs": [
    {
     "ename": "FileNotFoundError",
     "evalue": "[Errno 2] No such file or directory: '../svgs/scenario5_step1.svg'",
     "output_type": "error",
     "traceback": [
      "\u001b[0;31m---------------------------------------------------------------------------\u001b[0m",
      "\u001b[0;31mFileNotFoundError\u001b[0m                         Traceback (most recent call last)",
      "\u001b[0;32m/var/folders/0f/gvqwxk9d46z_cz6w3zg6yn1m0000gn/T/ipykernel_7408/1637289987.py\u001b[0m in \u001b[0;36m<module>\u001b[0;34m\u001b[0m\n\u001b[0;32m----> 1\u001b[0;31m \u001b[0mplt\u001b[0m\u001b[0;34m[\u001b[0m\u001b[0;36m0\u001b[0m\u001b[0;34m]\u001b[0m\u001b[0;34m[\u001b[0m\u001b[0;36m0\u001b[0m\u001b[0;34m]\u001b[0m\u001b[0;34m.\u001b[0m\u001b[0msavefig\u001b[0m\u001b[0;34m(\u001b[0m\u001b[0;34m'../svgs/scenario5_step1.svg'\u001b[0m\u001b[0;34m)\u001b[0m\u001b[0;34m\u001b[0m\u001b[0;34m\u001b[0m\u001b[0m\n\u001b[0m",
      "\u001b[0;32m/opt/homebrew/Caskroom/miniforge/base/envs/enzymeml/lib/python3.9/site-packages/matplotlib/figure.py\u001b[0m in \u001b[0;36msavefig\u001b[0;34m(self, fname, transparent, **kwargs)\u001b[0m\n\u001b[1;32m   3017\u001b[0m                         ax.patch._cm_set(facecolor='none', edgecolor='none'))\n\u001b[1;32m   3018\u001b[0m \u001b[0;34m\u001b[0m\u001b[0m\n\u001b[0;32m-> 3019\u001b[0;31m             \u001b[0mself\u001b[0m\u001b[0;34m.\u001b[0m\u001b[0mcanvas\u001b[0m\u001b[0;34m.\u001b[0m\u001b[0mprint_figure\u001b[0m\u001b[0;34m(\u001b[0m\u001b[0mfname\u001b[0m\u001b[0;34m,\u001b[0m \u001b[0;34m**\u001b[0m\u001b[0mkwargs\u001b[0m\u001b[0;34m)\u001b[0m\u001b[0;34m\u001b[0m\u001b[0;34m\u001b[0m\u001b[0m\n\u001b[0m\u001b[1;32m   3020\u001b[0m \u001b[0;34m\u001b[0m\u001b[0m\n\u001b[1;32m   3021\u001b[0m     def ginput(self, n=1, timeout=30, show_clicks=True,\n",
      "\u001b[0;32m/opt/homebrew/Caskroom/miniforge/base/envs/enzymeml/lib/python3.9/site-packages/matplotlib/backend_bases.py\u001b[0m in \u001b[0;36mprint_figure\u001b[0;34m(self, filename, dpi, facecolor, edgecolor, orientation, format, bbox_inches, pad_inches, bbox_extra_artists, backend, **kwargs)\u001b[0m\n\u001b[1;32m   2317\u001b[0m                 \u001b[0;31m# force the figure dpi to 72), so we need to set it again here.\u001b[0m\u001b[0;34m\u001b[0m\u001b[0;34m\u001b[0m\u001b[0m\n\u001b[1;32m   2318\u001b[0m                 \u001b[0;32mwith\u001b[0m \u001b[0mcbook\u001b[0m\u001b[0;34m.\u001b[0m\u001b[0m_setattr_cm\u001b[0m\u001b[0;34m(\u001b[0m\u001b[0mself\u001b[0m\u001b[0;34m.\u001b[0m\u001b[0mfigure\u001b[0m\u001b[0;34m,\u001b[0m \u001b[0mdpi\u001b[0m\u001b[0;34m=\u001b[0m\u001b[0mdpi\u001b[0m\u001b[0;34m)\u001b[0m\u001b[0;34m:\u001b[0m\u001b[0;34m\u001b[0m\u001b[0;34m\u001b[0m\u001b[0m\n\u001b[0;32m-> 2319\u001b[0;31m                     result = print_method(\n\u001b[0m\u001b[1;32m   2320\u001b[0m                         \u001b[0mfilename\u001b[0m\u001b[0;34m,\u001b[0m\u001b[0;34m\u001b[0m\u001b[0;34m\u001b[0m\u001b[0m\n\u001b[1;32m   2321\u001b[0m                         \u001b[0mfacecolor\u001b[0m\u001b[0;34m=\u001b[0m\u001b[0mfacecolor\u001b[0m\u001b[0;34m,\u001b[0m\u001b[0;34m\u001b[0m\u001b[0;34m\u001b[0m\u001b[0m\n",
      "\u001b[0;32m/opt/homebrew/Caskroom/miniforge/base/envs/enzymeml/lib/python3.9/site-packages/matplotlib/backend_bases.py\u001b[0m in \u001b[0;36mwrapper\u001b[0;34m(*args, **kwargs)\u001b[0m\n\u001b[1;32m   1646\u001b[0m             \u001b[0mkwargs\u001b[0m\u001b[0;34m.\u001b[0m\u001b[0mpop\u001b[0m\u001b[0;34m(\u001b[0m\u001b[0marg\u001b[0m\u001b[0;34m)\u001b[0m\u001b[0;34m\u001b[0m\u001b[0;34m\u001b[0m\u001b[0m\n\u001b[1;32m   1647\u001b[0m \u001b[0;34m\u001b[0m\u001b[0m\n\u001b[0;32m-> 1648\u001b[0;31m         \u001b[0;32mreturn\u001b[0m \u001b[0mfunc\u001b[0m\u001b[0;34m(\u001b[0m\u001b[0;34m*\u001b[0m\u001b[0margs\u001b[0m\u001b[0;34m,\u001b[0m \u001b[0;34m**\u001b[0m\u001b[0mkwargs\u001b[0m\u001b[0;34m)\u001b[0m\u001b[0;34m\u001b[0m\u001b[0;34m\u001b[0m\u001b[0m\n\u001b[0m\u001b[1;32m   1649\u001b[0m \u001b[0;34m\u001b[0m\u001b[0m\n\u001b[1;32m   1650\u001b[0m     \u001b[0;32mreturn\u001b[0m \u001b[0mwrapper\u001b[0m\u001b[0;34m\u001b[0m\u001b[0;34m\u001b[0m\u001b[0m\n",
      "\u001b[0;32m/opt/homebrew/Caskroom/miniforge/base/envs/enzymeml/lib/python3.9/site-packages/matplotlib/_api/deprecation.py\u001b[0m in \u001b[0;36mwrapper\u001b[0;34m(*inner_args, **inner_kwargs)\u001b[0m\n\u001b[1;32m    384\u001b[0m             \u001b[0;31m# Early return in the simple, non-deprecated case (much faster than\u001b[0m\u001b[0;34m\u001b[0m\u001b[0;34m\u001b[0m\u001b[0m\n\u001b[1;32m    385\u001b[0m             \u001b[0;31m# calling bind()).\u001b[0m\u001b[0;34m\u001b[0m\u001b[0;34m\u001b[0m\u001b[0m\n\u001b[0;32m--> 386\u001b[0;31m             \u001b[0;32mreturn\u001b[0m \u001b[0mfunc\u001b[0m\u001b[0;34m(\u001b[0m\u001b[0;34m*\u001b[0m\u001b[0minner_args\u001b[0m\u001b[0;34m,\u001b[0m \u001b[0;34m**\u001b[0m\u001b[0minner_kwargs\u001b[0m\u001b[0;34m)\u001b[0m\u001b[0;34m\u001b[0m\u001b[0;34m\u001b[0m\u001b[0m\n\u001b[0m\u001b[1;32m    387\u001b[0m         \u001b[0marguments\u001b[0m \u001b[0;34m=\u001b[0m \u001b[0msignature\u001b[0m\u001b[0;34m.\u001b[0m\u001b[0mbind\u001b[0m\u001b[0;34m(\u001b[0m\u001b[0;34m*\u001b[0m\u001b[0minner_args\u001b[0m\u001b[0;34m,\u001b[0m \u001b[0;34m**\u001b[0m\u001b[0minner_kwargs\u001b[0m\u001b[0;34m)\u001b[0m\u001b[0;34m.\u001b[0m\u001b[0marguments\u001b[0m\u001b[0;34m\u001b[0m\u001b[0;34m\u001b[0m\u001b[0m\n\u001b[1;32m    388\u001b[0m         \u001b[0;32mif\u001b[0m \u001b[0mis_varargs\u001b[0m \u001b[0;32mand\u001b[0m \u001b[0marguments\u001b[0m\u001b[0;34m.\u001b[0m\u001b[0mget\u001b[0m\u001b[0;34m(\u001b[0m\u001b[0mname\u001b[0m\u001b[0;34m)\u001b[0m\u001b[0;34m:\u001b[0m\u001b[0;34m\u001b[0m\u001b[0;34m\u001b[0m\u001b[0m\n",
      "\u001b[0;32m/opt/homebrew/Caskroom/miniforge/base/envs/enzymeml/lib/python3.9/site-packages/matplotlib/_api/deprecation.py\u001b[0m in \u001b[0;36mwrapper\u001b[0;34m(*inner_args, **inner_kwargs)\u001b[0m\n\u001b[1;32m    410\u001b[0m                          \u001b[0;32melse\u001b[0m \u001b[0mdeprecation_addendum\u001b[0m\u001b[0;34m,\u001b[0m\u001b[0;34m\u001b[0m\u001b[0;34m\u001b[0m\u001b[0m\n\u001b[1;32m    411\u001b[0m                 **kwargs)\n\u001b[0;32m--> 412\u001b[0;31m         \u001b[0;32mreturn\u001b[0m \u001b[0mfunc\u001b[0m\u001b[0;34m(\u001b[0m\u001b[0;34m*\u001b[0m\u001b[0minner_args\u001b[0m\u001b[0;34m,\u001b[0m \u001b[0;34m**\u001b[0m\u001b[0minner_kwargs\u001b[0m\u001b[0;34m)\u001b[0m\u001b[0;34m\u001b[0m\u001b[0;34m\u001b[0m\u001b[0m\n\u001b[0m\u001b[1;32m    413\u001b[0m \u001b[0;34m\u001b[0m\u001b[0m\n\u001b[1;32m    414\u001b[0m     \u001b[0mDECORATORS\u001b[0m\u001b[0;34m[\u001b[0m\u001b[0mwrapper\u001b[0m\u001b[0;34m]\u001b[0m \u001b[0;34m=\u001b[0m \u001b[0mdecorator\u001b[0m\u001b[0;34m\u001b[0m\u001b[0;34m\u001b[0m\u001b[0m\n",
      "\u001b[0;32m/opt/homebrew/Caskroom/miniforge/base/envs/enzymeml/lib/python3.9/site-packages/matplotlib/backends/backend_svg.py\u001b[0m in \u001b[0;36mprint_svg\u001b[0;34m(self, filename, dpi, bbox_inches_restore, metadata, *args)\u001b[0m\n\u001b[1;32m   1319\u001b[0m             \u001b[0m__\u001b[0m \u001b[0mDC_\u001b[0m\u001b[0;34m\u001b[0m\u001b[0;34m\u001b[0m\u001b[0m\n\u001b[1;32m   1320\u001b[0m         \"\"\"\n\u001b[0;32m-> 1321\u001b[0;31m         \u001b[0;32mwith\u001b[0m \u001b[0mcbook\u001b[0m\u001b[0;34m.\u001b[0m\u001b[0mopen_file_cm\u001b[0m\u001b[0;34m(\u001b[0m\u001b[0mfilename\u001b[0m\u001b[0;34m,\u001b[0m \u001b[0;34m\"w\"\u001b[0m\u001b[0;34m,\u001b[0m \u001b[0mencoding\u001b[0m\u001b[0;34m=\u001b[0m\u001b[0;34m\"utf-8\"\u001b[0m\u001b[0;34m)\u001b[0m \u001b[0;32mas\u001b[0m \u001b[0mfh\u001b[0m\u001b[0;34m:\u001b[0m\u001b[0;34m\u001b[0m\u001b[0;34m\u001b[0m\u001b[0m\n\u001b[0m\u001b[1;32m   1322\u001b[0m             \u001b[0;32mif\u001b[0m \u001b[0;32mnot\u001b[0m \u001b[0mcbook\u001b[0m\u001b[0;34m.\u001b[0m\u001b[0mfile_requires_unicode\u001b[0m\u001b[0;34m(\u001b[0m\u001b[0mfh\u001b[0m\u001b[0;34m)\u001b[0m\u001b[0;34m:\u001b[0m\u001b[0;34m\u001b[0m\u001b[0;34m\u001b[0m\u001b[0m\n\u001b[1;32m   1323\u001b[0m                 \u001b[0mfh\u001b[0m \u001b[0;34m=\u001b[0m \u001b[0mcodecs\u001b[0m\u001b[0;34m.\u001b[0m\u001b[0mgetwriter\u001b[0m\u001b[0;34m(\u001b[0m\u001b[0;34m'utf-8'\u001b[0m\u001b[0;34m)\u001b[0m\u001b[0;34m(\u001b[0m\u001b[0mfh\u001b[0m\u001b[0;34m)\u001b[0m\u001b[0;34m\u001b[0m\u001b[0;34m\u001b[0m\u001b[0m\n",
      "\u001b[0;32m/opt/homebrew/Caskroom/miniforge/base/envs/enzymeml/lib/python3.9/site-packages/matplotlib/cbook/__init__.py\u001b[0m in \u001b[0;36mopen_file_cm\u001b[0;34m(path_or_file, mode, encoding)\u001b[0m\n\u001b[1;32m    463\u001b[0m \u001b[0;32mdef\u001b[0m \u001b[0mopen_file_cm\u001b[0m\u001b[0;34m(\u001b[0m\u001b[0mpath_or_file\u001b[0m\u001b[0;34m,\u001b[0m \u001b[0mmode\u001b[0m\u001b[0;34m=\u001b[0m\u001b[0;34m\"r\"\u001b[0m\u001b[0;34m,\u001b[0m \u001b[0mencoding\u001b[0m\u001b[0;34m=\u001b[0m\u001b[0;32mNone\u001b[0m\u001b[0;34m)\u001b[0m\u001b[0;34m:\u001b[0m\u001b[0;34m\u001b[0m\u001b[0;34m\u001b[0m\u001b[0m\n\u001b[1;32m    464\u001b[0m     \u001b[0;34mr\"\"\"Pass through file objects and context-manage path-likes.\"\"\"\u001b[0m\u001b[0;34m\u001b[0m\u001b[0;34m\u001b[0m\u001b[0m\n\u001b[0;32m--> 465\u001b[0;31m     \u001b[0mfh\u001b[0m\u001b[0;34m,\u001b[0m \u001b[0mopened\u001b[0m \u001b[0;34m=\u001b[0m \u001b[0mto_filehandle\u001b[0m\u001b[0;34m(\u001b[0m\u001b[0mpath_or_file\u001b[0m\u001b[0;34m,\u001b[0m \u001b[0mmode\u001b[0m\u001b[0;34m,\u001b[0m \u001b[0;32mTrue\u001b[0m\u001b[0;34m,\u001b[0m \u001b[0mencoding\u001b[0m\u001b[0;34m)\u001b[0m\u001b[0;34m\u001b[0m\u001b[0;34m\u001b[0m\u001b[0m\n\u001b[0m\u001b[1;32m    466\u001b[0m     \u001b[0;32mreturn\u001b[0m \u001b[0mfh\u001b[0m \u001b[0;32mif\u001b[0m \u001b[0mopened\u001b[0m \u001b[0;32melse\u001b[0m \u001b[0mcontextlib\u001b[0m\u001b[0;34m.\u001b[0m\u001b[0mnullcontext\u001b[0m\u001b[0;34m(\u001b[0m\u001b[0mfh\u001b[0m\u001b[0;34m)\u001b[0m\u001b[0;34m\u001b[0m\u001b[0;34m\u001b[0m\u001b[0m\n\u001b[1;32m    467\u001b[0m \u001b[0;34m\u001b[0m\u001b[0m\n",
      "\u001b[0;32m/opt/homebrew/Caskroom/miniforge/base/envs/enzymeml/lib/python3.9/site-packages/matplotlib/cbook/__init__.py\u001b[0m in \u001b[0;36mto_filehandle\u001b[0;34m(fname, flag, return_opened, encoding)\u001b[0m\n\u001b[1;32m    449\u001b[0m             \u001b[0mfh\u001b[0m \u001b[0;34m=\u001b[0m \u001b[0mbz2\u001b[0m\u001b[0;34m.\u001b[0m\u001b[0mBZ2File\u001b[0m\u001b[0;34m(\u001b[0m\u001b[0mfname\u001b[0m\u001b[0;34m,\u001b[0m \u001b[0mflag\u001b[0m\u001b[0;34m)\u001b[0m\u001b[0;34m\u001b[0m\u001b[0;34m\u001b[0m\u001b[0m\n\u001b[1;32m    450\u001b[0m         \u001b[0;32melse\u001b[0m\u001b[0;34m:\u001b[0m\u001b[0;34m\u001b[0m\u001b[0;34m\u001b[0m\u001b[0m\n\u001b[0;32m--> 451\u001b[0;31m             \u001b[0mfh\u001b[0m \u001b[0;34m=\u001b[0m \u001b[0mopen\u001b[0m\u001b[0;34m(\u001b[0m\u001b[0mfname\u001b[0m\u001b[0;34m,\u001b[0m \u001b[0mflag\u001b[0m\u001b[0;34m,\u001b[0m \u001b[0mencoding\u001b[0m\u001b[0;34m=\u001b[0m\u001b[0mencoding\u001b[0m\u001b[0;34m)\u001b[0m\u001b[0;34m\u001b[0m\u001b[0;34m\u001b[0m\u001b[0m\n\u001b[0m\u001b[1;32m    452\u001b[0m         \u001b[0mopened\u001b[0m \u001b[0;34m=\u001b[0m \u001b[0;32mTrue\u001b[0m\u001b[0;34m\u001b[0m\u001b[0;34m\u001b[0m\u001b[0m\n\u001b[1;32m    453\u001b[0m     \u001b[0;32melif\u001b[0m \u001b[0mhasattr\u001b[0m\u001b[0;34m(\u001b[0m\u001b[0mfname\u001b[0m\u001b[0;34m,\u001b[0m \u001b[0;34m'seek'\u001b[0m\u001b[0;34m)\u001b[0m\u001b[0;34m:\u001b[0m\u001b[0;34m\u001b[0m\u001b[0;34m\u001b[0m\u001b[0m\n",
      "\u001b[0;31mFileNotFoundError\u001b[0m: [Errno 2] No such file or directory: '../svgs/scenario5_step1.svg'"
     ]
    }
   ],
   "source": [
    "plt[0][0].savefig('../svgs/scenario5_step1.svg')"
   ]
  },
  {
   "cell_type": "markdown",
   "id": "3bb3d47d",
   "metadata": {},
   "source": [
    "This could now be written back into the EnzymeML document, using the smae approach as demonstrated in [Scenario 4](https://github.com/EnzymeML/Publications/blob/main/2021_Lauterbach/Scenario4/InsightIntoMechanismByModelling.ipynb)\n"
   ]
  },
  {
   "cell_type": "markdown",
   "id": "c5ae5630",
   "metadata": {},
   "source": [
    "## Modeling explicitly through ODEs\n",
    "Here i begin with a new model, in which the equations from the Lagerman publication are entered: \n",
    "\n",
    "$$ \\frac{d[PG]}{dt}=([E]/((k_4 [7-ADCA])/K_n +(k_5 [7-ADCA])/K_n +(k_6 [PGME])/K_si +k3))((k_2 [PGME])/K_s   +(k_4b [CEX])/K_p )(k_3+(k_5 [7-ADCA])/K_n   +(k_6 [PGME])/K_si ) $$ \n",
    "\n",
    "$$  d[CEX]/dt=(k_2 [E][PGME])/K_s -([E]/((k_4 [7-ADCA])/K_n +(k_5 [7-ADCA])/K_n +(k_6 [PGME])/K_si +k3))((k_2 [PGME])/K_s   +(k_4b [CEX])/K_p )(k_3+(k_5 [7-ADCA])/K_n ) $$ \n",
    "\n",
    "$$ [E]=([E]_0  exp⁡(-k_d t))/(1+[PGME]^2/(K_s K_si )+[7-ADCA]/K_n + ((k_2 [PGME])/(K_s ((k_4 [7-ADCA])/K_n +(k_5 [7-ADCA])/K_n +(k_6 [PGME])/K_si +k3) ))(1+[7-ADCA]/K_n +[PGME]/K_si )+[CEX]/K_p +[PG]/K_p2i ) $$\n",
    "\n",
    "these can be directly added to a new model. But first i start with a couple of utility functions:"
   ]
  },
  {
   "cell_type": "code",
   "execution_count": 22,
   "id": "e510dd16",
   "metadata": {},
   "outputs": [],
   "source": [
    "def add_assumptions():\n",
    "    # Mass balance: d[CEX]/dt = - d[7-ADCA]/dt:\n",
    "    set_species('7-ADCA', status='ode', expression='-1 * ( ' + get_species('CEX').expression[0] + ' )')\n",
    "    # d[PGME]/dt = -1 * (d[CEX]/dt + d[PG]/dt)\n",
    "    set_species('PGME', status='ode', expression='-1 * ( ' + get_species('CEX').expression[0] + ' + ' + get_species('PG').expression[0] + ' )')\n",
    "\n",
    "# this function sets all initial concentrations to 0, except for the ones we know the \n",
    "# concentrations for\n",
    "def set_initial_concentrations():\n",
    "    for species in get_species().index.to_list(): \n",
    "        set_species(species, initial_concentration=0)\n",
    "    set_species('E0', initial_concentration=0.2, status='fixed')\n",
    "    set_species('E', initial_concentration=0.0002, status='fixed')\n",
    "    set_species('PGME', initial_concentration=20)\n",
    "    set_species('7-ADCA', initial_concentration=40)\n",
    "\n",
    "# create the parameters we want to estimate: \n",
    "def add_parameters_with_values():\n",
    "    add_parameter('K_s', initial_value=14)\n",
    "    add_parameter('k_2', initial_value=432)\n",
    "    add_parameter('K_n', initial_value=290)\n",
    "    add_parameter('k_3', initial_value=417)\n",
    "    add_parameter('k_4', initial_value=73600)\n",
    "    add_parameter('k_5', initial_value=491)\n",
    "    add_parameter('k_6', initial_value=1660)\n",
    "    add_parameter('K_si', initial_value=20)\n",
    "    add_parameter('K_p', initial_value=39)\n",
    "    add_parameter('k_4b', initial_value=9126)\n",
    "    add_parameter('k_d', initial_value=6.43e-4)\n",
    "    add_parameter('K_pg', initial_value=12)\n",
    "\n",
    "# a function to create all fit parameters \n",
    "# for simplicities sake i've alrady converted the enzymeml measurements to \n",
    "# a text file that is in this folder: \n",
    "def add_parameter_estiation_setup(filename='../data/experiments_colton_1-4.txt'):\n",
    "    template = get_fit_item_template(include_global=True, default_lb=1e-2, default_ub=1e6)\n",
    "    to_remove = None\n",
    "    for d in template:\n",
    "        # set lower bound for the equilibrium constants        \n",
    "        if 'Values[K_si' in d['name']:\n",
    "            d['upper'] = 50\n",
    "            continue\n",
    "        if 'Values[K' in d['name']:\n",
    "            d['upper'] = 1000\n",
    "            continue\n",
    "        if 'Values[vr' in d['name']:\n",
    "            to_remove = d\n",
    "        if 'Values[k_d' in d['name']:\n",
    "            d['upper'] = 0.5\n",
    "            d['lower'] = 0.3            \n",
    "            \n",
    "    if to_remove is not None:\n",
    "        template.remove(d)\n",
    "\n",
    "    set_fit_parameters(template)\n",
    "    data = pd.read_csv(filepath_or_buffer=filename, sep='\\t')\n",
    "    nan_rows = data.loc[data['Time'].isna()].index.to_list()\n",
    "    df_list = []\n",
    "    last = -1\n",
    "    for n in nan_rows:\n",
    "        df_list.append(data.iloc[last + 1:n,:])\n",
    "        last = n\n",
    "    df_list.append(data.iloc[last + 1:,:])\n",
    "    # remove existing ones\n",
    "    for p in glob.glob('Exp*.txt'): \n",
    "        os.remove(p)\n",
    "    # add new ones\n",
    "    for i in range(len(df_list)):\n",
    "        name = f'Experiment_{i}'\n",
    "        add_experiment(name, df_list[i])"
   ]
  },
  {
   "cell_type": "markdown",
   "id": "131551b7",
   "metadata": {},
   "source": [
    "Now lets create the model: "
   ]
  },
  {
   "cell_type": "code",
   "execution_count": 23,
   "id": "14be6938",
   "metadata": {},
   "outputs": [],
   "source": [
    "model4 = new_model(name='Model 4', time_unit='min', volume_unit='ml', quantity_unit='mmol', \n",
    "                  notes=\"\"\"Model 4 (modelled using ODE's)\n",
    "                  \n",
    "                  This implements the differential equations directly as given \n",
    "                  in the Lagerman_2021 paper. \n",
    "                  \n",
    "                  \"\"\")\n",
    "add_parameters_with_values()"
   ]
  },
  {
   "cell_type": "code",
   "execution_count": 24,
   "id": "a45f624f",
   "metadata": {},
   "outputs": [],
   "source": [
    "add_equation('d[PG]/dt=([E]/((k_4 [7-ADCA])/K_n +(k_5 [7-ADCA])/K_n +(k_6 [PGME])/K_si +k_3))((k_2 [PGME])/K_s   +(k_4b [CEX])/K_p )(k_3+(k_5 [7-ADCA])/K_n   +(k_6 [PGME])/K_si )')\n",
    "add_equation(\n",
    "            'd[CEX]/dt=(k_2 [E][PGME])/K_s -([E]/((k_4 [7-ADCA])/K_n +(k_5 [7-ADCA])/K_n +(k_6 [PGME])/K_si +k_3))((k_2 [PGME])/K_s   +(k_4b [CEX])/K_p )(k_3+(k_5 [7-ADCA])/K_n )')\n",
    "add_equation(\n",
    "            '[E]=([E0] exp(-k_d t))/(1+[PGME]^2/(K_s K_si )+[7-ADCA]/K_n + ((k_2 [PGME])/(K_s ((k_4 [7-ADCA])/K_n +(k_5 [7-ADCA])/K_n +(k_6 [PGME])/K_si +k_3) ))(1+[7-ADCA]/K_n +[PGME]/K_si )+[CEX]/K_p +[PG]/K_pg )')"
   ]
  },
  {
   "cell_type": "code",
   "execution_count": 25,
   "id": "25deb5c1",
   "metadata": {},
   "outputs": [
    {
     "ename": "FileNotFoundError",
     "evalue": "[Errno 2] No such file or directory: '../data/experiments_colton_1-4.txt'",
     "output_type": "error",
     "traceback": [
      "\u001b[0;31m---------------------------------------------------------------------------\u001b[0m",
      "\u001b[0;31mFileNotFoundError\u001b[0m                         Traceback (most recent call last)",
      "\u001b[0;32m/var/folders/0f/gvqwxk9d46z_cz6w3zg6yn1m0000gn/T/ipykernel_7408/1789998557.py\u001b[0m in \u001b[0;36m<module>\u001b[0;34m\u001b[0m\n\u001b[1;32m      1\u001b[0m \u001b[0madd_assumptions\u001b[0m\u001b[0;34m(\u001b[0m\u001b[0;34m)\u001b[0m\u001b[0;34m\u001b[0m\u001b[0;34m\u001b[0m\u001b[0m\n\u001b[1;32m      2\u001b[0m \u001b[0mset_initial_concentrations\u001b[0m\u001b[0;34m(\u001b[0m\u001b[0;34m)\u001b[0m\u001b[0;34m\u001b[0m\u001b[0;34m\u001b[0m\u001b[0m\n\u001b[0;32m----> 3\u001b[0;31m \u001b[0madd_parameter_estiation_setup\u001b[0m\u001b[0;34m(\u001b[0m\u001b[0;34m)\u001b[0m\u001b[0;34m\u001b[0m\u001b[0;34m\u001b[0m\u001b[0m\n\u001b[0m\u001b[1;32m      4\u001b[0m \u001b[0mset_initial_concentrations\u001b[0m\u001b[0;34m(\u001b[0m\u001b[0;34m)\u001b[0m\u001b[0;34m\u001b[0m\u001b[0;34m\u001b[0m\u001b[0m\n",
      "\u001b[0;32m/var/folders/0f/gvqwxk9d46z_cz6w3zg6yn1m0000gn/T/ipykernel_7408/1837622194.py\u001b[0m in \u001b[0;36madd_parameter_estiation_setup\u001b[0;34m(filename)\u001b[0m\n\u001b[1;32m     54\u001b[0m \u001b[0;34m\u001b[0m\u001b[0m\n\u001b[1;32m     55\u001b[0m     \u001b[0mset_fit_parameters\u001b[0m\u001b[0;34m(\u001b[0m\u001b[0mtemplate\u001b[0m\u001b[0;34m)\u001b[0m\u001b[0;34m\u001b[0m\u001b[0;34m\u001b[0m\u001b[0m\n\u001b[0;32m---> 56\u001b[0;31m     \u001b[0mdata\u001b[0m \u001b[0;34m=\u001b[0m \u001b[0mpd\u001b[0m\u001b[0;34m.\u001b[0m\u001b[0mread_csv\u001b[0m\u001b[0;34m(\u001b[0m\u001b[0mfilepath_or_buffer\u001b[0m\u001b[0;34m=\u001b[0m\u001b[0mfilename\u001b[0m\u001b[0;34m,\u001b[0m \u001b[0msep\u001b[0m\u001b[0;34m=\u001b[0m\u001b[0;34m'\\t'\u001b[0m\u001b[0;34m)\u001b[0m\u001b[0;34m\u001b[0m\u001b[0;34m\u001b[0m\u001b[0m\n\u001b[0m\u001b[1;32m     57\u001b[0m     \u001b[0mnan_rows\u001b[0m \u001b[0;34m=\u001b[0m \u001b[0mdata\u001b[0m\u001b[0;34m.\u001b[0m\u001b[0mloc\u001b[0m\u001b[0;34m[\u001b[0m\u001b[0mdata\u001b[0m\u001b[0;34m[\u001b[0m\u001b[0;34m'Time'\u001b[0m\u001b[0;34m]\u001b[0m\u001b[0;34m.\u001b[0m\u001b[0misna\u001b[0m\u001b[0;34m(\u001b[0m\u001b[0;34m)\u001b[0m\u001b[0;34m]\u001b[0m\u001b[0;34m.\u001b[0m\u001b[0mindex\u001b[0m\u001b[0;34m.\u001b[0m\u001b[0mto_list\u001b[0m\u001b[0;34m(\u001b[0m\u001b[0;34m)\u001b[0m\u001b[0;34m\u001b[0m\u001b[0;34m\u001b[0m\u001b[0m\n\u001b[1;32m     58\u001b[0m     \u001b[0mdf_list\u001b[0m \u001b[0;34m=\u001b[0m \u001b[0;34m[\u001b[0m\u001b[0;34m]\u001b[0m\u001b[0;34m\u001b[0m\u001b[0;34m\u001b[0m\u001b[0m\n",
      "\u001b[0;32m/opt/homebrew/Caskroom/miniforge/base/envs/enzymeml/lib/python3.9/site-packages/pandas/util/_decorators.py\u001b[0m in \u001b[0;36mwrapper\u001b[0;34m(*args, **kwargs)\u001b[0m\n\u001b[1;32m    309\u001b[0m                     \u001b[0mstacklevel\u001b[0m\u001b[0;34m=\u001b[0m\u001b[0mstacklevel\u001b[0m\u001b[0;34m,\u001b[0m\u001b[0;34m\u001b[0m\u001b[0;34m\u001b[0m\u001b[0m\n\u001b[1;32m    310\u001b[0m                 )\n\u001b[0;32m--> 311\u001b[0;31m             \u001b[0;32mreturn\u001b[0m \u001b[0mfunc\u001b[0m\u001b[0;34m(\u001b[0m\u001b[0;34m*\u001b[0m\u001b[0margs\u001b[0m\u001b[0;34m,\u001b[0m \u001b[0;34m**\u001b[0m\u001b[0mkwargs\u001b[0m\u001b[0;34m)\u001b[0m\u001b[0;34m\u001b[0m\u001b[0;34m\u001b[0m\u001b[0m\n\u001b[0m\u001b[1;32m    312\u001b[0m \u001b[0;34m\u001b[0m\u001b[0m\n\u001b[1;32m    313\u001b[0m         \u001b[0;32mreturn\u001b[0m \u001b[0mwrapper\u001b[0m\u001b[0;34m\u001b[0m\u001b[0;34m\u001b[0m\u001b[0m\n",
      "\u001b[0;32m/opt/homebrew/Caskroom/miniforge/base/envs/enzymeml/lib/python3.9/site-packages/pandas/io/parsers/readers.py\u001b[0m in \u001b[0;36mread_csv\u001b[0;34m(filepath_or_buffer, sep, delimiter, header, names, index_col, usecols, squeeze, prefix, mangle_dupe_cols, dtype, engine, converters, true_values, false_values, skipinitialspace, skiprows, skipfooter, nrows, na_values, keep_default_na, na_filter, verbose, skip_blank_lines, parse_dates, infer_datetime_format, keep_date_col, date_parser, dayfirst, cache_dates, iterator, chunksize, compression, thousands, decimal, lineterminator, quotechar, quoting, doublequote, escapechar, comment, encoding, encoding_errors, dialect, error_bad_lines, warn_bad_lines, on_bad_lines, delim_whitespace, low_memory, memory_map, float_precision, storage_options)\u001b[0m\n\u001b[1;32m    584\u001b[0m     \u001b[0mkwds\u001b[0m\u001b[0;34m.\u001b[0m\u001b[0mupdate\u001b[0m\u001b[0;34m(\u001b[0m\u001b[0mkwds_defaults\u001b[0m\u001b[0;34m)\u001b[0m\u001b[0;34m\u001b[0m\u001b[0;34m\u001b[0m\u001b[0m\n\u001b[1;32m    585\u001b[0m \u001b[0;34m\u001b[0m\u001b[0m\n\u001b[0;32m--> 586\u001b[0;31m     \u001b[0;32mreturn\u001b[0m \u001b[0m_read\u001b[0m\u001b[0;34m(\u001b[0m\u001b[0mfilepath_or_buffer\u001b[0m\u001b[0;34m,\u001b[0m \u001b[0mkwds\u001b[0m\u001b[0;34m)\u001b[0m\u001b[0;34m\u001b[0m\u001b[0;34m\u001b[0m\u001b[0m\n\u001b[0m\u001b[1;32m    587\u001b[0m \u001b[0;34m\u001b[0m\u001b[0m\n\u001b[1;32m    588\u001b[0m \u001b[0;34m\u001b[0m\u001b[0m\n",
      "\u001b[0;32m/opt/homebrew/Caskroom/miniforge/base/envs/enzymeml/lib/python3.9/site-packages/pandas/io/parsers/readers.py\u001b[0m in \u001b[0;36m_read\u001b[0;34m(filepath_or_buffer, kwds)\u001b[0m\n\u001b[1;32m    480\u001b[0m \u001b[0;34m\u001b[0m\u001b[0m\n\u001b[1;32m    481\u001b[0m     \u001b[0;31m# Create the parser.\u001b[0m\u001b[0;34m\u001b[0m\u001b[0;34m\u001b[0m\u001b[0m\n\u001b[0;32m--> 482\u001b[0;31m     \u001b[0mparser\u001b[0m \u001b[0;34m=\u001b[0m \u001b[0mTextFileReader\u001b[0m\u001b[0;34m(\u001b[0m\u001b[0mfilepath_or_buffer\u001b[0m\u001b[0;34m,\u001b[0m \u001b[0;34m**\u001b[0m\u001b[0mkwds\u001b[0m\u001b[0;34m)\u001b[0m\u001b[0;34m\u001b[0m\u001b[0;34m\u001b[0m\u001b[0m\n\u001b[0m\u001b[1;32m    483\u001b[0m \u001b[0;34m\u001b[0m\u001b[0m\n\u001b[1;32m    484\u001b[0m     \u001b[0;32mif\u001b[0m \u001b[0mchunksize\u001b[0m \u001b[0;32mor\u001b[0m \u001b[0miterator\u001b[0m\u001b[0;34m:\u001b[0m\u001b[0;34m\u001b[0m\u001b[0;34m\u001b[0m\u001b[0m\n",
      "\u001b[0;32m/opt/homebrew/Caskroom/miniforge/base/envs/enzymeml/lib/python3.9/site-packages/pandas/io/parsers/readers.py\u001b[0m in \u001b[0;36m__init__\u001b[0;34m(self, f, engine, **kwds)\u001b[0m\n\u001b[1;32m    809\u001b[0m             \u001b[0mself\u001b[0m\u001b[0;34m.\u001b[0m\u001b[0moptions\u001b[0m\u001b[0;34m[\u001b[0m\u001b[0;34m\"has_index_names\"\u001b[0m\u001b[0;34m]\u001b[0m \u001b[0;34m=\u001b[0m \u001b[0mkwds\u001b[0m\u001b[0;34m[\u001b[0m\u001b[0;34m\"has_index_names\"\u001b[0m\u001b[0;34m]\u001b[0m\u001b[0;34m\u001b[0m\u001b[0;34m\u001b[0m\u001b[0m\n\u001b[1;32m    810\u001b[0m \u001b[0;34m\u001b[0m\u001b[0m\n\u001b[0;32m--> 811\u001b[0;31m         \u001b[0mself\u001b[0m\u001b[0;34m.\u001b[0m\u001b[0m_engine\u001b[0m \u001b[0;34m=\u001b[0m \u001b[0mself\u001b[0m\u001b[0;34m.\u001b[0m\u001b[0m_make_engine\u001b[0m\u001b[0;34m(\u001b[0m\u001b[0mself\u001b[0m\u001b[0;34m.\u001b[0m\u001b[0mengine\u001b[0m\u001b[0;34m)\u001b[0m\u001b[0;34m\u001b[0m\u001b[0;34m\u001b[0m\u001b[0m\n\u001b[0m\u001b[1;32m    812\u001b[0m \u001b[0;34m\u001b[0m\u001b[0m\n\u001b[1;32m    813\u001b[0m     \u001b[0;32mdef\u001b[0m \u001b[0mclose\u001b[0m\u001b[0;34m(\u001b[0m\u001b[0mself\u001b[0m\u001b[0;34m)\u001b[0m\u001b[0;34m:\u001b[0m\u001b[0;34m\u001b[0m\u001b[0;34m\u001b[0m\u001b[0m\n",
      "\u001b[0;32m/opt/homebrew/Caskroom/miniforge/base/envs/enzymeml/lib/python3.9/site-packages/pandas/io/parsers/readers.py\u001b[0m in \u001b[0;36m_make_engine\u001b[0;34m(self, engine)\u001b[0m\n\u001b[1;32m   1038\u001b[0m             )\n\u001b[1;32m   1039\u001b[0m         \u001b[0;31m# error: Too many arguments for \"ParserBase\"\u001b[0m\u001b[0;34m\u001b[0m\u001b[0;34m\u001b[0m\u001b[0m\n\u001b[0;32m-> 1040\u001b[0;31m         \u001b[0;32mreturn\u001b[0m \u001b[0mmapping\u001b[0m\u001b[0;34m[\u001b[0m\u001b[0mengine\u001b[0m\u001b[0;34m]\u001b[0m\u001b[0;34m(\u001b[0m\u001b[0mself\u001b[0m\u001b[0;34m.\u001b[0m\u001b[0mf\u001b[0m\u001b[0;34m,\u001b[0m \u001b[0;34m**\u001b[0m\u001b[0mself\u001b[0m\u001b[0;34m.\u001b[0m\u001b[0moptions\u001b[0m\u001b[0;34m)\u001b[0m  \u001b[0;31m# type: ignore[call-arg]\u001b[0m\u001b[0;34m\u001b[0m\u001b[0;34m\u001b[0m\u001b[0m\n\u001b[0m\u001b[1;32m   1041\u001b[0m \u001b[0;34m\u001b[0m\u001b[0m\n\u001b[1;32m   1042\u001b[0m     \u001b[0;32mdef\u001b[0m \u001b[0m_failover_to_python\u001b[0m\u001b[0;34m(\u001b[0m\u001b[0mself\u001b[0m\u001b[0;34m)\u001b[0m\u001b[0;34m:\u001b[0m\u001b[0;34m\u001b[0m\u001b[0;34m\u001b[0m\u001b[0m\n",
      "\u001b[0;32m/opt/homebrew/Caskroom/miniforge/base/envs/enzymeml/lib/python3.9/site-packages/pandas/io/parsers/c_parser_wrapper.py\u001b[0m in \u001b[0;36m__init__\u001b[0;34m(self, src, **kwds)\u001b[0m\n\u001b[1;32m     49\u001b[0m \u001b[0;34m\u001b[0m\u001b[0m\n\u001b[1;32m     50\u001b[0m         \u001b[0;31m# open handles\u001b[0m\u001b[0;34m\u001b[0m\u001b[0;34m\u001b[0m\u001b[0m\n\u001b[0;32m---> 51\u001b[0;31m         \u001b[0mself\u001b[0m\u001b[0;34m.\u001b[0m\u001b[0m_open_handles\u001b[0m\u001b[0;34m(\u001b[0m\u001b[0msrc\u001b[0m\u001b[0;34m,\u001b[0m \u001b[0mkwds\u001b[0m\u001b[0;34m)\u001b[0m\u001b[0;34m\u001b[0m\u001b[0;34m\u001b[0m\u001b[0m\n\u001b[0m\u001b[1;32m     52\u001b[0m         \u001b[0;32massert\u001b[0m \u001b[0mself\u001b[0m\u001b[0;34m.\u001b[0m\u001b[0mhandles\u001b[0m \u001b[0;32mis\u001b[0m \u001b[0;32mnot\u001b[0m \u001b[0;32mNone\u001b[0m\u001b[0;34m\u001b[0m\u001b[0;34m\u001b[0m\u001b[0m\n\u001b[1;32m     53\u001b[0m \u001b[0;34m\u001b[0m\u001b[0m\n",
      "\u001b[0;32m/opt/homebrew/Caskroom/miniforge/base/envs/enzymeml/lib/python3.9/site-packages/pandas/io/parsers/base_parser.py\u001b[0m in \u001b[0;36m_open_handles\u001b[0;34m(self, src, kwds)\u001b[0m\n\u001b[1;32m    220\u001b[0m         \u001b[0mLet\u001b[0m \u001b[0mthe\u001b[0m \u001b[0mreaders\u001b[0m \u001b[0mopen\u001b[0m \u001b[0mIOHandles\u001b[0m \u001b[0mafter\u001b[0m \u001b[0mthey\u001b[0m \u001b[0mare\u001b[0m \u001b[0mdone\u001b[0m \u001b[0;32mwith\u001b[0m \u001b[0mtheir\u001b[0m \u001b[0mpotential\u001b[0m \u001b[0mraises\u001b[0m\u001b[0;34m.\u001b[0m\u001b[0;34m\u001b[0m\u001b[0;34m\u001b[0m\u001b[0m\n\u001b[1;32m    221\u001b[0m         \"\"\"\n\u001b[0;32m--> 222\u001b[0;31m         self.handles = get_handle(\n\u001b[0m\u001b[1;32m    223\u001b[0m             \u001b[0msrc\u001b[0m\u001b[0;34m,\u001b[0m\u001b[0;34m\u001b[0m\u001b[0;34m\u001b[0m\u001b[0m\n\u001b[1;32m    224\u001b[0m             \u001b[0;34m\"r\"\u001b[0m\u001b[0;34m,\u001b[0m\u001b[0;34m\u001b[0m\u001b[0;34m\u001b[0m\u001b[0m\n",
      "\u001b[0;32m/opt/homebrew/Caskroom/miniforge/base/envs/enzymeml/lib/python3.9/site-packages/pandas/io/common.py\u001b[0m in \u001b[0;36mget_handle\u001b[0;34m(path_or_buf, mode, encoding, compression, memory_map, is_text, errors, storage_options)\u001b[0m\n\u001b[1;32m    700\u001b[0m         \u001b[0;32mif\u001b[0m \u001b[0mioargs\u001b[0m\u001b[0;34m.\u001b[0m\u001b[0mencoding\u001b[0m \u001b[0;32mand\u001b[0m \u001b[0;34m\"b\"\u001b[0m \u001b[0;32mnot\u001b[0m \u001b[0;32min\u001b[0m \u001b[0mioargs\u001b[0m\u001b[0;34m.\u001b[0m\u001b[0mmode\u001b[0m\u001b[0;34m:\u001b[0m\u001b[0;34m\u001b[0m\u001b[0;34m\u001b[0m\u001b[0m\n\u001b[1;32m    701\u001b[0m             \u001b[0;31m# Encoding\u001b[0m\u001b[0;34m\u001b[0m\u001b[0;34m\u001b[0m\u001b[0m\n\u001b[0;32m--> 702\u001b[0;31m             handle = open(\n\u001b[0m\u001b[1;32m    703\u001b[0m                 \u001b[0mhandle\u001b[0m\u001b[0;34m,\u001b[0m\u001b[0;34m\u001b[0m\u001b[0;34m\u001b[0m\u001b[0m\n\u001b[1;32m    704\u001b[0m                 \u001b[0mioargs\u001b[0m\u001b[0;34m.\u001b[0m\u001b[0mmode\u001b[0m\u001b[0;34m,\u001b[0m\u001b[0;34m\u001b[0m\u001b[0;34m\u001b[0m\u001b[0m\n",
      "\u001b[0;31mFileNotFoundError\u001b[0m: [Errno 2] No such file or directory: '../data/experiments_colton_1-4.txt'"
     ]
    }
   ],
   "source": [
    "add_assumptions()\n",
    "set_initial_concentrations()\n",
    "add_parameter_estiation_setup()\n",
    "set_initial_concentrations()"
   ]
  },
  {
   "cell_type": "code",
   "execution_count": 26,
   "id": "08e05bdf",
   "metadata": {},
   "outputs": [
    {
     "data": {
      "image/png": "[encoded data removed]",
      "text/plain": [
       "<Figure size 432x288 with 1 Axes>"
      ]
     },
     "metadata": {
      "needs_background": "light"
     },
     "output_type": "display_data"
    }
   ],
   "source": [
    "run_time_course(duration=30).plot();"
   ]
  },
  {
   "cell_type": "markdown",
   "id": "ee3e230f",
   "metadata": {},
   "source": [
    "now lets run the parameter estimation, here i just switched to a local method that is unlikely to yield the best result:"
   ]
  },
  {
   "cell_type": "code",
   "execution_count": 27,
   "id": "61b26e74",
   "metadata": {},
   "outputs": [
    {
     "data": {
      "text/html": [
       "<div>\n",
       "<style scoped>\n",
       "    .dataframe tbody tr th:only-of-type {\n",
       "        vertical-align: middle;\n",
       "    }\n",
       "\n",
       "    .dataframe tbody tr th {\n",
       "        vertical-align: top;\n",
       "    }\n",
       "\n",
       "    .dataframe thead th {\n",
       "        text-align: right;\n",
       "    }\n",
       "</style>\n",
       "<table border=\"1\" class=\"dataframe\">\n",
       "  <thead>\n",
       "    <tr style=\"text-align: right;\">\n",
       "      <th></th>\n",
       "      <th>lower</th>\n",
       "      <th>upper</th>\n",
       "      <th>sol</th>\n",
       "      <th>affected</th>\n",
       "    </tr>\n",
       "    <tr>\n",
       "      <th>name</th>\n",
       "      <th></th>\n",
       "      <th></th>\n",
       "      <th></th>\n",
       "      <th></th>\n",
       "    </tr>\n",
       "  </thead>\n",
       "  <tbody>\n",
       "    <tr>\n",
       "      <th>Values[K_s]</th>\n",
       "      <td>0.01</td>\n",
       "      <td>1000.0</td>\n",
       "      <td>14.0</td>\n",
       "      <td>[]</td>\n",
       "    </tr>\n",
       "    <tr>\n",
       "      <th>Values[k_2]</th>\n",
       "      <td>0.01</td>\n",
       "      <td>1000000.0</td>\n",
       "      <td>432.0</td>\n",
       "      <td>[]</td>\n",
       "    </tr>\n",
       "    <tr>\n",
       "      <th>Values[K_n]</th>\n",
       "      <td>0.01</td>\n",
       "      <td>1000.0</td>\n",
       "      <td>290.0</td>\n",
       "      <td>[]</td>\n",
       "    </tr>\n",
       "    <tr>\n",
       "      <th>Values[k_3]</th>\n",
       "      <td>0.01</td>\n",
       "      <td>1000000.0</td>\n",
       "      <td>417.0</td>\n",
       "      <td>[]</td>\n",
       "    </tr>\n",
       "    <tr>\n",
       "      <th>Values[k_4]</th>\n",
       "      <td>0.01</td>\n",
       "      <td>1000000.0</td>\n",
       "      <td>73600.0</td>\n",
       "      <td>[]</td>\n",
       "    </tr>\n",
       "    <tr>\n",
       "      <th>Values[k_5]</th>\n",
       "      <td>0.01</td>\n",
       "      <td>1000000.0</td>\n",
       "      <td>491.0</td>\n",
       "      <td>[]</td>\n",
       "    </tr>\n",
       "    <tr>\n",
       "      <th>Values[k_6]</th>\n",
       "      <td>0.01</td>\n",
       "      <td>1000000.0</td>\n",
       "      <td>1660.0</td>\n",
       "      <td>[]</td>\n",
       "    </tr>\n",
       "    <tr>\n",
       "      <th>Values[K_si]</th>\n",
       "      <td>0.01</td>\n",
       "      <td>50.0</td>\n",
       "      <td>20.0</td>\n",
       "      <td>[]</td>\n",
       "    </tr>\n",
       "    <tr>\n",
       "      <th>Values[K_p]</th>\n",
       "      <td>0.01</td>\n",
       "      <td>1000.0</td>\n",
       "      <td>39.0</td>\n",
       "      <td>[]</td>\n",
       "    </tr>\n",
       "    <tr>\n",
       "      <th>Values[k_4b]</th>\n",
       "      <td>0.01</td>\n",
       "      <td>1000000.0</td>\n",
       "      <td>9126.0</td>\n",
       "      <td>[]</td>\n",
       "    </tr>\n",
       "    <tr>\n",
       "      <th>Values[k_d]</th>\n",
       "      <td>0.3</td>\n",
       "      <td>0.5</td>\n",
       "      <td>0.3</td>\n",
       "      <td>[]</td>\n",
       "    </tr>\n",
       "    <tr>\n",
       "      <th>Values[K_pg]</th>\n",
       "      <td>0.01</td>\n",
       "      <td>1000.0</td>\n",
       "      <td>12.0</td>\n",
       "      <td>[]</td>\n",
       "    </tr>\n",
       "  </tbody>\n",
       "</table>\n",
       "</div>"
      ],
      "text/plain": [
       "             lower      upper      sol affected\n",
       "name                                           \n",
       "Values[K_s]   0.01     1000.0     14.0       []\n",
       "Values[k_2]   0.01  1000000.0    432.0       []\n",
       "Values[K_n]   0.01     1000.0    290.0       []\n",
       "Values[k_3]   0.01  1000000.0    417.0       []\n",
       "Values[k_4]   0.01  1000000.0  73600.0       []\n",
       "Values[k_5]   0.01  1000000.0    491.0       []\n",
       "Values[k_6]   0.01  1000000.0   1660.0       []\n",
       "Values[K_si]  0.01       50.0     20.0       []\n",
       "Values[K_p]   0.01     1000.0     39.0       []\n",
       "Values[k_4b]  0.01  1000000.0   9126.0       []\n",
       "Values[k_d]    0.3        0.5      0.3       []\n",
       "Values[K_pg]  0.01     1000.0     12.0       []"
      ]
     },
     "execution_count": 27,
     "metadata": {},
     "output_type": "execute_result"
    }
   ],
   "source": [
    "run_parameter_estimation(method=PE.LEVENBERG_MARQUARDT, update_model=True)"
   ]
  },
  {
   "cell_type": "markdown",
   "id": "de1bfb5d",
   "metadata": {},
   "source": [
    "utility functions for plotting the results per experiment, or per dependent variable exist. These functions return a list if tuples, that contain the matplotlib figures and the axis. Here,  these are saved in variables, so that the plots can be exported later on as files if needed. "
   ]
  },
  {
   "cell_type": "code",
   "execution_count": 28,
   "id": "6c0baa82",
   "metadata": {},
   "outputs": [],
   "source": [
    "ode_experiment = plot_per_experiment()"
   ]
  },
  {
   "cell_type": "code",
   "execution_count": 29,
   "id": "f6684f35",
   "metadata": {},
   "outputs": [],
   "source": [
    "ode_dependent = plot_per_dependent_variable()"
   ]
  },
  {
   "cell_type": "markdown",
   "id": "1eddd34e",
   "metadata": {},
   "source": [
    "### Continuing Analysis\n",
    "Running parameter estimation with a local method once, does usually not find the best point in parameter space, so at this point we save the model and carry out further analysis in COPASI.  \n",
    "\n",
    "In order to carry out further analysis in COPASI (or the command line version of COPASI on cluster environments), we mark the parameter estimation task as executable and tell COPASI to randomize start values. That way each run of the parameter estimation searches around a different point in parameter space. Finally we save the model. "
   ]
  },
  {
   "cell_type": "code",
   "execution_count": 30,
   "id": "fc0725d4",
   "metadata": {},
   "outputs": [],
   "source": [
    "set_task_settings(T.PARAMETER_ESTIMATION, \n",
    "                  {\n",
    "                      'scheduled': True,\n",
    "                      'problem': {'Randomize Start Values': True},\n",
    "                      'method': {'name': PE.LEVENBERG_MARQUARDT}\n",
    "                  })\n",
    "save_model_and_data(os.path.join(os.getcwd(), 'ode_master.cps'))"
   ]
  },
  {
   "cell_type": "markdown",
   "id": "f273bfed",
   "metadata": {},
   "source": [
    "Now the model can be run directly with the command line version of COPASI, in cluster environments many times, and the best fit selected. In this notebook we just exemplify this by running it twice the following command line arguments were used:\n",
    "    \n",
    " * `--nologo`: suppresses the output of the COPASI version number\n",
    " * `--save result_file_ode*`: we want the final value found after the parameter estimation to be written to a new file, so we can easily retrieve it later. Important is that this file is different for each invocation, so that no parameter set is overwritten. \n",
    " * `--report-file report_ode*`: similarly, we save the report (including the statistics and improvements for each individual run) also to a new file for each invocation\n",
    " * the last argument is the COPASI file that we want to run. \n"
   ]
  },
  {
   "cell_type": "code",
   "execution_count": 31,
   "id": "7b332c23",
   "metadata": {},
   "outputs": [
    {
     "name": "stdout",
     "output_type": "stream",
     "text": [
      "zsh:1: command not found: CopasiSE\n",
      "zsh:1: command not found: CopasiSE\n"
     ]
    }
   ],
   "source": [
    "!CopasiSE --nologo --save result_file_ode1.cps --report-file report_ode1.txt ode_master.cps\n",
    "!CopasiSE --nologo --save result_file_ode2.cps --report-file report_ode2.txt ode_master.cps"
   ]
  },
  {
   "cell_type": "markdown",
   "id": "e6cdae4a",
   "metadata": {},
   "source": [
    "Loading the files back into basico, we can access the fit statistic for the files:"
   ]
  },
  {
   "cell_type": "code",
   "execution_count": 32,
   "id": "a19cd3e2",
   "metadata": {},
   "outputs": [],
   "source": [
    "def report_fit_for_file(filename): \n",
    "    load_model(filename)\n",
    "    run_parameter_estimation(method=PE.CURRENT_SOLUTION, \n",
    "                         settings={'problem': \n",
    "                                   {'Randomize Start Values': False},})\n",
    "    return get_fit_statistic()['obj']"
   ]
  },
  {
   "cell_type": "code",
   "execution_count": 33,
   "id": "1eb61cc4",
   "metadata": {
    "scrolled": true
   },
   "outputs": [
    {
     "data": {
      "text/plain": [
       "0.0"
      ]
     },
     "execution_count": 33,
     "metadata": {},
     "output_type": "execute_result"
    }
   ],
   "source": [
    "report_fit_for_file(os.path.join(os.getcwd(), 'result_file_ode1.cps'))"
   ]
  },
  {
   "cell_type": "code",
   "execution_count": 34,
   "id": "0cde0b0d",
   "metadata": {},
   "outputs": [
    {
     "data": {
      "text/plain": [
       "0.0"
      ]
     },
     "execution_count": 34,
     "metadata": {},
     "output_type": "execute_result"
    }
   ],
   "source": [
    "report_fit_for_file(os.path.join(os.getcwd(), 'result_file_ode2.cps'))"
   ]
  },
  {
   "cell_type": "markdown",
   "id": "ea7c66f7",
   "metadata": {},
   "source": [
    "As expected the objective value (that describes how well the simulation with the found parameters describe the data), will vary widely between the runs. Repeating this process many times over yields a good fit. \n",
    "\n",
    "At this point one would then have a look at whether or not the parameters found have been identifiable. That goes beyond the scope of this notebook, but a good description on how to do this in COPASI is given in: Schaber J (2012) *Easy parameter identifiability analysis with COPASI*. Biosystems 110, 183– 185. "
   ]
  },
  {
   "cell_type": "markdown",
   "id": "dea5b84f",
   "metadata": {},
   "source": [
    "## Modeling explicitly through a cascade of Mass action kinetics\n",
    "In the last case, we now want to model the same data, this time through individual reaction steps:  "
   ]
  },
  {
   "cell_type": "code",
   "execution_count": 35,
   "id": "a7b9ff0a",
   "metadata": {},
   "outputs": [],
   "source": [
    "model = new_model(name='Model 4 (Mass Action)', time_unit='min', volume_unit='ml', quantity_unit='mmol');"
   ]
  },
  {
   "cell_type": "markdown",
   "id": "ff08d891",
   "metadata": {},
   "source": [
    "Since the paper specifies, that individual steps are described by equilibrium constants, we add new functiosn to COPASI, for the different number of arguments needed: "
   ]
  },
  {
   "cell_type": "code",
   "execution_count": 36,
   "id": "4ca41aeb",
   "metadata": {},
   "outputs": [],
   "source": [
    "add_function('MassAction Keq (2s, 1p)', 'v_r*(K_eq * A * B - C)', mapping={'A': 'substrate', 'B': 'substrate', 'C': 'product'});\n",
    "add_function('MassAction Keq (1s, 2p)', 'v_r*(K_eq * A  - B * C)', mapping={'A': 'substrate', 'B': 'product', 'C': 'product'});\n",
    "add_function('MassAction Keq (1s, 1p)', 'v_r*(K_eq * A  - B)', mapping={'A': 'substrate', 'B': 'product'});\n",
    "fun0 = 'MassAction Keq (1s, 1p)'\n",
    "fun = 'MassAction Keq (2s, 1p)'\n",
    "fun2 = 'MassAction Keq (1s, 2p)'"
   ]
  },
  {
   "cell_type": "markdown",
   "id": "3132b887",
   "metadata": {},
   "source": [
    "now add the parameters with initial value: "
   ]
  },
  {
   "cell_type": "code",
   "execution_count": 37,
   "id": "1de3c09f",
   "metadata": {},
   "outputs": [],
   "source": [
    "add_parameter('K_s', initial_value=14)\n",
    "add_parameter('k_2', initial_value=432)\n",
    "add_parameter('K_n', initial_value=290)\n",
    "add_parameter('k_3', initial_value=417)\n",
    "add_parameter('k_4', initial_value=73600)\n",
    "add_parameter('k_5', initial_value=491)\n",
    "add_parameter('k_6', initial_value=1660)\n",
    "add_parameter('K_si', initial_value=20)\n",
    "add_parameter('K_p', initial_value=39)\n",
    "add_parameter('k_4b', initial_value=9126)\n",
    "add_parameter('k_d', initial_value=6.43e-4)\n",
    "add_parameter('K_pg', initial_value=12)\n",
    "add_parameter('vr', initial_value=10000);"
   ]
  },
  {
   "cell_type": "markdown",
   "id": "19c7293a",
   "metadata": {},
   "source": [
    "followed by the reactions, each time the local parameters are mapped to the global ones, so they share them: "
   ]
  },
  {
   "cell_type": "code",
   "execution_count": 38,
   "id": "c3a7bd42",
   "metadata": {},
   "outputs": [],
   "source": [
    "add_reaction('r00', scheme='E ->', mapping={'k1': 'k_d'})\n",
    "add_reaction('r01', scheme='\"E 7-ADCA\" = \"7-ADCA\"', function=fun0, mapping={'v_r': 'vr', 'K_eq': 'K_n'})\n",
    "add_reaction('r02', scheme='E + PGME = \"E PGME\"', function=fun, mapping={'v_r': 'vr', 'K_eq': 'K_s'})\n",
    "add_reaction('r03', scheme='\"E PGME\" -> EA', mapping={'k1': 'k_2'})\n",
    "add_reaction('r04', scheme='EA -> E + PG', mapping={'k1': 'k_3'})\n",
    "add_reaction('r05', scheme='E + PG = \"E PG\"', function=fun, mapping={'v_r': 'vr', 'K_eq': 'K_pg'})\n",
    "add_reaction('r06', scheme='EA + \"7-ADCA\" = \"EA 7-ADCA\"', function=fun, mapping={'v_r': 'vr', 'K_eq': 'K_n'})\n",
    "add_reaction('r07', scheme='\"EA 7-ADCA\" -> \"7-ADCA\" + E + PG', mapping={'k1': 'k_5'})\n",
    "add_reaction('r09', scheme='\"EA 7-ADCA\" = \"E CEX\"', mapping={'k1': 'k_4', 'k2': 'k_4b'})\n",
    "add_reaction('r10', scheme='\"E CEX\" = E + CEX', function=fun2, mapping={'v_r': 'vr', 'K_eq': 'K_p'});\n",
    "add_reaction('r12', scheme='EA + PGME = \"EA PGME\"', function=fun, mapping={'v_r': 'vr', 'K_eq': 'K_si'})\n",
    "add_reaction('r13', scheme='\"EA PGME\" -> E + PG + PGME', mapping={'k1': 'k_6'});"
   ]
  },
  {
   "cell_type": "code",
   "execution_count": 39,
   "id": "81ceae80",
   "metadata": {},
   "outputs": [
    {
     "ename": "FileNotFoundError",
     "evalue": "[Errno 2] No such file or directory: '../data/experiments_colton_1-4.txt'",
     "output_type": "error",
     "traceback": [
      "\u001b[0;31m---------------------------------------------------------------------------\u001b[0m",
      "\u001b[0;31mFileNotFoundError\u001b[0m                         Traceback (most recent call last)",
      "\u001b[0;32m/var/folders/0f/gvqwxk9d46z_cz6w3zg6yn1m0000gn/T/ipykernel_7408/1344374189.py\u001b[0m in \u001b[0;36m<module>\u001b[0;34m\u001b[0m\n\u001b[1;32m      1\u001b[0m \u001b[0mset_initial_concentrations\u001b[0m\u001b[0;34m(\u001b[0m\u001b[0;34m)\u001b[0m\u001b[0;34m\u001b[0m\u001b[0;34m\u001b[0m\u001b[0m\n\u001b[0;32m----> 2\u001b[0;31m \u001b[0madd_parameter_estiation_setup\u001b[0m\u001b[0;34m(\u001b[0m\u001b[0;34m)\u001b[0m\u001b[0;34m\u001b[0m\u001b[0;34m\u001b[0m\u001b[0m\n\u001b[0m\u001b[1;32m      3\u001b[0m \u001b[0mset_initial_concentrations\u001b[0m\u001b[0;34m(\u001b[0m\u001b[0;34m)\u001b[0m\u001b[0;34m\u001b[0m\u001b[0;34m\u001b[0m\u001b[0m\n",
      "\u001b[0;32m/var/folders/0f/gvqwxk9d46z_cz6w3zg6yn1m0000gn/T/ipykernel_7408/1837622194.py\u001b[0m in \u001b[0;36madd_parameter_estiation_setup\u001b[0;34m(filename)\u001b[0m\n\u001b[1;32m     54\u001b[0m \u001b[0;34m\u001b[0m\u001b[0m\n\u001b[1;32m     55\u001b[0m     \u001b[0mset_fit_parameters\u001b[0m\u001b[0;34m(\u001b[0m\u001b[0mtemplate\u001b[0m\u001b[0;34m)\u001b[0m\u001b[0;34m\u001b[0m\u001b[0;34m\u001b[0m\u001b[0m\n\u001b[0;32m---> 56\u001b[0;31m     \u001b[0mdata\u001b[0m \u001b[0;34m=\u001b[0m \u001b[0mpd\u001b[0m\u001b[0;34m.\u001b[0m\u001b[0mread_csv\u001b[0m\u001b[0;34m(\u001b[0m\u001b[0mfilepath_or_buffer\u001b[0m\u001b[0;34m=\u001b[0m\u001b[0mfilename\u001b[0m\u001b[0;34m,\u001b[0m \u001b[0msep\u001b[0m\u001b[0;34m=\u001b[0m\u001b[0;34m'\\t'\u001b[0m\u001b[0;34m)\u001b[0m\u001b[0;34m\u001b[0m\u001b[0;34m\u001b[0m\u001b[0m\n\u001b[0m\u001b[1;32m     57\u001b[0m     \u001b[0mnan_rows\u001b[0m \u001b[0;34m=\u001b[0m \u001b[0mdata\u001b[0m\u001b[0;34m.\u001b[0m\u001b[0mloc\u001b[0m\u001b[0;34m[\u001b[0m\u001b[0mdata\u001b[0m\u001b[0;34m[\u001b[0m\u001b[0;34m'Time'\u001b[0m\u001b[0;34m]\u001b[0m\u001b[0;34m.\u001b[0m\u001b[0misna\u001b[0m\u001b[0;34m(\u001b[0m\u001b[0;34m)\u001b[0m\u001b[0;34m]\u001b[0m\u001b[0;34m.\u001b[0m\u001b[0mindex\u001b[0m\u001b[0;34m.\u001b[0m\u001b[0mto_list\u001b[0m\u001b[0;34m(\u001b[0m\u001b[0;34m)\u001b[0m\u001b[0;34m\u001b[0m\u001b[0;34m\u001b[0m\u001b[0m\n\u001b[1;32m     58\u001b[0m     \u001b[0mdf_list\u001b[0m \u001b[0;34m=\u001b[0m \u001b[0;34m[\u001b[0m\u001b[0;34m]\u001b[0m\u001b[0;34m\u001b[0m\u001b[0;34m\u001b[0m\u001b[0m\n",
      "\u001b[0;32m/opt/homebrew/Caskroom/miniforge/base/envs/enzymeml/lib/python3.9/site-packages/pandas/util/_decorators.py\u001b[0m in \u001b[0;36mwrapper\u001b[0;34m(*args, **kwargs)\u001b[0m\n\u001b[1;32m    309\u001b[0m                     \u001b[0mstacklevel\u001b[0m\u001b[0;34m=\u001b[0m\u001b[0mstacklevel\u001b[0m\u001b[0;34m,\u001b[0m\u001b[0;34m\u001b[0m\u001b[0;34m\u001b[0m\u001b[0m\n\u001b[1;32m    310\u001b[0m                 )\n\u001b[0;32m--> 311\u001b[0;31m             \u001b[0;32mreturn\u001b[0m \u001b[0mfunc\u001b[0m\u001b[0;34m(\u001b[0m\u001b[0;34m*\u001b[0m\u001b[0margs\u001b[0m\u001b[0;34m,\u001b[0m \u001b[0;34m**\u001b[0m\u001b[0mkwargs\u001b[0m\u001b[0;34m)\u001b[0m\u001b[0;34m\u001b[0m\u001b[0;34m\u001b[0m\u001b[0m\n\u001b[0m\u001b[1;32m    312\u001b[0m \u001b[0;34m\u001b[0m\u001b[0m\n\u001b[1;32m    313\u001b[0m         \u001b[0;32mreturn\u001b[0m \u001b[0mwrapper\u001b[0m\u001b[0;34m\u001b[0m\u001b[0;34m\u001b[0m\u001b[0m\n",
      "\u001b[0;32m/opt/homebrew/Caskroom/miniforge/base/envs/enzymeml/lib/python3.9/site-packages/pandas/io/parsers/readers.py\u001b[0m in \u001b[0;36mread_csv\u001b[0;34m(filepath_or_buffer, sep, delimiter, header, names, index_col, usecols, squeeze, prefix, mangle_dupe_cols, dtype, engine, converters, true_values, false_values, skipinitialspace, skiprows, skipfooter, nrows, na_values, keep_default_na, na_filter, verbose, skip_blank_lines, parse_dates, infer_datetime_format, keep_date_col, date_parser, dayfirst, cache_dates, iterator, chunksize, compression, thousands, decimal, lineterminator, quotechar, quoting, doublequote, escapechar, comment, encoding, encoding_errors, dialect, error_bad_lines, warn_bad_lines, on_bad_lines, delim_whitespace, low_memory, memory_map, float_precision, storage_options)\u001b[0m\n\u001b[1;32m    584\u001b[0m     \u001b[0mkwds\u001b[0m\u001b[0;34m.\u001b[0m\u001b[0mupdate\u001b[0m\u001b[0;34m(\u001b[0m\u001b[0mkwds_defaults\u001b[0m\u001b[0;34m)\u001b[0m\u001b[0;34m\u001b[0m\u001b[0;34m\u001b[0m\u001b[0m\n\u001b[1;32m    585\u001b[0m \u001b[0;34m\u001b[0m\u001b[0m\n\u001b[0;32m--> 586\u001b[0;31m     \u001b[0;32mreturn\u001b[0m \u001b[0m_read\u001b[0m\u001b[0;34m(\u001b[0m\u001b[0mfilepath_or_buffer\u001b[0m\u001b[0;34m,\u001b[0m \u001b[0mkwds\u001b[0m\u001b[0;34m)\u001b[0m\u001b[0;34m\u001b[0m\u001b[0;34m\u001b[0m\u001b[0m\n\u001b[0m\u001b[1;32m    587\u001b[0m \u001b[0;34m\u001b[0m\u001b[0m\n\u001b[1;32m    588\u001b[0m \u001b[0;34m\u001b[0m\u001b[0m\n",
      "\u001b[0;32m/opt/homebrew/Caskroom/miniforge/base/envs/enzymeml/lib/python3.9/site-packages/pandas/io/parsers/readers.py\u001b[0m in \u001b[0;36m_read\u001b[0;34m(filepath_or_buffer, kwds)\u001b[0m\n\u001b[1;32m    480\u001b[0m \u001b[0;34m\u001b[0m\u001b[0m\n\u001b[1;32m    481\u001b[0m     \u001b[0;31m# Create the parser.\u001b[0m\u001b[0;34m\u001b[0m\u001b[0;34m\u001b[0m\u001b[0m\n\u001b[0;32m--> 482\u001b[0;31m     \u001b[0mparser\u001b[0m \u001b[0;34m=\u001b[0m \u001b[0mTextFileReader\u001b[0m\u001b[0;34m(\u001b[0m\u001b[0mfilepath_or_buffer\u001b[0m\u001b[0;34m,\u001b[0m \u001b[0;34m**\u001b[0m\u001b[0mkwds\u001b[0m\u001b[0;34m)\u001b[0m\u001b[0;34m\u001b[0m\u001b[0;34m\u001b[0m\u001b[0m\n\u001b[0m\u001b[1;32m    483\u001b[0m \u001b[0;34m\u001b[0m\u001b[0m\n\u001b[1;32m    484\u001b[0m     \u001b[0;32mif\u001b[0m \u001b[0mchunksize\u001b[0m \u001b[0;32mor\u001b[0m \u001b[0miterator\u001b[0m\u001b[0;34m:\u001b[0m\u001b[0;34m\u001b[0m\u001b[0;34m\u001b[0m\u001b[0m\n",
      "\u001b[0;32m/opt/homebrew/Caskroom/miniforge/base/envs/enzymeml/lib/python3.9/site-packages/pandas/io/parsers/readers.py\u001b[0m in \u001b[0;36m__init__\u001b[0;34m(self, f, engine, **kwds)\u001b[0m\n\u001b[1;32m    809\u001b[0m             \u001b[0mself\u001b[0m\u001b[0;34m.\u001b[0m\u001b[0moptions\u001b[0m\u001b[0;34m[\u001b[0m\u001b[0;34m\"has_index_names\"\u001b[0m\u001b[0;34m]\u001b[0m \u001b[0;34m=\u001b[0m \u001b[0mkwds\u001b[0m\u001b[0;34m[\u001b[0m\u001b[0;34m\"has_index_names\"\u001b[0m\u001b[0;34m]\u001b[0m\u001b[0;34m\u001b[0m\u001b[0;34m\u001b[0m\u001b[0m\n\u001b[1;32m    810\u001b[0m \u001b[0;34m\u001b[0m\u001b[0m\n\u001b[0;32m--> 811\u001b[0;31m         \u001b[0mself\u001b[0m\u001b[0;34m.\u001b[0m\u001b[0m_engine\u001b[0m \u001b[0;34m=\u001b[0m \u001b[0mself\u001b[0m\u001b[0;34m.\u001b[0m\u001b[0m_make_engine\u001b[0m\u001b[0;34m(\u001b[0m\u001b[0mself\u001b[0m\u001b[0;34m.\u001b[0m\u001b[0mengine\u001b[0m\u001b[0;34m)\u001b[0m\u001b[0;34m\u001b[0m\u001b[0;34m\u001b[0m\u001b[0m\n\u001b[0m\u001b[1;32m    812\u001b[0m \u001b[0;34m\u001b[0m\u001b[0m\n\u001b[1;32m    813\u001b[0m     \u001b[0;32mdef\u001b[0m \u001b[0mclose\u001b[0m\u001b[0;34m(\u001b[0m\u001b[0mself\u001b[0m\u001b[0;34m)\u001b[0m\u001b[0;34m:\u001b[0m\u001b[0;34m\u001b[0m\u001b[0;34m\u001b[0m\u001b[0m\n",
      "\u001b[0;32m/opt/homebrew/Caskroom/miniforge/base/envs/enzymeml/lib/python3.9/site-packages/pandas/io/parsers/readers.py\u001b[0m in \u001b[0;36m_make_engine\u001b[0;34m(self, engine)\u001b[0m\n\u001b[1;32m   1038\u001b[0m             )\n\u001b[1;32m   1039\u001b[0m         \u001b[0;31m# error: Too many arguments for \"ParserBase\"\u001b[0m\u001b[0;34m\u001b[0m\u001b[0;34m\u001b[0m\u001b[0m\n\u001b[0;32m-> 1040\u001b[0;31m         \u001b[0;32mreturn\u001b[0m \u001b[0mmapping\u001b[0m\u001b[0;34m[\u001b[0m\u001b[0mengine\u001b[0m\u001b[0;34m]\u001b[0m\u001b[0;34m(\u001b[0m\u001b[0mself\u001b[0m\u001b[0;34m.\u001b[0m\u001b[0mf\u001b[0m\u001b[0;34m,\u001b[0m \u001b[0;34m**\u001b[0m\u001b[0mself\u001b[0m\u001b[0;34m.\u001b[0m\u001b[0moptions\u001b[0m\u001b[0;34m)\u001b[0m  \u001b[0;31m# type: ignore[call-arg]\u001b[0m\u001b[0;34m\u001b[0m\u001b[0;34m\u001b[0m\u001b[0m\n\u001b[0m\u001b[1;32m   1041\u001b[0m \u001b[0;34m\u001b[0m\u001b[0m\n\u001b[1;32m   1042\u001b[0m     \u001b[0;32mdef\u001b[0m \u001b[0m_failover_to_python\u001b[0m\u001b[0;34m(\u001b[0m\u001b[0mself\u001b[0m\u001b[0;34m)\u001b[0m\u001b[0;34m:\u001b[0m\u001b[0;34m\u001b[0m\u001b[0;34m\u001b[0m\u001b[0m\n",
      "\u001b[0;32m/opt/homebrew/Caskroom/miniforge/base/envs/enzymeml/lib/python3.9/site-packages/pandas/io/parsers/c_parser_wrapper.py\u001b[0m in \u001b[0;36m__init__\u001b[0;34m(self, src, **kwds)\u001b[0m\n\u001b[1;32m     49\u001b[0m \u001b[0;34m\u001b[0m\u001b[0m\n\u001b[1;32m     50\u001b[0m         \u001b[0;31m# open handles\u001b[0m\u001b[0;34m\u001b[0m\u001b[0;34m\u001b[0m\u001b[0m\n\u001b[0;32m---> 51\u001b[0;31m         \u001b[0mself\u001b[0m\u001b[0;34m.\u001b[0m\u001b[0m_open_handles\u001b[0m\u001b[0;34m(\u001b[0m\u001b[0msrc\u001b[0m\u001b[0;34m,\u001b[0m \u001b[0mkwds\u001b[0m\u001b[0;34m)\u001b[0m\u001b[0;34m\u001b[0m\u001b[0;34m\u001b[0m\u001b[0m\n\u001b[0m\u001b[1;32m     52\u001b[0m         \u001b[0;32massert\u001b[0m \u001b[0mself\u001b[0m\u001b[0;34m.\u001b[0m\u001b[0mhandles\u001b[0m \u001b[0;32mis\u001b[0m \u001b[0;32mnot\u001b[0m \u001b[0;32mNone\u001b[0m\u001b[0;34m\u001b[0m\u001b[0;34m\u001b[0m\u001b[0m\n\u001b[1;32m     53\u001b[0m \u001b[0;34m\u001b[0m\u001b[0m\n",
      "\u001b[0;32m/opt/homebrew/Caskroom/miniforge/base/envs/enzymeml/lib/python3.9/site-packages/pandas/io/parsers/base_parser.py\u001b[0m in \u001b[0;36m_open_handles\u001b[0;34m(self, src, kwds)\u001b[0m\n\u001b[1;32m    220\u001b[0m         \u001b[0mLet\u001b[0m \u001b[0mthe\u001b[0m \u001b[0mreaders\u001b[0m \u001b[0mopen\u001b[0m \u001b[0mIOHandles\u001b[0m \u001b[0mafter\u001b[0m \u001b[0mthey\u001b[0m \u001b[0mare\u001b[0m \u001b[0mdone\u001b[0m \u001b[0;32mwith\u001b[0m \u001b[0mtheir\u001b[0m \u001b[0mpotential\u001b[0m \u001b[0mraises\u001b[0m\u001b[0;34m.\u001b[0m\u001b[0;34m\u001b[0m\u001b[0;34m\u001b[0m\u001b[0m\n\u001b[1;32m    221\u001b[0m         \"\"\"\n\u001b[0;32m--> 222\u001b[0;31m         self.handles = get_handle(\n\u001b[0m\u001b[1;32m    223\u001b[0m             \u001b[0msrc\u001b[0m\u001b[0;34m,\u001b[0m\u001b[0;34m\u001b[0m\u001b[0;34m\u001b[0m\u001b[0m\n\u001b[1;32m    224\u001b[0m             \u001b[0;34m\"r\"\u001b[0m\u001b[0;34m,\u001b[0m\u001b[0;34m\u001b[0m\u001b[0;34m\u001b[0m\u001b[0m\n",
      "\u001b[0;32m/opt/homebrew/Caskroom/miniforge/base/envs/enzymeml/lib/python3.9/site-packages/pandas/io/common.py\u001b[0m in \u001b[0;36mget_handle\u001b[0;34m(path_or_buf, mode, encoding, compression, memory_map, is_text, errors, storage_options)\u001b[0m\n\u001b[1;32m    700\u001b[0m         \u001b[0;32mif\u001b[0m \u001b[0mioargs\u001b[0m\u001b[0;34m.\u001b[0m\u001b[0mencoding\u001b[0m \u001b[0;32mand\u001b[0m \u001b[0;34m\"b\"\u001b[0m \u001b[0;32mnot\u001b[0m \u001b[0;32min\u001b[0m \u001b[0mioargs\u001b[0m\u001b[0;34m.\u001b[0m\u001b[0mmode\u001b[0m\u001b[0;34m:\u001b[0m\u001b[0;34m\u001b[0m\u001b[0;34m\u001b[0m\u001b[0m\n\u001b[1;32m    701\u001b[0m             \u001b[0;31m# Encoding\u001b[0m\u001b[0;34m\u001b[0m\u001b[0;34m\u001b[0m\u001b[0m\n\u001b[0;32m--> 702\u001b[0;31m             handle = open(\n\u001b[0m\u001b[1;32m    703\u001b[0m                 \u001b[0mhandle\u001b[0m\u001b[0;34m,\u001b[0m\u001b[0;34m\u001b[0m\u001b[0;34m\u001b[0m\u001b[0m\n\u001b[1;32m    704\u001b[0m                 \u001b[0mioargs\u001b[0m\u001b[0;34m.\u001b[0m\u001b[0mmode\u001b[0m\u001b[0;34m,\u001b[0m\u001b[0;34m\u001b[0m\u001b[0;34m\u001b[0m\u001b[0m\n",
      "\u001b[0;31mFileNotFoundError\u001b[0m: [Errno 2] No such file or directory: '../data/experiments_colton_1-4.txt'"
     ]
    }
   ],
   "source": [
    "set_initial_concentrations()\n",
    "add_parameter_estiation_setup()\n",
    "set_initial_concentrations()"
   ]
  },
  {
   "cell_type": "code",
   "execution_count": 40,
   "id": "26c7b1b7",
   "metadata": {},
   "outputs": [
    {
     "data": {
      "image/png": "[encoded data removed]",
      "text/plain": [
       "<Figure size 432x288 with 1 Axes>"
      ]
     },
     "metadata": {
      "needs_background": "light"
     },
     "output_type": "display_data"
    }
   ],
   "source": [
    "run_time_course(35, update_model=False)[['CEX', 'PGME']].plot();"
   ]
  },
  {
   "cell_type": "code",
   "execution_count": 41,
   "id": "4a9e7698",
   "metadata": {},
   "outputs": [
    {
     "data": {
      "text/html": [
       "<div>\n",
       "<style scoped>\n",
       "    .dataframe tbody tr th:only-of-type {\n",
       "        vertical-align: middle;\n",
       "    }\n",
       "\n",
       "    .dataframe tbody tr th {\n",
       "        vertical-align: top;\n",
       "    }\n",
       "\n",
       "    .dataframe thead th {\n",
       "        text-align: right;\n",
       "    }\n",
       "</style>\n",
       "<table border=\"1\" class=\"dataframe\">\n",
       "  <thead>\n",
       "    <tr style=\"text-align: right;\">\n",
       "      <th></th>\n",
       "      <th>initial_concentration</th>\n",
       "    </tr>\n",
       "    <tr>\n",
       "      <th>name</th>\n",
       "      <th></th>\n",
       "    </tr>\n",
       "  </thead>\n",
       "  <tbody>\n",
       "    <tr>\n",
       "      <th>EA</th>\n",
       "      <td>0.0</td>\n",
       "    </tr>\n",
       "    <tr>\n",
       "      <th>PG</th>\n",
       "      <td>0.0</td>\n",
       "    </tr>\n",
       "    <tr>\n",
       "      <th>PGME</th>\n",
       "      <td>20.0</td>\n",
       "    </tr>\n",
       "    <tr>\n",
       "      <th>7-ADCA</th>\n",
       "      <td>40.0</td>\n",
       "    </tr>\n",
       "    <tr>\n",
       "      <th>E CEX</th>\n",
       "      <td>0.0</td>\n",
       "    </tr>\n",
       "    <tr>\n",
       "      <th>E PGME</th>\n",
       "      <td>0.0</td>\n",
       "    </tr>\n",
       "    <tr>\n",
       "      <th>EA 7-ADCA</th>\n",
       "      <td>0.0</td>\n",
       "    </tr>\n",
       "    <tr>\n",
       "      <th>E PG</th>\n",
       "      <td>0.0</td>\n",
       "    </tr>\n",
       "    <tr>\n",
       "      <th>E 7-ADCA</th>\n",
       "      <td>0.0</td>\n",
       "    </tr>\n",
       "    <tr>\n",
       "      <th>CEX</th>\n",
       "      <td>0.0</td>\n",
       "    </tr>\n",
       "    <tr>\n",
       "      <th>EA PGME</th>\n",
       "      <td>0.0</td>\n",
       "    </tr>\n",
       "    <tr>\n",
       "      <th>E</th>\n",
       "      <td>0.0</td>\n",
       "    </tr>\n",
       "  </tbody>\n",
       "</table>\n",
       "</div>"
      ],
      "text/plain": [
       "           initial_concentration\n",
       "name                            \n",
       "EA                           0.0\n",
       "PG                           0.0\n",
       "PGME                        20.0\n",
       "7-ADCA                      40.0\n",
       "E CEX                        0.0\n",
       "E PGME                       0.0\n",
       "EA 7-ADCA                    0.0\n",
       "E PG                         0.0\n",
       "E 7-ADCA                     0.0\n",
       "CEX                          0.0\n",
       "EA PGME                      0.0\n",
       "E                            0.0"
      ]
     },
     "execution_count": 41,
     "metadata": {},
     "output_type": "execute_result"
    }
   ],
   "source": [
    "get_species()[['initial_concentration']]"
   ]
  },
  {
   "cell_type": "markdown",
   "id": "b6505f6b",
   "metadata": {},
   "source": [
    "Now we are ready to fit the model, again i'm using a global method here: "
   ]
  },
  {
   "cell_type": "code",
   "execution_count": 42,
   "id": "a5a93247",
   "metadata": {},
   "outputs": [
    {
     "data": {
      "text/html": [
       "<div>\n",
       "<style scoped>\n",
       "    .dataframe tbody tr th:only-of-type {\n",
       "        vertical-align: middle;\n",
       "    }\n",
       "\n",
       "    .dataframe tbody tr th {\n",
       "        vertical-align: top;\n",
       "    }\n",
       "\n",
       "    .dataframe thead th {\n",
       "        text-align: right;\n",
       "    }\n",
       "</style>\n",
       "<table border=\"1\" class=\"dataframe\">\n",
       "  <thead>\n",
       "    <tr style=\"text-align: right;\">\n",
       "      <th></th>\n",
       "      <th>lower</th>\n",
       "      <th>upper</th>\n",
       "      <th>sol</th>\n",
       "      <th>affected</th>\n",
       "    </tr>\n",
       "    <tr>\n",
       "      <th>name</th>\n",
       "      <th></th>\n",
       "      <th></th>\n",
       "      <th></th>\n",
       "      <th></th>\n",
       "    </tr>\n",
       "  </thead>\n",
       "  <tbody>\n",
       "    <tr>\n",
       "      <th>Values[K_s]</th>\n",
       "      <td>0.01</td>\n",
       "      <td>1000.0</td>\n",
       "      <td>14.0</td>\n",
       "      <td>[]</td>\n",
       "    </tr>\n",
       "    <tr>\n",
       "      <th>Values[k_2]</th>\n",
       "      <td>0.01</td>\n",
       "      <td>1000000.0</td>\n",
       "      <td>432.0</td>\n",
       "      <td>[]</td>\n",
       "    </tr>\n",
       "    <tr>\n",
       "      <th>Values[K_n]</th>\n",
       "      <td>0.01</td>\n",
       "      <td>1000.0</td>\n",
       "      <td>290.0</td>\n",
       "      <td>[]</td>\n",
       "    </tr>\n",
       "    <tr>\n",
       "      <th>Values[k_3]</th>\n",
       "      <td>0.01</td>\n",
       "      <td>1000000.0</td>\n",
       "      <td>417.0</td>\n",
       "      <td>[]</td>\n",
       "    </tr>\n",
       "    <tr>\n",
       "      <th>Values[k_4]</th>\n",
       "      <td>0.01</td>\n",
       "      <td>1000000.0</td>\n",
       "      <td>73600.0</td>\n",
       "      <td>[]</td>\n",
       "    </tr>\n",
       "    <tr>\n",
       "      <th>Values[k_5]</th>\n",
       "      <td>0.01</td>\n",
       "      <td>1000000.0</td>\n",
       "      <td>491.0</td>\n",
       "      <td>[]</td>\n",
       "    </tr>\n",
       "    <tr>\n",
       "      <th>Values[k_6]</th>\n",
       "      <td>0.01</td>\n",
       "      <td>1000000.0</td>\n",
       "      <td>1660.0</td>\n",
       "      <td>[]</td>\n",
       "    </tr>\n",
       "    <tr>\n",
       "      <th>Values[K_si]</th>\n",
       "      <td>0.01</td>\n",
       "      <td>50.0</td>\n",
       "      <td>20.0</td>\n",
       "      <td>[]</td>\n",
       "    </tr>\n",
       "    <tr>\n",
       "      <th>Values[K_p]</th>\n",
       "      <td>0.01</td>\n",
       "      <td>1000.0</td>\n",
       "      <td>39.0</td>\n",
       "      <td>[]</td>\n",
       "    </tr>\n",
       "    <tr>\n",
       "      <th>Values[k_4b]</th>\n",
       "      <td>0.01</td>\n",
       "      <td>1000000.0</td>\n",
       "      <td>9126.0</td>\n",
       "      <td>[]</td>\n",
       "    </tr>\n",
       "    <tr>\n",
       "      <th>Values[k_d]</th>\n",
       "      <td>0.3</td>\n",
       "      <td>0.5</td>\n",
       "      <td>0.3</td>\n",
       "      <td>[]</td>\n",
       "    </tr>\n",
       "    <tr>\n",
       "      <th>Values[K_pg]</th>\n",
       "      <td>0.01</td>\n",
       "      <td>1000.0</td>\n",
       "      <td>12.0</td>\n",
       "      <td>[]</td>\n",
       "    </tr>\n",
       "  </tbody>\n",
       "</table>\n",
       "</div>"
      ],
      "text/plain": [
       "             lower      upper      sol affected\n",
       "name                                           \n",
       "Values[K_s]   0.01     1000.0     14.0       []\n",
       "Values[k_2]   0.01  1000000.0    432.0       []\n",
       "Values[K_n]   0.01     1000.0    290.0       []\n",
       "Values[k_3]   0.01  1000000.0    417.0       []\n",
       "Values[k_4]   0.01  1000000.0  73600.0       []\n",
       "Values[k_5]   0.01  1000000.0    491.0       []\n",
       "Values[k_6]   0.01  1000000.0   1660.0       []\n",
       "Values[K_si]  0.01       50.0     20.0       []\n",
       "Values[K_p]   0.01     1000.0     39.0       []\n",
       "Values[k_4b]  0.01  1000000.0   9126.0       []\n",
       "Values[k_d]    0.3        0.5      0.3       []\n",
       "Values[K_pg]  0.01     1000.0     12.0       []"
      ]
     },
     "execution_count": 42,
     "metadata": {},
     "output_type": "execute_result"
    }
   ],
   "source": [
    "run_parameter_estimation(method=PE.EVOLUTIONARY_STRATEGY_SRES, update_model=True)"
   ]
  },
  {
   "cell_type": "code",
   "execution_count": 43,
   "id": "745a4285",
   "metadata": {},
   "outputs": [],
   "source": [
    "plots_ma = plot_per_experiment();"
   ]
  },
  {
   "cell_type": "code",
   "execution_count": 44,
   "id": "19f46c18",
   "metadata": {},
   "outputs": [],
   "source": [
    "dependent_ma = plot_per_dependent_variable()"
   ]
  },
  {
   "cell_type": "markdown",
   "id": "c04ed945",
   "metadata": {},
   "source": [
    "### Continuing Analysis\n",
    "As shown before, we can do further analysis again on the cluster environment, so we prepare the file just as we have done in the ODE case: "
   ]
  },
  {
   "cell_type": "code",
   "execution_count": 45,
   "id": "296916e0",
   "metadata": {},
   "outputs": [],
   "source": [
    "set_task_settings(T.PARAMETER_ESTIMATION, \n",
    "                  {\n",
    "                      'scheduled': True,\n",
    "                      'problem': {'Randomize Start Values': True},\n",
    "                      'method': {'name': PE.LEVENBERG_MARQUARDT}\n",
    "                  })\n",
    "save_model_and_data(os.path.join(os.getcwd(), 'mass_action_master.cps'))"
   ]
  },
  {
   "cell_type": "markdown",
   "id": "6d003e5e",
   "metadata": {},
   "source": [
    "Now the model can be run directly with the command line version of COPASI, in cluster environments many times, and the best fit selected: "
   ]
  },
  {
   "cell_type": "code",
   "execution_count": 46,
   "id": "3481bfd8",
   "metadata": {},
   "outputs": [
    {
     "name": "stdout",
     "output_type": "stream",
     "text": [
      "zsh:1: command not found: CopasiSE\n",
      "zsh:1: command not found: CopasiSE\n"
     ]
    }
   ],
   "source": [
    "!CopasiSE --nologo --save result_file1.cps --report-file report1.txt mass_action_master.cps\n",
    "!CopasiSE --nologo --save result_file2.cps --report-file report2.txt mass_action_master.cps"
   ]
  },
  {
   "cell_type": "code",
   "execution_count": 47,
   "id": "9847e8b9",
   "metadata": {
    "scrolled": true
   },
   "outputs": [
    {
     "data": {
      "text/plain": [
       "0.0"
      ]
     },
     "execution_count": 47,
     "metadata": {},
     "output_type": "execute_result"
    }
   ],
   "source": [
    "report_fit_for_file(os.path.join(os.getcwd(), 'result_file1.cps'))"
   ]
  },
  {
   "cell_type": "code",
   "execution_count": 48,
   "id": "61ec8c48",
   "metadata": {},
   "outputs": [
    {
     "data": {
      "text/plain": [
       "0.0"
      ]
     },
     "execution_count": 48,
     "metadata": {},
     "output_type": "execute_result"
    }
   ],
   "source": [
    "report_fit_for_file(os.path.join(os.getcwd(), 'result_file2.cps'))"
   ]
  },
  {
   "cell_type": "markdown",
   "id": "55d8182d",
   "metadata": {},
   "source": [
    "#### Save Images\n",
    "Optionally the images obtained above can be saved. The plots returned by the `plot_per_experiment` or `plot_per_dependent_variable` function, contains an array of tuples of matplotlib figures and the corresponding axes, so that the plot can be customized later on. \n",
    "\n",
    "Here we just save the figures as they are to svg:"
   ]
  },
  {
   "cell_type": "code",
   "execution_count": 49,
   "id": "f92d1d9c",
   "metadata": {},
   "outputs": [],
   "source": [
    "def save_svgs(results, prefix):\n",
    "    for i in range(len(results)):\n",
    "        results[i][0].savefig(f'../svgs/{prefix}_{i}.svg')"
   ]
  },
  {
   "cell_type": "code",
   "execution_count": 50,
   "id": "4b9ad9ee",
   "metadata": {},
   "outputs": [],
   "source": [
    "save_svgs(ode_experiment, 'exp_ode')\n",
    "save_svgs(ode_dependent, 'dependent_ode')\n",
    "save_svgs(plots_ma, 'exp_ma')\n",
    "save_svgs(dependent_ma, 'dependent_ma')"
   ]
  },
  {
   "cell_type": "markdown",
   "id": "18ec91a1-b0c7-4f8d-a5f7-71487ab9125d",
   "metadata": {},
   "source": [
    "### Upload to Dataverse"
   ]
  },
  {
   "cell_type": "code",
   "execution_count": 51,
   "id": "9cb44c2e-5799-4548-b821-52a62e92c9ef",
   "metadata": {},
   "outputs": [
    {
     "ename": "NameError",
     "evalue": "name 'enzmldo' is not defined",
     "output_type": "error",
     "traceback": [
      "\u001b[0;31m---------------------------------------------------------------------------\u001b[0m",
      "\u001b[0;31mNameError\u001b[0m                                 Traceback (most recent call last)",
      "\u001b[0;32m/var/folders/0f/gvqwxk9d46z_cz6w3zg6yn1m0000gn/T/ipykernel_7408/3896905886.py\u001b[0m in \u001b[0;36m<module>\u001b[0;34m\u001b[0m\n\u001b[1;32m      1\u001b[0m \u001b[0mpublish\u001b[0m \u001b[0;34m=\u001b[0m \u001b[0;32mTrue\u001b[0m\u001b[0;34m\u001b[0m\u001b[0;34m\u001b[0m\u001b[0m\n\u001b[1;32m      2\u001b[0m \u001b[0;32mif\u001b[0m \u001b[0mpublish\u001b[0m\u001b[0;34m:\u001b[0m\u001b[0;34m\u001b[0m\u001b[0;34m\u001b[0m\u001b[0m\n\u001b[0;32m----> 3\u001b[0;31m     \u001b[0menzmldo\u001b[0m\u001b[0;34m.\u001b[0m\u001b[0muploadToDataverse\u001b[0m\u001b[0;34m(\u001b[0m\u001b[0mdataverse_name\u001b[0m\u001b[0;34m=\u001b[0m\u001b[0;34m\"enzymeml_at_work\"\u001b[0m\u001b[0;34m)\u001b[0m\u001b[0;34m\u001b[0m\u001b[0;34m\u001b[0m\u001b[0m\n\u001b[0m",
      "\u001b[0;31mNameError\u001b[0m: name 'enzmldo' is not defined"
     ]
    }
   ],
   "source": [
    "publish = True\n",
    "if publish:\n",
    "    enzmldo.uploadToDataverse(dataverse_name=\"enzymeml_at_work\")"
   ]
  },
  {
   "cell_type": "code",
   "execution_count": null,
   "id": "c48000b8-2c8e-4602-9533-8a76bbfac858",
   "metadata": {},
   "outputs": [],
   "source": []
  },
  {
   "cell_type": "code",
   "execution_count": null,
   "id": "dce14450-4e8f-4646-92f9-1cc1751b350f",
   "metadata": {},
   "outputs": [],
   "source": []
  },
  {
   "cell_type": "code",
   "execution_count": null,
   "id": "21a4f254-b97a-4786-8f16-9ae578568054",
   "metadata": {},
   "outputs": [],
   "source": []
  },
  {
   "cell_type": "code",
   "execution_count": null,
   "id": "2006c022-b0ac-4e9c-9658-da3af764e3a7",
   "metadata": {},
   "outputs": [],
   "source": []
  },
  {
   "cell_type": "code",
   "execution_count": null,
   "id": "4c7ba9df-f773-482e-b634-eeeaa0fdb232",
   "metadata": {},
   "outputs": [],
   "source": []
  },
  {
   "cell_type": "code",
   "execution_count": null,
   "id": "b1694f88-a17e-4506-a8eb-e3013b5ab1d2",
   "metadata": {},
   "outputs": [],
   "source": []
  },
  {
   "cell_type": "code",
   "execution_count": null,
   "id": "3dd8e410-369d-4b4e-be2b-50878a59b5eb",
   "metadata": {},
   "outputs": [],
   "source": []
  },
  {
   "cell_type": "code",
   "execution_count": null,
   "id": "8c30dbf8-e3fd-4da9-88e1-8811c5237c94",
   "metadata": {},
   "outputs": [],
   "source": []
  },
  {
   "cell_type": "code",
   "execution_count": null,
   "id": "9fa3d75e-2ea6-44f0-8dd2-c12c8a001d83",
   "metadata": {},
   "outputs": [],
   "source": []
  },
  {
   "cell_type": "code",
   "execution_count": null,
   "id": "6d17fcb2-d5cf-41d6-b1d1-41a6ccabcca2",
   "metadata": {},
   "outputs": [],
   "source": []
  },
  {
   "cell_type": "code",
   "execution_count": null,
   "id": "ae49d474-af16-4f72-972a-5c6403229679",
   "metadata": {},
   "outputs": [],
   "source": []
  },
  {
   "cell_type": "code",
   "execution_count": null,
   "id": "466a6b3a-e97a-4569-9ea0-ab8b76dd0feb",
   "metadata": {},
   "outputs": [],
   "source": []
  },
  {
   "cell_type": "code",
   "execution_count": null,
   "id": "c7605e21-7744-4a2b-bb64-15a18f364424",
   "metadata": {},
   "outputs": [],
   "source": []
  },
  {
   "cell_type": "code",
   "execution_count": null,
   "id": "ebba1305-cb2a-4d54-a6cf-040acdf74650",
   "metadata": {},
   "outputs": [],
   "source": []
  },
  {
   "cell_type": "code",
   "execution_count": null,
   "id": "999343a2-384a-4d1f-afa5-59b636898e54",
   "metadata": {},
   "outputs": [],
   "source": []
  },
  {
   "cell_type": "code",
   "execution_count": null,
   "id": "3c70fe85-df79-4a1a-81b7-cb6909f56816",
   "metadata": {},
   "outputs": [],
   "source": []
  },
  {
   "cell_type": "code",
   "execution_count": null,
   "id": "4ce6950f-9d9b-4bfa-a2f5-9ff985c0d16c",
   "metadata": {},
   "outputs": [],
   "source": []
  },
  {
   "cell_type": "code",
   "execution_count": null,
   "id": "2583450e-c9dd-4c78-a266-b92eff71ba85",
   "metadata": {},
   "outputs": [],
   "source": []
  },
  {
   "cell_type": "code",
   "execution_count": null,
   "id": "3a26363d-60f7-4124-a9e5-2c899898c433",
   "metadata": {},
   "outputs": [],
   "source": []
  },
  {
   "cell_type": "code",
   "execution_count": null,
   "id": "92c09e86-335d-4376-adf4-ec181bc42830",
   "metadata": {},
   "outputs": [],
   "source": []
  },
  {
   "cell_type": "code",
   "execution_count": null,
   "id": "06561220-8884-4587-b7a1-475d73db1528",
   "metadata": {},
   "outputs": [],
   "source": []
  },
  {
   "cell_type": "code",
   "execution_count": null,
   "id": "a61c6d51-9f88-493d-933b-01145069783b",
   "metadata": {},
   "outputs": [],
   "source": []
  },
  {
   "cell_type": "code",
   "execution_count": null,
   "id": "af58615b-a25b-438a-a4bf-fe607884bdfc",
   "metadata": {},
   "outputs": [],
   "source": []
  },
  {
   "cell_type": "code",
   "execution_count": null,
   "id": "eb58b600-b9c6-4b47-9e9f-4dafda487b38",
   "metadata": {},
   "outputs": [],
   "source": []
  },
  {
   "cell_type": "code",
   "execution_count": null,
   "id": "01304c4b-0725-4587-9486-e3d80e4fc896",
   "metadata": {},
   "outputs": [],
   "source": []
  },
  {
   "cell_type": "code",
   "execution_count": null,
   "id": "8366dc21-f154-495f-b52f-362a0afec878",
   "metadata": {},
   "outputs": [],
   "source": []
  },
  {
   "cell_type": "code",
   "execution_count": null,
   "id": "1408b8b8-8d79-4412-ad07-839e3e29d6cf",
   "metadata": {},
   "outputs": [],
   "source": []
  },
  {
   "cell_type": "code",
   "execution_count": null,
   "id": "56f46570-8ba9-4f26-94fe-53f850c111ed",
   "metadata": {},
   "outputs": [],
   "source": []
  },
  {
   "cell_type": "code",
   "execution_count": null,
   "id": "10d0edd4-f32a-4b9f-b409-443400a1b0c6",
   "metadata": {},
   "outputs": [],
   "source": []
  },
  {
   "cell_type": "code",
   "execution_count": null,
   "id": "6521a475-3d47-4371-9b88-de4eff6fe788",
   "metadata": {},
   "outputs": [],
   "source": []
  },
  {
   "cell_type": "code",
   "execution_count": null,
   "id": "603477ac-55b8-4428-9c3a-54d53473305d",
   "metadata": {},
   "outputs": [],
   "source": []
  },
  {
   "cell_type": "code",
   "execution_count": null,
   "id": "ed2038bf-e174-4641-b09f-9a57ff6af502",
   "metadata": {},
   "outputs": [],
   "source": []
  },
  {
   "cell_type": "code",
   "execution_count": null,
   "id": "45dddd07-5580-452b-b4c6-a98f184fca99",
   "metadata": {},
   "outputs": [],
   "source": []
  },
  {
   "cell_type": "code",
   "execution_count": null,
   "id": "99f85189-1b92-4895-98d4-eb946c98fe9e",
   "metadata": {},
   "outputs": [],
   "source": []
  },
  {
   "cell_type": "code",
   "execution_count": null,
   "id": "67a7a05f-c224-412b-85b3-a46d6ffc519c",
   "metadata": {},
   "outputs": [],
   "source": []
  },
  {
   "cell_type": "code",
   "execution_count": null,
   "id": "36dc6721-e42c-4862-aa63-fdf3eb096ebe",
   "metadata": {},
   "outputs": [],
   "source": []
  },
  {
   "cell_type": "code",
   "execution_count": null,
   "id": "9869ae37-f176-49c8-9e21-6d1a8cf033cf",
   "metadata": {},
   "outputs": [],
   "source": []
  },
  {
   "cell_type": "code",
   "execution_count": null,
   "id": "6bfcd36a-e2da-48fe-bd08-e539c12c3318",
   "metadata": {},
   "outputs": [],
   "source": []
  },
  {
   "cell_type": "code",
   "execution_count": null,
   "id": "23229756-dc3b-4d08-a4e1-03e155f68d25",
   "metadata": {},
   "outputs": [],
   "source": []
  },
  {
   "cell_type": "code",
   "execution_count": null,
   "id": "d2c79cb8-8e60-491d-b1b7-59cb43f7dd48",
   "metadata": {},
   "outputs": [],
   "source": []
  },
  {
   "cell_type": "code",
   "execution_count": null,
   "id": "79821375-98b3-4c0a-b8c4-0c00ff24dfe5",
   "metadata": {},
   "outputs": [],
   "source": []
  },
  {
   "cell_type": "code",
   "execution_count": null,
   "id": "373ae67c-9739-4490-bde4-d1579648aa51",
   "metadata": {},
   "outputs": [],
   "source": []
  },
  {
   "cell_type": "code",
   "execution_count": null,
   "id": "82d664e0-8cc0-4cd6-baae-1650f93cb44e",
   "metadata": {},
   "outputs": [],
   "source": []
  },
  {
   "cell_type": "code",
   "execution_count": null,
   "id": "591ee37a-c988-43b3-8106-67ec1797fcdb",
   "metadata": {},
   "outputs": [],
   "source": []
  },
  {
   "cell_type": "code",
   "execution_count": null,
   "id": "1d7734f9-7ce0-45ab-8188-edacdfce6889",
   "metadata": {},
   "outputs": [],
   "source": []
  },
  {
   "cell_type": "code",
   "execution_count": null,
   "id": "7beac4b2-fa61-46b3-8762-c697f891294e",
   "metadata": {},
   "outputs": [],
   "source": []
  },
  {
   "cell_type": "code",
   "execution_count": null,
   "id": "2ee05ff6-0a19-4168-94c3-9cde5de4d36f",
   "metadata": {},
   "outputs": [],
   "source": []
  },
  {
   "cell_type": "code",
   "execution_count": null,
   "id": "4e19c0e2-6118-4d2d-b559-0e7c5fa33f3c",
   "metadata": {},
   "outputs": [],
   "source": []
  },
  {
   "cell_type": "code",
   "execution_count": null,
   "id": "b7210252-3b1b-4e13-a378-969e5a611797",
   "metadata": {},
   "outputs": [],
   "source": []
  },
  {
   "cell_type": "code",
   "execution_count": null,
   "id": "252d9bea-1112-4467-bb5d-55155a3d5955",
   "metadata": {},
   "outputs": [],
   "source": []
  },
  {
   "cell_type": "code",
   "execution_count": null,
   "id": "82dbd663-56d9-4cf0-9d22-9beff54bd6f0",
   "metadata": {},
   "outputs": [],
   "source": []
  },
  {
   "cell_type": "code",
   "execution_count": null,
   "id": "4aea4975-2434-4481-8c09-19c166e3f075",
   "metadata": {},
   "outputs": [],
   "source": []
  },
  {
   "cell_type": "code",
   "execution_count": null,
   "id": "a82dddd4-d038-4216-b1fe-adeda97555cb",
   "metadata": {},
   "outputs": [],
   "source": []
  },
  {
   "cell_type": "code",
   "execution_count": null,
   "id": "ff8b7dbc-aeef-43a6-bb34-98d13ee78fea",
   "metadata": {},
   "outputs": [],
   "source": []
  },
  {
   "cell_type": "code",
   "execution_count": null,
   "id": "b0f229b9-96a7-43f3-a162-8792c79ba1a5",
   "metadata": {},
   "outputs": [],
   "source": []
  },
  {
   "cell_type": "code",
   "execution_count": null,
   "id": "afe65970-d174-4b23-b7a4-4e4ea8f0010c",
   "metadata": {},
   "outputs": [],
   "source": []
  },
  {
   "cell_type": "code",
   "execution_count": null,
   "id": "229020d9-51e5-41b0-bddd-498f2c1a4cd2",
   "metadata": {},
   "outputs": [],
   "source": []
  },
  {
   "cell_type": "code",
   "execution_count": null,
   "id": "1ad7b5d7-5a4a-49fd-b804-ccc7852dba85",
   "metadata": {},
   "outputs": [],
   "source": []
  },
  {
   "cell_type": "code",
   "execution_count": null,
   "id": "51344dbb-7b30-4028-bbb4-d26c5bbaf661",
   "metadata": {},
   "outputs": [],
   "source": []
  },
  {
   "cell_type": "code",
   "execution_count": null,
   "id": "999db871-e0cf-494d-8dd1-992294c4bb30",
   "metadata": {},
   "outputs": [],
   "source": []
  },
  {
   "cell_type": "code",
   "execution_count": null,
   "id": "9d59632e-79a8-4fca-b074-44829c1c4f87",
   "metadata": {},
   "outputs": [],
   "source": []
  },
  {
   "cell_type": "code",
   "execution_count": null,
   "id": "0e78b7d5-9cc3-4803-bc05-89e53c96a4f9",
   "metadata": {},
   "outputs": [],
   "source": []
  },
  {
   "cell_type": "code",
   "execution_count": null,
   "id": "6699f56e-1919-4fb8-9d26-2e653018bf9b",
   "metadata": {},
   "outputs": [],
   "source": []
  },
  {
   "cell_type": "code",
   "execution_count": null,
   "id": "f0bd7147-b07d-4eaa-b03b-4c80f623fc60",
   "metadata": {},
   "outputs": [],
   "source": []
  },
  {
   "cell_type": "code",
   "execution_count": null,
   "id": "73e37c12-7b03-40a8-87a4-a30ba4507cce",
   "metadata": {},
   "outputs": [],
   "source": []
  },
  {
   "cell_type": "code",
   "execution_count": null,
   "id": "6b8d11c7-4327-4871-9e41-f2662db3e32d",
   "metadata": {},
   "outputs": [],
   "source": []
  },
  {
   "cell_type": "code",
   "execution_count": null,
   "id": "84fa2627-e106-4542-ba62-ccce23a03932",
   "metadata": {},
   "outputs": [],
   "source": []
  },
  {
   "cell_type": "code",
   "execution_count": null,
   "id": "064c5a7b-98cd-472e-a452-73eb938a906e",
   "metadata": {},
   "outputs": [],
   "source": []
  },
  {
   "cell_type": "code",
   "execution_count": null,
   "id": "b2738fa5-3ae6-4349-8b4f-b564349cc422",
   "metadata": {},
   "outputs": [],
   "source": []
  },
  {
   "cell_type": "code",
   "execution_count": null,
   "id": "1f8d883f-4c8f-455c-943f-40b4ab0a0869",
   "metadata": {},
   "outputs": [],
   "source": []
  },
  {
   "cell_type": "code",
   "execution_count": null,
   "id": "2c9e0b30-96e9-4e1e-930c-52ace2590fc6",
   "metadata": {},
   "outputs": [],
   "source": []
  },
  {
   "cell_type": "code",
   "execution_count": null,
   "id": "1bd73193-999a-4dcd-8a0f-4536cdb60e8b",
   "metadata": {},
   "outputs": [],
   "source": []
  },
  {
   "cell_type": "code",
   "execution_count": null,
   "id": "ae246b92-fa83-42d1-84ed-f3085107ee10",
   "metadata": {},
   "outputs": [],
   "source": []
  },
  {
   "cell_type": "code",
   "execution_count": null,
   "id": "b4d12f4c-e9b4-414b-8e61-3ffd939cd8f1",
   "metadata": {},
   "outputs": [],
   "source": []
  },
  {
   "cell_type": "code",
   "execution_count": null,
   "id": "baa62749-5bb1-4be6-8e81-ff9ffbd8aabd",
   "metadata": {},
   "outputs": [],
   "source": []
  },
  {
   "cell_type": "code",
   "execution_count": null,
   "id": "8def9b5e-fe32-4a38-a8b9-8b06d378d062",
   "metadata": {},
   "outputs": [],
   "source": []
  },
  {
   "cell_type": "code",
   "execution_count": null,
   "id": "4a66840d-2504-455a-9df7-4f8b72df457e",
   "metadata": {},
   "outputs": [],
   "source": []
  },
  {
   "cell_type": "code",
   "execution_count": null,
   "id": "f58691ec-c84e-4e14-a8b2-182a827f99ca",
   "metadata": {},
   "outputs": [],
   "source": []
  },
  {
   "cell_type": "code",
   "execution_count": null,
   "id": "bbeb5242-a06f-47ca-a57e-1984c621931f",
   "metadata": {},
   "outputs": [],
   "source": []
  },
  {
   "cell_type": "code",
   "execution_count": null,
   "id": "f9d2a6b4-9a0a-4724-9356-e09118633b50",
   "metadata": {},
   "outputs": [],
   "source": []
  },
  {
   "cell_type": "code",
   "execution_count": null,
   "id": "7138ea3c-f0e4-49f3-ac6d-507a7e6fb282",
   "metadata": {},
   "outputs": [],
   "source": []
  },
  {
   "cell_type": "code",
   "execution_count": null,
   "id": "725ec726-0a38-490b-92fa-75dce952d5ec",
   "metadata": {},
   "outputs": [],
   "source": []
  },
  {
   "cell_type": "code",
   "execution_count": null,
   "id": "14bb2d44-01d5-4c8b-b542-0630e616694e",
   "metadata": {},
   "outputs": [],
   "source": []
  },
  {
   "cell_type": "code",
   "execution_count": null,
   "id": "acbcc5f2-923d-4e0f-8994-5b4a7b821b53",
   "metadata": {},
   "outputs": [],
   "source": []
  },
  {
   "cell_type": "code",
   "execution_count": null,
   "id": "2129102d-e664-4bef-80f3-2aec029dcd7f",
   "metadata": {},
   "outputs": [],
   "source": []
  },
  {
   "cell_type": "code",
   "execution_count": null,
   "id": "db3ecc77-d84b-46a7-a182-8c0a7995827d",
   "metadata": {},
   "outputs": [],
   "source": []
  },
  {
   "cell_type": "code",
   "execution_count": null,
   "id": "77dccd90-09f8-41e6-8533-dd88a0488a43",
   "metadata": {},
   "outputs": [],
   "source": []
  },
  {
   "cell_type": "code",
   "execution_count": null,
   "id": "7bb60a9c-751d-41c0-9a04-c297455cd27c",
   "metadata": {},
   "outputs": [],
   "source": []
  },
  {
   "cell_type": "code",
   "execution_count": null,
   "id": "e4724427-98d8-4941-afed-d784c2764e90",
   "metadata": {},
   "outputs": [],
   "source": []
  },
  {
   "cell_type": "code",
   "execution_count": null,
   "id": "d6eec944-7abc-438f-a53e-a34f3c8cff63",
   "metadata": {},
   "outputs": [],
   "source": []
  },
  {
   "cell_type": "code",
   "execution_count": null,
   "id": "e2f82ce6-978e-4df0-b000-605b3854308c",
   "metadata": {},
   "outputs": [],
   "source": []
  },
  {
   "cell_type": "code",
   "execution_count": null,
   "id": "a54b9fa5-10f0-4b61-bd14-de46780bd273",
   "metadata": {},
   "outputs": [],
   "source": []
  },
  {
   "cell_type": "code",
   "execution_count": null,
   "id": "cac33c53-77c0-4142-b7fb-2577501bc100",
   "metadata": {},
   "outputs": [],
   "source": []
  },
  {
   "cell_type": "code",
   "execution_count": null,
   "id": "cdae1bf7-37bb-4e87-83ff-4857ac14b3b4",
   "metadata": {},
   "outputs": [],
   "source": []
  },
  {
   "cell_type": "code",
   "execution_count": null,
   "id": "3156dcb8-0d08-4617-baba-08667f3273f6",
   "metadata": {},
   "outputs": [],
   "source": []
  },
  {
   "cell_type": "code",
   "execution_count": null,
   "id": "b5bd90ae-93dd-4102-9cca-9d6aa2dfe509",
   "metadata": {},
   "outputs": [],
   "source": []
  },
  {
   "cell_type": "code",
   "execution_count": null,
   "id": "0c7c1bdd-a4c0-4d42-9fbf-161ced4aab3a",
   "metadata": {},
   "outputs": [],
   "source": []
  },
  {
   "cell_type": "code",
   "execution_count": null,
   "id": "d6fdda16-58b7-4ef3-91a1-6563ac734252",
   "metadata": {},
   "outputs": [],
   "source": []
  },
  {
   "cell_type": "code",
   "execution_count": null,
   "id": "b08e86bf-f4d9-40bc-a3f2-fa051924604b",
   "metadata": {},
   "outputs": [],
   "source": []
  },
  {
   "cell_type": "code",
   "execution_count": null,
   "id": "24e60eef-376b-49d3-a565-23a31aae6728",
   "metadata": {},
   "outputs": [],
   "source": []
  },
  {
   "cell_type": "code",
   "execution_count": null,
   "id": "9053d91e-13fb-43c9-984a-910b1c89d236",
   "metadata": {},
   "outputs": [],
   "source": []
  },
  {
   "cell_type": "code",
   "execution_count": null,
   "id": "0ffabc4e-b5f6-425d-b06f-bdd08a92c500",
   "metadata": {},
   "outputs": [],
   "source": []
  },
  {
   "cell_type": "code",
   "execution_count": null,
   "id": "867ad048-5b45-4169-a506-aacc631f8d71",
   "metadata": {},
   "outputs": [],
   "source": []
  },
  {
   "cell_type": "code",
   "execution_count": null,
   "id": "6784f519-f231-4593-8c91-ae8f73be5476",
   "metadata": {},
   "outputs": [],
   "source": []
  }
 ],
 "metadata": {
  "kernelspec": {
   "display_name": "enzymeml",
   "language": "python",
   "name": "enzymeml"
  },
  "language_info": {
   "codemirror_mode": {
    "name": "ipython",
    "version": 3
   },
   "file_extension": ".py",
   "mimetype": "text/x-python",
   "name": "python",
   "nbconvert_exporter": "python",
   "pygments_lexer": "ipython3",
   "version": "3.9.7"
  }
 },
 "nbformat": 4,
 "nbformat_minor": 5
}
