{
 "cells": [
  {
   "cell_type": "markdown",
   "id": "5d2408f8",
   "metadata": {},
   "source": [
    "# Scenario 5: Modelling in COPASI\n",
    "In this notebook we demonstrate how to open an EnzymeML document, and use [basico](https://basico.readthedocs.io), a high level interface to [COPASI](http://copasi.org) to assign a kinetic function to the model, and estimate it's parameters based on the measurement data included in the EnzymeML document. From there we start two modeling project, one based on ODE's and one based on mass action kinetics to demonstrate how that could be done. \n",
    "\n",
    "For this to work, you will have to have basico installed, as well as PyEnzymeML, which you can do by running: \n",
    "\n",
    "```\n",
    "    !pip install copasi-basico    \n",
    "```\n",
    "\n",
    "We also need a newer version of PyEnzymeML that has not yet been released, so will have to be installed directly from git, using: \n",
    "\n",
    "```\n",
    "    !pip install git+git://github.com/EnzymeML/PyEnzyme.git@feature/experiment-class\n",
    "```\n",
    "\n",
    "\n",
    "After that we start with our imports:"
   ]
  },
  {
   "cell_type": "code",
   "execution_count": 1,
   "id": "3abc14ec",
   "metadata": {},
   "outputs": [],
   "source": [
    "import os\n",
    "from basico import *\n",
    "from pyenzyme.enzymeml.core import *\n",
    "from pyenzyme.enzymeml.models import KineticModel"
   ]
  },
  {
   "cell_type": "code",
   "execution_count": 2,
   "id": "bf79bd16",
   "metadata": {},
   "outputs": [],
   "source": [
    "%matplotlib inline"
   ]
  },
  {
   "cell_type": "markdown",
   "id": "834add0b",
   "metadata": {},
   "source": [
    "## Modeling the reaction encoded in the EnzymeML document\n",
    "Here we use the EnzymeML document prepared for the Lagerman 2021 paper: “Kinetic model development for α-amino ester hydrolase (AEH)-catalyzed synthesis of β-lactam antibiotics”  https://doi.org/10.1016/j.cej.2021.131816 \n",
    "\n",
    "We do this in several ways, \n",
    "* first we demonstrate how to just fit a simple trajectory using COPASI. This can be readily compared to the cases where ODE modeling was being used, as for example in the use case described by Hannah Dienhart.  \n",
    "* second we show how to enter the same ODE's from the Lagerman publication and look at fitting those to the experimental data\n",
    "* third we show how to create a full model from scratch as Mass action kinetics and use those to fir the data. "
   ]
  },
  {
   "cell_type": "code",
   "execution_count": 3,
   "id": "b832cbe3",
   "metadata": {},
   "outputs": [
    {
     "data": {
      "text/plain": [
       "EnzymeML_Lagerman\n",
       ">>> Reactants\n",
       "\tID: s0 \t Name: (R)-(-)-2-Phenylglycine methyl ester\n",
       "\tID: s1 \t Name: 7-Aminodesacetoxycephalosporanic acid\n",
       "\tID: s2 \t Name: Cephalexin\n",
       "\tID: s3 \t Name: Phenylglycine\n",
       ">>> Proteins\n",
       "\tID: p0 \t Name: Amino Ester Hydrolase\n",
       ">>> Complexes\n",
       ">>> Reactions\n",
       "\tID: r0 \t Name: Cephalexin synthesis"
      ]
     },
     "execution_count": 3,
     "metadata": {},
     "output_type": "execute_result"
    }
   ],
   "source": [
    "# First read the EnzymeML document that has been created\n",
    "enzmldoc = EnzymeMLDocument.fromFile('./data/EnzymeML_Lagerman.omex')\n",
    "enzmldoc"
   ]
  },
  {
   "cell_type": "markdown",
   "id": "96809e66",
   "metadata": {},
   "source": [
    "we begin by extracting the measurement data for a given time course to fit: "
   ]
  },
  {
   "cell_type": "code",
   "execution_count": 4,
   "id": "999d62e8",
   "metadata": {},
   "outputs": [],
   "source": [
    "reaction_id = 'r0'\n",
    "reaction = enzmldoc.getReaction(reaction_id)\n",
    "reactant_id = 's0'\n",
    "measurement_id = 'm0'\n",
    "\n",
    "m = enzmldoc.getMeasurement(measurement_id)\n",
    "data = m.getReactant(reactant_id).replicates[0].data"
   ]
  },
  {
   "cell_type": "markdown",
   "id": "b86b5daa",
   "metadata": {},
   "source": [
    "to use this data for COPASI, we will form it into a data frame, using the names for `Time` to denote that the index is time, and `[PGME]` to denote the transient concentrations of PGME. That way the data is automatically mapped later on:"
   ]
  },
  {
   "cell_type": "code",
   "execution_count": 5,
   "id": "61d79530",
   "metadata": {},
   "outputs": [
    {
     "data": {
      "image/png": "[encoded data removed]",
      "text/plain": [
       "<Figure size 432x288 with 1 Axes>"
      ]
     },
     "metadata": {
      "needs_background": "light"
     },
     "output_type": "display_data"
    }
   ],
   "source": [
    "exp_1 = pd.DataFrame(data=data, columns=['[PGME]'])\n",
    "exp_1.index.name='Time'\n",
    "exp_1 = exp_1.reset_index()\n",
    "exp_1.plot.scatter(x='Time', y='[PGME]');"
   ]
  },
  {
   "cell_type": "markdown",
   "id": "18c81ea5",
   "metadata": {},
   "source": [
    "now we load the model into COPASI: "
   ]
  },
  {
   "cell_type": "code",
   "execution_count": 6,
   "id": "189e6677",
   "metadata": {},
   "outputs": [],
   "source": [
    "load_model_from_string(enzmldoc.toXMLString());"
   ]
  },
  {
   "cell_type": "code",
   "execution_count": 7,
   "id": "d1ea3374",
   "metadata": {
    "scrolled": true
   },
   "outputs": [
    {
     "data": {
      "text/html": [
       "<div>\n",
       "<style scoped>\n",
       "    .dataframe tbody tr th:only-of-type {\n",
       "        vertical-align: middle;\n",
       "    }\n",
       "\n",
       "    .dataframe tbody tr th {\n",
       "        vertical-align: top;\n",
       "    }\n",
       "\n",
       "    .dataframe thead th {\n",
       "        text-align: right;\n",
       "    }\n",
       "</style>\n",
       "<table border=\"1\" class=\"dataframe\">\n",
       "  <thead>\n",
       "    <tr style=\"text-align: right;\">\n",
       "      <th></th>\n",
       "      <th>initial_concentration</th>\n",
       "    </tr>\n",
       "    <tr>\n",
       "      <th>name</th>\n",
       "      <th></th>\n",
       "    </tr>\n",
       "  </thead>\n",
       "  <tbody>\n",
       "    <tr>\n",
       "      <th>(R)-(-)-2-Phenylglycine methyl ester</th>\n",
       "      <td>20.0</td>\n",
       "    </tr>\n",
       "    <tr>\n",
       "      <th>7-Aminodesacetoxycephalosporanic acid</th>\n",
       "      <td>42.0</td>\n",
       "    </tr>\n",
       "    <tr>\n",
       "      <th>Cephalexin</th>\n",
       "      <td>1.0</td>\n",
       "    </tr>\n",
       "    <tr>\n",
       "      <th>Phenylglycine</th>\n",
       "      <td>1.0</td>\n",
       "    </tr>\n",
       "    <tr>\n",
       "      <th>Amino Ester Hydrolase</th>\n",
       "      <td>0.2</td>\n",
       "    </tr>\n",
       "  </tbody>\n",
       "</table>\n",
       "</div>"
      ],
      "text/plain": [
       "                                       initial_concentration\n",
       "name                                                        \n",
       "(R)-(-)-2-Phenylglycine methyl ester                    20.0\n",
       "7-Aminodesacetoxycephalosporanic acid                   42.0\n",
       "Cephalexin                                               1.0\n",
       "Phenylglycine                                            1.0\n",
       "Amino Ester Hydrolase                                    0.2"
      ]
     },
     "execution_count": 7,
     "metadata": {},
     "output_type": "execute_result"
    }
   ],
   "source": [
    "get_species()[['initial_concentration']]"
   ]
  },
  {
   "cell_type": "markdown",
   "id": "a8f4fa24",
   "metadata": {},
   "source": [
    "for simplicities sake, i will rename the elements to something shorter, and set some initial concetration for the two species that had none: "
   ]
  },
  {
   "cell_type": "code",
   "execution_count": 8,
   "id": "82b2f25b",
   "metadata": {},
   "outputs": [],
   "source": [
    "set_species('(R)-(-)-2-Phenylglycine methyl ester', new_name='PGME')\n",
    "set_species('7-Aminodesacetoxycephalosporanic acid', new_name='7ADAC')\n",
    "set_species('Cephalexin', new_name='CEX', initial_concentration=0)\n",
    "set_species('Phenylglycine', new_name='PG', initial_concentration=0)\n",
    "set_species('Amino Ester Hydrolase', new_name='AEH')"
   ]
  },
  {
   "cell_type": "code",
   "execution_count": 9,
   "id": "fb22067a",
   "metadata": {},
   "outputs": [
    {
     "data": {
      "text/html": [
       "<div>\n",
       "<style scoped>\n",
       "    .dataframe tbody tr th:only-of-type {\n",
       "        vertical-align: middle;\n",
       "    }\n",
       "\n",
       "    .dataframe tbody tr th {\n",
       "        vertical-align: top;\n",
       "    }\n",
       "\n",
       "    .dataframe thead th {\n",
       "        text-align: right;\n",
       "    }\n",
       "</style>\n",
       "<table border=\"1\" class=\"dataframe\">\n",
       "  <thead>\n",
       "    <tr style=\"text-align: right;\">\n",
       "      <th></th>\n",
       "      <th>initial_concentration</th>\n",
       "    </tr>\n",
       "    <tr>\n",
       "      <th>name</th>\n",
       "      <th></th>\n",
       "    </tr>\n",
       "  </thead>\n",
       "  <tbody>\n",
       "    <tr>\n",
       "      <th>PGME</th>\n",
       "      <td>20.0</td>\n",
       "    </tr>\n",
       "    <tr>\n",
       "      <th>7ADAC</th>\n",
       "      <td>42.0</td>\n",
       "    </tr>\n",
       "    <tr>\n",
       "      <th>CEX</th>\n",
       "      <td>0.0</td>\n",
       "    </tr>\n",
       "    <tr>\n",
       "      <th>PG</th>\n",
       "      <td>0.0</td>\n",
       "    </tr>\n",
       "    <tr>\n",
       "      <th>AEH</th>\n",
       "      <td>0.2</td>\n",
       "    </tr>\n",
       "  </tbody>\n",
       "</table>\n",
       "</div>"
      ],
      "text/plain": [
       "       initial_concentration\n",
       "name                        \n",
       "PGME                    20.0\n",
       "7ADAC                   42.0\n",
       "CEX                      0.0\n",
       "PG                       0.0\n",
       "AEH                      0.2"
      ]
     },
     "execution_count": 9,
     "metadata": {},
     "output_type": "execute_result"
    }
   ],
   "source": [
    "get_species()[['initial_concentration']]"
   ]
  },
  {
   "cell_type": "markdown",
   "id": "1e9febfa",
   "metadata": {},
   "source": [
    "now lets have a look at the reaction, where we will see that there is no kinetic function mapped to the element yet. "
   ]
  },
  {
   "cell_type": "code",
   "execution_count": 10,
   "id": "58d14149",
   "metadata": {},
   "outputs": [
    {
     "data": {
      "text/html": [
       "<div>\n",
       "<style scoped>\n",
       "    .dataframe tbody tr th:only-of-type {\n",
       "        vertical-align: middle;\n",
       "    }\n",
       "\n",
       "    .dataframe tbody tr th {\n",
       "        vertical-align: top;\n",
       "    }\n",
       "\n",
       "    .dataframe thead th {\n",
       "        text-align: right;\n",
       "    }\n",
       "</style>\n",
       "<table border=\"1\" class=\"dataframe\">\n",
       "  <thead>\n",
       "    <tr style=\"text-align: right;\">\n",
       "      <th></th>\n",
       "      <th>scheme</th>\n",
       "      <th>function</th>\n",
       "    </tr>\n",
       "    <tr>\n",
       "      <th>name</th>\n",
       "      <th></th>\n",
       "      <th></th>\n",
       "    </tr>\n",
       "  </thead>\n",
       "  <tbody>\n",
       "    <tr>\n",
       "      <th>Cephalexin synthesis</th>\n",
       "      <td>PGME + 7ADAC = CEX + PG;  AEH</td>\n",
       "      <td>undefined</td>\n",
       "    </tr>\n",
       "  </tbody>\n",
       "</table>\n",
       "</div>"
      ],
      "text/plain": [
       "                                             scheme   function\n",
       "name                                                          \n",
       "Cephalexin synthesis  PGME + 7ADAC = CEX + PG;  AEH  undefined"
      ]
     },
     "execution_count": 10,
     "metadata": {},
     "output_type": "execute_result"
    }
   ],
   "source": [
    "get_reactions()[['scheme', 'function']]"
   ]
  },
  {
   "cell_type": "markdown",
   "id": "e9c26437",
   "metadata": {},
   "source": [
    "at this point we could use one of the inbuilt functions from the COPASI Function Database, the only applicable ones right now would be: \n",
    "\n",
    "* Mass action (reversible)\n",
    "* Ordered Bi Bi\n",
    "* Ping Pong Bi Bi"
   ]
  },
  {
   "cell_type": "code",
   "execution_count": 11,
   "id": "0cfea8d3",
   "metadata": {},
   "outputs": [],
   "source": [
    "set_reaction('Cephalexin synthesis', function='Mass action (reversible)')"
   ]
  },
  {
   "cell_type": "markdown",
   "id": "c564209d",
   "metadata": {},
   "source": [
    "And at this point we are ready to simulate the model: "
   ]
  },
  {
   "cell_type": "code",
   "execution_count": 12,
   "id": "b5078876",
   "metadata": {},
   "outputs": [
    {
     "data": {
      "image/png": "[encoded data removed]",
      "text/plain": [
       "<Figure size 432x288 with 1 Axes>"
      ]
     },
     "metadata": {
      "needs_background": "light"
     },
     "output_type": "display_data"
    }
   ],
   "source": [
    "run_time_course(duration=30)[['PGME']].plot();"
   ]
  },
  {
   "cell_type": "markdown",
   "id": "4e21c554",
   "metadata": {},
   "source": [
    "COPASI, normally would not allow to use Michaelis Menten kinetics for this reaction, as there are 2 substrates and 2 products defined, and the normal scheme of $$ \\frac{V_{max} \\cdot S}{k_m + S} $$ deals only with one substrate. So i define a general function here, that by passes this check, so that the result is comparable with the one from the python implementation by Hannah Dienhart.\n",
    "\n",
    "Note: in general though, this should not be used, as neither the other substrate, nor the two products appear in the equation, and thus negative concentrations can occur. "
   ]
  },
  {
   "cell_type": "code",
   "execution_count": 13,
   "id": "bd2144e8",
   "metadata": {},
   "outputs": [],
   "source": [
    "add_function('General Michaelis', infix = 'V * S / (K + S)', mapping = {'S': 'substrate'}, type='general');"
   ]
  },
  {
   "cell_type": "code",
   "execution_count": 14,
   "id": "93a9132a",
   "metadata": {},
   "outputs": [],
   "source": [
    "# lets use this function mapping 'S' to PGME\n",
    "set_reaction('Cephalexin synthesis', function='General Michaelis', mapping={'S': 'PGME'})"
   ]
  },
  {
   "cell_type": "code",
   "execution_count": 15,
   "id": "98e0df93",
   "metadata": {},
   "outputs": [
    {
     "data": {
      "text/html": [
       "<div>\n",
       "<style scoped>\n",
       "    .dataframe tbody tr th:only-of-type {\n",
       "        vertical-align: middle;\n",
       "    }\n",
       "\n",
       "    .dataframe tbody tr th {\n",
       "        vertical-align: top;\n",
       "    }\n",
       "\n",
       "    .dataframe thead th {\n",
       "        text-align: right;\n",
       "    }\n",
       "</style>\n",
       "<table border=\"1\" class=\"dataframe\">\n",
       "  <thead>\n",
       "    <tr style=\"text-align: right;\">\n",
       "      <th></th>\n",
       "      <th>scheme</th>\n",
       "      <th>function</th>\n",
       "    </tr>\n",
       "    <tr>\n",
       "      <th>name</th>\n",
       "      <th></th>\n",
       "      <th></th>\n",
       "    </tr>\n",
       "  </thead>\n",
       "  <tbody>\n",
       "    <tr>\n",
       "      <th>Cephalexin synthesis</th>\n",
       "      <td>PGME + 7ADAC = CEX + PG;  AEH</td>\n",
       "      <td>General Michaelis</td>\n",
       "    </tr>\n",
       "  </tbody>\n",
       "</table>\n",
       "</div>"
      ],
      "text/plain": [
       "                                             scheme           function\n",
       "name                                                                  \n",
       "Cephalexin synthesis  PGME + 7ADAC = CEX + PG;  AEH  General Michaelis"
      ]
     },
     "execution_count": 15,
     "metadata": {},
     "output_type": "execute_result"
    }
   ],
   "source": [
    "get_reactions()[['scheme', 'function']]"
   ]
  },
  {
   "cell_type": "markdown",
   "id": "ccc95772",
   "metadata": {},
   "source": [
    "at this point we change to a working folder, in which files will be saved (the experimental data needs to be saved to file, so it can be used by COPASI: "
   ]
  },
  {
   "cell_type": "code",
   "execution_count": 16,
   "id": "1822322f",
   "metadata": {},
   "outputs": [],
   "source": [
    "os.chdir('./working_dir/')"
   ]
  },
  {
   "cell_type": "markdown",
   "id": "2b9dbe9b",
   "metadata": {},
   "source": [
    "### Parameter Estimation Setup\n",
    "Now lets define the parameter estimation setup. We want: \n",
    "\n",
    "* both the $ V_{max} $ as well as $ k_m $ fitted here use the `get_fit_item_template` function to just add all local parameters to be estimated. \n",
    "* and the experimental data from above to be used, since above we named the columns of the table already with the names required by basico, the mapping of data columns to model elements happens automatically. In general if on 'Time' column is present, the data is assumed to be steady state data, otherwise it will be used as time course data. "
   ]
  },
  {
   "cell_type": "code",
   "execution_count": 17,
   "id": "38ee8d30",
   "metadata": {},
   "outputs": [],
   "source": [
    "set_fit_parameters(get_fit_item_template(include_local=True))"
   ]
  },
  {
   "cell_type": "code",
   "execution_count": 18,
   "id": "f1bdab02",
   "metadata": {},
   "outputs": [],
   "source": [
    "add_experiment('Experiment 1', exp_1);"
   ]
  },
  {
   "cell_type": "markdown",
   "id": "1dca20d3",
   "metadata": {},
   "source": [
    "Now we are ready to run the parameter estimation using all of the methods implemented in COPASI, we also tell COPASI to write the results back into the model:"
   ]
  },
  {
   "cell_type": "code",
   "execution_count": 19,
   "id": "29f7d302",
   "metadata": {},
   "outputs": [
    {
     "data": {
      "text/html": [
       "<div>\n",
       "<style scoped>\n",
       "    .dataframe tbody tr th:only-of-type {\n",
       "        vertical-align: middle;\n",
       "    }\n",
       "\n",
       "    .dataframe tbody tr th {\n",
       "        vertical-align: top;\n",
       "    }\n",
       "\n",
       "    .dataframe thead th {\n",
       "        text-align: right;\n",
       "    }\n",
       "</style>\n",
       "<table border=\"1\" class=\"dataframe\">\n",
       "  <thead>\n",
       "    <tr style=\"text-align: right;\">\n",
       "      <th></th>\n",
       "      <th>lower</th>\n",
       "      <th>upper</th>\n",
       "      <th>sol</th>\n",
       "      <th>affected</th>\n",
       "    </tr>\n",
       "    <tr>\n",
       "      <th>name</th>\n",
       "      <th></th>\n",
       "      <th></th>\n",
       "      <th></th>\n",
       "      <th></th>\n",
       "    </tr>\n",
       "  </thead>\n",
       "  <tbody>\n",
       "    <tr>\n",
       "      <th>(Cephalexin synthesis).V</th>\n",
       "      <td>0.001</td>\n",
       "      <td>1000</td>\n",
       "      <td>3.753631</td>\n",
       "      <td>[]</td>\n",
       "    </tr>\n",
       "    <tr>\n",
       "      <th>(Cephalexin synthesis).K</th>\n",
       "      <td>0.001</td>\n",
       "      <td>1000</td>\n",
       "      <td>0.001390</td>\n",
       "      <td>[]</td>\n",
       "    </tr>\n",
       "  </tbody>\n",
       "</table>\n",
       "</div>"
      ],
      "text/plain": [
       "                          lower upper       sol affected\n",
       "name                                                    \n",
       "(Cephalexin synthesis).V  0.001  1000  3.753631       []\n",
       "(Cephalexin synthesis).K  0.001  1000  0.001390       []"
      ]
     },
     "execution_count": 19,
     "metadata": {},
     "output_type": "execute_result"
    }
   ],
   "source": [
    "run_parameter_estimation(method=PE.LEVENBERG_MARQUARDT, update_model=True)"
   ]
  },
  {
   "cell_type": "markdown",
   "id": "956ae535",
   "metadata": {},
   "source": [
    "Finally we plot the result of the fit: "
   ]
  },
  {
   "cell_type": "code",
   "execution_count": 20,
   "id": "9f6dd784",
   "metadata": {},
   "outputs": [
    {
     "data": {
      "image/png": "[encoded data removed]",
      "text/plain": [
       "<Figure size 432x288 with 1 Axes>"
      ]
     },
     "metadata": {
      "needs_background": "light"
     },
     "output_type": "display_data"
    }
   ],
   "source": [
    "plt = plot_per_experiment();"
   ]
  },
  {
   "cell_type": "code",
   "execution_count": 21,
   "id": "e1d31783",
   "metadata": {},
   "outputs": [],
   "source": [
    "plt[0][0].savefig('../svgs/scenario5_step1.svg')"
   ]
  },
  {
   "cell_type": "markdown",
   "id": "3bb3d47d",
   "metadata": {},
   "source": [
    "This could now be written back into the EnzymeML document, using the smae approach as demonstrated in [Scenario 4](https://github.com/EnzymeML/Publications/blob/main/2021_Lauterbach/Scenario4/InsightIntoMechanismByModelling.ipynb)\n"
   ]
  },
  {
   "cell_type": "markdown",
   "id": "c5ae5630",
   "metadata": {},
   "source": [
    "## Modeling explicitly through ODEs\n",
    "Here i begin with a new model, in which the equations from the Lagerman publication are entered: \n",
    "\n",
    "$$ \\frac{d[PG]}{dt}=([E]/((k_4 [7-ADCA])/K_n +(k_5 [7-ADCA])/K_n +(k_6 [PGME])/K_si +k3))((k_2 [PGME])/K_s   +(k_4b [CEX])/K_p )(k_3+(k_5 [7-ADCA])/K_n   +(k_6 [PGME])/K_si ) $$ \n",
    "\n",
    "$$  d[CEX]/dt=(k_2 [E][PGME])/K_s -([E]/((k_4 [7-ADCA])/K_n +(k_5 [7-ADCA])/K_n +(k_6 [PGME])/K_si +k3))((k_2 [PGME])/K_s   +(k_4b [CEX])/K_p )(k_3+(k_5 [7-ADCA])/K_n ) $$ \n",
    "\n",
    "$$ [E]=([E]_0  exp⁡(-k_d t))/(1+[PGME]^2/(K_s K_si )+[7-ADCA]/K_n + ((k_2 [PGME])/(K_s ((k_4 [7-ADCA])/K_n +(k_5 [7-ADCA])/K_n +(k_6 [PGME])/K_si +k3) ))(1+[7-ADCA]/K_n +[PGME]/K_si )+[CEX]/K_p +[PG]/K_p2i ) $$\n",
    "\n",
    "these can be directly added to a new model. But first i start with a couple of utility functions:"
   ]
  },
  {
   "cell_type": "code",
   "execution_count": 22,
   "id": "e510dd16",
   "metadata": {},
   "outputs": [],
   "source": [
    "def add_assumptions():\n",
    "    # Mass balance: d[CEX]/dt = - d[7-ADCA]/dt:\n",
    "    set_species('7-ADCA', status='ode', expression='-1 * ( ' + get_species('CEX').expression[0] + ' )')\n",
    "    # d[PGME]/dt = -1 * (d[CEX]/dt + d[PG]/dt)\n",
    "    set_species('PGME', status='ode', expression='-1 * ( ' + get_species('CEX').expression[0] + ' + ' + get_species('PG').expression[0] + ' )')\n",
    "\n",
    "# this function sets all initial concentrations to 0, except for the ones we know the \n",
    "# concentrations for\n",
    "def set_initial_concentrations():\n",
    "    for species in get_species().index.to_list(): \n",
    "        set_species(species, initial_concentration=0)\n",
    "    set_species('E0', initial_concentration=0.2, status='fixed')\n",
    "    set_species('E', initial_concentration=0.0002, status='fixed')\n",
    "    set_species('PGME', initial_concentration=20)\n",
    "    set_species('7-ADCA', initial_concentration=40)\n",
    "\n",
    "# create the parameters we want to estimate: \n",
    "def add_parameters_with_values():\n",
    "    add_parameter('K_s', initial_value=14)\n",
    "    add_parameter('k_2', initial_value=432)\n",
    "    add_parameter('K_n', initial_value=290)\n",
    "    add_parameter('k_3', initial_value=417)\n",
    "    add_parameter('k_4', initial_value=73600)\n",
    "    add_parameter('k_5', initial_value=491)\n",
    "    add_parameter('k_6', initial_value=1660)\n",
    "    add_parameter('K_si', initial_value=20)\n",
    "    add_parameter('K_p', initial_value=39)\n",
    "    add_parameter('k_4b', initial_value=9126)\n",
    "    add_parameter('k_d', initial_value=6.43e-4)\n",
    "    add_parameter('K_pg', initial_value=12)\n",
    "\n",
    "# a function to create all fit parameters \n",
    "# for simplicities sake i've alrady converted the enzymeml measurements to \n",
    "# a text file that is in this folder: \n",
    "def add_parameter_estiation_setup(filename='../data/experiments_colton_1-4.txt'):\n",
    "    template = get_fit_item_template(include_global=True, default_lb=1e-2, default_ub=1e6)\n",
    "    to_remove = None\n",
    "    for d in template:\n",
    "        # set lower bound for the equilibrium constants        \n",
    "        if 'Values[K_si' in d['name']:\n",
    "            d['upper'] = 50\n",
    "            continue\n",
    "        if 'Values[K' in d['name']:\n",
    "            d['upper'] = 1000\n",
    "            continue\n",
    "        if 'Values[vr' in d['name']:\n",
    "            to_remove = d\n",
    "        if 'Values[k_d' in d['name']:\n",
    "            d['upper'] = 0.5\n",
    "            d['lower'] = 0.3            \n",
    "            \n",
    "    if to_remove is not None:\n",
    "        template.remove(d)\n",
    "\n",
    "    set_fit_parameters(template)\n",
    "    data = pd.read_csv(filepath_or_buffer=filename, sep='\\t')\n",
    "    nan_rows = data.loc[data['Time'].isna()].index.to_list()\n",
    "    df_list = []\n",
    "    last = -1\n",
    "    for n in nan_rows:\n",
    "        df_list.append(data.iloc[last + 1:n,:])\n",
    "        last = n\n",
    "    df_list.append(data.iloc[last + 1:,:])\n",
    "    # remove existing ones\n",
    "    for p in glob.glob('Exp*.txt'): \n",
    "        os.remove(p)\n",
    "    # add new ones\n",
    "    for i in range(len(df_list)):\n",
    "        name = f'Experiment_{i}'\n",
    "        add_experiment(name, df_list[i])"
   ]
  },
  {
   "cell_type": "markdown",
   "id": "131551b7",
   "metadata": {},
   "source": [
    "Now lets create the model: "
   ]
  },
  {
   "cell_type": "code",
   "execution_count": 23,
   "id": "14be6938",
   "metadata": {},
   "outputs": [],
   "source": [
    "model4 = new_model(name='Model 4', time_unit='min', volume_unit='ml', quantity_unit='mmol', \n",
    "                  notes=\"\"\"Model 4 (modelled using ODE's)\n",
    "                  \n",
    "                  This implements the differential equations directly as given \n",
    "                  in the Lagerman_2021 paper. \n",
    "                  \n",
    "                  \"\"\")\n",
    "add_parameters_with_values()"
   ]
  },
  {
   "cell_type": "code",
   "execution_count": 24,
   "id": "a45f624f",
   "metadata": {},
   "outputs": [],
   "source": [
    "add_equation('d[PG]/dt=([E]/((k_4 [7-ADCA])/K_n +(k_5 [7-ADCA])/K_n +(k_6 [PGME])/K_si +k_3))((k_2 [PGME])/K_s   +(k_4b [CEX])/K_p )(k_3+(k_5 [7-ADCA])/K_n   +(k_6 [PGME])/K_si )')\n",
    "add_equation(\n",
    "            'd[CEX]/dt=(k_2 [E][PGME])/K_s -([E]/((k_4 [7-ADCA])/K_n +(k_5 [7-ADCA])/K_n +(k_6 [PGME])/K_si +k_3))((k_2 [PGME])/K_s   +(k_4b [CEX])/K_p )(k_3+(k_5 [7-ADCA])/K_n )')\n",
    "add_equation(\n",
    "            '[E]=([E0] exp(-k_d t))/(1+[PGME]^2/(K_s K_si )+[7-ADCA]/K_n + ((k_2 [PGME])/(K_s ((k_4 [7-ADCA])/K_n +(k_5 [7-ADCA])/K_n +(k_6 [PGME])/K_si +k_3) ))(1+[7-ADCA]/K_n +[PGME]/K_si )+[CEX]/K_p +[PG]/K_pg )')"
   ]
  },
  {
   "cell_type": "code",
   "execution_count": 25,
   "id": "25deb5c1",
   "metadata": {},
   "outputs": [],
   "source": [
    "add_assumptions()\n",
    "set_initial_concentrations()\n",
    "add_parameter_estiation_setup()\n",
    "set_initial_concentrations()"
   ]
  },
  {
   "cell_type": "code",
   "execution_count": 26,
   "id": "08e05bdf",
   "metadata": {},
   "outputs": [
    {
     "data": {
      "image/png": "[encoded data removed]",
      "text/plain": [
       "<Figure size 432x288 with 1 Axes>"
      ]
     },
     "metadata": {
      "needs_background": "light"
     },
     "output_type": "display_data"
    }
   ],
   "source": [
    "run_time_course(duration=30).plot();"
   ]
  },
  {
   "cell_type": "markdown",
   "id": "ee3e230f",
   "metadata": {},
   "source": [
    "now lets run the parameter estimation, here i just switched to a local method that is unlikely to yield the best result:"
   ]
  },
  {
   "cell_type": "code",
   "execution_count": 27,
   "id": "61b26e74",
   "metadata": {},
   "outputs": [
    {
     "data": {
      "text/html": [
       "<div>\n",
       "<style scoped>\n",
       "    .dataframe tbody tr th:only-of-type {\n",
       "        vertical-align: middle;\n",
       "    }\n",
       "\n",
       "    .dataframe tbody tr th {\n",
       "        vertical-align: top;\n",
       "    }\n",
       "\n",
       "    .dataframe thead th {\n",
       "        text-align: right;\n",
       "    }\n",
       "</style>\n",
       "<table border=\"1\" class=\"dataframe\">\n",
       "  <thead>\n",
       "    <tr style=\"text-align: right;\">\n",
       "      <th></th>\n",
       "      <th>lower</th>\n",
       "      <th>upper</th>\n",
       "      <th>sol</th>\n",
       "      <th>affected</th>\n",
       "    </tr>\n",
       "    <tr>\n",
       "      <th>name</th>\n",
       "      <th></th>\n",
       "      <th></th>\n",
       "      <th></th>\n",
       "      <th></th>\n",
       "    </tr>\n",
       "  </thead>\n",
       "  <tbody>\n",
       "    <tr>\n",
       "      <th>Values[K_s]</th>\n",
       "      <td>0.01</td>\n",
       "      <td>1000.0</td>\n",
       "      <td>0.623142</td>\n",
       "      <td>[]</td>\n",
       "    </tr>\n",
       "    <tr>\n",
       "      <th>Values[k_2]</th>\n",
       "      <td>0.01</td>\n",
       "      <td>1000000.0</td>\n",
       "      <td>430.992104</td>\n",
       "      <td>[]</td>\n",
       "    </tr>\n",
       "    <tr>\n",
       "      <th>Values[K_n]</th>\n",
       "      <td>0.01</td>\n",
       "      <td>1000.0</td>\n",
       "      <td>286.369710</td>\n",
       "      <td>[]</td>\n",
       "    </tr>\n",
       "    <tr>\n",
       "      <th>Values[k_3]</th>\n",
       "      <td>0.01</td>\n",
       "      <td>1000000.0</td>\n",
       "      <td>410.819718</td>\n",
       "      <td>[]</td>\n",
       "    </tr>\n",
       "    <tr>\n",
       "      <th>Values[k_4]</th>\n",
       "      <td>0.01</td>\n",
       "      <td>1000000.0</td>\n",
       "      <td>73599.987099</td>\n",
       "      <td>[]</td>\n",
       "    </tr>\n",
       "    <tr>\n",
       "      <th>Values[k_5]</th>\n",
       "      <td>0.01</td>\n",
       "      <td>1000000.0</td>\n",
       "      <td>486.558809</td>\n",
       "      <td>[]</td>\n",
       "    </tr>\n",
       "    <tr>\n",
       "      <th>Values[k_6]</th>\n",
       "      <td>0.01</td>\n",
       "      <td>1000000.0</td>\n",
       "      <td>1658.088248</td>\n",
       "      <td>[]</td>\n",
       "    </tr>\n",
       "    <tr>\n",
       "      <th>Values[K_si]</th>\n",
       "      <td>0.01</td>\n",
       "      <td>50.0</td>\n",
       "      <td>0.187133</td>\n",
       "      <td>[]</td>\n",
       "    </tr>\n",
       "    <tr>\n",
       "      <th>Values[K_p]</th>\n",
       "      <td>0.01</td>\n",
       "      <td>1000.0</td>\n",
       "      <td>45.086928</td>\n",
       "      <td>[]</td>\n",
       "    </tr>\n",
       "    <tr>\n",
       "      <th>Values[k_4b]</th>\n",
       "      <td>0.01</td>\n",
       "      <td>1000000.0</td>\n",
       "      <td>9126.069491</td>\n",
       "      <td>[]</td>\n",
       "    </tr>\n",
       "    <tr>\n",
       "      <th>Values[k_d]</th>\n",
       "      <td>0.3</td>\n",
       "      <td>0.5</td>\n",
       "      <td>0.300000</td>\n",
       "      <td>[]</td>\n",
       "    </tr>\n",
       "    <tr>\n",
       "      <th>Values[K_pg]</th>\n",
       "      <td>0.01</td>\n",
       "      <td>1000.0</td>\n",
       "      <td>12.000000</td>\n",
       "      <td>[]</td>\n",
       "    </tr>\n",
       "  </tbody>\n",
       "</table>\n",
       "</div>"
      ],
      "text/plain": [
       "             lower      upper           sol affected\n",
       "name                                                \n",
       "Values[K_s]   0.01     1000.0      0.623142       []\n",
       "Values[k_2]   0.01  1000000.0    430.992104       []\n",
       "Values[K_n]   0.01     1000.0    286.369710       []\n",
       "Values[k_3]   0.01  1000000.0    410.819718       []\n",
       "Values[k_4]   0.01  1000000.0  73599.987099       []\n",
       "Values[k_5]   0.01  1000000.0    486.558809       []\n",
       "Values[k_6]   0.01  1000000.0   1658.088248       []\n",
       "Values[K_si]  0.01       50.0      0.187133       []\n",
       "Values[K_p]   0.01     1000.0     45.086928       []\n",
       "Values[k_4b]  0.01  1000000.0   9126.069491       []\n",
       "Values[k_d]    0.3        0.5      0.300000       []\n",
       "Values[K_pg]  0.01     1000.0     12.000000       []"
      ]
     },
     "execution_count": 27,
     "metadata": {},
     "output_type": "execute_result"
    }
   ],
   "source": [
    "run_parameter_estimation(method=PE.LEVENBERG_MARQUARDT, update_model=True)"
   ]
  },
  {
   "cell_type": "markdown",
   "id": "de1bfb5d",
   "metadata": {},
   "source": [
    "utility functions for plotting the results per experiment, or per dependent variable exist. These functions return a list if tuples, that contain the matplotlib figures and the axis. Here,  these are saved in variables, so that the plots can be exported later on as files if needed. "
   ]
  },
  {
   "cell_type": "code",
   "execution_count": 28,
   "id": "6c0baa82",
   "metadata": {},
   "outputs": [
    {
     "data": {
      "image/png": "[encoded data removed]",
      "text/plain": [
       "<Figure size 432x288 with 1 Axes>"
      ]
     },
     "metadata": {
      "needs_background": "light"
     },
     "output_type": "display_data"
    },
    {
     "data": {
      "image/png": "[encoded data removed]",
      "text/plain": [
       "<Figure size 432x288 with 1 Axes>"
      ]
     },
     "metadata": {
      "needs_background": "light"
     },
     "output_type": "display_data"
    },
    {
     "data": {
      "image/png": "[encoded data removed]",
      "text/plain": [
       "<Figure size 432x288 with 1 Axes>"
      ]
     },
     "metadata": {
      "needs_background": "light"
     },
     "output_type": "display_data"
    },
    {
     "data": {
      "image/png": "[encoded data removed]",
      "text/plain": [
       "<Figure size 432x288 with 1 Axes>"
      ]
     },
     "metadata": {
      "needs_background": "light"
     },
     "output_type": "display_data"
    }
   ],
   "source": [
    "ode_experiment = plot_per_experiment()"
   ]
  },
  {
   "cell_type": "code",
   "execution_count": 29,
   "id": "f6684f35",
   "metadata": {},
   "outputs": [
    {
     "data": {
      "image/png": "[encoded data removed]",
      "text/plain": [
       "<Figure size 432x288 with 1 Axes>"
      ]
     },
     "metadata": {
      "needs_background": "light"
     },
     "output_type": "display_data"
    },
    {
     "data": {
      "image/png": "[encoded data removed]",
      "text/plain": [
       "<Figure size 432x288 with 1 Axes>"
      ]
     },
     "metadata": {
      "needs_background": "light"
     },
     "output_type": "display_data"
    },
    {
     "data": {
      "image/png": "[encoded data removed]",
      "text/plain": [
       "<Figure size 432x288 with 1 Axes>"
      ]
     },
     "metadata": {
      "needs_background": "light"
     },
     "output_type": "display_data"
    },
    {
     "data": {
      "image/png": "[encoded data removed]",
      "text/plain": [
       "<Figure size 432x288 with 1 Axes>"
      ]
     },
     "metadata": {
      "needs_background": "light"
     },
     "output_type": "display_data"
    }
   ],
   "source": [
    "ode_dependent = plot_per_dependent_variable()"
   ]
  },
  {
   "cell_type": "markdown",
   "id": "1eddd34e",
   "metadata": {},
   "source": [
    "### Continuing Analysis\n",
    "Running parameter estimation with a local method once, does usually not find the best point in parameter space, so at this point we save the model and carry out further analysis in COPASI.  \n",
    "\n",
    "In order to carry out further analysis in COPASI (or the command line version of COPASI on cluster environments), we mark the parameter estimation task as executable and tell COPASI to randomize start values. That way each run of the parameter estimation searches around a different point in parameter space. Finally we save the model. "
   ]
  },
  {
   "cell_type": "code",
   "execution_count": 30,
   "id": "fc0725d4",
   "metadata": {},
   "outputs": [],
   "source": [
    "set_task_settings(T.PARAMETER_ESTIMATION, \n",
    "                  {\n",
    "                      'scheduled': True,\n",
    "                      'problem': {'Randomize Start Values': True},\n",
    "                      'method': {'name': PE.LEVENBERG_MARQUARDT}\n",
    "                  })\n",
    "save_model_and_data(os.path.join(os.getcwd(), 'ode_master.cps'))"
   ]
  },
  {
   "cell_type": "markdown",
   "id": "f273bfed",
   "metadata": {},
   "source": [
    "Now the model can be run directly with the command line version of COPASI, in cluster environments many times, and the best fit selected. In this notebook we just exemplify this by running it twice the following command line arguments were used:\n",
    "    \n",
    " * `--nologo`: suppresses the output of the COPASI version number\n",
    " * `--save result_file_ode*`: we want the final value found after the parameter estimation to be written to a new file, so we can easily retrieve it later. Important is that this file is different for each invocation, so that no parameter set is overwritten. \n",
    " * `--report-file report_ode*`: similarly, we save the report (including the statistics and improvements for each individual run) also to a new file for each invocation\n",
    " * the last argument is the COPASI file that we want to run. \n"
   ]
  },
  {
   "cell_type": "code",
   "execution_count": 31,
   "id": "7b332c23",
   "metadata": {},
   "outputs": [],
   "source": [
    "!CopasiSE --nologo --save result_file_ode1.cps --report-file report_ode1.txt ode_master.cps\n",
    "!CopasiSE --nologo --save result_file_ode2.cps --report-file report_ode2.txt ode_master.cps"
   ]
  },
  {
   "cell_type": "markdown",
   "id": "e6cdae4a",
   "metadata": {},
   "source": [
    "Loading the files back into basico, we can access the fit statistic for the files:"
   ]
  },
  {
   "cell_type": "code",
   "execution_count": 32,
   "id": "a19cd3e2",
   "metadata": {},
   "outputs": [],
   "source": [
    "def report_fit_for_file(filename): \n",
    "    load_model(filename)\n",
    "    run_parameter_estimation(method=PE.CURRENT_SOLUTION, \n",
    "                         settings={'problem': \n",
    "                                   {'Randomize Start Values': False},})\n",
    "    return get_fit_statistic()['obj']"
   ]
  },
  {
   "cell_type": "code",
   "execution_count": 33,
   "id": "1eb61cc4",
   "metadata": {
    "scrolled": true
   },
   "outputs": [
    {
     "data": {
      "text/plain": [
       "674.0126331369094"
      ]
     },
     "execution_count": 33,
     "metadata": {},
     "output_type": "execute_result"
    }
   ],
   "source": [
    "report_fit_for_file(os.path.join(os.getcwd(), 'result_file_ode1.cps'))"
   ]
  },
  {
   "cell_type": "code",
   "execution_count": 34,
   "id": "0cde0b0d",
   "metadata": {},
   "outputs": [
    {
     "data": {
      "text/plain": [
       "865.5416378467434"
      ]
     },
     "execution_count": 34,
     "metadata": {},
     "output_type": "execute_result"
    }
   ],
   "source": [
    "report_fit_for_file(os.path.join(os.getcwd(), 'result_file_ode2.cps'))"
   ]
  },
  {
   "cell_type": "markdown",
   "id": "ea7c66f7",
   "metadata": {},
   "source": [
    "As expected the objective value (that describes how well the simulation with the found parameters describe the data), will vary widely between the runs. Repeating this process many times over yields a good fit. \n",
    "\n",
    "At this point one would then have a look at whether or not the parameters found have been identifiable. That goes beyond the scope of this notebook, but a good description on how to do this in COPASI is given in: Schaber J (2012) *Easy parameter identifiability analysis with COPASI*. Biosystems 110, 183– 185. "
   ]
  },
  {
   "cell_type": "markdown",
   "id": "dea5b84f",
   "metadata": {},
   "source": [
    "## Modeling explicitly through a cascade of Mass action kinetics\n",
    "In the last case, we now want to model the same data, this time through individual reaction steps:  "
   ]
  },
  {
   "cell_type": "code",
   "execution_count": 35,
   "id": "a7b9ff0a",
   "metadata": {},
   "outputs": [],
   "source": [
    "model = new_model(name='Model 4 (Mass Action)', time_unit='min', volume_unit='ml', quantity_unit='mmol');"
   ]
  },
  {
   "cell_type": "markdown",
   "id": "ff08d891",
   "metadata": {},
   "source": [
    "Since the paper specifies, that individual steps are described by equilibrium constants, we add new functiosn to COPASI, for the different number of arguments needed: "
   ]
  },
  {
   "cell_type": "code",
   "execution_count": 36,
   "id": "4ca41aeb",
   "metadata": {},
   "outputs": [],
   "source": [
    "add_function('MassAction Keq (2s, 1p)', 'v_r*(K_eq * A * B - C)', mapping={'A': 'substrate', 'B': 'substrate', 'C': 'product'});\n",
    "add_function('MassAction Keq (1s, 2p)', 'v_r*(K_eq * A  - B * C)', mapping={'A': 'substrate', 'B': 'product', 'C': 'product'});\n",
    "add_function('MassAction Keq (1s, 1p)', 'v_r*(K_eq * A  - B)', mapping={'A': 'substrate', 'B': 'product'});\n",
    "fun0 = 'MassAction Keq (1s, 1p)'\n",
    "fun = 'MassAction Keq (2s, 1p)'\n",
    "fun2 = 'MassAction Keq (1s, 2p)'"
   ]
  },
  {
   "cell_type": "markdown",
   "id": "3132b887",
   "metadata": {},
   "source": [
    "now add the parameters with initial value: "
   ]
  },
  {
   "cell_type": "code",
   "execution_count": 37,
   "id": "1de3c09f",
   "metadata": {},
   "outputs": [],
   "source": [
    "add_parameter('K_s', initial_value=14)\n",
    "add_parameter('k_2', initial_value=432)\n",
    "add_parameter('K_n', initial_value=290)\n",
    "add_parameter('k_3', initial_value=417)\n",
    "add_parameter('k_4', initial_value=73600)\n",
    "add_parameter('k_5', initial_value=491)\n",
    "add_parameter('k_6', initial_value=1660)\n",
    "add_parameter('K_si', initial_value=20)\n",
    "add_parameter('K_p', initial_value=39)\n",
    "add_parameter('k_4b', initial_value=9126)\n",
    "add_parameter('k_d', initial_value=6.43e-4)\n",
    "add_parameter('K_pg', initial_value=12)\n",
    "add_parameter('vr', initial_value=10000);"
   ]
  },
  {
   "cell_type": "markdown",
   "id": "19c7293a",
   "metadata": {},
   "source": [
    "followed by the reactions, each time the local parameters are mapped to the global ones, so they share them: "
   ]
  },
  {
   "cell_type": "code",
   "execution_count": 38,
   "id": "c3a7bd42",
   "metadata": {},
   "outputs": [],
   "source": [
    "add_reaction('r00', scheme='E ->', mapping={'k1': 'k_d'})\n",
    "add_reaction('r01', scheme='\"E 7-ADCA\" = \"7-ADCA\"', function=fun0, mapping={'v_r': 'vr', 'K_eq': 'K_n'})\n",
    "add_reaction('r02', scheme='E + PGME = \"E PGME\"', function=fun, mapping={'v_r': 'vr', 'K_eq': 'K_s'})\n",
    "add_reaction('r03', scheme='\"E PGME\" -> EA', mapping={'k1': 'k_2'})\n",
    "add_reaction('r04', scheme='EA -> E + PG', mapping={'k1': 'k_3'})\n",
    "add_reaction('r05', scheme='E + PG = \"E PG\"', function=fun, mapping={'v_r': 'vr', 'K_eq': 'K_pg'})\n",
    "add_reaction('r06', scheme='EA + \"7-ADCA\" = \"EA 7-ADCA\"', function=fun, mapping={'v_r': 'vr', 'K_eq': 'K_n'})\n",
    "add_reaction('r07', scheme='\"EA 7-ADCA\" -> \"7-ADCA\" + E + PG', mapping={'k1': 'k_5'})\n",
    "add_reaction('r09', scheme='\"EA 7-ADCA\" = \"E CEX\"', mapping={'k1': 'k_4', 'k2': 'k_4b'})\n",
    "add_reaction('r10', scheme='\"E CEX\" = E + CEX', function=fun2, mapping={'v_r': 'vr', 'K_eq': 'K_p'});\n",
    "add_reaction('r12', scheme='EA + PGME = \"EA PGME\"', function=fun, mapping={'v_r': 'vr', 'K_eq': 'K_si'})\n",
    "add_reaction('r13', scheme='\"EA PGME\" -> E + PG + PGME', mapping={'k1': 'k_6'});"
   ]
  },
  {
   "cell_type": "code",
   "execution_count": 39,
   "id": "81ceae80",
   "metadata": {},
   "outputs": [],
   "source": [
    "set_initial_concentrations()\n",
    "add_parameter_estiation_setup()\n",
    "set_initial_concentrations()"
   ]
  },
  {
   "cell_type": "code",
   "execution_count": 40,
   "id": "26c7b1b7",
   "metadata": {},
   "outputs": [
    {
     "data": {
      "image/png": "[encoded data removed]",
      "text/plain": [
       "<Figure size 432x288 with 1 Axes>"
      ]
     },
     "metadata": {
      "needs_background": "light"
     },
     "output_type": "display_data"
    }
   ],
   "source": [
    "run_time_course(35, update_model=False)[['CEX', 'PGME']].plot();"
   ]
  },
  {
   "cell_type": "code",
   "execution_count": 41,
   "id": "4a9e7698",
   "metadata": {},
   "outputs": [
    {
     "data": {
      "text/html": [
       "<div>\n",
       "<style scoped>\n",
       "    .dataframe tbody tr th:only-of-type {\n",
       "        vertical-align: middle;\n",
       "    }\n",
       "\n",
       "    .dataframe tbody tr th {\n",
       "        vertical-align: top;\n",
       "    }\n",
       "\n",
       "    .dataframe thead th {\n",
       "        text-align: right;\n",
       "    }\n",
       "</style>\n",
       "<table border=\"1\" class=\"dataframe\">\n",
       "  <thead>\n",
       "    <tr style=\"text-align: right;\">\n",
       "      <th></th>\n",
       "      <th>initial_concentration</th>\n",
       "    </tr>\n",
       "    <tr>\n",
       "      <th>name</th>\n",
       "      <th></th>\n",
       "    </tr>\n",
       "  </thead>\n",
       "  <tbody>\n",
       "    <tr>\n",
       "      <th>EA</th>\n",
       "      <td>0.0000</td>\n",
       "    </tr>\n",
       "    <tr>\n",
       "      <th>PG</th>\n",
       "      <td>0.0000</td>\n",
       "    </tr>\n",
       "    <tr>\n",
       "      <th>PGME</th>\n",
       "      <td>20.0000</td>\n",
       "    </tr>\n",
       "    <tr>\n",
       "      <th>7-ADCA</th>\n",
       "      <td>40.0000</td>\n",
       "    </tr>\n",
       "    <tr>\n",
       "      <th>E CEX</th>\n",
       "      <td>0.0000</td>\n",
       "    </tr>\n",
       "    <tr>\n",
       "      <th>E PGME</th>\n",
       "      <td>0.0000</td>\n",
       "    </tr>\n",
       "    <tr>\n",
       "      <th>EA 7-ADCA</th>\n",
       "      <td>0.0000</td>\n",
       "    </tr>\n",
       "    <tr>\n",
       "      <th>E PG</th>\n",
       "      <td>0.0000</td>\n",
       "    </tr>\n",
       "    <tr>\n",
       "      <th>E 7-ADCA</th>\n",
       "      <td>0.0000</td>\n",
       "    </tr>\n",
       "    <tr>\n",
       "      <th>CEX</th>\n",
       "      <td>0.0000</td>\n",
       "    </tr>\n",
       "    <tr>\n",
       "      <th>EA PGME</th>\n",
       "      <td>0.0000</td>\n",
       "    </tr>\n",
       "    <tr>\n",
       "      <th>E</th>\n",
       "      <td>0.0002</td>\n",
       "    </tr>\n",
       "  </tbody>\n",
       "</table>\n",
       "</div>"
      ],
      "text/plain": [
       "           initial_concentration\n",
       "name                            \n",
       "EA                        0.0000\n",
       "PG                        0.0000\n",
       "PGME                     20.0000\n",
       "7-ADCA                   40.0000\n",
       "E CEX                     0.0000\n",
       "E PGME                    0.0000\n",
       "EA 7-ADCA                 0.0000\n",
       "E PG                      0.0000\n",
       "E 7-ADCA                  0.0000\n",
       "CEX                       0.0000\n",
       "EA PGME                   0.0000\n",
       "E                         0.0002"
      ]
     },
     "execution_count": 41,
     "metadata": {},
     "output_type": "execute_result"
    }
   ],
   "source": [
    "get_species()[['initial_concentration']]"
   ]
  },
  {
   "cell_type": "markdown",
   "id": "b6505f6b",
   "metadata": {},
   "source": [
    "Now we are ready to fit the model, again i'm using a global method here: "
   ]
  },
  {
   "cell_type": "code",
   "execution_count": null,
   "id": "a5a93247",
   "metadata": {},
   "outputs": [],
   "source": [
    "run_parameter_estimation(method=PE.EVOLUTIONARY_STRATEGY_SRES, update_model=True)"
   ]
  },
  {
   "cell_type": "code",
   "execution_count": null,
   "id": "745a4285",
   "metadata": {},
   "outputs": [],
   "source": [
    "plots_ma = plot_per_experiment();"
   ]
  },
  {
   "cell_type": "code",
   "execution_count": null,
   "id": "19f46c18",
   "metadata": {},
   "outputs": [],
   "source": [
    "dependent_ma = plot_per_dependent_variable()"
   ]
  },
  {
   "cell_type": "markdown",
   "id": "c04ed945",
   "metadata": {},
   "source": [
    "### Continuing Analysis\n",
    "As shown before, we can do further analysis again on the cluster environment, so we prepare the file just as we have done in the ODE case: "
   ]
  },
  {
   "cell_type": "code",
   "execution_count": null,
   "id": "296916e0",
   "metadata": {},
   "outputs": [],
   "source": [
    "set_task_settings(T.PARAMETER_ESTIMATION, \n",
    "                  {\n",
    "                      'scheduled': True,\n",
    "                      'problem': {'Randomize Start Values': True},\n",
    "                      'method': {'name': PE.LEVENBERG_MARQUARDT}\n",
    "                  })\n",
    "save_model_and_data(os.path.join(os.getcwd(), 'mass_action_master.cps'))"
   ]
  },
  {
   "cell_type": "markdown",
   "id": "6d003e5e",
   "metadata": {},
   "source": [
    "Now the model can be run directly with the command line version of COPASI, in cluster environments many times, and the best fit selected: "
   ]
  },
  {
   "cell_type": "code",
   "execution_count": null,
   "id": "3481bfd8",
   "metadata": {},
   "outputs": [],
   "source": [
    "!CopasiSE --nologo --save result_file1.cps --report-file report1.txt mass_action_master.cps\n",
    "!CopasiSE --nologo --save result_file2.cps --report-file report2.txt mass_action_master.cps"
   ]
  },
  {
   "cell_type": "code",
   "execution_count": null,
   "id": "9847e8b9",
   "metadata": {
    "scrolled": true
   },
   "outputs": [],
   "source": [
    "report_fit_for_file(os.path.join(os.getcwd(), 'result_file1.cps'))"
   ]
  },
  {
   "cell_type": "code",
   "execution_count": null,
   "id": "61ec8c48",
   "metadata": {},
   "outputs": [],
   "source": [
    "report_fit_for_file(os.path.join(os.getcwd(), 'result_file2.cps'))"
   ]
  },
  {
   "cell_type": "markdown",
   "id": "55d8182d",
   "metadata": {},
   "source": [
    "#### Save Images\n",
    "Optionally the images obtained above can be saved. The plots returned by the `plot_per_experiment` or `plot_per_dependent_variable` function, contains an array of tuples of matplotlib figures and the corresponding axes, so that the plot can be customized later on. \n",
    "\n",
    "Here we just save the figures as they are to svg:"
   ]
  },
  {
   "cell_type": "code",
   "execution_count": null,
   "id": "f92d1d9c",
   "metadata": {},
   "outputs": [],
   "source": [
    "def save_svgs(results, prefix):\n",
    "    for i in range(len(results)):\n",
    "        results[i][0].savefig(f'../svgs/{prefix}_{i}.svg')"
   ]
  },
  {
   "cell_type": "code",
   "execution_count": null,
   "id": "4b9ad9ee",
   "metadata": {},
   "outputs": [],
   "source": [
    "save_svgs(ode_experiment, 'exp_ode')\n",
    "save_svgs(ode_dependent, 'dependent_ode')\n",
    "save_svgs(plots_ma, 'exp_ma')\n",
    "save_svgs(dependent_ma, 'dependent_ma')"
   ]
  },
  {
   "cell_type": "markdown",
   "id": "bc9b84c6",
   "metadata": {},
   "source": [
    "### Loading an EnzymeML Document with kinetics\n",
    "The previous examples modelled the kinetics explicitly, either via ODE's or Mass Action kinetics. This was due to the fact, that the EnzymeML document did not contain the kinetic model in the first place. Here, we do load the same EnzymeML Document, that is also used in the PySCeS case, use the same initial values and perform the optimization, using the COPASI thin layer provided with the PyEnzyme library"
   ]
  },
  {
   "cell_type": "code",
   "execution_count": null,
   "id": "acc50b20",
   "metadata": {},
   "outputs": [],
   "source": [
    "from pyenzyme.thinlayers.TL_Copasi import ThinLayerCopasi"
   ]
  },
  {
   "cell_type": "markdown",
   "id": "644b06a9",
   "metadata": {},
   "source": [
    "The Thinlayer is created by passing along an EnzymeMl document, the working directory in which to create the temporary files. And optionally a path to a file containing the parameters to vary: "
   ]
  },
  {
   "cell_type": "code",
   "execution_count": null,
   "id": "84f8a143",
   "metadata": {},
   "outputs": [],
   "source": [
    "tl = ThinLayerCopasi(\n",
    "        path='../../PySCeS/Model_4.omex', \n",
    "        outdir='.',\n",
    "        init_file='../../PySCeS/EnzymeML_Lagerman_init_copasi.yaml'\n",
    ")"
   ]
  },
  {
   "cell_type": "markdown",
   "id": "04cfb01c",
   "metadata": {},
   "source": [
    "we can set the loaded EnzymeML document for use in basico (this is an optional step, that I take here, to change the default optimization method to Levenberg Marquardt, as it is used by PySCeS):"
   ]
  },
  {
   "cell_type": "code",
   "execution_count": null,
   "id": "cccf1f3f",
   "metadata": {},
   "outputs": [],
   "source": [
    "set_current_model(tl.dm)\n",
    "set_task_settings(T.PARAMETER_ESTIMATION, \n",
    "                  {\n",
    "                      'scheduled': True,\n",
    "                      'problem': {'Randomize Start Values': False},\n",
    "                      'method': {'name': PE.LEVENBERG_MARQUARDT}\n",
    "                  })"
   ]
  },
  {
   "cell_type": "markdown",
   "id": "b802f3e4",
   "metadata": {},
   "source": [
    "and then simply optimize: "
   ]
  },
  {
   "cell_type": "code",
   "execution_count": null,
   "id": "b9607c46",
   "metadata": {},
   "outputs": [],
   "source": [
    "tl.optimize()"
   ]
  },
  {
   "cell_type": "markdown",
   "id": "8488bb90",
   "metadata": {},
   "source": [
    "at this point we can get an updated EnzymeML document, with the resulting parameter values: "
   ]
  },
  {
   "cell_type": "code",
   "execution_count": null,
   "id": "d838e537",
   "metadata": {},
   "outputs": [],
   "source": [
    "new_doc = tl.write()"
   ]
  },
  {
   "cell_type": "markdown",
   "id": "5b21e116",
   "metadata": {},
   "source": [
    "to plot the result, we simply load the the model back into basico: "
   ]
  },
  {
   "cell_type": "code",
   "execution_count": null,
   "id": "842d543b",
   "metadata": {},
   "outputs": [],
   "source": [
    "plot_per_dependent_variable();"
   ]
  },
  {
   "cell_type": "code",
   "execution_count": null,
   "id": "480b2492",
   "metadata": {},
   "outputs": [],
   "source": [
    "plot_per_experiment();"
   ]
  },
  {
   "cell_type": "markdown",
   "id": "18ec91a1-b0c7-4f8d-a5f7-71487ab9125d",
   "metadata": {},
   "source": [
    "### Upload to Dataverse"
   ]
  },
  {
   "cell_type": "code",
   "execution_count": null,
   "id": "9cb44c2e-5799-4548-b821-52a62e92c9ef",
   "metadata": {},
   "outputs": [],
   "source": [
    "publish = False\n",
    "if publish:\n",
    "    new_doc.uploadToDataverse(dataverse_name=\"enzymeml_at_work\")"
   ]
  }
 ],
 "metadata": {
  "kernelspec": {
   "display_name": "Python 3",
   "language": "python",
   "name": "python3"
  },
  "language_info": {
   "codemirror_mode": {
    "name": "ipython",
    "version": 3
   },
   "file_extension": ".py",
   "mimetype": "text/x-python",
   "name": "python",
   "nbconvert_exporter": "python",
   "pygments_lexer": "ipython3",
   "version": "3.9.5"
  }
 },
 "nbformat": 4,
 "nbformat_minor": 5
}
