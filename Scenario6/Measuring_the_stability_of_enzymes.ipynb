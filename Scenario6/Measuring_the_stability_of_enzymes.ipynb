{
 "cells": [
  {
   "cell_type": "markdown",
   "metadata": {},
   "source": [
    "# Scenario 6: Measuring the stability of enzymes\n",
    "Dataset provided by Amalie Vang Høst (Department of Chemical and Biochemical Engineering, Technical University of Denmark, 2800 Kgs Lyngby, Denmark)  \n",
    "  \n",
    "This Jupyter Notebook accompanies the sixth scenario of the paper: EnzymeML at work: seamless data flow and modelling of enzymatic data.  \n",
    "In this scenario the time-course data from an EnzymeML document is analysed visually and initial rates are calculated."
   ]
  },
  {
   "cell_type": "markdown",
   "metadata": {},
   "source": [
    "## Imports <a class=\"anchor\" name=\"Imports\"></a>\n",
    "All necessary Python packages are installed and imported.  \n",
    "If you run this notebook with Binder you don't have to install anything, Binder takes care of this.  \n",
    "In order to run on google Colaboratory (Colab), PyEnzyme will be installed and the dataset is loaded from GitHub. This is done in the first Code Cell.  \n",
    "If you run this notebook local make sure you have all Packages installed and the dataset in the same directory as the notebook."
   ]
  },
  {
   "cell_type": "code",
   "execution_count": null,
   "metadata": {},
   "outputs": [],
   "source": [
    "if 'google.colab' in str(get_ipython()):\n",
    "    !pip install git+git://github.com/EnzymeML/PyEnzyme.git@feature/experiment-class\n",
    "    !wget https://github.com/EnzymeML/Lauterbach_2021/raw/main/Scenario6/DeactivationOfGlucoseOxidase_Host.omex\n",
    "else:\n",
    "    print('Not running on Colab.')"
   ]
  },
  {
   "cell_type": "code",
   "execution_count": 1,
   "id": "engaged-valuable",
   "metadata": {},
   "outputs": [],
   "source": [
    "import os\n",
    "import matplotlib.pyplot as plt\n",
    "import numpy as np\n",
    "from scipy import stats\n",
    "from pyenzyme.enzymeml.tools import EnzymeMLReader"
   ]
  },
  {
   "cell_type": "markdown",
   "metadata": {},
   "source": [
    "## Reading EnzymeML\n",
    "In order to read the EnzymeML document and access its content with the PyEnzyme software the file path is defined.  \n",
    "When running the next code cell the EnzymeML document is saved in the `enzmlDoc` variable and an overview is printed below."
   ]
  },
  {
   "cell_type": "code",
   "execution_count": 2,
   "id": "beneficial-mining",
   "metadata": {},
   "outputs": [
    {
     "name": "stdout",
     "output_type": "stream",
     "text": [
      ">>> Units\n",
      "\tID: u0 \t Name: ml\n",
      "\tID: u1 \t Name: mole / l\n",
      "\tID: u2 \t Name: g / l\n",
      "\tID: u3 \t Name: K\n",
      "\tID: u4 \t Name: sec\n",
      ">>> Reactants\n",
      "\tID: s0 \t Name: Glucose\n",
      "\tID: s1 \t Name: water\n",
      "\tID: s2 \t Name: O2\n",
      "\tID: s3 \t Name: 4-aminoantipyrine\n",
      "\tID: s4 \t Name: 3,5-dichloro-2-hydroxybenzenesulfonic acid\n",
      "\tID: s5 \t Name: Gluconic acid\n",
      "\tID: s6 \t Name: pink product\n",
      ">>> Proteins\n",
      "\tID: p0 \t Name: Glucose Oxidase\n",
      ">>> Reactions\n",
      "\tID: r0 \t Name: Deactivation of glucose oxidase\n",
      ">>> Measurements\n",
      "\n",
      "ID    Species   Conc      Unit  \n",
      "================================\n",
      "m0    p0        0.500   g / l   \n",
      "m0    s0        1       mole / l\n",
      "m0    s1        0       mole / l\n",
      "m0    s2        0       mole / l\n",
      "m0    s3        1       mole / l\n",
      "m0    s4        10      mole / l\n",
      "m0    s5        0       mole / l\n",
      "m0    s6        0       mole / l\n",
      "m1    p0        0.500   g / l   \n",
      "m1    s0        1       mole / l\n",
      "m1    s1        0       mole / l\n",
      "m1    s2        0       mole / l\n",
      "m1    s3        1       mole / l\n",
      "m1    s4        10      mole / l\n",
      "m1    s5        0       mole / l\n",
      "m1    s6        0       mole / l\n",
      "m2    p0        0.500   g / l   \n",
      "m2    s0        1       mole / l\n",
      "m2    s1        0       mole / l\n",
      "m2    s2        0       mole / l\n",
      "m2    s3        1       mole / l\n",
      "m2    s4        10      mole / l\n",
      "m2    s5        0       mole / l\n",
      "m2    s6        0       mole / l\n",
      "m3    p0        0.500   g / l   \n",
      "m3    s0        1       mole / l\n",
      "m3    s1        0       mole / l\n",
      "m3    s2        0       mole / l\n",
      "m3    s3        1       mole / l\n",
      "m3    s4        10      mole / l\n",
      "m3    s5        0       mole / l\n",
      "m3    s6        0       mole / l\n",
      "m4    p0        0.500   g / l   \n",
      "m4    s0        1       mole / l\n",
      "m4    s1        0       mole / l\n",
      "m4    s2        0       mole / l\n",
      "m4    s3        1       mole / l\n",
      "m4    s4        10      mole / l\n",
      "m4    s5        0       mole / l\n",
      "m4    s6        0       mole / l\n",
      "m5    p0        0.500   g / l   \n",
      "m5    s0        1       mole / l\n",
      "m5    s1        0       mole / l\n",
      "m5    s2        0       mole / l\n",
      "m5    s3        1       mole / l\n",
      "m5    s4        10      mole / l\n",
      "m5    s5        0       mole / l\n",
      "m5    s6        0       mole / l\n",
      "m6    p0        0.500   g / l   \n",
      "m6    s0        1       mole / l\n",
      "m6    s1        0       mole / l\n",
      "m6    s2        0       mole / l\n",
      "m6    s3        1       mole / l\n",
      "m6    s4        10      mole / l\n",
      "m6    s5        0       mole / l\n",
      "m6    s6        0       mole / l\n",
      "m7    p0        0.500   g / l   \n",
      "m7    s0        1       mole / l\n",
      "m7    s1        0       mole / l\n",
      "m7    s2        0       mole / l\n",
      "m7    s3        1       mole / l\n",
      "m7    s4        10      mole / l\n",
      "m7    s5        0       mole / l\n",
      "m7    s6        0       mole / l\n",
      "m8    p0        0.500   g / l   \n",
      "m8    s0        1       mole / l\n",
      "m8    s1        0       mole / l\n",
      "m8    s2        0       mole / l\n",
      "m8    s3        1       mole / l\n",
      "m8    s4        10      mole / l\n",
      "m8    s5        0       mole / l\n",
      "m8    s6        0       mole / l\n",
      "m9    p0        0.500   g / l   \n",
      "m9    s0        1       mole / l\n",
      "m9    s1        0       mole / l\n",
      "m9    s2        0       mole / l\n",
      "m9    s3        1       mole / l\n",
      "m9    s4        10      mole / l\n",
      "m9    s5        0       mole / l\n",
      "m9    s6        0       mole / l\n",
      "m10   p0        0.500   g / l   \n",
      "m10   s0        1       mole / l\n",
      "m10   s1        0       mole / l\n",
      "m10   s2        0       mole / l\n",
      "m10   s3        1       mole / l\n",
      "m10   s4        10      mole / l\n",
      "m10   s5        0       mole / l\n",
      "m10   s6        0       mole / l\n",
      "                                \n",
      "\n"
     ]
    }
   ],
   "source": [
    "path = 'DeactivationOfGlucoseOxidase_Host.omex'\n",
    "\n",
    "# check for correct file path and file extension:\n",
    "if os.path.isfile(path) and os.path.basename(path).lower().endswith('.omex'):\n",
    "    enzmlDoc = EnzymeMLReader().readFromFile(path)\n",
    "else:\n",
    "    print('Incorrect file path.')\n",
    "\n",
    "print(enzmlDoc)"
   ]
  },
  {
   "cell_type": "markdown",
   "metadata": {},
   "source": [
    "The overview showed which reactant corresponds to which id.  \n",
    "Each measurement consists of 7 reactants and one protein (p0).\n",
    "In this case all 11 measurements were carried out under identical conditions and with identical initial concentrations.  \n",
    "The measurements took place after varied periods of time, this information was stored in the measurement names and is not shown in the overview.  \n",
    "Next one measurement is exemplarily examined. "
   ]
  },
  {
   "cell_type": "code",
   "execution_count": 3,
   "id": "fluid-logan",
   "metadata": {},
   "outputs": [
    {
     "name": "stdout",
     "output_type": "stream",
     "text": [
      "initial Measurement\n",
      "s0: InitConc = 1.0 mole / l ; NumReplicates = 0\n",
      "s1: InitConc = 0.0 mole / l ; NumReplicates = 0\n",
      "s2: InitConc = 0.0 mole / l ; NumReplicates = 0\n",
      "s3: InitConc = 1.0 mole / l ; NumReplicates = 0\n",
      "s4: InitConc = 10.0 mole / l ; NumReplicates = 0\n",
      "s5: InitConc = 0.0 mole / l ; NumReplicates = 3\n",
      "s6: InitConc = 0.0 mole / l ; NumReplicates = 0\n"
     ]
    }
   ],
   "source": [
    "# Fetch the measurement\n",
    "measurement0 = enzmlDoc.getMeasurement('m0')\n",
    "print(measurement0.getName())\n",
    "reactants = measurement0.getReactants()\n",
    "\n",
    "# Access the measurement data per reactant/protein\n",
    "speciesType = \"reactants\" # \"proteins\"\n",
    "for reactantID, data in reactants.items():\n",
    "    # Extract all the data\n",
    "    speciesID = data.getReactantID() if speciesType == \"reactants\" else data.getProteinID()\n",
    "    initConc = data.getInitConc()\n",
    "    unitID = data.getUnit()\n",
    "    unitString = enzmlDoc.getUnitString(unitID)\n",
    "    replicates = data.getReplicates()\n",
    "    print(\n",
    "        f\"{speciesID}: InitConc = {initConc} {unitString} ; NumReplicates = {len(replicates)}\"\n",
    "    )"
   ]
  },
  {
   "cell_type": "markdown",
   "metadata": {},
   "source": [
    "The overview of the initial measurement shows that the product Gluconic acid (s5) has 3 replicates.  \n",
    "Most initial concentrations are 0 and of no interest for our analysis."
   ]
  },
  {
   "cell_type": "markdown",
   "metadata": {},
   "source": [
    "## Data preparation\n",
    "In this experiment to analyse the stability of the enzyme only the change of the initial rates over time is of interest. Therefore only the measured time course data and the measurement names containing the time information are stored for each measurement. In order to extract the information of the measurement time string manipulation is used. Since the first measurement name doesn't follow the naming scheme it is renamed."
   ]
  },
  {
   "cell_type": "code",
   "execution_count": 4,
   "metadata": {},
   "outputs": [],
   "source": [
    "# rename initial measurement\n",
    "enzmlDoc.getMeasurement('m0').setName('Measurement after 0 min')\n",
    "\n",
    "# initialise datastructure to store experimental data\n",
    "experimentalData = []\n",
    "\n",
    "# time and substrate concentration unit\n",
    "time = np.array(enzmlDoc.getMeasurement('m0').getGlobalTime(), float)\n",
    "timeUnit = enzmlDoc.getUnitDict()[enzmlDoc.getMeasurement('m0').getGlobalTimeUnit()].getName()\n",
    "concentrationUnit = ''\n",
    "\n",
    "# go through all measurements:\n",
    "for measurement in enzmlDoc.getMeasurementDict().values():\n",
    "    name = measurement.getName()\n",
    "    measurementData = {\n",
    "        'name': name,\n",
    "        'measuring time min': float(name.split(' ')[-2]),\n",
    "        'measuring time h': float(name.split(' ')[-2])/60,\n",
    "        'measured': []\n",
    "    }\n",
    "\n",
    "    # get replicates with time course data:\n",
    "    reactant = measurement.getReactant('s5')\n",
    "    replicates = reactant.getReplicates()\n",
    "    for replicate in replicates:\n",
    "        measurementData['measured'].append(replicate.getData().values.tolist())\n",
    "    experimentalData.append(measurementData)"
   ]
  },
  {
   "cell_type": "markdown",
   "metadata": {},
   "source": [
    "## Visualisation of time-course data\n",
    "All time-course data is visualised with the Python library matplotlib.  \n",
    "In order to save the figures as svg uncomment the `plt.savefig(...)` code lines. "
   ]
  },
  {
   "cell_type": "code",
   "execution_count": 5,
   "id": "regional-gender",
   "metadata": {},
   "outputs": [
    {
     "data": {
      "image/png": "[encoded data removed]",
      "text/plain": [
       "<Figure size 432x288 with 1 Axes>"
      ]
     },
     "metadata": {
      "needs_background": "light"
     },
     "output_type": "display_data"
    }
   ],
   "source": [
    "# define colors for time-course visualisation\n",
    "colors = ['#a6cee3','#1f78b4','#b2df8a','#33a02c','#fb9a99','#fdbf6f','#ff7f00','#cab2d6','#6a3d9a','#ffff99','#b15928']\n",
    "# plot time course data with matplotlib\n",
    "reaction_name = enzmlDoc.getReaction('r0').getName()\n",
    "plt.figure()\n",
    "ax = plt.subplot()\n",
    "for i in range(len(experimentalData)):\n",
    "    t = experimentalData[i]['measuring time min']\n",
    "    if t < 60:\n",
    "        ax.plot([], 'o', ms=3, label=str(int(t)) + ' [min]', color = colors[i])\n",
    "    else:\n",
    "        ax.plot([], 'o', ms=3, label=str(t/60) + ' [h]', color = colors[i])\n",
    "    for measurement in experimentalData[i]['measured']:\n",
    "        ax.plot(time, measurement, 'o', ms=2, color = colors[i])\n",
    "plt.title(reaction_name)\n",
    "ax.set_xlabel('time ['+timeUnit+']')\n",
    "ax.set_ylabel('Absorbance')\n",
    "plt.legend(bbox_to_anchor=(0, 0, 1, -0.15), mode=\"expand\", ncol=4)\n",
    "# save as svg\n",
    "#plt.savefig('time-course.svg', bbox_inches='tight')\n",
    "plt.show()"
   ]
  },
  {
   "cell_type": "markdown",
   "id": "hungry-convenience",
   "metadata": {},
   "source": [
    "## Computation of initial rates\n",
    "To calculate the initial rates the slope of the first 30 datapoints (0 to 29 seconds) for each replicate was calculated, to be consistent with the calculations done by Vang Host (paper?). This was done with linear regression by the Python library SciPy.  \n",
    "In order to calculate the slope of another fraction of the time-course change the `start` and `end` variable accordingly, `end` should not be greater than 59.  \n",
    "Then the mean from the 3 replicates was calculated for each measurement and saved in `experimentalData`.  \n",
    "With an extinction coefficient of 26 the rates were determined as follows: $ rate = \\frac{meanOfSlope}{26}*1000$  \n",
    "and also stored in `experimentalData`.  \n",
    "And finally the residual activity compared to the initial activity is calculated and stored as well."
   ]
  },
  {
   "cell_type": "code",
   "execution_count": 6,
   "metadata": {},
   "outputs": [],
   "source": [
    "start = 0\n",
    "end = 29\n",
    "for measurement in experimentalData:\n",
    "    slopes = []\n",
    "    for replicate in measurement['measured']:\n",
    "        slope, intercept, r, p, se = stats.linregress(time[start:end], replicate[start:end])\n",
    "        slopes.append(slope)\n",
    "    slope = np.mean(slopes)\n",
    "    measurement['slope'] = round(slope, 4)\n",
    "    measurement['v0'] =  round(slope/(26)*1000, 3)\n",
    "    measurement['residual activity'] = measurement['v0']/experimentalData[0]['v0']*100"
   ]
  },
  {
   "cell_type": "markdown",
   "metadata": {},
   "source": [
    "## Visualisation of the rates\n",
    "First the rates are plotted over the time."
   ]
  },
  {
   "cell_type": "code",
   "execution_count": 7,
   "metadata": {},
   "outputs": [
    {
     "data": {
      "image/png": "[encoded data removed]",
      "text/plain": [
       "<Figure size 432x288 with 1 Axes>"
      ]
     },
     "metadata": {
      "needs_background": "light"
     },
     "output_type": "display_data"
    }
   ],
   "source": [
    "plt.figure()\n",
    "ax = plt.subplot()\n",
    "for measurement in experimentalData:\n",
    "    ax.plot(measurement['measuring time h'], measurement['v0'], 'o', ms=4, color='#377eb8')\n",
    "ax.set_xlabel('time [h]')\n",
    "ax.set_ylabel('average rate [g/l * 1/s]')\n",
    "ax.set_ylim(ymin=0)\n",
    "ax.grid(True)\n",
    "# save as svg\n",
    "#plt.savefig('rates.svg', bbox_inches='tight')\n",
    "plt.show()"
   ]
  },
  {
   "cell_type": "markdown",
   "metadata": {},
   "source": [
    "Second the residual of the rates is plotted."
   ]
  },
  {
   "cell_type": "code",
   "execution_count": 8,
   "metadata": {},
   "outputs": [
    {
     "data": {
      "image/png": "[encoded data removed]",
      "text/plain": [
       "<Figure size 432x288 with 1 Axes>"
      ]
     },
     "metadata": {
      "needs_background": "light"
     },
     "output_type": "display_data"
    }
   ],
   "source": [
    "plt.figure()\n",
    "ax = plt.subplot()\n",
    "for measurement in experimentalData:\n",
    "    ax.plot(measurement['measuring time h'], measurement['residual activity'], 'o', ms=4, color='#377eb8')\n",
    "ax.set_xlabel('time [h]')\n",
    "ax.set_ylabel('residual activity [%]')\n",
    "ax.set_yticks(np.arange(0, 105, 10))\n",
    "ax.grid(True)\n",
    "# save as svg\n",
    "#plt.savefig('residual-activity.svg', bbox_inches='tight')\n",
    "plt.show()"
   ]
  },
  {
   "cell_type": "markdown",
   "metadata": {},
   "source": [
    "## Upload to DaRUS\n",
    "Finally the EnzymeML document is uploaded to the DaRUS dataverse."
   ]
  },
  {
   "cell_type": "code",
   "execution_count": 10,
   "metadata": {},
   "outputs": [],
   "source": [
    "API_Token = input('Enter API Token')"
   ]
  },
  {
   "cell_type": "code",
   "execution_count": 11,
   "metadata": {},
   "outputs": [
    {
     "name": "stdout",
     "output_type": "stream",
     "text": [
      "Dataset with pid 'doi:10.18419/darus-2197' created.\n"
     ]
    }
   ],
   "source": [
    "enzmlDoc.uploadToDataverse(\n",
    "    baseURL=\"https://darus.uni-stuttgart.de/\",\n",
    "    API_Token= API_Token,\n",
    "    dataverseName=\"enzymeml_at_work\"\n",
    ")"
   ]
  }
 ],
 "metadata": {
  "interpreter": {
   "hash": "7c2992e9c105260cd776f00ce82eab482c82c43a5dc8a92fbccdfab19b1b40a5"
  },
  "kernelspec": {
   "display_name": "Python 3.9.2 64-bit",
   "name": "python3"
  },
  "language_info": {
   "codemirror_mode": {
    "name": "ipython",
    "version": 3
   },
   "file_extension": ".py",
   "mimetype": "text/x-python",
   "name": "python",
   "nbconvert_exporter": "python",
   "pygments_lexer": "ipython3",
   "version": "3.9.2"
  }
 },
 "nbformat": 4,
 "nbformat_minor": 5
}
