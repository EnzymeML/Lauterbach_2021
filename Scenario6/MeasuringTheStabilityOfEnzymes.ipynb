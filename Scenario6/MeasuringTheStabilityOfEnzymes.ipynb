{
 "cells": [
  {
   "cell_type": "markdown",
   "id": "10bb4343",
   "metadata": {},
   "source": [
    "# Scenario 6: Measuring the stability of enzymes\n",
    "Dataset provided by Amalie Vang Høst (Department of Chemical and Biochemical Engineering, Technical University of Denmark, 2800 Kgs Lyngby, Denmark)  \n",
    "  \n",
    "This Jupyter Notebook accompanies the sixth scenario of the paper: EnzymeML at work: seamless data flow and modelling of enzymatic data.  \n",
    "In this scenario the time-course data from an EnzymeML document is analysed visually and initial rates are calculated."
   ]
  },
  {
   "cell_type": "markdown",
   "id": "8303e856",
   "metadata": {},
   "source": [
    "## Imports <a class=\"anchor\" name=\"Imports\"></a>\n",
    "All necessary Python packages are installed and imported.  \n",
    "If you run this notebook with Binder you don't have to install anything, Binder takes care of this.  \n",
    "In order to run on google Colaboratory (Colab), PyEnzyme will be installed and the dataset is loaded from GitHub. This is done in the first Code Cell.  \n",
    "To run the notebook on Colab click on the badge:  \n",
    "[![Colab](https://colab.research.google.com/assets/colab-badge.svg)](https://colab.research.google.com/github/EnzymeML/Lauterbach_2021/blob/main/Scenario6/MeasuringTheStabilityOfEnzymes.ipynb)  \n",
    "If you run this notebook local make sure you have all Packages installed and the dataset in the same directory as the notebook."
   ]
  },
  {
   "cell_type": "code",
   "execution_count": 1,
   "id": "6385563a",
   "metadata": {},
   "outputs": [
    {
     "name": "stdout",
     "output_type": "stream",
     "text": [
      "Not running on Colab.\n"
     ]
    }
   ],
   "source": [
    "if 'google.colab' in str(get_ipython()):\n",
    "    !pip install git+git://github.com/EnzymeML/PyEnzyme.git@feature/experiment-class\n",
    "    !wget https://github.com/EnzymeML/Lauterbach_2021/raw/main/Scenario6/DeactivationOfGlucoseOxidase_Host.omex\n",
    "else:\n",
    "    print('Not running on Colab.')"
   ]
  },
  {
   "cell_type": "code",
   "execution_count": 2,
   "id": "engaged-valuable",
   "metadata": {},
   "outputs": [],
   "source": [
    "import os\n",
    "import matplotlib.pyplot as plt\n",
    "import numpy as np\n",
    "\n",
    "from scipy import stats\n",
    "from pyenzyme import EnzymeMLDocument"
   ]
  },
  {
   "cell_type": "markdown",
   "id": "5de05a22",
   "metadata": {},
   "source": [
    "## Reading EnzymeML with PyEnzyme software <a class=\"anchor\" name=\"ReadingEnzymeML\"></a>\n",
    "In order to read the EnzymeML document and access its content with the PyEnzyme software the file path is defined.  \n",
    "When running the next code cell the EnzymeML document is saved in the `enzmlDoc` variable and an overview is printed below."
   ]
  },
  {
   "cell_type": "code",
   "execution_count": 3,
   "id": "beneficial-mining",
   "metadata": {},
   "outputs": [
    {
     "name": "stdout",
     "output_type": "stream",
     "text": [
      "DeactivationOfGlucoseOxidase_Host\n",
      ">>> Reactants\n",
      "\tID: s0 \t Name: Glucose\n",
      "\tID: s1 \t Name: water\n",
      "\tID: s2 \t Name: O2\n",
      "\tID: s3 \t Name: 4-aminoantipyrine\n",
      "\tID: s4 \t Name: 3,5-dichloro-2-hydroxybenzenesulfonic acid\n",
      "\tID: s5 \t Name: Gluconic acid\n",
      "\tID: s6 \t Name: pink product\n",
      ">>> Proteins\n",
      "\tID: p0 \t Name: Glucose Oxidase\n",
      ">>> Complexes\n",
      ">>> Reactions\n",
      "\tID: r0 \t Name: Deactivation of glucose oxidase\n",
      ">>> Measurements\n",
      "\n",
      "ID    Species   Conc      Unit  \n",
      "================================\n",
      "m0    p0        0.500   g / l   \n",
      "m0    s0        1       mole / l\n",
      "m0    s1        0       mole / l\n",
      "m0    s2        0       mole / l\n",
      "m0    s3        1       mole / l\n",
      "m0    s4        10      mole / l\n",
      "m0    s5        0       mole / l\n",
      "m0    s6        0       mole / l\n",
      "m1    p0        0.500   g / l   \n",
      "m1    s0        1       mole / l\n",
      "m1    s1        0       mole / l\n",
      "m1    s2        0       mole / l\n",
      "m1    s3        1       mole / l\n",
      "m1    s4        10      mole / l\n",
      "m1    s5        0       mole / l\n",
      "m1    s6        0       mole / l\n",
      "m2    p0        0.500   g / l   \n",
      "m2    s0        1       mole / l\n",
      "m2    s1        0       mole / l\n",
      "m2    s2        0       mole / l\n",
      "m2    s3        1       mole / l\n",
      "m2    s4        10      mole / l\n",
      "m2    s5        0       mole / l\n",
      "m2    s6        0       mole / l\n",
      "m3    p0        0.500   g / l   \n",
      "m3    s0        1       mole / l\n",
      "m3    s1        0       mole / l\n",
      "m3    s2        0       mole / l\n",
      "m3    s3        1       mole / l\n",
      "m3    s4        10      mole / l\n",
      "m3    s5        0       mole / l\n",
      "m3    s6        0       mole / l\n",
      "m4    p0        0.500   g / l   \n",
      "m4    s0        1       mole / l\n",
      "m4    s1        0       mole / l\n",
      "m4    s2        0       mole / l\n",
      "m4    s3        1       mole / l\n",
      "m4    s4        10      mole / l\n",
      "m4    s5        0       mole / l\n",
      "m4    s6        0       mole / l\n",
      "m5    p0        0.500   g / l   \n",
      "m5    s0        1       mole / l\n",
      "m5    s1        0       mole / l\n",
      "m5    s2        0       mole / l\n",
      "m5    s3        1       mole / l\n",
      "m5    s4        10      mole / l\n",
      "m5    s5        0       mole / l\n",
      "m5    s6        0       mole / l\n",
      "m6    p0        0.500   g / l   \n",
      "m6    s0        1       mole / l\n",
      "m6    s1        0       mole / l\n",
      "m6    s2        0       mole / l\n",
      "m6    s3        1       mole / l\n",
      "m6    s4        10      mole / l\n",
      "m6    s5        0       mole / l\n",
      "m6    s6        0       mole / l\n",
      "m7    p0        0.500   g / l   \n",
      "m7    s0        1       mole / l\n",
      "m7    s1        0       mole / l\n",
      "m7    s2        0       mole / l\n",
      "m7    s3        1       mole / l\n",
      "m7    s4        10      mole / l\n",
      "m7    s5        0       mole / l\n",
      "m7    s6        0       mole / l\n",
      "m8    p0        0.500   g / l   \n",
      "m8    s0        1       mole / l\n",
      "m8    s1        0       mole / l\n",
      "m8    s2        0       mole / l\n",
      "m8    s3        1       mole / l\n",
      "m8    s4        10      mole / l\n",
      "m8    s5        0       mole / l\n",
      "m8    s6        0       mole / l\n",
      "m9    p0        0.500   g / l   \n",
      "m9    s0        1       mole / l\n",
      "m9    s1        0       mole / l\n",
      "m9    s2        0       mole / l\n",
      "m9    s3        1       mole / l\n",
      "m9    s4        10      mole / l\n",
      "m9    s5        0       mole / l\n",
      "m9    s6        0       mole / l\n",
      "m10   p0        0.500   g / l   \n",
      "m10   s0        1       mole / l\n",
      "m10   s1        0       mole / l\n",
      "m10   s2        0       mole / l\n",
      "m10   s3        1       mole / l\n",
      "m10   s4        10      mole / l\n",
      "m10   s5        0       mole / l\n",
      "m10   s6        0       mole / l\n",
      "                                \n",
      "\n"
     ]
    }
   ],
   "source": [
    "path = 'DeactivationOfGlucoseOxidase_Host.omex'\n",
    "\n",
    "# check for correct file path and file extension:\n",
    "if os.path.isfile(path) and os.path.basename(path).lower().endswith('.omex'):\n",
    "    enzmlDoc = EnzymeMLDocument.fromFile(path)\n",
    "else:\n",
    "    raise FileNotFoundError(\n",
    "        f'Couldnt find file at {path}.'\n",
    "    )\n",
    "\n",
    "enzmlDoc.printDocument(measurements=True)"
   ]
  },
  {
   "cell_type": "markdown",
   "id": "7580f891",
   "metadata": {},
   "source": [
    "The overview shows which reactant corresponds to which id.  \n",
    "Each measurement consists of 7 reactants and one protein (p0).\n",
    "In this case all 11 measurements were carried out under identical conditions and with identical initial concentrations.  \n",
    "The measurements took place after varied periods of time, this information was stored in the measurement names and is not shown in the overview.  \n",
    "Next one measurement is exemplarily examined. "
   ]
  },
  {
   "cell_type": "code",
   "execution_count": 4,
   "id": "fluid-logan",
   "metadata": {},
   "outputs": [
    {
     "name": "stdout",
     "output_type": "stream",
     "text": [
      ">>> Measurement m0: Measurement after 0 min\n",
      "\ts0 | initial conc: 1.0 mole / l #replicates: 0\n",
      "\ts1 | initial conc: 0.0 mole / l #replicates: 0\n",
      "\ts2 | initial conc: 0.0 mole / l #replicates: 0\n",
      "\ts3 | initial conc: 1.0 mole / l #replicates: 0\n",
      "\ts4 | initial conc: 10.0 mole / l #replicates: 0\n",
      "\ts5 | initial conc: 0.0 mole / l #replicates: 3\n",
      "\ts6 | initial conc: 0.0 mole / l #replicates: 0\n",
      "\tp0 | initial conc: 0.5 g / l #replicates: 0\n"
     ]
    }
   ],
   "source": [
    "# Fetch the measurement\n",
    "measurement0 = enzmlDoc.getMeasurement('m0')\n",
    "measurement0.printMeasurementScheme()"
   ]
  },
  {
   "cell_type": "markdown",
   "id": "778f85c7",
   "metadata": {},
   "source": [
    "The overview of the initial measurement shows that the product Gluconic acid (s5) has 3 replicates.  \n",
    "Most initial concentrations are 0 and of no interest for our analysis."
   ]
  },
  {
   "cell_type": "markdown",
   "id": "3c8acb70",
   "metadata": {},
   "source": [
    "## Data preparation <a class=\"anchor\" name=\"DataPreparation\"></a>\n",
    "In this experiment to analyse the stability of the enzyme only the change of the initial rates over time is of interest. Therefore only the measured time-course data and the measurement names containing the time information are stored for each measurement. In order to extract the information of the measurement time, string manipulation is used. Since the first measurement name doesn't follow the naming scheme it is renamed."
   ]
  },
  {
   "cell_type": "code",
   "execution_count": 5,
   "id": "224f66a9",
   "metadata": {},
   "outputs": [],
   "source": [
    "# rename initial measurement\n",
    "enzmlDoc.getMeasurement('m0').name = 'Measurement after 0 min'\n",
    "\n",
    "# initialise datastructure to store experimental data\n",
    "experimentalData = []\n",
    "\n",
    "# time and substrate concentration unit\n",
    "measurement = enzmlDoc.getMeasurement('m0')\n",
    "time = np.array(measurement.global_time, float)\n",
    "timeUnit = measurement.global_time_unit\n",
    "concentrationUnit = ''\n",
    "\n",
    "# go through all measurements:\n",
    "for measurement in enzmlDoc.measurement_dict.values():\n",
    "    name = measurement.name\n",
    "    measurementData = {\n",
    "        'name': name,\n",
    "        'measuring time min': float(name.split(' ')[-2]),\n",
    "        'measuring time h': float(name.split(' ')[-2])/60,\n",
    "        'measured': []\n",
    "    }\n",
    "\n",
    "    # get replicates with time course data:\n",
    "    reactant = measurement.getReactant('s5')\n",
    "    \n",
    "    for replicate in reactant.replicates:\n",
    "        measurementData['measured'].append(replicate.data)\n",
    "        \n",
    "    experimentalData.append(measurementData)"
   ]
  },
  {
   "cell_type": "markdown",
   "id": "9c118755",
   "metadata": {},
   "source": [
    "## Visualisation of time-course data <a class=\"anchor\" name=\"Visualisation\"></a>\n",
    "All time-course data is visualised with the Python library matplotlib. \n",
    "   \n",
    "In order to save the figures as svg uncomment the `plt.savefig(...)` code lines. "
   ]
  },
  {
   "cell_type": "code",
   "execution_count": 6,
   "id": "regional-gender",
   "metadata": {},
   "outputs": [
    {
     "name": "stderr",
     "output_type": "stream",
     "text": [
      "/var/folders/0f/gvqwxk9d46z_cz6w3zg6yn1m0000gn/T/ipykernel_2462/2036173946.py:4: DeprecatedWarning: getName is deprecated. Use the attribute `name instead` instead.\n",
      "  reaction_name = enzmlDoc.getReaction('r0').getName()\n"
     ]
    },
    {
     "data": {
      "image/png": "[encoded data removed]",
      "text/plain": [
       "<Figure size 432x288 with 1 Axes>"
      ]
     },
     "metadata": {
      "needs_background": "light"
     },
     "output_type": "display_data"
    }
   ],
   "source": [
    "# define colors for time-course visualisation\n",
    "colors = ['#a6cee3','#1f78b4','#b2df8a','#33a02c','#fb9a99','#fdbf6f','#ff7f00','#cab2d6','#6a3d9a','#ffff99','#b15928']\n",
    "# plot time course data with matplotlib\n",
    "reaction_name = enzmlDoc.getReaction('r0').getName()\n",
    "plt.figure()\n",
    "ax = plt.subplot()\n",
    "for i in range(len(experimentalData)):\n",
    "    t = experimentalData[i]['measuring time min']\n",
    "    if t < 60:\n",
    "        ax.plot([], 'o', ms=3, label=str(int(t)) + ' [min]', color = colors[i])\n",
    "    else:\n",
    "        ax.plot([], 'o', ms=3, label=str(t/60) + ' [h]', color = colors[i])\n",
    "    for measurement in experimentalData[i]['measured']:\n",
    "        ax.plot(time, measurement, 'o', ms=2, color = colors[i])\n",
    "plt.title(reaction_name)\n",
    "ax.set_xlabel('time ['+timeUnit+']')\n",
    "ax.set_ylabel('Absorbance')\n",
    "plt.legend(bbox_to_anchor=(0, 0, 1, -0.15), mode=\"expand\", ncol=4)\n",
    "# save as svg\n",
    "#plt.savefig('time-course.svg', bbox_inches='tight')\n",
    "plt.show()"
   ]
  },
  {
   "cell_type": "markdown",
   "id": "hungry-convenience",
   "metadata": {},
   "source": [
    "## Computation of initial rates <a class=\"anchor\" name=\"InitialRatesComputation\"></a>\n",
    "To calculate the initial rates the slope of the first 30 data points (0 to 29 seconds) for each replicate is calculated, to be consistent with the calculations done by Vang Host in Excel. This is done with linear regression by the Python library SciPy.  \n",
    "In order to calculate the slope of another fraction of the time-course change the `start` and `end` variable accordingly, `end` should not be greater than 59.  \n",
    "Then the mean from the 3 replicates is calculated for each measurement and saved in `experimentalData`.  \n",
    "With an extinction coefficient of 26 the rates are determined as follows:  \n",
    "> $ rate = \\frac{meanOfSlope}{26}*1000$  \n",
    ">\n",
    "and also stored in `experimentalData`.  \n",
    "And finally the residual activity compared to the initial activity is calculated and stored as well."
   ]
  },
  {
   "cell_type": "code",
   "execution_count": 7,
   "id": "cb91d849",
   "metadata": {},
   "outputs": [],
   "source": [
    "start = 0\n",
    "end = 29\n",
    "for measurement in experimentalData:\n",
    "    slopes = []\n",
    "    for replicate in measurement['measured']:\n",
    "        slope, intercept, r, p, se = stats.linregress(time[start:end], replicate[start:end])\n",
    "        slopes.append(slope)\n",
    "    slope = np.mean(slopes)\n",
    "    measurement['slope'] = round(slope, 4)\n",
    "    measurement['v0'] =  round(slope/(26)*1000, 3)\n",
    "    measurement['residual activity'] = measurement['v0']/experimentalData[0]['v0']*100"
   ]
  },
  {
   "cell_type": "markdown",
   "id": "9af4a33d",
   "metadata": {},
   "source": [
    "## Visualisation of the rates <a class=\"anchor\" name=\"RatesVisualisation\"></a>\n",
    "First the rates are plotted over the time."
   ]
  },
  {
   "cell_type": "code",
   "execution_count": 8,
   "id": "b3a008cf",
   "metadata": {},
   "outputs": [
    {
     "data": {
      "image/png": "[encoded data removed]",
      "text/plain": [
       "<Figure size 432x288 with 1 Axes>"
      ]
     },
     "metadata": {
      "needs_background": "light"
     },
     "output_type": "display_data"
    }
   ],
   "source": [
    "plt.figure()\n",
    "ax = plt.subplot()\n",
    "for measurement in experimentalData:\n",
    "    ax.plot(measurement['measuring time h'], measurement['v0'], 'o', ms=4, color='#377eb8')\n",
    "ax.set_xlabel('time [h]')\n",
    "ax.set_ylabel('average rate [g/l * 1/s]')\n",
    "ax.set_ylim(ymin=0)\n",
    "# save as svg\n",
    "#plt.savefig('rates.svg', bbox_inches='tight')\n",
    "plt.show()"
   ]
  },
  {
   "cell_type": "markdown",
   "id": "4b8a2c57",
   "metadata": {},
   "source": [
    "Second the residual of the rates is plotted."
   ]
  },
  {
   "cell_type": "code",
   "execution_count": 9,
   "id": "c0647519",
   "metadata": {},
   "outputs": [
    {
     "data": {
      "image/png": "[encoded data removed]",
      "text/plain": [
       "<Figure size 432x288 with 1 Axes>"
      ]
     },
     "metadata": {
      "needs_background": "light"
     },
     "output_type": "display_data"
    }
   ],
   "source": [
    "plt.figure()\n",
    "ax = plt.subplot()\n",
    "for measurement in experimentalData:\n",
    "    ax.plot(measurement['measuring time h'], measurement['residual activity'], 'o', ms=4, color='#377eb8')\n",
    "ax.set_xlabel('time [h]')\n",
    "ax.set_ylabel('residual activity [%]')\n",
    "ax.set_yticks(np.arange(0, 105, 10))\n",
    "# save as svg\n",
    "#plt.savefig('residual-activity.svg', bbox_inches='tight')\n",
    "plt.show()"
   ]
  },
  {
   "cell_type": "markdown",
   "id": "8c245c7a",
   "metadata": {},
   "source": [
    "## Upload to DaRUS <a class=\"anchor\" name=\"Upload\"></a>\n",
    "Finally, the EnzymeML document is published on DaRUS and written to your current directory.     \n",
    "In order to publish a dataset to DaRUS you need an API Token.  \n",
    "If you want to publish set the `publish` variable to `True`. Then you will be asked for your API Token."
   ]
  },
  {
   "cell_type": "code",
   "execution_count": 10,
   "id": "f3e71683",
   "metadata": {},
   "outputs": [],
   "source": [
    "publish = False"
   ]
  },
  {
   "cell_type": "code",
   "execution_count": 11,
   "id": "9ef01a6b",
   "metadata": {},
   "outputs": [],
   "source": [
    "if publish:\n",
    "    os.environ[\"DATAVERSE_URL\"] = \"https://darus.uni-stuttgart.de\"\n",
    "    os.environ[\"DATAVERSE_API_TOKEN\"] = input('Enter API Token')\n",
    "    enzmlDoc.uploadToDataverse(dataverseName=\"enzymeml_at_work\")"
   ]
  }
 ],
 "metadata": {
  "interpreter": {
   "hash": "7c2992e9c105260cd776f00ce82eab482c82c43a5dc8a92fbccdfab19b1b40a5"
  },
  "kernelspec": {
   "display_name": "enzymeml",
   "language": "python",
   "name": "enzymeml"
  },
  "language_info": {
   "codemirror_mode": {
    "name": "ipython",
    "version": 3
   },
   "file_extension": ".py",
   "mimetype": "text/x-python",
   "name": "python",
   "nbconvert_exporter": "python",
   "pygments_lexer": "ipython3",
   "version": "3.9.7"
  }
 },
 "nbformat": 4,
 "nbformat_minor": 5
}
